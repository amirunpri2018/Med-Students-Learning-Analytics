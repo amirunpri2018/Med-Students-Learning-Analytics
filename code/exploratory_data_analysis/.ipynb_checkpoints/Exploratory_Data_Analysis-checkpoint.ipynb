{
 "cells": [
  {
   "cell_type": "markdown",
   "metadata": {},
   "source": [
    "# Exploratory Data Analysis\n",
    "\n",
    "Med Students Learning Analytics Group  \n",
    "Coded by: Kathryn Linehan, May 2018\n",
    "\n",
    "Exploratory analysis of the data in master.csv."
   ]
  },
  {
   "cell_type": "markdown",
   "metadata": {},
   "source": [
    "## 1. Reading in the Data"
   ]
  },
  {
   "cell_type": "code",
   "execution_count": 1,
   "metadata": {
    "collapsed": true
   },
   "outputs": [],
   "source": [
    "import pandas as pd\n",
    "import numpy as np\n",
    "import matplotlib.pyplot as plt\n",
    "import seaborn as sns\n",
    "\n",
    "%matplotlib inline"
   ]
  },
  {
   "cell_type": "code",
   "execution_count": 7,
   "metadata": {},
   "outputs": [
    {
     "ename": "FileNotFoundError",
     "evalue": "File b'/Users/Zach/data_science/med_school_data/data/master.csv' does not exist",
     "output_type": "error",
     "traceback": [
      "\u001b[0;31m---------------------------------------------------------------------------\u001b[0m",
      "\u001b[0;31mFileNotFoundError\u001b[0m                         Traceback (most recent call last)",
      "\u001b[0;32m<ipython-input-7-2f457dacf626>\u001b[0m in \u001b[0;36m<module>\u001b[0;34m()\u001b[0m\n\u001b[1;32m      1\u001b[0m \u001b[0;31m# Reading data into a pandas dataframe and taking a look at it.\u001b[0m\u001b[0;34m\u001b[0m\u001b[0;34m\u001b[0m\u001b[0m\n\u001b[1;32m      2\u001b[0m \u001b[0;34m\u001b[0m\u001b[0m\n\u001b[0;32m----> 3\u001b[0;31m \u001b[0mdf\u001b[0m \u001b[0;34m=\u001b[0m \u001b[0mpd\u001b[0m\u001b[0;34m.\u001b[0m\u001b[0mread_csv\u001b[0m\u001b[0;34m(\u001b[0m\u001b[0;34m\"/Users/Zach/data_science/med_school_data/data/master.csv\"\u001b[0m\u001b[0;34m)\u001b[0m\u001b[0;34m\u001b[0m\u001b[0m\n\u001b[0m\u001b[1;32m      4\u001b[0m \u001b[0mdf\u001b[0m\u001b[0;34m.\u001b[0m\u001b[0mhead\u001b[0m\u001b[0;34m(\u001b[0m\u001b[0;36m10\u001b[0m\u001b[0;34m)\u001b[0m\u001b[0;34m\u001b[0m\u001b[0m\n",
      "\u001b[0;32m~/anaconda3/envs/testproj/lib/python3.6/site-packages/pandas/io/parsers.py\u001b[0m in \u001b[0;36mparser_f\u001b[0;34m(filepath_or_buffer, sep, delimiter, header, names, index_col, usecols, squeeze, prefix, mangle_dupe_cols, dtype, engine, converters, true_values, false_values, skipinitialspace, skiprows, nrows, na_values, keep_default_na, na_filter, verbose, skip_blank_lines, parse_dates, infer_datetime_format, keep_date_col, date_parser, dayfirst, iterator, chunksize, compression, thousands, decimal, lineterminator, quotechar, quoting, escapechar, comment, encoding, dialect, tupleize_cols, error_bad_lines, warn_bad_lines, skipfooter, skip_footer, doublequote, delim_whitespace, as_recarray, compact_ints, use_unsigned, low_memory, buffer_lines, memory_map, float_precision)\u001b[0m\n\u001b[1;32m    707\u001b[0m                     skip_blank_lines=skip_blank_lines)\n\u001b[1;32m    708\u001b[0m \u001b[0;34m\u001b[0m\u001b[0m\n\u001b[0;32m--> 709\u001b[0;31m         \u001b[0;32mreturn\u001b[0m \u001b[0m_read\u001b[0m\u001b[0;34m(\u001b[0m\u001b[0mfilepath_or_buffer\u001b[0m\u001b[0;34m,\u001b[0m \u001b[0mkwds\u001b[0m\u001b[0;34m)\u001b[0m\u001b[0;34m\u001b[0m\u001b[0m\n\u001b[0m\u001b[1;32m    710\u001b[0m \u001b[0;34m\u001b[0m\u001b[0m\n\u001b[1;32m    711\u001b[0m     \u001b[0mparser_f\u001b[0m\u001b[0;34m.\u001b[0m\u001b[0m__name__\u001b[0m \u001b[0;34m=\u001b[0m \u001b[0mname\u001b[0m\u001b[0;34m\u001b[0m\u001b[0m\n",
      "\u001b[0;32m~/anaconda3/envs/testproj/lib/python3.6/site-packages/pandas/io/parsers.py\u001b[0m in \u001b[0;36m_read\u001b[0;34m(filepath_or_buffer, kwds)\u001b[0m\n\u001b[1;32m    447\u001b[0m \u001b[0;34m\u001b[0m\u001b[0m\n\u001b[1;32m    448\u001b[0m     \u001b[0;31m# Create the parser.\u001b[0m\u001b[0;34m\u001b[0m\u001b[0;34m\u001b[0m\u001b[0m\n\u001b[0;32m--> 449\u001b[0;31m     \u001b[0mparser\u001b[0m \u001b[0;34m=\u001b[0m \u001b[0mTextFileReader\u001b[0m\u001b[0;34m(\u001b[0m\u001b[0mfilepath_or_buffer\u001b[0m\u001b[0;34m,\u001b[0m \u001b[0;34m**\u001b[0m\u001b[0mkwds\u001b[0m\u001b[0;34m)\u001b[0m\u001b[0;34m\u001b[0m\u001b[0m\n\u001b[0m\u001b[1;32m    450\u001b[0m \u001b[0;34m\u001b[0m\u001b[0m\n\u001b[1;32m    451\u001b[0m     \u001b[0;32mif\u001b[0m \u001b[0mchunksize\u001b[0m \u001b[0;32mor\u001b[0m \u001b[0miterator\u001b[0m\u001b[0;34m:\u001b[0m\u001b[0;34m\u001b[0m\u001b[0m\n",
      "\u001b[0;32m~/anaconda3/envs/testproj/lib/python3.6/site-packages/pandas/io/parsers.py\u001b[0m in \u001b[0;36m__init__\u001b[0;34m(self, f, engine, **kwds)\u001b[0m\n\u001b[1;32m    816\u001b[0m             \u001b[0mself\u001b[0m\u001b[0;34m.\u001b[0m\u001b[0moptions\u001b[0m\u001b[0;34m[\u001b[0m\u001b[0;34m'has_index_names'\u001b[0m\u001b[0;34m]\u001b[0m \u001b[0;34m=\u001b[0m \u001b[0mkwds\u001b[0m\u001b[0;34m[\u001b[0m\u001b[0;34m'has_index_names'\u001b[0m\u001b[0;34m]\u001b[0m\u001b[0;34m\u001b[0m\u001b[0m\n\u001b[1;32m    817\u001b[0m \u001b[0;34m\u001b[0m\u001b[0m\n\u001b[0;32m--> 818\u001b[0;31m         \u001b[0mself\u001b[0m\u001b[0;34m.\u001b[0m\u001b[0m_make_engine\u001b[0m\u001b[0;34m(\u001b[0m\u001b[0mself\u001b[0m\u001b[0;34m.\u001b[0m\u001b[0mengine\u001b[0m\u001b[0;34m)\u001b[0m\u001b[0;34m\u001b[0m\u001b[0m\n\u001b[0m\u001b[1;32m    819\u001b[0m \u001b[0;34m\u001b[0m\u001b[0m\n\u001b[1;32m    820\u001b[0m     \u001b[0;32mdef\u001b[0m \u001b[0mclose\u001b[0m\u001b[0;34m(\u001b[0m\u001b[0mself\u001b[0m\u001b[0;34m)\u001b[0m\u001b[0;34m:\u001b[0m\u001b[0;34m\u001b[0m\u001b[0m\n",
      "\u001b[0;32m~/anaconda3/envs/testproj/lib/python3.6/site-packages/pandas/io/parsers.py\u001b[0m in \u001b[0;36m_make_engine\u001b[0;34m(self, engine)\u001b[0m\n\u001b[1;32m   1047\u001b[0m     \u001b[0;32mdef\u001b[0m \u001b[0m_make_engine\u001b[0m\u001b[0;34m(\u001b[0m\u001b[0mself\u001b[0m\u001b[0;34m,\u001b[0m \u001b[0mengine\u001b[0m\u001b[0;34m=\u001b[0m\u001b[0;34m'c'\u001b[0m\u001b[0;34m)\u001b[0m\u001b[0;34m:\u001b[0m\u001b[0;34m\u001b[0m\u001b[0m\n\u001b[1;32m   1048\u001b[0m         \u001b[0;32mif\u001b[0m \u001b[0mengine\u001b[0m \u001b[0;34m==\u001b[0m \u001b[0;34m'c'\u001b[0m\u001b[0;34m:\u001b[0m\u001b[0;34m\u001b[0m\u001b[0m\n\u001b[0;32m-> 1049\u001b[0;31m             \u001b[0mself\u001b[0m\u001b[0;34m.\u001b[0m\u001b[0m_engine\u001b[0m \u001b[0;34m=\u001b[0m \u001b[0mCParserWrapper\u001b[0m\u001b[0;34m(\u001b[0m\u001b[0mself\u001b[0m\u001b[0;34m.\u001b[0m\u001b[0mf\u001b[0m\u001b[0;34m,\u001b[0m \u001b[0;34m**\u001b[0m\u001b[0mself\u001b[0m\u001b[0;34m.\u001b[0m\u001b[0moptions\u001b[0m\u001b[0;34m)\u001b[0m\u001b[0;34m\u001b[0m\u001b[0m\n\u001b[0m\u001b[1;32m   1050\u001b[0m         \u001b[0;32melse\u001b[0m\u001b[0;34m:\u001b[0m\u001b[0;34m\u001b[0m\u001b[0m\n\u001b[1;32m   1051\u001b[0m             \u001b[0;32mif\u001b[0m \u001b[0mengine\u001b[0m \u001b[0;34m==\u001b[0m \u001b[0;34m'python'\u001b[0m\u001b[0;34m:\u001b[0m\u001b[0;34m\u001b[0m\u001b[0m\n",
      "\u001b[0;32m~/anaconda3/envs/testproj/lib/python3.6/site-packages/pandas/io/parsers.py\u001b[0m in \u001b[0;36m__init__\u001b[0;34m(self, src, **kwds)\u001b[0m\n\u001b[1;32m   1693\u001b[0m         \u001b[0mkwds\u001b[0m\u001b[0;34m[\u001b[0m\u001b[0;34m'allow_leading_cols'\u001b[0m\u001b[0;34m]\u001b[0m \u001b[0;34m=\u001b[0m \u001b[0mself\u001b[0m\u001b[0;34m.\u001b[0m\u001b[0mindex_col\u001b[0m \u001b[0;32mis\u001b[0m \u001b[0;32mnot\u001b[0m \u001b[0;32mFalse\u001b[0m\u001b[0;34m\u001b[0m\u001b[0m\n\u001b[1;32m   1694\u001b[0m \u001b[0;34m\u001b[0m\u001b[0m\n\u001b[0;32m-> 1695\u001b[0;31m         \u001b[0mself\u001b[0m\u001b[0;34m.\u001b[0m\u001b[0m_reader\u001b[0m \u001b[0;34m=\u001b[0m \u001b[0mparsers\u001b[0m\u001b[0;34m.\u001b[0m\u001b[0mTextReader\u001b[0m\u001b[0;34m(\u001b[0m\u001b[0msrc\u001b[0m\u001b[0;34m,\u001b[0m \u001b[0;34m**\u001b[0m\u001b[0mkwds\u001b[0m\u001b[0;34m)\u001b[0m\u001b[0;34m\u001b[0m\u001b[0m\n\u001b[0m\u001b[1;32m   1696\u001b[0m \u001b[0;34m\u001b[0m\u001b[0m\n\u001b[1;32m   1697\u001b[0m         \u001b[0;31m# XXX\u001b[0m\u001b[0;34m\u001b[0m\u001b[0;34m\u001b[0m\u001b[0m\n",
      "\u001b[0;32mpandas/_libs/parsers.pyx\u001b[0m in \u001b[0;36mpandas._libs.parsers.TextReader.__cinit__\u001b[0;34m()\u001b[0m\n",
      "\u001b[0;32mpandas/_libs/parsers.pyx\u001b[0m in \u001b[0;36mpandas._libs.parsers.TextReader._setup_parser_source\u001b[0;34m()\u001b[0m\n",
      "\u001b[0;31mFileNotFoundError\u001b[0m: File b'/Users/Zach/data_science/med_school_data/data/master.csv' does not exist"
     ]
    }
   ],
   "source": [
    "# Reading data into a pandas dataframe and taking a look at it.\n",
    "\n",
    "df = pd.read_csv(\"/Users/Zach/data_science/med_school_data/data/master.csv\")\n",
    "df.head(10)\n"
   ]
  },
  {
   "cell_type": "code",
   "execution_count": null,
   "metadata": {},
   "outputs": [],
   "source": [
    "# Find the size of the data\n",
    "num_students, num_features = df.shape\n",
    "\n",
    "print(num_students)\n",
    "print(num_features)"
   ]
  },
  {
   "cell_type": "markdown",
   "metadata": {},
   "source": [
    "This means we have data for 1790 students and are using 47 features.  Each student (row) is an instance."
   ]
  },
  {
   "cell_type": "code",
   "execution_count": null,
   "metadata": {},
   "outputs": [],
   "source": [
    "# Change the max number of columns that we can display.  Now we will be able to see all columns of data when \n",
    "# we call the method head().\n",
    "\n",
    "pd.set_option('display.max_columns', 50)\n",
    "df.head(10)"
   ]
  },
  {
   "cell_type": "code",
   "execution_count": null,
   "metadata": {},
   "outputs": [],
   "source": [
    "# check data type for each feature\n",
    "\n",
    "df.dtypes"
   ]
  },
  {
   "cell_type": "markdown",
   "metadata": {},
   "source": [
    "## 2.  Demographic Data\n",
    "\n",
    "Some general descriptive statistics for the demographic features of our data."
   ]
  },
  {
   "cell_type": "code",
   "execution_count": null,
   "metadata": {
    "scrolled": false
   },
   "outputs": [],
   "source": [
    "# determine number of each gender\n",
    "\n",
    "df['gender'].value_counts()"
   ]
  },
  {
   "cell_type": "code",
   "execution_count": null,
   "metadata": {},
   "outputs": [],
   "source": [
    "# histogram of gender\n",
    "\n",
    "df['gender'].value_counts().plot(kind='bar', title='Gender')\n"
   ]
  },
  {
   "cell_type": "code",
   "execution_count": 3,
   "metadata": {},
   "outputs": [
    {
     "ename": "NameError",
     "evalue": "name 'df' is not defined",
     "output_type": "error",
     "traceback": [
      "\u001b[0;31m---------------------------------------------------------------------------\u001b[0m",
      "\u001b[0;31mNameError\u001b[0m                                 Traceback (most recent call last)",
      "\u001b[0;32m<ipython-input-3-04f3d4939417>\u001b[0m in \u001b[0;36m<module>\u001b[0;34m()\u001b[0m\n\u001b[1;32m      1\u001b[0m \u001b[0;31m# determine number of each race\u001b[0m\u001b[0;34m\u001b[0m\u001b[0;34m\u001b[0m\u001b[0m\n\u001b[1;32m      2\u001b[0m \u001b[0;34m\u001b[0m\u001b[0m\n\u001b[0;32m----> 3\u001b[0;31m \u001b[0mrace_counts\u001b[0m \u001b[0;34m=\u001b[0m \u001b[0mdf\u001b[0m\u001b[0;34m[\u001b[0m\u001b[0;34m'race'\u001b[0m\u001b[0;34m]\u001b[0m\u001b[0;34m.\u001b[0m\u001b[0mvalue_counts\u001b[0m\u001b[0;34m(\u001b[0m\u001b[0;34m)\u001b[0m\u001b[0;34m\u001b[0m\u001b[0m\n\u001b[0m\u001b[1;32m      4\u001b[0m \u001b[0mprint\u001b[0m\u001b[0;34m(\u001b[0m\u001b[0mrace_counts\u001b[0m\u001b[0;34m)\u001b[0m\u001b[0;34m\u001b[0m\u001b[0m\n",
      "\u001b[0;31mNameError\u001b[0m: name 'df' is not defined"
     ]
    }
   ],
   "source": [
    "# determine number of each race\n",
    "\n",
    "race_counts = df['race'].value_counts()\n",
    "print(race_counts)"
   ]
  },
  {
   "cell_type": "code",
   "execution_count": 4,
   "metadata": {},
   "outputs": [
    {
     "ename": "NameError",
     "evalue": "name 'race_counts' is not defined",
     "output_type": "error",
     "traceback": [
      "\u001b[0;31m---------------------------------------------------------------------------\u001b[0m",
      "\u001b[0;31mNameError\u001b[0m                                 Traceback (most recent call last)",
      "\u001b[0;32m<ipython-input-4-1efb57bd5771>\u001b[0m in \u001b[0;36m<module>\u001b[0;34m()\u001b[0m\n\u001b[1;32m      3\u001b[0m \u001b[0mplt\u001b[0m\u001b[0;34m.\u001b[0m\u001b[0mfigure\u001b[0m\u001b[0;34m(\u001b[0m\u001b[0mfigsize\u001b[0m\u001b[0;34m=\u001b[0m\u001b[0;34m(\u001b[0m\u001b[0;36m15\u001b[0m\u001b[0;34m,\u001b[0m\u001b[0;36m5\u001b[0m\u001b[0;34m)\u001b[0m\u001b[0;34m)\u001b[0m\u001b[0;34m\u001b[0m\u001b[0m\n\u001b[1;32m      4\u001b[0m \u001b[0mplt\u001b[0m\u001b[0;34m.\u001b[0m\u001b[0msubplot\u001b[0m\u001b[0;34m(\u001b[0m\u001b[0;36m1\u001b[0m\u001b[0;34m,\u001b[0m\u001b[0;36m2\u001b[0m\u001b[0;34m,\u001b[0m\u001b[0;36m1\u001b[0m\u001b[0;34m)\u001b[0m\u001b[0;34m\u001b[0m\u001b[0m\n\u001b[0;32m----> 5\u001b[0;31m \u001b[0mrace_counts\u001b[0m\u001b[0;34m.\u001b[0m\u001b[0mplot\u001b[0m\u001b[0;34m(\u001b[0m\u001b[0mkind\u001b[0m\u001b[0;34m=\u001b[0m\u001b[0;34m'pie'\u001b[0m\u001b[0;34m)\u001b[0m\u001b[0;34m\u001b[0m\u001b[0m\n\u001b[0m\u001b[1;32m      6\u001b[0m \u001b[0mplt\u001b[0m\u001b[0;34m.\u001b[0m\u001b[0mtitle\u001b[0m\u001b[0;34m(\u001b[0m\u001b[0;34m'Race Distribution'\u001b[0m\u001b[0;34m)\u001b[0m\u001b[0;34m\u001b[0m\u001b[0m\n\u001b[1;32m      7\u001b[0m \u001b[0;34m\u001b[0m\u001b[0m\n",
      "\u001b[0;31mNameError\u001b[0m: name 'race_counts' is not defined"
     ]
    },
    {
     "data": {
      "image/png": "[encoded data removed]",
      "text/plain": [
       "<Figure size 1080x360 with 1 Axes>"
      ]
     },
     "metadata": {},
     "output_type": "display_data"
    }
   ],
   "source": [
    "# race pie chart and histogram pie chart.  Using both visuals to see which is better at displaying the data.\n",
    "\n",
    "plt.figure(figsize=(15,5))\n",
    "plt.subplot(1,2,1)\n",
    "race_counts.plot(kind='pie')\n",
    "plt.title('Race Distribution')\n",
    "\n",
    "plt.subplot(1,2,2)\n",
    "race_counts.plot(kind='bar')\n",
    "plt.xlabel('Race')\n",
    "plt.ylabel('Frequency')\n",
    "plt.title('Race Distribution')\n",
    "\n",
    "# add more space between the two plots\n",
    "plt.subplots_adjust(wspace=0.7)"
   ]
  },
  {
   "cell_type": "code",
   "execution_count": 11,
   "metadata": {},
   "outputs": [
    {
     "name": "stdout",
     "output_type": "stream",
     "text": [
      "We have 146 students in gems.\n",
      "This is 8.16% of the total number of students in the data.\n"
     ]
    }
   ],
   "source": [
    "# calculate the number and percent of students in gems\n",
    "\n",
    "num_gems = df[\"gem_indicator\"].sum()\n",
    "print(\"We have %d students in gems.\" % (num_gems) ) \n",
    "print(\"This is %.2f%% of the total number of students in the data.\" % ((num_gems/num_students)*100) )      "
   ]
  },
  {
   "cell_type": "code",
   "execution_count": 12,
   "metadata": {},
   "outputs": [
    {
     "name": "stdout",
     "output_type": "stream",
     "text": [
      "200930    205\n",
      "201030    202\n",
      "201430    201\n",
      "201130    199\n",
      "201230    198\n",
      "201730    197\n",
      "201330    197\n",
      "201630    196\n",
      "201530    195\n",
      "Name: m1_fall, dtype: int64\n"
     ]
    },
    {
     "data": {
      "text/plain": [
       "<matplotlib.axes._subplots.AxesSubplot at 0x14c2bda0438>"
      ]
     },
     "execution_count": 12,
     "metadata": {},
     "output_type": "execute_result"
    },
    {
     "data": {
      "image/png": "[encoded data removed]",
      "text/plain": [
       "<matplotlib.figure.Figure at 0x14c2bc9ba20>"
      ]
     },
     "metadata": {},
     "output_type": "display_data"
    }
   ],
   "source": [
    "# calculate the number of students in each class and create a histogram.  Note that class years end in '30' for \n",
    "# fall semester.\n",
    "\n",
    "num_students_in_each_class = df['m1_fall'].value_counts()\n",
    "print(num_students_in_each_class)\n",
    "\n",
    "num_students_in_each_class.plot(kind='bar', title='Number of Students in Each Class')"
   ]
  },
  {
   "cell_type": "code",
   "execution_count": 104,
   "metadata": {},
   "outputs": [
    {
     "data": {
      "text/plain": [
       "m1_fall          0\n",
       "gem_indicator    0\n",
       "race             0\n",
       "race_indic       0\n",
       "gender           0\n",
       "dtype: int64"
      ]
     },
     "execution_count": 104,
     "metadata": {},
     "output_type": "execute_result"
    }
   ],
   "source": [
    "# check for any missing demographic data\n",
    "\n",
    "df[['m1_fall','gem_indicator','race', 'race_indic', 'gender']].isnull().sum()"
   ]
  },
  {
   "cell_type": "markdown",
   "metadata": {},
   "source": [
    "No missing data in these features!  "
   ]
  },
  {
   "cell_type": "markdown",
   "metadata": {},
   "source": [
    "## 3. Admissions Criteria Data\n",
    "\n",
    "Some general descriptive statistics for the features that include admissions criteria - for example, bachelors degree, master's degree, MCAT scores, etc."
   ]
  },
  {
   "cell_type": "code",
   "execution_count": 14,
   "metadata": {},
   "outputs": [
    {
     "data": {
      "text/html": [
       "<div>\n",
       "<style scoped>\n",
       "    .dataframe tbody tr th:only-of-type {\n",
       "        vertical-align: middle;\n",
       "    }\n",
       "\n",
       "    .dataframe tbody tr th {\n",
       "        vertical-align: top;\n",
       "    }\n",
       "\n",
       "    .dataframe thead th {\n",
       "        text-align: right;\n",
       "    }\n",
       "</style>\n",
       "<table border=\"1\" class=\"dataframe\">\n",
       "  <thead>\n",
       "    <tr style=\"text-align: right;\">\n",
       "      <th></th>\n",
       "      <th>mcat_zscore</th>\n",
       "      <th>mcat_total_attempts</th>\n",
       "    </tr>\n",
       "  </thead>\n",
       "  <tbody>\n",
       "    <tr>\n",
       "      <th>count</th>\n",
       "      <td>1530.000000</td>\n",
       "      <td>1530.000000</td>\n",
       "    </tr>\n",
       "    <tr>\n",
       "      <th>mean</th>\n",
       "      <td>0.275863</td>\n",
       "      <td>1.392157</td>\n",
       "    </tr>\n",
       "    <tr>\n",
       "      <th>std</th>\n",
       "      <td>0.850479</td>\n",
       "      <td>0.524548</td>\n",
       "    </tr>\n",
       "    <tr>\n",
       "      <th>min</th>\n",
       "      <td>-2.911583</td>\n",
       "      <td>1.000000</td>\n",
       "    </tr>\n",
       "    <tr>\n",
       "      <th>25%</th>\n",
       "      <td>-0.111800</td>\n",
       "      <td>1.000000</td>\n",
       "    </tr>\n",
       "    <tr>\n",
       "      <th>50%</th>\n",
       "      <td>0.342969</td>\n",
       "      <td>1.000000</td>\n",
       "    </tr>\n",
       "    <tr>\n",
       "      <th>75%</th>\n",
       "      <td>0.768670</td>\n",
       "      <td>2.000000</td>\n",
       "    </tr>\n",
       "    <tr>\n",
       "      <th>max</th>\n",
       "      <td>3.012828</td>\n",
       "      <td>4.000000</td>\n",
       "    </tr>\n",
       "  </tbody>\n",
       "</table>\n",
       "</div>"
      ],
      "text/plain": [
       "       mcat_zscore  mcat_total_attempts\n",
       "count  1530.000000          1530.000000\n",
       "mean      0.275863             1.392157\n",
       "std       0.850479             0.524548\n",
       "min      -2.911583             1.000000\n",
       "25%      -0.111800             1.000000\n",
       "50%       0.342969             1.000000\n",
       "75%       0.768670             2.000000\n",
       "max       3.012828             4.000000"
      ]
     },
     "execution_count": 14,
     "metadata": {},
     "output_type": "execute_result"
    }
   ],
   "source": [
    "# distribution of MCAT z-scores and number of MCAT attempts\n",
    "\n",
    "df[['mcat_zscore', 'mcat_total_attempts']].describe()"
   ]
  },
  {
   "cell_type": "code",
   "execution_count": 15,
   "metadata": {},
   "outputs": [
    {
     "data": {
      "image/png": "[encoded data removed]",
      "text/plain": [
       "<matplotlib.figure.Figure at 0x14c2c04e240>"
      ]
     },
     "metadata": {},
     "output_type": "display_data"
    }
   ],
   "source": [
    "# Different plots showing the distribution of MCAT z-scores\n",
    "\n",
    "plt.figure(figsize=(15,7))\n",
    "plt.subplot(1,2,1)\n",
    "df['mcat_zscore'].plot(kind='hist')\n",
    "plt.xlabel('MCAT z-score')\n",
    "plt.title('MCAT Z-scores Distribution')\n",
    "\n",
    "plt.subplot(1,2,2)\n",
    "df['mcat_zscore'].plot(kind='box')\n",
    "plt.ylabel('MCAT Z-score')\n",
    "plt.title('MCAT Z-scores Distribution')\n",
    "\n",
    "# add more space between the two plots\n",
    "plt.subplots_adjust(wspace=0.3)"
   ]
  },
  {
   "cell_type": "code",
   "execution_count": 16,
   "metadata": {},
   "outputs": [
    {
     "name": "stdout",
     "output_type": "stream",
     "text": [
      "1.0    953\n",
      "2.0    559\n",
      "3.0     13\n",
      "4.0      5\n",
      "Name: mcat_total_attempts, dtype: int64\n"
     ]
    },
    {
     "data": {
      "text/plain": [
       "Text(0.5,1,'Distribution of MCAT Total Attempts')"
      ]
     },
     "execution_count": 16,
     "metadata": {},
     "output_type": "execute_result"
    },
    {
     "data": {
      "image/png": "[encoded data removed]",
      "text/plain": [
       "<matplotlib.figure.Figure at 0x14c2c0fde48>"
      ]
     },
     "metadata": {},
     "output_type": "display_data"
    }
   ],
   "source": [
    "# calculate and plot the number of attempts at the MCAT\n",
    "\n",
    "mcat_attempt_counts = df['mcat_total_attempts'].value_counts()\n",
    "print(mcat_attempt_counts)\n",
    "\n",
    "plt.figure(figsize=(5,5))\n",
    "mcat_attempt_counts.plot(kind='bar')\n",
    "plt.xlabel('Number of MCAT Attempts')\n",
    "plt.ylabel('Number of Students')\n",
    "plt.title('Distribution of MCAT Total Attempts')"
   ]
  },
  {
   "cell_type": "code",
   "execution_count": 17,
   "metadata": {},
   "outputs": [
    {
     "name": "stdout",
     "output_type": "stream",
     "text": [
      "53.24% of students took the MCAT once.\n",
      "31.23% of students took the MCAT twice.\n",
      "0.73% of students took the MCAT three times.\n",
      "0.28% of students took the MCAT four times.\n"
     ]
    }
   ],
   "source": [
    "print(\"%.2f%% of students took the MCAT once.\" % ((953/num_students)*100))\n",
    "print(\"%.2f%% of students took the MCAT twice.\" % ((559/num_students)*100))\n",
    "print(\"%.2f%% of students took the MCAT three times.\" % ((13/num_students)*100))\n",
    "print(\"%.2f%% of students took the MCAT four times.\" % ((5/num_students)*100))"
   ]
  },
  {
   "cell_type": "code",
   "execution_count": 18,
   "metadata": {},
   "outputs": [
    {
     "name": "stdout",
     "output_type": "stream",
     "text": [
      "Associates degree - 1st major\n",
      "Arts       14\n",
      "Science    14\n",
      "Other       8\n",
      "Name: associate_1, dtype: int64\n",
      "\n",
      "Associates degree - 2nd major\n",
      "Science    4\n",
      "Name: associate_2, dtype: int64\n"
     ]
    }
   ],
   "source": [
    "# Determine the majors students have associates degrees in (up to 2 majors).  \n",
    "\n",
    "# Associates degree - 1st major\n",
    "associate_1_counts = df['associate_1'].value_counts()\n",
    "print('Associates degree - 1st major')\n",
    "print(associate_1_counts)\n",
    "\n",
    "# Associates degree - 2nd major\n",
    "associate_2_counts = df['associate_2'].value_counts()\n",
    "print('\\nAssociates degree - 2nd major')\n",
    "print(associate_2_counts)\n"
   ]
  },
  {
   "cell_type": "code",
   "execution_count": 19,
   "metadata": {},
   "outputs": [
    {
     "data": {
      "image/png": "[encoded data removed]",
      "text/plain": [
       "<matplotlib.figure.Figure at 0x14c2c190a58>"
      ]
     },
     "metadata": {},
     "output_type": "display_data"
    }
   ],
   "source": [
    "# Create a histogram showing the frequency of each associates degree major in the 1st and 2nd majors. \n",
    "\n",
    "plt.figure(figsize=(15,5))\n",
    "ax = plt.subplot(1,2,1)\n",
    "associate_1_counts.plot(kind='bar')\n",
    "plt.ylabel('Frequency')\n",
    "plt.title('1st Major Categories')\n",
    "plt.suptitle('Associates Degree Majors', fontsize=14)\n",
    "\n",
    "plt.subplot(1,2,2)\n",
    "associate_2_counts.plot(kind='bar')\n",
    "plt.title('2nd Major Categories')\n",
    "\n",
    "# add more space between the title and the plots\n",
    "plt.subplots_adjust(top=0.8)"
   ]
  },
  {
   "cell_type": "code",
   "execution_count": 20,
   "metadata": {},
   "outputs": [
    {
     "name": "stdout",
     "output_type": "stream",
     "text": [
      "Bachelors degree - 1st major\n",
      "Science     1145\n",
      "Arts         597\n",
      "Other         23\n",
      "Medicine       1\n",
      "Business       1\n",
      "Name: bachelor_1, dtype: int64\n",
      "\n",
      "Bachelors degree - 2nd major\n",
      "Arts       141\n",
      "Science     72\n",
      "Other        4\n",
      "Name: bachelor_2, dtype: int64\n",
      "\n",
      "Bachelors degree - 3rd major\n",
      "Arts       4\n",
      "Other      1\n",
      "Science    1\n",
      "Name: bachelor_3, dtype: int64\n"
     ]
    }
   ],
   "source": [
    "# Determine the majors students have bachelors degrees in (up to 3 majors).  \n",
    "\n",
    "# Bachelors degree - 1st major\n",
    "bachelor_1_counts = df['bachelor_1'].value_counts()\n",
    "print('Bachelors degree - 1st major')\n",
    "print(bachelor_1_counts)\n",
    "\n",
    "# Bachelors degree - 2nd major\n",
    "bachelor_2_counts = df['bachelor_2'].value_counts()\n",
    "print('\\nBachelors degree - 2nd major')\n",
    "print(bachelor_2_counts)\n",
    "\n",
    "# Bachelors degree - 3rd major\n",
    "bachelor_3_counts = df['bachelor_3'].value_counts()\n",
    "print('\\nBachelors degree - 3rd major')\n",
    "print(bachelor_3_counts)"
   ]
  },
  {
   "cell_type": "code",
   "execution_count": 21,
   "metadata": {},
   "outputs": [
    {
     "data": {
      "image/png": "[encoded data removed]",
      "text/plain": [
       "<matplotlib.figure.Figure at 0x14c2c3fd4e0>"
      ]
     },
     "metadata": {},
     "output_type": "display_data"
    }
   ],
   "source": [
    "# Create a histogram showing the frequency of each bachelors degree major in the 1st, 2nd, and 3rd majors. \n",
    "\n",
    "plt.figure(figsize=(15,5))\n",
    "ax = plt.subplot(1,3,1)\n",
    "bachelor_1_counts.plot(kind='bar')\n",
    "plt.ylabel('Frequency')\n",
    "plt.title('1st Major Categories')\n",
    "plt.suptitle('Bachelors Degree Majors', fontsize=14)\n",
    "\n",
    "plt.subplot(1,3,2)\n",
    "bachelor_2_counts.plot(kind='bar')\n",
    "plt.title('2nd Major Categories')\n",
    "\n",
    "plt.subplot(1,3,3)\n",
    "bachelor_3_counts.plot(kind='bar')\n",
    "plt.title('3rd Major Categories')\n",
    "\n",
    "# add more space between the title and the plots\n",
    "plt.subplots_adjust(top=0.8)"
   ]
  },
  {
   "cell_type": "markdown",
   "metadata": {},
   "source": [
    "I was curious if most students have at least one bachelors degree major in science since these students applied to medical school.  The following code checks for this."
   ]
  },
  {
   "cell_type": "code",
   "execution_count": 22,
   "metadata": {},
   "outputs": [
    {
     "data": {
      "text/html": [
       "<div>\n",
       "<style scoped>\n",
       "    .dataframe tbody tr th:only-of-type {\n",
       "        vertical-align: middle;\n",
       "    }\n",
       "\n",
       "    .dataframe tbody tr th {\n",
       "        vertical-align: top;\n",
       "    }\n",
       "\n",
       "    .dataframe thead th {\n",
       "        text-align: right;\n",
       "    }\n",
       "</style>\n",
       "<table border=\"1\" class=\"dataframe\">\n",
       "  <thead>\n",
       "    <tr style=\"text-align: right;\">\n",
       "      <th></th>\n",
       "      <th>bachelor_1</th>\n",
       "      <th>bachelor_2</th>\n",
       "      <th>bachelor_3</th>\n",
       "    </tr>\n",
       "  </thead>\n",
       "  <tbody>\n",
       "    <tr>\n",
       "      <th>0</th>\n",
       "      <td>Science</td>\n",
       "      <td>NaN</td>\n",
       "      <td>NaN</td>\n",
       "    </tr>\n",
       "    <tr>\n",
       "      <th>1</th>\n",
       "      <td>Science</td>\n",
       "      <td>NaN</td>\n",
       "      <td>NaN</td>\n",
       "    </tr>\n",
       "    <tr>\n",
       "      <th>2</th>\n",
       "      <td>Arts</td>\n",
       "      <td>NaN</td>\n",
       "      <td>NaN</td>\n",
       "    </tr>\n",
       "    <tr>\n",
       "      <th>3</th>\n",
       "      <td>Science</td>\n",
       "      <td>NaN</td>\n",
       "      <td>NaN</td>\n",
       "    </tr>\n",
       "    <tr>\n",
       "      <th>4</th>\n",
       "      <td>Science</td>\n",
       "      <td>NaN</td>\n",
       "      <td>NaN</td>\n",
       "    </tr>\n",
       "    <tr>\n",
       "      <th>5</th>\n",
       "      <td>Other</td>\n",
       "      <td>NaN</td>\n",
       "      <td>NaN</td>\n",
       "    </tr>\n",
       "    <tr>\n",
       "      <th>6</th>\n",
       "      <td>Science</td>\n",
       "      <td>Science</td>\n",
       "      <td>NaN</td>\n",
       "    </tr>\n",
       "    <tr>\n",
       "      <th>7</th>\n",
       "      <td>Science</td>\n",
       "      <td>NaN</td>\n",
       "      <td>NaN</td>\n",
       "    </tr>\n",
       "    <tr>\n",
       "      <th>8</th>\n",
       "      <td>Science</td>\n",
       "      <td>Science</td>\n",
       "      <td>NaN</td>\n",
       "    </tr>\n",
       "    <tr>\n",
       "      <th>9</th>\n",
       "      <td>Arts</td>\n",
       "      <td>Arts</td>\n",
       "      <td>NaN</td>\n",
       "    </tr>\n",
       "  </tbody>\n",
       "</table>\n",
       "</div>"
      ],
      "text/plain": [
       "  bachelor_1 bachelor_2 bachelor_3\n",
       "0    Science        NaN        NaN\n",
       "1    Science        NaN        NaN\n",
       "2       Arts        NaN        NaN\n",
       "3    Science        NaN        NaN\n",
       "4    Science        NaN        NaN\n",
       "5      Other        NaN        NaN\n",
       "6    Science    Science        NaN\n",
       "7    Science        NaN        NaN\n",
       "8    Science    Science        NaN\n",
       "9       Arts       Arts        NaN"
      ]
     },
     "execution_count": 22,
     "metadata": {},
     "output_type": "execute_result"
    }
   ],
   "source": [
    "# Start by creating a dataframe of just the bachelors majors data\n",
    "\n",
    "bachelors_df = df[['bachelor_1', 'bachelor_2', 'bachelor_3']].copy()\n",
    "bachelors_df.head(10)"
   ]
  },
  {
   "cell_type": "code",
   "execution_count": 23,
   "metadata": {},
   "outputs": [
    {
     "name": "stdout",
     "output_type": "stream",
     "text": [
      "(1790,)\n",
      "There are 1173 students with at least one bachelors degree major in science.\n",
      "This is 65.53% of the total number of students.\n"
     ]
    }
   ],
   "source": [
    "# Calculate how many students have at least one bachelors degree major in science\n",
    "\n",
    "#bachelors_df == 'Science'\n",
    "science_bachelors_count = (bachelors_df == 'Science').sum(axis=1)\n",
    "#print(science_bachelors_count)\n",
    "print(science_bachelors_count.shape)\n",
    "\n",
    "science_num = (science_bachelors_count >= 1).sum()\n",
    "print(\"There are %d students with at least one bachelors degree major in science.\" % (science_num))\n",
    "print(\"This is %.2f%% of the total number of students.\" % ((science_num/num_students)*100))      \n"
   ]
  },
  {
   "cell_type": "markdown",
   "metadata": {},
   "source": [
    "This is not what I expected.  I was expecting that more students would have at least one bachelors degree major in science."
   ]
  },
  {
   "cell_type": "code",
   "execution_count": 24,
   "metadata": {},
   "outputs": [
    {
     "name": "stdout",
     "output_type": "stream",
     "text": [
      "Masters degree - 1st\n",
      "Science      315\n",
      "Other         45\n",
      "Arts          15\n",
      "Business       2\n",
      "Education      1\n",
      "Name: master_1, dtype: int64\n",
      "\n",
      "Masters degree - 2nd\n",
      "Science    9\n",
      "Other      4\n",
      "Arts       3\n",
      "Name: master_2, dtype: int64\n",
      "\n",
      "Masters degree - 3rd\n",
      "Science    2\n",
      "Other      1\n",
      "Name: master_3, dtype: int64\n"
     ]
    }
   ],
   "source": [
    "# Determine the subjects that students have masters degrees in (up to 3 masters).  \n",
    "\n",
    "# Masters degree - 1st \n",
    "master_1_counts = df['master_1'].value_counts()\n",
    "print('Masters degree - 1st')\n",
    "print(master_1_counts)\n",
    "\n",
    "# Masters degree - 2nd \n",
    "master_2_counts = df['master_2'].value_counts()\n",
    "print('\\nMasters degree - 2nd')\n",
    "print(master_2_counts)\n",
    "\n",
    "# Masters degree - 3rd \n",
    "master_3_counts = df['master_3'].value_counts()\n",
    "print('\\nMasters degree - 3rd')\n",
    "print(master_3_counts)\n"
   ]
  },
  {
   "cell_type": "code",
   "execution_count": 25,
   "metadata": {},
   "outputs": [
    {
     "data": {
      "image/png": "[encoded data removed]",
      "text/plain": [
       "<matplotlib.figure.Figure at 0x14c2c3eb780>"
      ]
     },
     "metadata": {},
     "output_type": "display_data"
    }
   ],
   "source": [
    "# Create a histogram showing the frequency of each masters degree subject in the 1st, 2nd, and 3rd masters. \n",
    "\n",
    "plt.figure(figsize=(15,5))\n",
    "ax = plt.subplot(1,3,1)\n",
    "master_1_counts.plot(kind='bar')\n",
    "plt.ylabel('Frequency')\n",
    "plt.title('1st Masters Subjects')\n",
    "plt.suptitle('Masters Degree Subjects', fontsize=14)\n",
    "\n",
    "plt.subplot(1,3,2)\n",
    "master_2_counts.plot(kind='bar')\n",
    "plt.title('2nd Masters Subjects')\n",
    "\n",
    "plt.subplot(1,3,3)\n",
    "master_3_counts.plot(kind='bar')\n",
    "plt.title('3rd Masters Subjects')\n",
    "\n",
    "# add more space between the title and the plots\n",
    "plt.subplots_adjust(top=0.8)"
   ]
  },
  {
   "cell_type": "code",
   "execution_count": 26,
   "metadata": {},
   "outputs": [
    {
     "data": {
      "text/plain": [
       "mcat_zscore             260\n",
       "mcat_total_attempts     260\n",
       "bachelor_1               23\n",
       "bachelor_2             1573\n",
       "bachelor_3             1784\n",
       "master_1               1412\n",
       "master_2               1774\n",
       "master_3               1787\n",
       "associate_1            1754\n",
       "associate_2            1786\n",
       "dtype: int64"
      ]
     },
     "execution_count": 26,
     "metadata": {},
     "output_type": "execute_result"
    }
   ],
   "source": [
    "# check for any missing admissions criteria data\n",
    "\n",
    "df.loc[:,'mcat_zscore':'associate_2'].isnull().sum()"
   ]
  },
  {
   "cell_type": "markdown",
   "metadata": {},
   "source": [
    "There is some missing data in all of these features and some of the features have almost all missing data.  We will need to make wrangling decisions for all of these features."
   ]
  },
  {
   "cell_type": "markdown",
   "metadata": {},
   "source": [
    "## 4.  Data During Medical School\n",
    "\n",
    "Some general descriptive statistics for the features that include data during a student's time in medical school - for example, course grades and STEP1 score."
   ]
  },
  {
   "cell_type": "code",
   "execution_count": 27,
   "metadata": {},
   "outputs": [
    {
     "data": {
      "text/html": [
       "<div>\n",
       "<style scoped>\n",
       "    .dataframe tbody tr th:only-of-type {\n",
       "        vertical-align: middle;\n",
       "    }\n",
       "\n",
       "    .dataframe tbody tr th {\n",
       "        vertical-align: top;\n",
       "    }\n",
       "\n",
       "    .dataframe thead th {\n",
       "        text-align: right;\n",
       "    }\n",
       "</style>\n",
       "<table border=\"1\" class=\"dataframe\">\n",
       "  <thead>\n",
       "    <tr style=\"text-align: right;\">\n",
       "      <th></th>\n",
       "      <th>student_id</th>\n",
       "      <th>m1_fall</th>\n",
       "      <th>mcat_zscore</th>\n",
       "      <th>mcat_total_attempts</th>\n",
       "      <th>bachelor_1</th>\n",
       "      <th>bachelor_2</th>\n",
       "      <th>bachelor_3</th>\n",
       "      <th>master_1</th>\n",
       "      <th>master_2</th>\n",
       "      <th>master_3</th>\n",
       "      <th>associate_1</th>\n",
       "      <th>associate_2</th>\n",
       "      <th>gem_indicator</th>\n",
       "      <th>race</th>\n",
       "      <th>race_indic</th>\n",
       "      <th>gender</th>\n",
       "      <th>m1f_limbs</th>\n",
       "      <th>m1f_metabolism_nutrition_and_endo</th>\n",
       "      <th>m1f_molecular_and_cell_physiology</th>\n",
       "      <th>m1f_molecular_and_human_genetics</th>\n",
       "      <th>m1s_cardio_pulmonary</th>\n",
       "      <th>m1s_ebm_and_population_health</th>\n",
       "      <th>m1s_gastrointestinal</th>\n",
       "      <th>m1s_head_neck_and_special_senses</th>\n",
       "      <th>m1s_medical_neuroscience</th>\n",
       "      <th>m1s_patients_populations_and_policy</th>\n",
       "      <th>m1s_physical_diagnosis_i</th>\n",
       "      <th>m1s_renal_and_electrolytes</th>\n",
       "      <th>m1s_sexual_dev__and_reproduction</th>\n",
       "      <th>m2s_clinical_skills_primer</th>\n",
       "      <th>m2s_evidence_based_medicine_ii</th>\n",
       "      <th>m2s_health_care_ethics</th>\n",
       "      <th>m2s_human_sexuality</th>\n",
       "      <th>m2s_lab_medicine_pblm_solving_case</th>\n",
       "      <th>m2s_microbiology_and_immunology</th>\n",
       "      <th>m2s_pathology</th>\n",
       "      <th>m2s_pharmacology</th>\n",
       "      <th>m2s_physical_diagnosis_ii</th>\n",
       "      <th>m2s_psychiatry</th>\n",
       "      <th>step1_raw_score</th>\n",
       "      <th>step1_z_score</th>\n",
       "      <th>step1_pass_indicator</th>\n",
       "      <th>step1_total_attempts</th>\n",
       "      <th>dropout_indic</th>\n",
       "      <th>student_classification</th>\n",
       "      <th>repeat_indic</th>\n",
       "      <th>target_indicator</th>\n",
       "    </tr>\n",
       "  </thead>\n",
       "  <tbody>\n",
       "    <tr>\n",
       "      <th>0</th>\n",
       "      <td>30705306</td>\n",
       "      <td>200930</td>\n",
       "      <td>2.505529</td>\n",
       "      <td>1.0</td>\n",
       "      <td>Science</td>\n",
       "      <td>NaN</td>\n",
       "      <td>NaN</td>\n",
       "      <td>Science</td>\n",
       "      <td>NaN</td>\n",
       "      <td>NaN</td>\n",
       "      <td>NaN</td>\n",
       "      <td>NaN</td>\n",
       "      <td>0.0</td>\n",
       "      <td>White</td>\n",
       "      <td>5.0</td>\n",
       "      <td>M</td>\n",
       "      <td>4.0</td>\n",
       "      <td>4.0</td>\n",
       "      <td>4.0</td>\n",
       "      <td>4.0</td>\n",
       "      <td>4.0</td>\n",
       "      <td>3.0</td>\n",
       "      <td>4.0</td>\n",
       "      <td>3.0</td>\n",
       "      <td>4.0</td>\n",
       "      <td>NaN</td>\n",
       "      <td>1.0</td>\n",
       "      <td>4.0</td>\n",
       "      <td>4.0</td>\n",
       "      <td>3.0</td>\n",
       "      <td>2.0</td>\n",
       "      <td>4.0</td>\n",
       "      <td>3.0</td>\n",
       "      <td>4.0</td>\n",
       "      <td>4.0</td>\n",
       "      <td>4.0</td>\n",
       "      <td>4.0</td>\n",
       "      <td>1.0</td>\n",
       "      <td>3.0</td>\n",
       "      <td>269.0</td>\n",
       "      <td>2.178880</td>\n",
       "      <td>1.0</td>\n",
       "      <td>1.0</td>\n",
       "      <td>NaN</td>\n",
       "      <td>NaN</td>\n",
       "      <td>NaN</td>\n",
       "      <td>0</td>\n",
       "    </tr>\n",
       "    <tr>\n",
       "      <th>1</th>\n",
       "      <td>22721624</td>\n",
       "      <td>200930</td>\n",
       "      <td>-1.407328</td>\n",
       "      <td>2.0</td>\n",
       "      <td>Science</td>\n",
       "      <td>NaN</td>\n",
       "      <td>NaN</td>\n",
       "      <td>Science</td>\n",
       "      <td>NaN</td>\n",
       "      <td>NaN</td>\n",
       "      <td>Science</td>\n",
       "      <td>NaN</td>\n",
       "      <td>1.0</td>\n",
       "      <td>Black or African American</td>\n",
       "      <td>3.0</td>\n",
       "      <td>F</td>\n",
       "      <td>2.0</td>\n",
       "      <td>3.0</td>\n",
       "      <td>2.0</td>\n",
       "      <td>2.0</td>\n",
       "      <td>4.0</td>\n",
       "      <td>2.0</td>\n",
       "      <td>4.0</td>\n",
       "      <td>2.0</td>\n",
       "      <td>2.0</td>\n",
       "      <td>NaN</td>\n",
       "      <td>1.0</td>\n",
       "      <td>4.0</td>\n",
       "      <td>3.0</td>\n",
       "      <td>2.0</td>\n",
       "      <td>2.0</td>\n",
       "      <td>3.0</td>\n",
       "      <td>2.0</td>\n",
       "      <td>2.0</td>\n",
       "      <td>2.0</td>\n",
       "      <td>2.0</td>\n",
       "      <td>2.0</td>\n",
       "      <td>1.0</td>\n",
       "      <td>2.0</td>\n",
       "      <td>210.0</td>\n",
       "      <td>-0.836599</td>\n",
       "      <td>1.0</td>\n",
       "      <td>1.0</td>\n",
       "      <td>NaN</td>\n",
       "      <td>NaN</td>\n",
       "      <td>NaN</td>\n",
       "      <td>0</td>\n",
       "    </tr>\n",
       "    <tr>\n",
       "      <th>2</th>\n",
       "      <td>35604291</td>\n",
       "      <td>200930</td>\n",
       "      <td>0.745614</td>\n",
       "      <td>1.0</td>\n",
       "      <td>Arts</td>\n",
       "      <td>NaN</td>\n",
       "      <td>NaN</td>\n",
       "      <td>NaN</td>\n",
       "      <td>NaN</td>\n",
       "      <td>NaN</td>\n",
       "      <td>NaN</td>\n",
       "      <td>NaN</td>\n",
       "      <td>0.0</td>\n",
       "      <td>White</td>\n",
       "      <td>5.0</td>\n",
       "      <td>M</td>\n",
       "      <td>2.0</td>\n",
       "      <td>2.0</td>\n",
       "      <td>3.0</td>\n",
       "      <td>2.0</td>\n",
       "      <td>2.0</td>\n",
       "      <td>4.0</td>\n",
       "      <td>2.0</td>\n",
       "      <td>2.0</td>\n",
       "      <td>3.0</td>\n",
       "      <td>NaN</td>\n",
       "      <td>1.0</td>\n",
       "      <td>2.0</td>\n",
       "      <td>3.0</td>\n",
       "      <td>3.0</td>\n",
       "      <td>3.0</td>\n",
       "      <td>3.0</td>\n",
       "      <td>4.0</td>\n",
       "      <td>4.0</td>\n",
       "      <td>2.0</td>\n",
       "      <td>2.0</td>\n",
       "      <td>2.0</td>\n",
       "      <td>1.0</td>\n",
       "      <td>2.0</td>\n",
       "      <td>241.0</td>\n",
       "      <td>0.747805</td>\n",
       "      <td>1.0</td>\n",
       "      <td>1.0</td>\n",
       "      <td>NaN</td>\n",
       "      <td>NaN</td>\n",
       "      <td>NaN</td>\n",
       "      <td>0</td>\n",
       "    </tr>\n",
       "    <tr>\n",
       "      <th>3</th>\n",
       "      <td>23250759</td>\n",
       "      <td>200930</td>\n",
       "      <td>0.149933</td>\n",
       "      <td>1.0</td>\n",
       "      <td>Science</td>\n",
       "      <td>NaN</td>\n",
       "      <td>NaN</td>\n",
       "      <td>NaN</td>\n",
       "      <td>NaN</td>\n",
       "      <td>NaN</td>\n",
       "      <td>NaN</td>\n",
       "      <td>NaN</td>\n",
       "      <td>0.0</td>\n",
       "      <td>White</td>\n",
       "      <td>5.0</td>\n",
       "      <td>M</td>\n",
       "      <td>2.0</td>\n",
       "      <td>2.0</td>\n",
       "      <td>2.0</td>\n",
       "      <td>2.0</td>\n",
       "      <td>3.0</td>\n",
       "      <td>3.0</td>\n",
       "      <td>3.0</td>\n",
       "      <td>4.0</td>\n",
       "      <td>3.0</td>\n",
       "      <td>NaN</td>\n",
       "      <td>1.0</td>\n",
       "      <td>4.0</td>\n",
       "      <td>3.0</td>\n",
       "      <td>3.0</td>\n",
       "      <td>4.0</td>\n",
       "      <td>3.0</td>\n",
       "      <td>3.0</td>\n",
       "      <td>3.0</td>\n",
       "      <td>3.0</td>\n",
       "      <td>3.0</td>\n",
       "      <td>3.0</td>\n",
       "      <td>1.0</td>\n",
       "      <td>2.0</td>\n",
       "      <td>224.0</td>\n",
       "      <td>-0.121062</td>\n",
       "      <td>1.0</td>\n",
       "      <td>1.0</td>\n",
       "      <td>NaN</td>\n",
       "      <td>NaN</td>\n",
       "      <td>NaN</td>\n",
       "      <td>0</td>\n",
       "    </tr>\n",
       "    <tr>\n",
       "      <th>4</th>\n",
       "      <td>23269092</td>\n",
       "      <td>200930</td>\n",
       "      <td>-0.973841</td>\n",
       "      <td>1.0</td>\n",
       "      <td>Science</td>\n",
       "      <td>NaN</td>\n",
       "      <td>NaN</td>\n",
       "      <td>NaN</td>\n",
       "      <td>NaN</td>\n",
       "      <td>NaN</td>\n",
       "      <td>NaN</td>\n",
       "      <td>NaN</td>\n",
       "      <td>1.0</td>\n",
       "      <td>Asian</td>\n",
       "      <td>2.0</td>\n",
       "      <td>F</td>\n",
       "      <td>2.0</td>\n",
       "      <td>2.0</td>\n",
       "      <td>2.0</td>\n",
       "      <td>2.0</td>\n",
       "      <td>NaN</td>\n",
       "      <td>2.0</td>\n",
       "      <td>NaN</td>\n",
       "      <td>2.0</td>\n",
       "      <td>2.0</td>\n",
       "      <td>NaN</td>\n",
       "      <td>1.0</td>\n",
       "      <td>NaN</td>\n",
       "      <td>2.0</td>\n",
       "      <td>2.0</td>\n",
       "      <td>3.0</td>\n",
       "      <td>4.0</td>\n",
       "      <td>2.0</td>\n",
       "      <td>2.0</td>\n",
       "      <td>2.0</td>\n",
       "      <td>2.0</td>\n",
       "      <td>2.0</td>\n",
       "      <td>1.0</td>\n",
       "      <td>2.0</td>\n",
       "      <td>197.0</td>\n",
       "      <td>-1.501027</td>\n",
       "      <td>1.0</td>\n",
       "      <td>1.0</td>\n",
       "      <td>NaN</td>\n",
       "      <td>NaN</td>\n",
       "      <td>NaN</td>\n",
       "      <td>0</td>\n",
       "    </tr>\n",
       "    <tr>\n",
       "      <th>5</th>\n",
       "      <td>23977774</td>\n",
       "      <td>200930</td>\n",
       "      <td>-2.205663</td>\n",
       "      <td>2.0</td>\n",
       "      <td>Other</td>\n",
       "      <td>NaN</td>\n",
       "      <td>NaN</td>\n",
       "      <td>NaN</td>\n",
       "      <td>NaN</td>\n",
       "      <td>NaN</td>\n",
       "      <td>NaN</td>\n",
       "      <td>NaN</td>\n",
       "      <td>1.0</td>\n",
       "      <td>Black or African American</td>\n",
       "      <td>3.0</td>\n",
       "      <td>F</td>\n",
       "      <td>2.0</td>\n",
       "      <td>2.0</td>\n",
       "      <td>2.0</td>\n",
       "      <td>2.0</td>\n",
       "      <td>NaN</td>\n",
       "      <td>2.0</td>\n",
       "      <td>NaN</td>\n",
       "      <td>2.0</td>\n",
       "      <td>2.0</td>\n",
       "      <td>NaN</td>\n",
       "      <td>1.0</td>\n",
       "      <td>NaN</td>\n",
       "      <td>3.0</td>\n",
       "      <td>2.0</td>\n",
       "      <td>2.0</td>\n",
       "      <td>4.0</td>\n",
       "      <td>2.0</td>\n",
       "      <td>2.0</td>\n",
       "      <td>2.0</td>\n",
       "      <td>2.0</td>\n",
       "      <td>2.0</td>\n",
       "      <td>1.0</td>\n",
       "      <td>2.0</td>\n",
       "      <td>198.0</td>\n",
       "      <td>-1.449917</td>\n",
       "      <td>1.0</td>\n",
       "      <td>1.0</td>\n",
       "      <td>NaN</td>\n",
       "      <td>NaN</td>\n",
       "      <td>NaN</td>\n",
       "      <td>0</td>\n",
       "    </tr>\n",
       "    <tr>\n",
       "      <th>6</th>\n",
       "      <td>24052658</td>\n",
       "      <td>200930</td>\n",
       "      <td>0.411666</td>\n",
       "      <td>2.0</td>\n",
       "      <td>Science</td>\n",
       "      <td>Science</td>\n",
       "      <td>NaN</td>\n",
       "      <td>Science</td>\n",
       "      <td>NaN</td>\n",
       "      <td>NaN</td>\n",
       "      <td>NaN</td>\n",
       "      <td>NaN</td>\n",
       "      <td>0.0</td>\n",
       "      <td>White</td>\n",
       "      <td>5.0</td>\n",
       "      <td>F</td>\n",
       "      <td>2.0</td>\n",
       "      <td>NaN</td>\n",
       "      <td>NaN</td>\n",
       "      <td>2.0</td>\n",
       "      <td>NaN</td>\n",
       "      <td>2.0</td>\n",
       "      <td>2.0</td>\n",
       "      <td>2.0</td>\n",
       "      <td>2.0</td>\n",
       "      <td>NaN</td>\n",
       "      <td>1.0</td>\n",
       "      <td>NaN</td>\n",
       "      <td>2.0</td>\n",
       "      <td>2.0</td>\n",
       "      <td>2.0</td>\n",
       "      <td>4.0</td>\n",
       "      <td>3.0</td>\n",
       "      <td>2.0</td>\n",
       "      <td>2.0</td>\n",
       "      <td>3.0</td>\n",
       "      <td>2.0</td>\n",
       "      <td>1.0</td>\n",
       "      <td>4.0</td>\n",
       "      <td>229.0</td>\n",
       "      <td>0.134487</td>\n",
       "      <td>1.0</td>\n",
       "      <td>1.0</td>\n",
       "      <td>NaN</td>\n",
       "      <td>NaN</td>\n",
       "      <td>NaN</td>\n",
       "      <td>0</td>\n",
       "    </tr>\n",
       "  </tbody>\n",
       "</table>\n",
       "</div>"
      ],
      "text/plain": [
       "   student_id  m1_fall  mcat_zscore  mcat_total_attempts bachelor_1  \\\n",
       "0    30705306   200930     2.505529                  1.0    Science   \n",
       "1    22721624   200930    -1.407328                  2.0    Science   \n",
       "2    35604291   200930     0.745614                  1.0       Arts   \n",
       "3    23250759   200930     0.149933                  1.0    Science   \n",
       "4    23269092   200930    -0.973841                  1.0    Science   \n",
       "5    23977774   200930    -2.205663                  2.0      Other   \n",
       "6    24052658   200930     0.411666                  2.0    Science   \n",
       "\n",
       "  bachelor_2 bachelor_3 master_1 master_2 master_3 associate_1 associate_2  \\\n",
       "0        NaN        NaN  Science      NaN      NaN         NaN         NaN   \n",
       "1        NaN        NaN  Science      NaN      NaN     Science         NaN   \n",
       "2        NaN        NaN      NaN      NaN      NaN         NaN         NaN   \n",
       "3        NaN        NaN      NaN      NaN      NaN         NaN         NaN   \n",
       "4        NaN        NaN      NaN      NaN      NaN         NaN         NaN   \n",
       "5        NaN        NaN      NaN      NaN      NaN         NaN         NaN   \n",
       "6    Science        NaN  Science      NaN      NaN         NaN         NaN   \n",
       "\n",
       "   gem_indicator                       race  race_indic gender  m1f_limbs  \\\n",
       "0            0.0                      White         5.0      M        4.0   \n",
       "1            1.0  Black or African American         3.0      F        2.0   \n",
       "2            0.0                      White         5.0      M        2.0   \n",
       "3            0.0                      White         5.0      M        2.0   \n",
       "4            1.0                      Asian         2.0      F        2.0   \n",
       "5            1.0  Black or African American         3.0      F        2.0   \n",
       "6            0.0                      White         5.0      F        2.0   \n",
       "\n",
       "   m1f_metabolism_nutrition_and_endo  m1f_molecular_and_cell_physiology  \\\n",
       "0                                4.0                                4.0   \n",
       "1                                3.0                                2.0   \n",
       "2                                2.0                                3.0   \n",
       "3                                2.0                                2.0   \n",
       "4                                2.0                                2.0   \n",
       "5                                2.0                                2.0   \n",
       "6                                NaN                                NaN   \n",
       "\n",
       "   m1f_molecular_and_human_genetics  m1s_cardio_pulmonary  \\\n",
       "0                               4.0                   4.0   \n",
       "1                               2.0                   4.0   \n",
       "2                               2.0                   2.0   \n",
       "3                               2.0                   3.0   \n",
       "4                               2.0                   NaN   \n",
       "5                               2.0                   NaN   \n",
       "6                               2.0                   NaN   \n",
       "\n",
       "   m1s_ebm_and_population_health  m1s_gastrointestinal  \\\n",
       "0                            3.0                   4.0   \n",
       "1                            2.0                   4.0   \n",
       "2                            4.0                   2.0   \n",
       "3                            3.0                   3.0   \n",
       "4                            2.0                   NaN   \n",
       "5                            2.0                   NaN   \n",
       "6                            2.0                   2.0   \n",
       "\n",
       "   m1s_head_neck_and_special_senses  m1s_medical_neuroscience  \\\n",
       "0                               3.0                       4.0   \n",
       "1                               2.0                       2.0   \n",
       "2                               2.0                       3.0   \n",
       "3                               4.0                       3.0   \n",
       "4                               2.0                       2.0   \n",
       "5                               2.0                       2.0   \n",
       "6                               2.0                       2.0   \n",
       "\n",
       "   m1s_patients_populations_and_policy  m1s_physical_diagnosis_i  \\\n",
       "0                                  NaN                       1.0   \n",
       "1                                  NaN                       1.0   \n",
       "2                                  NaN                       1.0   \n",
       "3                                  NaN                       1.0   \n",
       "4                                  NaN                       1.0   \n",
       "5                                  NaN                       1.0   \n",
       "6                                  NaN                       1.0   \n",
       "\n",
       "   m1s_renal_and_electrolytes  m1s_sexual_dev__and_reproduction  \\\n",
       "0                         4.0                               4.0   \n",
       "1                         4.0                               3.0   \n",
       "2                         2.0                               3.0   \n",
       "3                         4.0                               3.0   \n",
       "4                         NaN                               2.0   \n",
       "5                         NaN                               3.0   \n",
       "6                         NaN                               2.0   \n",
       "\n",
       "   m2s_clinical_skills_primer  m2s_evidence_based_medicine_ii  \\\n",
       "0                         3.0                             2.0   \n",
       "1                         2.0                             2.0   \n",
       "2                         3.0                             3.0   \n",
       "3                         3.0                             4.0   \n",
       "4                         2.0                             3.0   \n",
       "5                         2.0                             2.0   \n",
       "6                         2.0                             2.0   \n",
       "\n",
       "   m2s_health_care_ethics  m2s_human_sexuality  \\\n",
       "0                     4.0                  3.0   \n",
       "1                     3.0                  2.0   \n",
       "2                     3.0                  4.0   \n",
       "3                     3.0                  3.0   \n",
       "4                     4.0                  2.0   \n",
       "5                     4.0                  2.0   \n",
       "6                     4.0                  3.0   \n",
       "\n",
       "   m2s_lab_medicine_pblm_solving_case  m2s_microbiology_and_immunology  \\\n",
       "0                                 4.0                              4.0   \n",
       "1                                 2.0                              2.0   \n",
       "2                                 4.0                              2.0   \n",
       "3                                 3.0                              3.0   \n",
       "4                                 2.0                              2.0   \n",
       "5                                 2.0                              2.0   \n",
       "6                                 2.0                              2.0   \n",
       "\n",
       "   m2s_pathology  m2s_pharmacology  m2s_physical_diagnosis_ii  m2s_psychiatry  \\\n",
       "0            4.0               4.0                        1.0             3.0   \n",
       "1            2.0               2.0                        1.0             2.0   \n",
       "2            2.0               2.0                        1.0             2.0   \n",
       "3            3.0               3.0                        1.0             2.0   \n",
       "4            2.0               2.0                        1.0             2.0   \n",
       "5            2.0               2.0                        1.0             2.0   \n",
       "6            3.0               2.0                        1.0             4.0   \n",
       "\n",
       "   step1_raw_score  step1_z_score  step1_pass_indicator  step1_total_attempts  \\\n",
       "0            269.0       2.178880                   1.0                   1.0   \n",
       "1            210.0      -0.836599                   1.0                   1.0   \n",
       "2            241.0       0.747805                   1.0                   1.0   \n",
       "3            224.0      -0.121062                   1.0                   1.0   \n",
       "4            197.0      -1.501027                   1.0                   1.0   \n",
       "5            198.0      -1.449917                   1.0                   1.0   \n",
       "6            229.0       0.134487                   1.0                   1.0   \n",
       "\n",
       "   dropout_indic student_classification  repeat_indic  target_indicator  \n",
       "0            NaN                    NaN           NaN                 0  \n",
       "1            NaN                    NaN           NaN                 0  \n",
       "2            NaN                    NaN           NaN                 0  \n",
       "3            NaN                    NaN           NaN                 0  \n",
       "4            NaN                    NaN           NaN                 0  \n",
       "5            NaN                    NaN           NaN                 0  \n",
       "6            NaN                    NaN           NaN                 0  "
      ]
     },
     "execution_count": 27,
     "metadata": {},
     "output_type": "execute_result"
    }
   ],
   "source": [
    "# Quick reminder of what our features are.\n",
    "\n",
    "df.head(7)"
   ]
  },
  {
   "cell_type": "code",
   "execution_count": 28,
   "metadata": {},
   "outputs": [
    {
     "data": {
      "text/html": [
       "<div>\n",
       "<style scoped>\n",
       "    .dataframe tbody tr th:only-of-type {\n",
       "        vertical-align: middle;\n",
       "    }\n",
       "\n",
       "    .dataframe tbody tr th {\n",
       "        vertical-align: top;\n",
       "    }\n",
       "\n",
       "    .dataframe thead th {\n",
       "        text-align: right;\n",
       "    }\n",
       "</style>\n",
       "<table border=\"1\" class=\"dataframe\">\n",
       "  <thead>\n",
       "    <tr style=\"text-align: right;\">\n",
       "      <th></th>\n",
       "      <th>m1f_limbs</th>\n",
       "      <th>m1f_metabolism_nutrition_and_endo</th>\n",
       "      <th>m1f_molecular_and_cell_physiology</th>\n",
       "      <th>m1f_molecular_and_human_genetics</th>\n",
       "      <th>m1s_cardio_pulmonary</th>\n",
       "      <th>m1s_ebm_and_population_health</th>\n",
       "      <th>m1s_gastrointestinal</th>\n",
       "      <th>m1s_head_neck_and_special_senses</th>\n",
       "      <th>m1s_medical_neuroscience</th>\n",
       "      <th>m1s_patients_populations_and_policy</th>\n",
       "      <th>m1s_physical_diagnosis_i</th>\n",
       "      <th>m1s_renal_and_electrolytes</th>\n",
       "      <th>m1s_sexual_dev__and_reproduction</th>\n",
       "      <th>m2s_clinical_skills_primer</th>\n",
       "      <th>m2s_evidence_based_medicine_ii</th>\n",
       "      <th>m2s_health_care_ethics</th>\n",
       "      <th>m2s_human_sexuality</th>\n",
       "      <th>m2s_lab_medicine_pblm_solving_case</th>\n",
       "      <th>m2s_microbiology_and_immunology</th>\n",
       "      <th>m2s_pathology</th>\n",
       "      <th>m2s_pharmacology</th>\n",
       "      <th>m2s_physical_diagnosis_ii</th>\n",
       "      <th>m2s_psychiatry</th>\n",
       "    </tr>\n",
       "  </thead>\n",
       "  <tbody>\n",
       "    <tr>\n",
       "      <th>0</th>\n",
       "      <td>4.0</td>\n",
       "      <td>4.0</td>\n",
       "      <td>4.0</td>\n",
       "      <td>4.0</td>\n",
       "      <td>4.0</td>\n",
       "      <td>3.0</td>\n",
       "      <td>4.0</td>\n",
       "      <td>3.0</td>\n",
       "      <td>4.0</td>\n",
       "      <td>NaN</td>\n",
       "      <td>1.0</td>\n",
       "      <td>4.0</td>\n",
       "      <td>4.0</td>\n",
       "      <td>3.0</td>\n",
       "      <td>2.0</td>\n",
       "      <td>4.0</td>\n",
       "      <td>3.0</td>\n",
       "      <td>4.0</td>\n",
       "      <td>4.0</td>\n",
       "      <td>4.0</td>\n",
       "      <td>4.0</td>\n",
       "      <td>1.0</td>\n",
       "      <td>3.0</td>\n",
       "    </tr>\n",
       "    <tr>\n",
       "      <th>1</th>\n",
       "      <td>2.0</td>\n",
       "      <td>3.0</td>\n",
       "      <td>2.0</td>\n",
       "      <td>2.0</td>\n",
       "      <td>4.0</td>\n",
       "      <td>2.0</td>\n",
       "      <td>4.0</td>\n",
       "      <td>2.0</td>\n",
       "      <td>2.0</td>\n",
       "      <td>NaN</td>\n",
       "      <td>1.0</td>\n",
       "      <td>4.0</td>\n",
       "      <td>3.0</td>\n",
       "      <td>2.0</td>\n",
       "      <td>2.0</td>\n",
       "      <td>3.0</td>\n",
       "      <td>2.0</td>\n",
       "      <td>2.0</td>\n",
       "      <td>2.0</td>\n",
       "      <td>2.0</td>\n",
       "      <td>2.0</td>\n",
       "      <td>1.0</td>\n",
       "      <td>2.0</td>\n",
       "    </tr>\n",
       "    <tr>\n",
       "      <th>2</th>\n",
       "      <td>2.0</td>\n",
       "      <td>2.0</td>\n",
       "      <td>3.0</td>\n",
       "      <td>2.0</td>\n",
       "      <td>2.0</td>\n",
       "      <td>4.0</td>\n",
       "      <td>2.0</td>\n",
       "      <td>2.0</td>\n",
       "      <td>3.0</td>\n",
       "      <td>NaN</td>\n",
       "      <td>1.0</td>\n",
       "      <td>2.0</td>\n",
       "      <td>3.0</td>\n",
       "      <td>3.0</td>\n",
       "      <td>3.0</td>\n",
       "      <td>3.0</td>\n",
       "      <td>4.0</td>\n",
       "      <td>4.0</td>\n",
       "      <td>2.0</td>\n",
       "      <td>2.0</td>\n",
       "      <td>2.0</td>\n",
       "      <td>1.0</td>\n",
       "      <td>2.0</td>\n",
       "    </tr>\n",
       "    <tr>\n",
       "      <th>3</th>\n",
       "      <td>2.0</td>\n",
       "      <td>2.0</td>\n",
       "      <td>2.0</td>\n",
       "      <td>2.0</td>\n",
       "      <td>3.0</td>\n",
       "      <td>3.0</td>\n",
       "      <td>3.0</td>\n",
       "      <td>4.0</td>\n",
       "      <td>3.0</td>\n",
       "      <td>NaN</td>\n",
       "      <td>1.0</td>\n",
       "      <td>4.0</td>\n",
       "      <td>3.0</td>\n",
       "      <td>3.0</td>\n",
       "      <td>4.0</td>\n",
       "      <td>3.0</td>\n",
       "      <td>3.0</td>\n",
       "      <td>3.0</td>\n",
       "      <td>3.0</td>\n",
       "      <td>3.0</td>\n",
       "      <td>3.0</td>\n",
       "      <td>1.0</td>\n",
       "      <td>2.0</td>\n",
       "    </tr>\n",
       "    <tr>\n",
       "      <th>4</th>\n",
       "      <td>2.0</td>\n",
       "      <td>2.0</td>\n",
       "      <td>2.0</td>\n",
       "      <td>2.0</td>\n",
       "      <td>NaN</td>\n",
       "      <td>2.0</td>\n",
       "      <td>NaN</td>\n",
       "      <td>2.0</td>\n",
       "      <td>2.0</td>\n",
       "      <td>NaN</td>\n",
       "      <td>1.0</td>\n",
       "      <td>NaN</td>\n",
       "      <td>2.0</td>\n",
       "      <td>2.0</td>\n",
       "      <td>3.0</td>\n",
       "      <td>4.0</td>\n",
       "      <td>2.0</td>\n",
       "      <td>2.0</td>\n",
       "      <td>2.0</td>\n",
       "      <td>2.0</td>\n",
       "      <td>2.0</td>\n",
       "      <td>1.0</td>\n",
       "      <td>2.0</td>\n",
       "    </tr>\n",
       "  </tbody>\n",
       "</table>\n",
       "</div>"
      ],
      "text/plain": [
       "   m1f_limbs  m1f_metabolism_nutrition_and_endo  \\\n",
       "0        4.0                                4.0   \n",
       "1        2.0                                3.0   \n",
       "2        2.0                                2.0   \n",
       "3        2.0                                2.0   \n",
       "4        2.0                                2.0   \n",
       "\n",
       "   m1f_molecular_and_cell_physiology  m1f_molecular_and_human_genetics  \\\n",
       "0                                4.0                               4.0   \n",
       "1                                2.0                               2.0   \n",
       "2                                3.0                               2.0   \n",
       "3                                2.0                               2.0   \n",
       "4                                2.0                               2.0   \n",
       "\n",
       "   m1s_cardio_pulmonary  m1s_ebm_and_population_health  m1s_gastrointestinal  \\\n",
       "0                   4.0                            3.0                   4.0   \n",
       "1                   4.0                            2.0                   4.0   \n",
       "2                   2.0                            4.0                   2.0   \n",
       "3                   3.0                            3.0                   3.0   \n",
       "4                   NaN                            2.0                   NaN   \n",
       "\n",
       "   m1s_head_neck_and_special_senses  m1s_medical_neuroscience  \\\n",
       "0                               3.0                       4.0   \n",
       "1                               2.0                       2.0   \n",
       "2                               2.0                       3.0   \n",
       "3                               4.0                       3.0   \n",
       "4                               2.0                       2.0   \n",
       "\n",
       "   m1s_patients_populations_and_policy  m1s_physical_diagnosis_i  \\\n",
       "0                                  NaN                       1.0   \n",
       "1                                  NaN                       1.0   \n",
       "2                                  NaN                       1.0   \n",
       "3                                  NaN                       1.0   \n",
       "4                                  NaN                       1.0   \n",
       "\n",
       "   m1s_renal_and_electrolytes  m1s_sexual_dev__and_reproduction  \\\n",
       "0                         4.0                               4.0   \n",
       "1                         4.0                               3.0   \n",
       "2                         2.0                               3.0   \n",
       "3                         4.0                               3.0   \n",
       "4                         NaN                               2.0   \n",
       "\n",
       "   m2s_clinical_skills_primer  m2s_evidence_based_medicine_ii  \\\n",
       "0                         3.0                             2.0   \n",
       "1                         2.0                             2.0   \n",
       "2                         3.0                             3.0   \n",
       "3                         3.0                             4.0   \n",
       "4                         2.0                             3.0   \n",
       "\n",
       "   m2s_health_care_ethics  m2s_human_sexuality  \\\n",
       "0                     4.0                  3.0   \n",
       "1                     3.0                  2.0   \n",
       "2                     3.0                  4.0   \n",
       "3                     3.0                  3.0   \n",
       "4                     4.0                  2.0   \n",
       "\n",
       "   m2s_lab_medicine_pblm_solving_case  m2s_microbiology_and_immunology  \\\n",
       "0                                 4.0                              4.0   \n",
       "1                                 2.0                              2.0   \n",
       "2                                 4.0                              2.0   \n",
       "3                                 3.0                              3.0   \n",
       "4                                 2.0                              2.0   \n",
       "\n",
       "   m2s_pathology  m2s_pharmacology  m2s_physical_diagnosis_ii  m2s_psychiatry  \n",
       "0            4.0               4.0                        1.0             3.0  \n",
       "1            2.0               2.0                        1.0             2.0  \n",
       "2            2.0               2.0                        1.0             2.0  \n",
       "3            3.0               3.0                        1.0             2.0  \n",
       "4            2.0               2.0                        1.0             2.0  "
      ]
     },
     "execution_count": 28,
     "metadata": {},
     "output_type": "execute_result"
    }
   ],
   "source": [
    "# Create a new dataframe of just the course grades features.\n",
    "\n",
    "course_grades = df.loc[:,'m1f_limbs':'m2s_psychiatry']\n",
    "course_grades.head()"
   ]
  },
  {
   "cell_type": "code",
   "execution_count": 29,
   "metadata": {},
   "outputs": [
    {
     "data": {
      "text/html": [
       "<div>\n",
       "<style scoped>\n",
       "    .dataframe tbody tr th:only-of-type {\n",
       "        vertical-align: middle;\n",
       "    }\n",
       "\n",
       "    .dataframe tbody tr th {\n",
       "        vertical-align: top;\n",
       "    }\n",
       "\n",
       "    .dataframe thead th {\n",
       "        text-align: right;\n",
       "    }\n",
       "</style>\n",
       "<table border=\"1\" class=\"dataframe\">\n",
       "  <thead>\n",
       "    <tr style=\"text-align: right;\">\n",
       "      <th></th>\n",
       "      <th>m1f_limbs</th>\n",
       "      <th>m1f_metabolism_nutrition_and_endo</th>\n",
       "      <th>m1f_molecular_and_cell_physiology</th>\n",
       "      <th>m1f_molecular_and_human_genetics</th>\n",
       "      <th>m1s_cardio_pulmonary</th>\n",
       "      <th>m1s_ebm_and_population_health</th>\n",
       "      <th>m1s_gastrointestinal</th>\n",
       "      <th>m1s_head_neck_and_special_senses</th>\n",
       "      <th>m1s_medical_neuroscience</th>\n",
       "      <th>m1s_patients_populations_and_policy</th>\n",
       "      <th>m1s_physical_diagnosis_i</th>\n",
       "      <th>m1s_renal_and_electrolytes</th>\n",
       "      <th>m1s_sexual_dev__and_reproduction</th>\n",
       "      <th>m2s_clinical_skills_primer</th>\n",
       "      <th>m2s_evidence_based_medicine_ii</th>\n",
       "      <th>m2s_health_care_ethics</th>\n",
       "      <th>m2s_human_sexuality</th>\n",
       "      <th>m2s_lab_medicine_pblm_solving_case</th>\n",
       "      <th>m2s_microbiology_and_immunology</th>\n",
       "      <th>m2s_pathology</th>\n",
       "      <th>m2s_pharmacology</th>\n",
       "      <th>m2s_physical_diagnosis_ii</th>\n",
       "      <th>m2s_psychiatry</th>\n",
       "    </tr>\n",
       "  </thead>\n",
       "  <tbody>\n",
       "    <tr>\n",
       "      <th>count</th>\n",
       "      <td>1527.000000</td>\n",
       "      <td>1348.000000</td>\n",
       "      <td>1356.000000</td>\n",
       "      <td>1577.000000</td>\n",
       "      <td>1222.000000</td>\n",
       "      <td>1516.000000</td>\n",
       "      <td>1218.000000</td>\n",
       "      <td>1563.000000</td>\n",
       "      <td>1564.000000</td>\n",
       "      <td>1161.000000</td>\n",
       "      <td>1565.0</td>\n",
       "      <td>1207.000000</td>\n",
       "      <td>1333.000000</td>\n",
       "      <td>1344.000000</td>\n",
       "      <td>1350.000000</td>\n",
       "      <td>1343.000000</td>\n",
       "      <td>1345.000000</td>\n",
       "      <td>1344.000000</td>\n",
       "      <td>1345.000000</td>\n",
       "      <td>1344.000000</td>\n",
       "      <td>1345.000000</td>\n",
       "      <td>1343.000000</td>\n",
       "      <td>1344.000000</td>\n",
       "    </tr>\n",
       "    <tr>\n",
       "      <th>mean</th>\n",
       "      <td>2.413556</td>\n",
       "      <td>2.616840</td>\n",
       "      <td>2.587021</td>\n",
       "      <td>2.510463</td>\n",
       "      <td>2.534370</td>\n",
       "      <td>2.562665</td>\n",
       "      <td>2.705255</td>\n",
       "      <td>2.580934</td>\n",
       "      <td>2.440857</td>\n",
       "      <td>2.732989</td>\n",
       "      <td>1.0</td>\n",
       "      <td>2.985915</td>\n",
       "      <td>2.624156</td>\n",
       "      <td>2.644345</td>\n",
       "      <td>2.771111</td>\n",
       "      <td>2.967982</td>\n",
       "      <td>2.852045</td>\n",
       "      <td>2.416667</td>\n",
       "      <td>2.585502</td>\n",
       "      <td>2.421131</td>\n",
       "      <td>2.407807</td>\n",
       "      <td>1.204765</td>\n",
       "      <td>2.514509</td>\n",
       "    </tr>\n",
       "    <tr>\n",
       "      <th>std</th>\n",
       "      <td>0.767367</td>\n",
       "      <td>0.801052</td>\n",
       "      <td>0.771605</td>\n",
       "      <td>0.784356</td>\n",
       "      <td>0.769002</td>\n",
       "      <td>0.790432</td>\n",
       "      <td>0.826426</td>\n",
       "      <td>0.802729</td>\n",
       "      <td>0.799384</td>\n",
       "      <td>0.738840</td>\n",
       "      <td>0.0</td>\n",
       "      <td>0.843844</td>\n",
       "      <td>0.748724</td>\n",
       "      <td>0.676153</td>\n",
       "      <td>0.743777</td>\n",
       "      <td>0.808682</td>\n",
       "      <td>0.815383</td>\n",
       "      <td>0.734060</td>\n",
       "      <td>0.746105</td>\n",
       "      <td>0.710332</td>\n",
       "      <td>0.753745</td>\n",
       "      <td>0.578225</td>\n",
       "      <td>0.740020</td>\n",
       "    </tr>\n",
       "    <tr>\n",
       "      <th>min</th>\n",
       "      <td>0.000000</td>\n",
       "      <td>0.000000</td>\n",
       "      <td>0.000000</td>\n",
       "      <td>0.000000</td>\n",
       "      <td>0.000000</td>\n",
       "      <td>0.000000</td>\n",
       "      <td>0.000000</td>\n",
       "      <td>0.000000</td>\n",
       "      <td>0.000000</td>\n",
       "      <td>2.000000</td>\n",
       "      <td>1.0</td>\n",
       "      <td>0.000000</td>\n",
       "      <td>2.000000</td>\n",
       "      <td>0.000000</td>\n",
       "      <td>0.000000</td>\n",
       "      <td>0.000000</td>\n",
       "      <td>0.000000</td>\n",
       "      <td>0.000000</td>\n",
       "      <td>0.000000</td>\n",
       "      <td>0.000000</td>\n",
       "      <td>0.000000</td>\n",
       "      <td>0.000000</td>\n",
       "      <td>0.000000</td>\n",
       "    </tr>\n",
       "    <tr>\n",
       "      <th>25%</th>\n",
       "      <td>2.000000</td>\n",
       "      <td>2.000000</td>\n",
       "      <td>2.000000</td>\n",
       "      <td>2.000000</td>\n",
       "      <td>2.000000</td>\n",
       "      <td>2.000000</td>\n",
       "      <td>2.000000</td>\n",
       "      <td>2.000000</td>\n",
       "      <td>2.000000</td>\n",
       "      <td>2.000000</td>\n",
       "      <td>1.0</td>\n",
       "      <td>2.000000</td>\n",
       "      <td>2.000000</td>\n",
       "      <td>2.000000</td>\n",
       "      <td>2.000000</td>\n",
       "      <td>2.000000</td>\n",
       "      <td>2.000000</td>\n",
       "      <td>2.000000</td>\n",
       "      <td>2.000000</td>\n",
       "      <td>2.000000</td>\n",
       "      <td>2.000000</td>\n",
       "      <td>1.000000</td>\n",
       "      <td>2.000000</td>\n",
       "    </tr>\n",
       "    <tr>\n",
       "      <th>50%</th>\n",
       "      <td>2.000000</td>\n",
       "      <td>2.000000</td>\n",
       "      <td>2.000000</td>\n",
       "      <td>2.000000</td>\n",
       "      <td>2.000000</td>\n",
       "      <td>2.000000</td>\n",
       "      <td>2.000000</td>\n",
       "      <td>2.000000</td>\n",
       "      <td>2.000000</td>\n",
       "      <td>3.000000</td>\n",
       "      <td>1.0</td>\n",
       "      <td>3.000000</td>\n",
       "      <td>2.000000</td>\n",
       "      <td>3.000000</td>\n",
       "      <td>3.000000</td>\n",
       "      <td>3.000000</td>\n",
       "      <td>3.000000</td>\n",
       "      <td>2.000000</td>\n",
       "      <td>2.000000</td>\n",
       "      <td>2.000000</td>\n",
       "      <td>2.000000</td>\n",
       "      <td>1.000000</td>\n",
       "      <td>2.000000</td>\n",
       "    </tr>\n",
       "    <tr>\n",
       "      <th>75%</th>\n",
       "      <td>3.000000</td>\n",
       "      <td>3.000000</td>\n",
       "      <td>3.000000</td>\n",
       "      <td>3.000000</td>\n",
       "      <td>3.000000</td>\n",
       "      <td>3.000000</td>\n",
       "      <td>3.000000</td>\n",
       "      <td>3.000000</td>\n",
       "      <td>3.000000</td>\n",
       "      <td>3.000000</td>\n",
       "      <td>1.0</td>\n",
       "      <td>4.000000</td>\n",
       "      <td>3.000000</td>\n",
       "      <td>3.000000</td>\n",
       "      <td>3.000000</td>\n",
       "      <td>4.000000</td>\n",
       "      <td>4.000000</td>\n",
       "      <td>3.000000</td>\n",
       "      <td>3.000000</td>\n",
       "      <td>3.000000</td>\n",
       "      <td>3.000000</td>\n",
       "      <td>1.000000</td>\n",
       "      <td>3.000000</td>\n",
       "    </tr>\n",
       "    <tr>\n",
       "      <th>max</th>\n",
       "      <td>4.000000</td>\n",
       "      <td>4.000000</td>\n",
       "      <td>4.000000</td>\n",
       "      <td>4.000000</td>\n",
       "      <td>4.000000</td>\n",
       "      <td>4.000000</td>\n",
       "      <td>4.000000</td>\n",
       "      <td>4.000000</td>\n",
       "      <td>4.000000</td>\n",
       "      <td>4.000000</td>\n",
       "      <td>1.0</td>\n",
       "      <td>4.000000</td>\n",
       "      <td>4.000000</td>\n",
       "      <td>4.000000</td>\n",
       "      <td>4.000000</td>\n",
       "      <td>4.000000</td>\n",
       "      <td>4.000000</td>\n",
       "      <td>4.000000</td>\n",
       "      <td>4.000000</td>\n",
       "      <td>4.000000</td>\n",
       "      <td>4.000000</td>\n",
       "      <td>4.000000</td>\n",
       "      <td>4.000000</td>\n",
       "    </tr>\n",
       "  </tbody>\n",
       "</table>\n",
       "</div>"
      ],
      "text/plain": [
       "         m1f_limbs  m1f_metabolism_nutrition_and_endo  \\\n",
       "count  1527.000000                        1348.000000   \n",
       "mean      2.413556                           2.616840   \n",
       "std       0.767367                           0.801052   \n",
       "min       0.000000                           0.000000   \n",
       "25%       2.000000                           2.000000   \n",
       "50%       2.000000                           2.000000   \n",
       "75%       3.000000                           3.000000   \n",
       "max       4.000000                           4.000000   \n",
       "\n",
       "       m1f_molecular_and_cell_physiology  m1f_molecular_and_human_genetics  \\\n",
       "count                        1356.000000                       1577.000000   \n",
       "mean                            2.587021                          2.510463   \n",
       "std                             0.771605                          0.784356   \n",
       "min                             0.000000                          0.000000   \n",
       "25%                             2.000000                          2.000000   \n",
       "50%                             2.000000                          2.000000   \n",
       "75%                             3.000000                          3.000000   \n",
       "max                             4.000000                          4.000000   \n",
       "\n",
       "       m1s_cardio_pulmonary  m1s_ebm_and_population_health  \\\n",
       "count           1222.000000                    1516.000000   \n",
       "mean               2.534370                       2.562665   \n",
       "std                0.769002                       0.790432   \n",
       "min                0.000000                       0.000000   \n",
       "25%                2.000000                       2.000000   \n",
       "50%                2.000000                       2.000000   \n",
       "75%                3.000000                       3.000000   \n",
       "max                4.000000                       4.000000   \n",
       "\n",
       "       m1s_gastrointestinal  m1s_head_neck_and_special_senses  \\\n",
       "count           1218.000000                       1563.000000   \n",
       "mean               2.705255                          2.580934   \n",
       "std                0.826426                          0.802729   \n",
       "min                0.000000                          0.000000   \n",
       "25%                2.000000                          2.000000   \n",
       "50%                2.000000                          2.000000   \n",
       "75%                3.000000                          3.000000   \n",
       "max                4.000000                          4.000000   \n",
       "\n",
       "       m1s_medical_neuroscience  m1s_patients_populations_and_policy  \\\n",
       "count               1564.000000                          1161.000000   \n",
       "mean                   2.440857                             2.732989   \n",
       "std                    0.799384                             0.738840   \n",
       "min                    0.000000                             2.000000   \n",
       "25%                    2.000000                             2.000000   \n",
       "50%                    2.000000                             3.000000   \n",
       "75%                    3.000000                             3.000000   \n",
       "max                    4.000000                             4.000000   \n",
       "\n",
       "       m1s_physical_diagnosis_i  m1s_renal_and_electrolytes  \\\n",
       "count                    1565.0                 1207.000000   \n",
       "mean                        1.0                    2.985915   \n",
       "std                         0.0                    0.843844   \n",
       "min                         1.0                    0.000000   \n",
       "25%                         1.0                    2.000000   \n",
       "50%                         1.0                    3.000000   \n",
       "75%                         1.0                    4.000000   \n",
       "max                         1.0                    4.000000   \n",
       "\n",
       "       m1s_sexual_dev__and_reproduction  m2s_clinical_skills_primer  \\\n",
       "count                       1333.000000                 1344.000000   \n",
       "mean                           2.624156                    2.644345   \n",
       "std                            0.748724                    0.676153   \n",
       "min                            2.000000                    0.000000   \n",
       "25%                            2.000000                    2.000000   \n",
       "50%                            2.000000                    3.000000   \n",
       "75%                            3.000000                    3.000000   \n",
       "max                            4.000000                    4.000000   \n",
       "\n",
       "       m2s_evidence_based_medicine_ii  m2s_health_care_ethics  \\\n",
       "count                     1350.000000             1343.000000   \n",
       "mean                         2.771111                2.967982   \n",
       "std                          0.743777                0.808682   \n",
       "min                          0.000000                0.000000   \n",
       "25%                          2.000000                2.000000   \n",
       "50%                          3.000000                3.000000   \n",
       "75%                          3.000000                4.000000   \n",
       "max                          4.000000                4.000000   \n",
       "\n",
       "       m2s_human_sexuality  m2s_lab_medicine_pblm_solving_case  \\\n",
       "count          1345.000000                         1344.000000   \n",
       "mean              2.852045                            2.416667   \n",
       "std               0.815383                            0.734060   \n",
       "min               0.000000                            0.000000   \n",
       "25%               2.000000                            2.000000   \n",
       "50%               3.000000                            2.000000   \n",
       "75%               4.000000                            3.000000   \n",
       "max               4.000000                            4.000000   \n",
       "\n",
       "       m2s_microbiology_and_immunology  m2s_pathology  m2s_pharmacology  \\\n",
       "count                      1345.000000    1344.000000       1345.000000   \n",
       "mean                          2.585502       2.421131          2.407807   \n",
       "std                           0.746105       0.710332          0.753745   \n",
       "min                           0.000000       0.000000          0.000000   \n",
       "25%                           2.000000       2.000000          2.000000   \n",
       "50%                           2.000000       2.000000          2.000000   \n",
       "75%                           3.000000       3.000000          3.000000   \n",
       "max                           4.000000       4.000000          4.000000   \n",
       "\n",
       "       m2s_physical_diagnosis_ii  m2s_psychiatry  \n",
       "count                1343.000000     1344.000000  \n",
       "mean                    1.204765        2.514509  \n",
       "std                     0.578225        0.740020  \n",
       "min                     0.000000        0.000000  \n",
       "25%                     1.000000        2.000000  \n",
       "50%                     1.000000        2.000000  \n",
       "75%                     1.000000        3.000000  \n",
       "max                     4.000000        4.000000  "
      ]
     },
     "execution_count": 29,
     "metadata": {},
     "output_type": "execute_result"
    }
   ],
   "source": [
    "# Calculate grade distribution for each course\n",
    "\n",
    "course_grades.describe()"
   ]
  },
  {
   "cell_type": "code",
   "execution_count": 99,
   "metadata": {
    "scrolled": false
   },
   "outputs": [
    {
     "data": {
      "image/png": "[encoded data removed]",
      "text/plain": [
       "<matplotlib.figure.Figure at 0x14c2ff85d30>"
      ]
     },
     "metadata": {},
     "output_type": "display_data"
    }
   ],
   "source": [
    "# plot course grade distributions\n",
    "\n",
    "course_grades.plot(kind='box', figsize=(8,5))\n",
    "plt.xticks(rotation=90);\n",
    "plt.title('Course Grade Distributions');\n",
    "plt.ylabel('Grade')\n",
    "plt.xlabel('Course');"
   ]
  },
  {
   "cell_type": "markdown",
   "metadata": {},
   "source": [
    "Note: the mean() and median() methods exclude NaN values in calculations."
   ]
  },
  {
   "cell_type": "code",
   "execution_count": 51,
   "metadata": {},
   "outputs": [
    {
     "name": "stdout",
     "output_type": "stream",
     "text": [
      "m1f_limbs                              2.413556\n",
      "m1f_metabolism_nutrition_and_endo      2.616840\n",
      "m1f_molecular_and_cell_physiology      2.587021\n",
      "m1f_molecular_and_human_genetics       2.510463\n",
      "m1s_cardio_pulmonary                   2.534370\n",
      "m1s_ebm_and_population_health          2.562665\n",
      "m1s_gastrointestinal                   2.705255\n",
      "m1s_head_neck_and_special_senses       2.580934\n",
      "m1s_medical_neuroscience               2.440857\n",
      "m1s_patients_populations_and_policy    2.732989\n",
      "m1s_physical_diagnosis_i               1.000000\n",
      "m1s_renal_and_electrolytes             2.985915\n",
      "m1s_sexual_dev__and_reproduction       2.624156\n",
      "m2s_clinical_skills_primer             2.644345\n",
      "m2s_evidence_based_medicine_ii         2.771111\n",
      "m2s_health_care_ethics                 2.967982\n",
      "m2s_human_sexuality                    2.852045\n",
      "m2s_lab_medicine_pblm_solving_case     2.416667\n",
      "m2s_microbiology_and_immunology        2.585502\n",
      "m2s_pathology                          2.421131\n",
      "m2s_pharmacology                       2.407807\n",
      "m2s_physical_diagnosis_ii              1.204765\n",
      "m2s_psychiatry                         2.514509\n",
      "dtype: float64\n"
     ]
    }
   ],
   "source": [
    "# Taking a closer look at the mean grades for each course.\n",
    "\n",
    "course_grades_means = course_grades.mean()\n",
    "#course_grades_means.shape\n",
    "print(course_grades_mean)"
   ]
  },
  {
   "cell_type": "code",
   "execution_count": 100,
   "metadata": {},
   "outputs": [
    {
     "data": {
      "image/png": "[encoded data removed]",
      "text/plain": [
       "<matplotlib.figure.Figure at 0x14c2f7e9080>"
      ]
     },
     "metadata": {},
     "output_type": "display_data"
    }
   ],
   "source": [
    "# plot the mean grades\n",
    "\n",
    "course_grades_means.plot(kind='bar', figsize=(8,5))\n",
    "plt.title('Course Mean Grades');\n",
    "plt.ylabel('Mean Grade')\n",
    "plt.xlabel('Course');"
   ]
  },
  {
   "cell_type": "code",
   "execution_count": 53,
   "metadata": {},
   "outputs": [
    {
     "name": "stdout",
     "output_type": "stream",
     "text": [
      "m1f_limbs                              2.0\n",
      "m1f_metabolism_nutrition_and_endo      2.0\n",
      "m1f_molecular_and_cell_physiology      2.0\n",
      "m1f_molecular_and_human_genetics       2.0\n",
      "m1s_cardio_pulmonary                   2.0\n",
      "m1s_ebm_and_population_health          2.0\n",
      "m1s_gastrointestinal                   2.0\n",
      "m1s_head_neck_and_special_senses       2.0\n",
      "m1s_medical_neuroscience               2.0\n",
      "m1s_patients_populations_and_policy    3.0\n",
      "m1s_physical_diagnosis_i               1.0\n",
      "m1s_renal_and_electrolytes             3.0\n",
      "m1s_sexual_dev__and_reproduction       2.0\n",
      "m2s_clinical_skills_primer             3.0\n",
      "m2s_evidence_based_medicine_ii         3.0\n",
      "m2s_health_care_ethics                 3.0\n",
      "m2s_human_sexuality                    3.0\n",
      "m2s_lab_medicine_pblm_solving_case     2.0\n",
      "m2s_microbiology_and_immunology        2.0\n",
      "m2s_pathology                          2.0\n",
      "m2s_pharmacology                       2.0\n",
      "m2s_physical_diagnosis_ii              1.0\n",
      "m2s_psychiatry                         2.0\n",
      "dtype: float64\n"
     ]
    }
   ],
   "source": [
    "# Taking a closer look at the median grades for each course.\n",
    "\n",
    "course_grades_medians = course_grades.median()\n",
    "print(course_grades_medians)"
   ]
  },
  {
   "cell_type": "code",
   "execution_count": 101,
   "metadata": {},
   "outputs": [
    {
     "data": {
      "image/png": "[encoded data removed]",
      "text/plain": [
       "<matplotlib.figure.Figure at 0x14c2fb54358>"
      ]
     },
     "metadata": {},
     "output_type": "display_data"
    }
   ],
   "source": [
    "# plot the median grades\n",
    "\n",
    "course_grades_medians.plot(kind='bar', figsize=(8,5))\n",
    "plt.title('Course Median Grades');\n",
    "plt.ylabel('Median Grade')\n",
    "plt.xlabel('Course');"
   ]
  },
  {
   "cell_type": "code",
   "execution_count": 64,
   "metadata": {},
   "outputs": [
    {
     "data": {
      "image/png": "[encoded data removed]",
      "text/plain": [
       "<matplotlib.figure.Figure at 0x14c2ef42eb8>"
      ]
     },
     "metadata": {},
     "output_type": "display_data"
    }
   ],
   "source": [
    "# plot the course grade means vs. medians to see how they compare\n",
    "\n",
    "#list(course_grades) gives list of column headers from course_grades dataframe\n",
    "plt.figure(figsize=(10,5))\n",
    "plt.plot(list(course_grades), course_grades_means, label='means')\n",
    "plt.plot(list(course_grades), course_grades_medians, label='medians')\n",
    "plt.legend()\n",
    "plt.xticks(rotation=90);\n",
    "plt.title('Comparison of Mean and Median Course Grades')\n",
    "plt.ylabel('Grade')\n",
    "plt.xlabel('Course');"
   ]
  },
  {
   "cell_type": "code",
   "execution_count": 71,
   "metadata": {},
   "outputs": [
    {
     "data": {
      "text/plain": [
       "m1f_limbs                              263\n",
       "m1f_metabolism_nutrition_and_endo      442\n",
       "m1f_molecular_and_cell_physiology      434\n",
       "m1f_molecular_and_human_genetics       213\n",
       "m1s_cardio_pulmonary                   568\n",
       "m1s_ebm_and_population_health          274\n",
       "m1s_gastrointestinal                   572\n",
       "m1s_head_neck_and_special_senses       227\n",
       "m1s_medical_neuroscience               226\n",
       "m1s_patients_populations_and_policy    629\n",
       "m1s_physical_diagnosis_i               225\n",
       "m1s_renal_and_electrolytes             583\n",
       "m1s_sexual_dev__and_reproduction       457\n",
       "m2s_clinical_skills_primer             446\n",
       "m2s_evidence_based_medicine_ii         440\n",
       "m2s_health_care_ethics                 447\n",
       "m2s_human_sexuality                    445\n",
       "m2s_lab_medicine_pblm_solving_case     446\n",
       "m2s_microbiology_and_immunology        445\n",
       "m2s_pathology                          446\n",
       "m2s_pharmacology                       445\n",
       "m2s_physical_diagnosis_ii              447\n",
       "m2s_psychiatry                         446\n",
       "dtype: int64"
      ]
     },
     "execution_count": 71,
     "metadata": {},
     "output_type": "execute_result"
    }
   ],
   "source": [
    "# calculate number of missing grades for each course\n",
    "\n",
    "class_grades.isnull().sum()"
   ]
  },
  {
   "cell_type": "markdown",
   "metadata": {},
   "source": [
    "All of these features have missing data, with the M2 courses all missing about 450 entries.  The instances we have from 2016 and 2017 will obviously have missing grades as these courses are not yet completed.  We will need to make decisions on what to do with the missing data in these features."
   ]
  },
  {
   "cell_type": "code",
   "execution_count": 77,
   "metadata": {},
   "outputs": [
    {
     "data": {
      "text/plain": [
       "count    1353.000000\n",
       "mean        0.057015\n",
       "std         0.946221\n",
       "min        -7.568463\n",
       "25%        -0.518482\n",
       "50%         0.134487\n",
       "75%         0.715265\n",
       "max         2.359992\n",
       "Name: step1_z_score, dtype: float64"
      ]
     },
     "execution_count": 77,
     "metadata": {},
     "output_type": "execute_result"
    }
   ],
   "source": [
    "# Calculate STEP1 z-score distribution\n",
    "\n",
    "df['step1_z_score'].describe()"
   ]
  },
  {
   "cell_type": "code",
   "execution_count": 79,
   "metadata": {},
   "outputs": [
    {
     "data": {
      "text/plain": [
       "Text(0.5,1,'STEP1 Z-score Distribution')"
      ]
     },
     "execution_count": 79,
     "metadata": {},
     "output_type": "execute_result"
    },
    {
     "data": {
      "image/png": "[encoded data removed]",
      "text/plain": [
       "<matplotlib.figure.Figure at 0x14c2f943b70>"
      ]
     },
     "metadata": {},
     "output_type": "display_data"
    }
   ],
   "source": [
    "# Plot STEP1 z-score distribution\n",
    "\n",
    "df['step1_z_score'].plot(kind='box', figsize=(3,7))\n",
    "plt.title('STEP1 Z-score Distribution')"
   ]
  },
  {
   "cell_type": "markdown",
   "metadata": {},
   "source": [
    "There is an obvious outlier in this data.  We will need to decide what to do with this outlier."
   ]
  },
  {
   "cell_type": "code",
   "execution_count": 80,
   "metadata": {},
   "outputs": [
    {
     "data": {
      "text/plain": [
       "1323.0"
      ]
     },
     "execution_count": 80,
     "metadata": {},
     "output_type": "execute_result"
    }
   ],
   "source": [
    "# Calculate how many students passed STEP1 exam.\n",
    "\n",
    "df['step1_pass_indicator'].sum()"
   ]
  },
  {
   "cell_type": "code",
   "execution_count": 84,
   "metadata": {},
   "outputs": [
    {
     "data": {
      "text/plain": [
       "60     -2.880992\n",
       "93     -2.012125\n",
       "155    -3.171981\n",
       "162    -2.114345\n",
       "202    -2.267674\n",
       "291    -2.898022\n",
       "358    -2.185687\n",
       "366    -2.090709\n",
       "423    -2.693286\n",
       "456    -2.427344\n",
       "485    -3.118792\n",
       "502    -2.427344\n",
       "512    -2.427344\n",
       "567    -7.568463\n",
       "689    -2.325039\n",
       "690    -2.325039\n",
       "702    -2.449413\n",
       "711    -3.035862\n",
       "732    -2.508058\n",
       "779    -3.568708\n",
       "890    -2.501289\n",
       "906    -3.149507\n",
       "966    -3.209393\n",
       "970    -2.730306\n",
       "1003   -1.708166\n",
       "1059   -1.620041\n",
       "1098   -2.790446\n",
       "1112   -1.708166\n",
       "1192   -1.796291\n",
       "1270   -2.459929\n",
       "Name: step1_z_score, dtype: float64"
      ]
     },
     "execution_count": 84,
     "metadata": {},
     "output_type": "execute_result"
    }
   ],
   "source": [
    "# Determine the STEP1 z-scores associated with the students who did not pass STEP1.\n",
    "\n",
    "mask = (df['step1_pass_indicator'] == 0)\n",
    "df['step1_z_score'][mask]"
   ]
  },
  {
   "cell_type": "code",
   "execution_count": 85,
   "metadata": {},
   "outputs": [
    {
     "name": "stdout",
     "output_type": "stream",
     "text": [
      "1.0    1326\n",
      "2.0      25\n",
      "3.0       2\n",
      "Name: step1_total_attempts, dtype: int64\n"
     ]
    },
    {
     "data": {
      "text/plain": [
       "Text(0.5,1,'Distribution of STEP1 Total Attempts')"
      ]
     },
     "execution_count": 85,
     "metadata": {},
     "output_type": "execute_result"
    },
    {
     "data": {
      "image/png": "[encoded data removed]",
      "text/plain": [
       "<matplotlib.figure.Figure at 0x14c2fa35780>"
      ]
     },
     "metadata": {},
     "output_type": "display_data"
    }
   ],
   "source": [
    "# calculate and plot the number of attempts at STEP1\n",
    "\n",
    "step1_attempt_counts = df['step1_total_attempts'].value_counts()\n",
    "print(step1_attempt_counts)\n",
    "\n",
    "plt.figure(figsize=(5,5))\n",
    "step1_attempt_counts.plot(kind='bar')\n",
    "plt.xlabel('Number of STEP1 Attempts')\n",
    "plt.ylabel('Number of Students')\n",
    "plt.title('Distribution of STEP1 Total Attempts')"
   ]
  },
  {
   "cell_type": "code",
   "execution_count": 86,
   "metadata": {},
   "outputs": [
    {
     "data": {
      "text/plain": [
       "44.0"
      ]
     },
     "execution_count": 86,
     "metadata": {},
     "output_type": "execute_result"
    }
   ],
   "source": [
    "# Calculate how many students dropped out of GU Med School.\n",
    "\n",
    "df['dropout_indic'].sum()"
   ]
  },
  {
   "cell_type": "markdown",
   "metadata": {},
   "source": [
    "44 students dropped out of GU Med School."
   ]
  },
  {
   "cell_type": "code",
   "execution_count": 87,
   "metadata": {},
   "outputs": [
    {
     "data": {
      "text/plain": [
       "68.0"
      ]
     },
     "execution_count": 87,
     "metadata": {},
     "output_type": "execute_result"
    }
   ],
   "source": [
    "# Calculate how many students repeated a year of GU Med School.\n",
    "\n",
    "df['repeat_indic'].sum()"
   ]
  },
  {
   "cell_type": "markdown",
   "metadata": {},
   "source": [
    "68 students repeated a year of GU Med School."
   ]
  },
  {
   "cell_type": "code",
   "execution_count": 95,
   "metadata": {},
   "outputs": [
    {
     "data": {
      "text/plain": [
       "M1    38\n",
       "M2    30\n",
       "Name: student_classification, dtype: int64"
      ]
     },
     "execution_count": 95,
     "metadata": {},
     "output_type": "execute_result"
    }
   ],
   "source": [
    "# Determine which year of Med School these students repeated.\n",
    "\n",
    "mask = df['student_classification'].notnull()\n",
    "df['student_classification'][mask].value_counts()"
   ]
  },
  {
   "cell_type": "code",
   "execution_count": 103,
   "metadata": {},
   "outputs": [
    {
     "data": {
      "text/plain": [
       "step1_raw_score            437\n",
       "step1_z_score              437\n",
       "step1_pass_indicator       437\n",
       "step1_total_attempts       437\n",
       "dropout_indic             1746\n",
       "student_classification    1722\n",
       "repeat_indic              1722\n",
       "dtype: int64"
      ]
     },
     "execution_count": 103,
     "metadata": {},
     "output_type": "execute_result"
    }
   ],
   "source": [
    "# Determine if there is missing data in the remaining Data During Med School features.\n",
    "\n",
    "df.loc[:,'step1_raw_score':'repeat_indic'].isnull().sum()"
   ]
  },
  {
   "cell_type": "markdown",
   "metadata": {},
   "source": [
    "There is missing data in all of these features that we will need to decide what to do with."
   ]
  },
  {
   "cell_type": "markdown",
   "metadata": {},
   "source": [
    "## 5. Target Data\n",
    "\n",
    "Some general descriptive statistics for the target indicator feature that indicates if a student has repeated a year of medical school, dropped out, or not passed STEP1. "
   ]
  },
  {
   "cell_type": "code",
   "execution_count": 105,
   "metadata": {},
   "outputs": [
    {
     "name": "stdout",
     "output_type": "stream",
     "text": [
      "There are 108 students in our target.\n",
      "This is 6.03% of the total number of students.\n"
     ]
    }
   ],
   "source": [
    "# calculate the number and percentage of students in our target\n",
    "\n",
    "num_target = df['target_indicator'].sum()\n",
    "print(\"There are %d students in our target.\" % (num_target))\n",
    "print(\"This is %.2f%% of the total number of students.\" % ((num_target/num_students)*100))"
   ]
  },
  {
   "cell_type": "code",
   "execution_count": 126,
   "metadata": {},
   "outputs": [
    {
     "name": "stdout",
     "output_type": "stream",
     "text": [
      "m1_fall\n",
      "200930     8\n",
      "201030    18\n",
      "201130    12\n",
      "201230    18\n",
      "201330    14\n",
      "201430    18\n",
      "201530    15\n",
      "201630     5\n",
      "201730     0\n",
      "Name: target_indicator, dtype: int64\n"
     ]
    },
    {
     "data": {
      "image/png": "[encoded data removed]",
      "text/plain": [
       "<matplotlib.figure.Figure at 0x14c2ff43278>"
      ]
     },
     "metadata": {},
     "output_type": "display_data"
    }
   ],
   "source": [
    "# calculate and plot the number of students in our target by year.\n",
    "\n",
    "target_by_year = df.groupby('m1_fall')['target_indicator'].sum()\n",
    "print(target_by_year)\n",
    "\n",
    "target_by_year.plot(kind='bar')\n",
    "plt.title('Number of Target Students by Year')\n",
    "plt.xlabel('Year')\n",
    "plt.ylabel('Number of Target Students');\n",
    "plt.yticks(np.arange(0,21,2));\n"
   ]
  },
  {
   "cell_type": "code",
   "execution_count": 128,
   "metadata": {},
   "outputs": [
    {
     "data": {
      "text/plain": [
       "0"
      ]
     },
     "execution_count": 128,
     "metadata": {},
     "output_type": "execute_result"
    }
   ],
   "source": [
    "# Check if there is any missing data in the target indicator feature\n",
    "\n",
    "df['target_indicator'].isnull().sum()"
   ]
  },
  {
   "cell_type": "markdown",
   "metadata": {},
   "source": [
    "There is no missing data in the target indicator feature."
   ]
  },
  {
   "cell_type": "code",
   "execution_count": null,
   "metadata": {
    "collapsed": true
   },
   "outputs": [],
   "source": []
  }
 ],
 "metadata": {
  "kernelspec": {
   "display_name": "Python 3",
   "language": "python",
   "name": "python3"
  },
  "language_info": {
   "codemirror_mode": {
    "name": "ipython",
    "version": 3
   },
   "file_extension": ".py",
   "mimetype": "text/x-python",
   "name": "python",
   "nbconvert_exporter": "python",
   "pygments_lexer": "ipython3",
   "version": "3.6.4"
  }
 },
 "nbformat": 4,
 "nbformat_minor": 2
}
