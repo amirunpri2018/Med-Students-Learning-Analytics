{
 "cells": [
  {
   "cell_type": "markdown",
   "metadata": {},
   "source": [
    "# Exploratory Data Analysis\n",
    "\n",
    "Med Students Learning Analytics Group  \n",
    "Coded by: Kathryn Linehan, May 2018\n",
    "\n",
    "Exploratory analysis of the data in master.csv."
   ]
  },
  {
   "cell_type": "markdown",
   "metadata": {},
   "source": [
    "## 1. Reading in the Data"
   ]
  },
  {
   "cell_type": "code",
   "execution_count": 1,
<<<<<<< HEAD
   "metadata": {
    "collapsed": true
   },
=======
   "metadata": {},
>>>>>>> 76ba5ac2a65248de6a9f2d92f0bb2d734973f638
   "outputs": [],
   "source": [
    "import pandas as pd\n",
    "import numpy as np\n",
    "import matplotlib.pyplot as plt\n",
    "import seaborn as sns\n",
    "\n",
    "%matplotlib inline"
   ]
  },
  {
   "cell_type": "code",
<<<<<<< HEAD
   "execution_count": 61,
=======
   "execution_count": 2,
>>>>>>> 76ba5ac2a65248de6a9f2d92f0bb2d734973f638
   "metadata": {},
   "outputs": [
    {
     "data": {
<<<<<<< HEAD
      "text/plain": [
       "(29, 53)"
      ]
     },
     "execution_count": 61,
=======
      "text/html": [
       "<div>\n",
       "<style scoped>\n",
       "    .dataframe tbody tr th:only-of-type {\n",
       "        vertical-align: middle;\n",
       "    }\n",
       "\n",
       "    .dataframe tbody tr th {\n",
       "        vertical-align: top;\n",
       "    }\n",
       "\n",
       "    .dataframe thead th {\n",
       "        text-align: right;\n",
       "    }\n",
       "</style>\n",
       "<table border=\"1\" class=\"dataframe\">\n",
       "  <thead>\n",
       "    <tr style=\"text-align: right;\">\n",
       "      <th></th>\n",
       "      <th>student_id</th>\n",
       "      <th>m1_fall</th>\n",
       "      <th>mcat_zscore</th>\n",
       "      <th>mcat_total_attempts</th>\n",
       "      <th>bachelor_1</th>\n",
       "      <th>bachelor_2</th>\n",
       "      <th>bachelor_3</th>\n",
       "      <th>master_1</th>\n",
       "      <th>master_2</th>\n",
       "      <th>master_3</th>\n",
       "      <th>...</th>\n",
       "      <th>repeat_indic</th>\n",
       "      <th>dropout_indic</th>\n",
       "      <th>step1_total_attempts</th>\n",
       "      <th>target_indicator</th>\n",
       "      <th>double_bachelor</th>\n",
       "      <th>master_degree</th>\n",
       "      <th>double_master</th>\n",
       "      <th>associate_degree</th>\n",
       "      <th>science_undergrad</th>\n",
       "      <th>science_master</th>\n",
       "    </tr>\n",
       "  </thead>\n",
       "  <tbody>\n",
       "    <tr>\n",
       "      <th>0</th>\n",
       "      <td>30705306</td>\n",
       "      <td>200930</td>\n",
       "      <td>2.505529</td>\n",
       "      <td>1.0</td>\n",
       "      <td>Science</td>\n",
       "      <td>NaN</td>\n",
       "      <td>NaN</td>\n",
       "      <td>Science</td>\n",
       "      <td>NaN</td>\n",
       "      <td>NaN</td>\n",
       "      <td>...</td>\n",
       "      <td>0.0</td>\n",
       "      <td>0.0</td>\n",
       "      <td>1.0</td>\n",
       "      <td>0</td>\n",
       "      <td>0</td>\n",
       "      <td>1</td>\n",
       "      <td>0</td>\n",
       "      <td>0</td>\n",
       "      <td>1</td>\n",
       "      <td>1</td>\n",
       "    </tr>\n",
       "    <tr>\n",
       "      <th>1</th>\n",
       "      <td>22721624</td>\n",
       "      <td>200930</td>\n",
       "      <td>-1.407328</td>\n",
       "      <td>2.0</td>\n",
       "      <td>Science</td>\n",
       "      <td>NaN</td>\n",
       "      <td>NaN</td>\n",
       "      <td>Science</td>\n",
       "      <td>NaN</td>\n",
       "      <td>NaN</td>\n",
       "      <td>...</td>\n",
       "      <td>0.0</td>\n",
       "      <td>0.0</td>\n",
       "      <td>1.0</td>\n",
       "      <td>0</td>\n",
       "      <td>0</td>\n",
       "      <td>1</td>\n",
       "      <td>0</td>\n",
       "      <td>1</td>\n",
       "      <td>1</td>\n",
       "      <td>1</td>\n",
       "    </tr>\n",
       "    <tr>\n",
       "      <th>2</th>\n",
       "      <td>35604291</td>\n",
       "      <td>200930</td>\n",
       "      <td>0.745614</td>\n",
       "      <td>1.0</td>\n",
       "      <td>Arts</td>\n",
       "      <td>NaN</td>\n",
       "      <td>NaN</td>\n",
       "      <td>NaN</td>\n",
       "      <td>NaN</td>\n",
       "      <td>NaN</td>\n",
       "      <td>...</td>\n",
       "      <td>0.0</td>\n",
       "      <td>0.0</td>\n",
       "      <td>1.0</td>\n",
       "      <td>0</td>\n",
       "      <td>0</td>\n",
       "      <td>0</td>\n",
       "      <td>0</td>\n",
       "      <td>0</td>\n",
       "      <td>0</td>\n",
       "      <td>0</td>\n",
       "    </tr>\n",
       "    <tr>\n",
       "      <th>3</th>\n",
       "      <td>23250759</td>\n",
       "      <td>200930</td>\n",
       "      <td>0.149933</td>\n",
       "      <td>1.0</td>\n",
       "      <td>Science</td>\n",
       "      <td>NaN</td>\n",
       "      <td>NaN</td>\n",
       "      <td>NaN</td>\n",
       "      <td>NaN</td>\n",
       "      <td>NaN</td>\n",
       "      <td>...</td>\n",
       "      <td>0.0</td>\n",
       "      <td>0.0</td>\n",
       "      <td>1.0</td>\n",
       "      <td>0</td>\n",
       "      <td>0</td>\n",
       "      <td>0</td>\n",
       "      <td>0</td>\n",
       "      <td>0</td>\n",
       "      <td>1</td>\n",
       "      <td>0</td>\n",
       "    </tr>\n",
       "    <tr>\n",
       "      <th>4</th>\n",
       "      <td>23269092</td>\n",
       "      <td>200930</td>\n",
       "      <td>-0.973841</td>\n",
       "      <td>1.0</td>\n",
       "      <td>Science</td>\n",
       "      <td>NaN</td>\n",
       "      <td>NaN</td>\n",
       "      <td>NaN</td>\n",
       "      <td>NaN</td>\n",
       "      <td>NaN</td>\n",
       "      <td>...</td>\n",
       "      <td>0.0</td>\n",
       "      <td>0.0</td>\n",
       "      <td>1.0</td>\n",
       "      <td>0</td>\n",
       "      <td>0</td>\n",
       "      <td>0</td>\n",
       "      <td>0</td>\n",
       "      <td>0</td>\n",
       "      <td>1</td>\n",
       "      <td>0</td>\n",
       "    </tr>\n",
       "  </tbody>\n",
       "</table>\n",
       "<p>5 rows × 53 columns</p>\n",
       "</div>"
      ],
      "text/plain": [
       "   student_id  m1_fall  mcat_zscore  mcat_total_attempts bachelor_1  \\\n",
       "0    30705306   200930     2.505529                  1.0    Science   \n",
       "1    22721624   200930    -1.407328                  2.0    Science   \n",
       "2    35604291   200930     0.745614                  1.0       Arts   \n",
       "3    23250759   200930     0.149933                  1.0    Science   \n",
       "4    23269092   200930    -0.973841                  1.0    Science   \n",
       "\n",
       "  bachelor_2 bachelor_3 master_1 master_2 master_3       ...        \\\n",
       "0        NaN        NaN  Science      NaN      NaN       ...         \n",
       "1        NaN        NaN  Science      NaN      NaN       ...         \n",
       "2        NaN        NaN      NaN      NaN      NaN       ...         \n",
       "3        NaN        NaN      NaN      NaN      NaN       ...         \n",
       "4        NaN        NaN      NaN      NaN      NaN       ...         \n",
       "\n",
       "  repeat_indic dropout_indic  step1_total_attempts  target_indicator  \\\n",
       "0          0.0           0.0                   1.0                 0   \n",
       "1          0.0           0.0                   1.0                 0   \n",
       "2          0.0           0.0                   1.0                 0   \n",
       "3          0.0           0.0                   1.0                 0   \n",
       "4          0.0           0.0                   1.0                 0   \n",
       "\n",
       "  double_bachelor  master_degree double_master  associate_degree  \\\n",
       "0               0              1             0                 0   \n",
       "1               0              1             0                 1   \n",
       "2               0              0             0                 0   \n",
       "3               0              0             0                 0   \n",
       "4               0              0             0                 0   \n",
       "\n",
       "   science_undergrad  science_master  \n",
       "0                  1               1  \n",
       "1                  1               1  \n",
       "2                  0               0  \n",
       "3                  1               0  \n",
       "4                  1               0  \n",
       "\n",
       "[5 rows x 53 columns]"
      ]
     },
     "execution_count": 2,
>>>>>>> 76ba5ac2a65248de6a9f2d92f0bb2d734973f638
     "metadata": {},
     "output_type": "execute_result"
    }
   ],
   "source": [
    "# Reading data into a pandas dataframe and taking a look at it.\n",
    "\n",
<<<<<<< HEAD
    "df = pd.read_csv(\"/Users/Zach/data_science/med_school_data/output/master.csv\")\n",
    "df.head(10)\n",
    "df.target_indicator.sum()\n",
    "df.repeat_indic.sum()\n",
    "df.dropout_indic.sum()\n",
    "test = df[df.step1_pass_indicator == 0]\n",
    "print(test.shape)"
=======
    "df = pd.read_csv(\"./master.csv\")\n",
    "df.head()\n"
>>>>>>> 76ba5ac2a65248de6a9f2d92f0bb2d734973f638
   ]
  },
  {
   "cell_type": "code",
<<<<<<< HEAD
   "execution_count": 9,
=======
   "execution_count": 3,
>>>>>>> 76ba5ac2a65248de6a9f2d92f0bb2d734973f638
   "metadata": {},
   "outputs": [
    {
     "name": "stdout",
     "output_type": "stream",
     "text": [
      "1777\n",
      "53\n"
     ]
    }
   ],
   "source": [
    "# Find the size of the data\n",
    "num_students, num_features = df.shape\n",
    "\n",
    "print(num_students)\n",
    "print(num_features)"
   ]
  },
  {
   "cell_type": "markdown",
   "metadata": {},
   "source": [
    "This means we have data for 1777 students and are using 53 features.  Each student (row) is an instance."
   ]
  },
  {
   "cell_type": "code",
<<<<<<< HEAD
   "execution_count": 10,
=======
   "execution_count": 4,
>>>>>>> 76ba5ac2a65248de6a9f2d92f0bb2d734973f638
   "metadata": {},
   "outputs": [
    {
     "data": {
      "text/html": [
       "<div>\n",
       "<style scoped>\n",
       "    .dataframe tbody tr th:only-of-type {\n",
       "        vertical-align: middle;\n",
       "    }\n",
       "\n",
       "    .dataframe tbody tr th {\n",
       "        vertical-align: top;\n",
       "    }\n",
       "\n",
       "    .dataframe thead th {\n",
       "        text-align: right;\n",
       "    }\n",
       "</style>\n",
       "<table border=\"1\" class=\"dataframe\">\n",
       "  <thead>\n",
       "    <tr style=\"text-align: right;\">\n",
       "      <th></th>\n",
       "      <th>student_id</th>\n",
       "      <th>m1_fall</th>\n",
       "      <th>mcat_zscore</th>\n",
       "      <th>mcat_total_attempts</th>\n",
       "      <th>bachelor_1</th>\n",
       "      <th>bachelor_2</th>\n",
       "      <th>bachelor_3</th>\n",
       "      <th>master_1</th>\n",
       "      <th>master_2</th>\n",
       "      <th>master_3</th>\n",
       "      <th>associate_1</th>\n",
       "      <th>associate_2</th>\n",
       "      <th>biochem_likelyhood</th>\n",
       "      <th>gem_indicator</th>\n",
       "      <th>race</th>\n",
       "      <th>race_indic</th>\n",
       "      <th>gender</th>\n",
       "      <th>m1f_limbs</th>\n",
       "      <th>m1f_metabolism_nutrition_and_endo</th>\n",
       "      <th>m1f_molecular_and_cell_physiology</th>\n",
       "      <th>m1f_molecular_and_human_genetics</th>\n",
       "      <th>m1s_cardio_pulmonary</th>\n",
       "      <th>m1s_ebm_and_population_health</th>\n",
       "      <th>m1s_gastrointestinal</th>\n",
       "      <th>m1s_head_neck_and_special_senses</th>\n",
       "      <th>...</th>\n",
       "      <th>m1s_renal_and_electrolytes</th>\n",
       "      <th>m1s_sexual_dev__and_reproduction</th>\n",
       "      <th>m2s_clinical_skills_primer</th>\n",
       "      <th>m2s_evidence_based_medicine_ii</th>\n",
       "      <th>m2s_health_care_ethics</th>\n",
       "      <th>m2s_human_sexuality</th>\n",
       "      <th>m2s_lab_medicine_pblm_solving_case</th>\n",
       "      <th>m2s_microbiology_and_immunology</th>\n",
       "      <th>m2s_pathology</th>\n",
       "      <th>m2s_pharmacology</th>\n",
       "      <th>m2s_physical_diagnosis_ii</th>\n",
       "      <th>m2s_psychiatry</th>\n",
       "      <th>step1_raw_score</th>\n",
       "      <th>step1_z_score</th>\n",
       "      <th>step1_pass_indicator</th>\n",
       "      <th>repeat_indic</th>\n",
       "      <th>dropout_indic</th>\n",
       "      <th>step1_total_attempts</th>\n",
       "      <th>target_indicator</th>\n",
       "      <th>double_bachelor</th>\n",
       "      <th>master_degree</th>\n",
       "      <th>double_master</th>\n",
       "      <th>associate_degree</th>\n",
       "      <th>science_undergrad</th>\n",
       "      <th>science_master</th>\n",
       "    </tr>\n",
       "  </thead>\n",
       "  <tbody>\n",
       "    <tr>\n",
       "      <th>0</th>\n",
       "      <td>30705306</td>\n",
       "      <td>200930</td>\n",
       "      <td>2.505529</td>\n",
       "      <td>1.0</td>\n",
       "      <td>Science</td>\n",
       "      <td>NaN</td>\n",
       "      <td>NaN</td>\n",
       "      <td>Science</td>\n",
       "      <td>NaN</td>\n",
       "      <td>NaN</td>\n",
       "      <td>NaN</td>\n",
       "      <td>NaN</td>\n",
       "      <td>4.0</td>\n",
       "      <td>0.0</td>\n",
       "      <td>White</td>\n",
       "      <td>5.0</td>\n",
       "      <td>M</td>\n",
       "      <td>4.0</td>\n",
       "      <td>4.0</td>\n",
       "      <td>4.0</td>\n",
       "      <td>4.0</td>\n",
       "      <td>4.0</td>\n",
       "      <td>3.0</td>\n",
       "      <td>4.0</td>\n",
       "      <td>3.0</td>\n",
       "      <td>...</td>\n",
       "      <td>4.0</td>\n",
       "      <td>4.0</td>\n",
       "      <td>3.0</td>\n",
       "      <td>2.0</td>\n",
       "      <td>4.0</td>\n",
       "      <td>3.0</td>\n",
       "      <td>4.0</td>\n",
       "      <td>4.0</td>\n",
       "      <td>4.0</td>\n",
       "      <td>4.0</td>\n",
       "      <td>1.0</td>\n",
       "      <td>3.0</td>\n",
       "      <td>269.0</td>\n",
       "      <td>2.178880</td>\n",
       "      <td>1.0</td>\n",
       "      <td>0.0</td>\n",
       "      <td>0.0</td>\n",
       "      <td>1.0</td>\n",
       "      <td>0</td>\n",
       "      <td>0</td>\n",
       "      <td>1</td>\n",
       "      <td>0</td>\n",
       "      <td>0</td>\n",
       "      <td>1</td>\n",
       "      <td>1</td>\n",
       "    </tr>\n",
       "    <tr>\n",
       "      <th>1</th>\n",
       "      <td>22721624</td>\n",
       "      <td>200930</td>\n",
       "      <td>-1.407328</td>\n",
       "      <td>2.0</td>\n",
       "      <td>Science</td>\n",
       "      <td>NaN</td>\n",
       "      <td>NaN</td>\n",
       "      <td>Science</td>\n",
       "      <td>NaN</td>\n",
       "      <td>NaN</td>\n",
       "      <td>Science</td>\n",
       "      <td>NaN</td>\n",
       "      <td>1.0</td>\n",
       "      <td>1.0</td>\n",
       "      <td>Black or African American</td>\n",
       "      <td>3.0</td>\n",
       "      <td>F</td>\n",
       "      <td>2.0</td>\n",
       "      <td>3.0</td>\n",
       "      <td>2.0</td>\n",
       "      <td>2.0</td>\n",
       "      <td>4.0</td>\n",
       "      <td>2.0</td>\n",
       "      <td>4.0</td>\n",
       "      <td>2.0</td>\n",
       "      <td>...</td>\n",
       "      <td>4.0</td>\n",
       "      <td>3.0</td>\n",
       "      <td>2.0</td>\n",
       "      <td>2.0</td>\n",
       "      <td>3.0</td>\n",
       "      <td>2.0</td>\n",
       "      <td>2.0</td>\n",
       "      <td>2.0</td>\n",
       "      <td>2.0</td>\n",
       "      <td>2.0</td>\n",
       "      <td>1.0</td>\n",
       "      <td>2.0</td>\n",
       "      <td>210.0</td>\n",
       "      <td>-0.836599</td>\n",
       "      <td>1.0</td>\n",
       "      <td>0.0</td>\n",
       "      <td>0.0</td>\n",
       "      <td>1.0</td>\n",
       "      <td>0</td>\n",
       "      <td>0</td>\n",
       "      <td>1</td>\n",
       "      <td>0</td>\n",
       "      <td>1</td>\n",
       "      <td>1</td>\n",
       "      <td>1</td>\n",
       "    </tr>\n",
       "    <tr>\n",
       "      <th>2</th>\n",
       "      <td>35604291</td>\n",
       "      <td>200930</td>\n",
       "      <td>0.745614</td>\n",
       "      <td>1.0</td>\n",
       "      <td>Arts</td>\n",
       "      <td>NaN</td>\n",
       "      <td>NaN</td>\n",
       "      <td>NaN</td>\n",
       "      <td>NaN</td>\n",
       "      <td>NaN</td>\n",
       "      <td>NaN</td>\n",
       "      <td>NaN</td>\n",
       "      <td>3.0</td>\n",
       "      <td>0.0</td>\n",
       "      <td>White</td>\n",
       "      <td>5.0</td>\n",
       "      <td>M</td>\n",
       "      <td>2.0</td>\n",
       "      <td>2.0</td>\n",
       "      <td>3.0</td>\n",
       "      <td>2.0</td>\n",
       "      <td>2.0</td>\n",
       "      <td>4.0</td>\n",
       "      <td>2.0</td>\n",
       "      <td>2.0</td>\n",
       "      <td>...</td>\n",
       "      <td>2.0</td>\n",
       "      <td>3.0</td>\n",
       "      <td>3.0</td>\n",
       "      <td>3.0</td>\n",
       "      <td>3.0</td>\n",
       "      <td>4.0</td>\n",
       "      <td>4.0</td>\n",
       "      <td>2.0</td>\n",
       "      <td>2.0</td>\n",
       "      <td>2.0</td>\n",
       "      <td>1.0</td>\n",
       "      <td>2.0</td>\n",
       "      <td>241.0</td>\n",
       "      <td>0.747805</td>\n",
       "      <td>1.0</td>\n",
       "      <td>0.0</td>\n",
       "      <td>0.0</td>\n",
       "      <td>1.0</td>\n",
       "      <td>0</td>\n",
       "      <td>0</td>\n",
       "      <td>0</td>\n",
       "      <td>0</td>\n",
       "      <td>0</td>\n",
       "      <td>0</td>\n",
       "      <td>0</td>\n",
       "    </tr>\n",
       "    <tr>\n",
       "      <th>3</th>\n",
       "      <td>23250759</td>\n",
       "      <td>200930</td>\n",
       "      <td>0.149933</td>\n",
       "      <td>1.0</td>\n",
       "      <td>Science</td>\n",
       "      <td>NaN</td>\n",
       "      <td>NaN</td>\n",
       "      <td>NaN</td>\n",
       "      <td>NaN</td>\n",
       "      <td>NaN</td>\n",
       "      <td>NaN</td>\n",
       "      <td>NaN</td>\n",
       "      <td>4.0</td>\n",
       "      <td>0.0</td>\n",
       "      <td>White</td>\n",
       "      <td>5.0</td>\n",
       "      <td>M</td>\n",
       "      <td>2.0</td>\n",
       "      <td>2.0</td>\n",
       "      <td>2.0</td>\n",
       "      <td>2.0</td>\n",
       "      <td>3.0</td>\n",
       "      <td>3.0</td>\n",
       "      <td>3.0</td>\n",
       "      <td>4.0</td>\n",
       "      <td>...</td>\n",
       "      <td>4.0</td>\n",
       "      <td>3.0</td>\n",
       "      <td>3.0</td>\n",
       "      <td>4.0</td>\n",
       "      <td>3.0</td>\n",
       "      <td>3.0</td>\n",
       "      <td>3.0</td>\n",
       "      <td>3.0</td>\n",
       "      <td>3.0</td>\n",
       "      <td>3.0</td>\n",
       "      <td>1.0</td>\n",
       "      <td>2.0</td>\n",
       "      <td>224.0</td>\n",
       "      <td>-0.121062</td>\n",
       "      <td>1.0</td>\n",
       "      <td>0.0</td>\n",
       "      <td>0.0</td>\n",
       "      <td>1.0</td>\n",
       "      <td>0</td>\n",
       "      <td>0</td>\n",
       "      <td>0</td>\n",
       "      <td>0</td>\n",
       "      <td>0</td>\n",
       "      <td>1</td>\n",
       "      <td>0</td>\n",
       "    </tr>\n",
       "    <tr>\n",
       "      <th>4</th>\n",
       "      <td>23269092</td>\n",
       "      <td>200930</td>\n",
       "      <td>-0.973841</td>\n",
       "      <td>1.0</td>\n",
       "      <td>Science</td>\n",
       "      <td>NaN</td>\n",
       "      <td>NaN</td>\n",
       "      <td>NaN</td>\n",
       "      <td>NaN</td>\n",
       "      <td>NaN</td>\n",
       "      <td>NaN</td>\n",
       "      <td>NaN</td>\n",
       "      <td>4.0</td>\n",
       "      <td>1.0</td>\n",
       "      <td>Asian</td>\n",
       "      <td>2.0</td>\n",
       "      <td>F</td>\n",
       "      <td>2.0</td>\n",
       "      <td>2.0</td>\n",
       "      <td>2.0</td>\n",
       "      <td>2.0</td>\n",
       "      <td>NaN</td>\n",
       "      <td>2.0</td>\n",
       "      <td>NaN</td>\n",
       "      <td>2.0</td>\n",
       "      <td>...</td>\n",
       "      <td>NaN</td>\n",
       "      <td>2.0</td>\n",
       "      <td>2.0</td>\n",
       "      <td>3.0</td>\n",
       "      <td>4.0</td>\n",
       "      <td>2.0</td>\n",
       "      <td>2.0</td>\n",
       "      <td>2.0</td>\n",
       "      <td>2.0</td>\n",
       "      <td>2.0</td>\n",
       "      <td>1.0</td>\n",
       "      <td>2.0</td>\n",
       "      <td>197.0</td>\n",
       "      <td>-1.501027</td>\n",
       "      <td>1.0</td>\n",
       "      <td>0.0</td>\n",
       "      <td>0.0</td>\n",
       "      <td>1.0</td>\n",
       "      <td>0</td>\n",
       "      <td>0</td>\n",
       "      <td>0</td>\n",
       "      <td>0</td>\n",
       "      <td>0</td>\n",
       "      <td>1</td>\n",
<<<<<<< HEAD
       "      <td>0</td>\n",
       "    </tr>\n",
       "    <tr>\n",
       "      <th>5</th>\n",
       "      <td>23977774</td>\n",
       "      <td>200930</td>\n",
       "      <td>-2.205663</td>\n",
       "      <td>2.0</td>\n",
       "      <td>Other</td>\n",
       "      <td>NaN</td>\n",
       "      <td>NaN</td>\n",
       "      <td>NaN</td>\n",
       "      <td>NaN</td>\n",
       "      <td>NaN</td>\n",
       "      <td>NaN</td>\n",
       "      <td>NaN</td>\n",
       "      <td>4.0</td>\n",
       "      <td>1.0</td>\n",
       "      <td>Black or African American</td>\n",
       "      <td>3.0</td>\n",
       "      <td>F</td>\n",
       "      <td>2.0</td>\n",
       "      <td>2.0</td>\n",
       "      <td>2.0</td>\n",
       "      <td>2.0</td>\n",
       "      <td>NaN</td>\n",
       "      <td>2.0</td>\n",
       "      <td>NaN</td>\n",
       "      <td>2.0</td>\n",
       "      <td>...</td>\n",
       "      <td>NaN</td>\n",
       "      <td>3.0</td>\n",
       "      <td>2.0</td>\n",
       "      <td>2.0</td>\n",
       "      <td>4.0</td>\n",
       "      <td>2.0</td>\n",
       "      <td>2.0</td>\n",
       "      <td>2.0</td>\n",
       "      <td>2.0</td>\n",
       "      <td>2.0</td>\n",
       "      <td>1.0</td>\n",
       "      <td>2.0</td>\n",
       "      <td>198.0</td>\n",
       "      <td>-1.449917</td>\n",
       "      <td>1.0</td>\n",
       "      <td>0.0</td>\n",
       "      <td>0.0</td>\n",
       "      <td>1.0</td>\n",
       "      <td>0</td>\n",
       "      <td>0</td>\n",
       "      <td>0</td>\n",
       "      <td>0</td>\n",
       "      <td>0</td>\n",
       "      <td>0</td>\n",
       "      <td>0</td>\n",
       "    </tr>\n",
       "    <tr>\n",
       "      <th>6</th>\n",
       "      <td>24052658</td>\n",
       "      <td>200930</td>\n",
       "      <td>0.411666</td>\n",
       "      <td>2.0</td>\n",
       "      <td>Science</td>\n",
       "      <td>Science</td>\n",
       "      <td>NaN</td>\n",
       "      <td>Science</td>\n",
       "      <td>NaN</td>\n",
       "      <td>NaN</td>\n",
       "      <td>NaN</td>\n",
       "      <td>NaN</td>\n",
       "      <td>3.0</td>\n",
       "      <td>0.0</td>\n",
       "      <td>White</td>\n",
       "      <td>5.0</td>\n",
       "      <td>F</td>\n",
       "      <td>2.0</td>\n",
       "      <td>NaN</td>\n",
       "      <td>NaN</td>\n",
       "      <td>2.0</td>\n",
       "      <td>NaN</td>\n",
       "      <td>2.0</td>\n",
       "      <td>2.0</td>\n",
       "      <td>2.0</td>\n",
       "      <td>...</td>\n",
       "      <td>NaN</td>\n",
       "      <td>2.0</td>\n",
       "      <td>2.0</td>\n",
       "      <td>2.0</td>\n",
       "      <td>4.0</td>\n",
       "      <td>3.0</td>\n",
       "      <td>2.0</td>\n",
       "      <td>2.0</td>\n",
       "      <td>3.0</td>\n",
       "      <td>2.0</td>\n",
       "      <td>1.0</td>\n",
       "      <td>4.0</td>\n",
       "      <td>229.0</td>\n",
       "      <td>0.134487</td>\n",
       "      <td>1.0</td>\n",
       "      <td>0.0</td>\n",
       "      <td>0.0</td>\n",
       "      <td>1.0</td>\n",
       "      <td>0</td>\n",
       "      <td>1</td>\n",
       "      <td>1</td>\n",
       "      <td>0</td>\n",
       "      <td>0</td>\n",
       "      <td>1</td>\n",
       "      <td>1</td>\n",
       "    </tr>\n",
       "    <tr>\n",
       "      <th>7</th>\n",
       "      <td>24202911</td>\n",
       "      <td>200930</td>\n",
       "      <td>-1.407328</td>\n",
       "      <td>2.0</td>\n",
       "      <td>Science</td>\n",
       "      <td>NaN</td>\n",
       "      <td>NaN</td>\n",
       "      <td>NaN</td>\n",
       "      <td>NaN</td>\n",
       "      <td>NaN</td>\n",
       "      <td>NaN</td>\n",
       "      <td>NaN</td>\n",
       "      <td>3.0</td>\n",
       "      <td>1.0</td>\n",
       "      <td>Black or African American</td>\n",
       "      <td>3.0</td>\n",
       "      <td>M</td>\n",
       "      <td>2.0</td>\n",
       "      <td>3.0</td>\n",
       "      <td>4.0</td>\n",
       "      <td>2.0</td>\n",
       "      <td>3.0</td>\n",
       "      <td>2.0</td>\n",
       "      <td>NaN</td>\n",
       "      <td>2.0</td>\n",
       "      <td>...</td>\n",
       "      <td>NaN</td>\n",
       "      <td>2.0</td>\n",
       "      <td>2.0</td>\n",
       "      <td>2.0</td>\n",
       "      <td>4.0</td>\n",
       "      <td>2.0</td>\n",
       "      <td>2.0</td>\n",
       "      <td>2.0</td>\n",
       "      <td>2.0</td>\n",
       "      <td>2.0</td>\n",
       "      <td>1.0</td>\n",
       "      <td>2.0</td>\n",
       "      <td>221.0</td>\n",
       "      <td>-0.274391</td>\n",
       "      <td>1.0</td>\n",
       "      <td>0.0</td>\n",
       "      <td>0.0</td>\n",
       "      <td>1.0</td>\n",
       "      <td>0</td>\n",
       "      <td>0</td>\n",
       "      <td>0</td>\n",
       "      <td>0</td>\n",
       "      <td>0</td>\n",
       "      <td>1</td>\n",
       "      <td>0</td>\n",
       "    </tr>\n",
       "    <tr>\n",
       "      <th>8</th>\n",
       "      <td>24208731</td>\n",
       "      <td>200930</td>\n",
       "      <td>0.711321</td>\n",
       "      <td>2.0</td>\n",
       "      <td>Science</td>\n",
       "      <td>Science</td>\n",
       "      <td>NaN</td>\n",
       "      <td>Science</td>\n",
       "      <td>NaN</td>\n",
       "      <td>NaN</td>\n",
       "      <td>NaN</td>\n",
       "      <td>NaN</td>\n",
       "      <td>1.0</td>\n",
       "      <td>0.0</td>\n",
       "      <td>White</td>\n",
       "      <td>5.0</td>\n",
       "      <td>M</td>\n",
       "      <td>2.0</td>\n",
       "      <td>2.0</td>\n",
       "      <td>2.0</td>\n",
       "      <td>2.0</td>\n",
       "      <td>2.0</td>\n",
       "      <td>4.0</td>\n",
       "      <td>2.0</td>\n",
       "      <td>2.0</td>\n",
       "      <td>...</td>\n",
       "      <td>3.0</td>\n",
       "      <td>2.0</td>\n",
       "      <td>2.0</td>\n",
       "      <td>3.0</td>\n",
       "      <td>4.0</td>\n",
       "      <td>2.0</td>\n",
       "      <td>0.0</td>\n",
       "      <td>2.0</td>\n",
       "      <td>2.0</td>\n",
       "      <td>2.0</td>\n",
       "      <td>1.0</td>\n",
       "      <td>2.0</td>\n",
       "      <td>216.0</td>\n",
       "      <td>-0.529940</td>\n",
       "      <td>1.0</td>\n",
       "      <td>0.0</td>\n",
       "      <td>0.0</td>\n",
       "      <td>1.0</td>\n",
       "      <td>0</td>\n",
       "      <td>1</td>\n",
       "      <td>1</td>\n",
       "      <td>0</td>\n",
       "      <td>0</td>\n",
       "      <td>1</td>\n",
       "      <td>1</td>\n",
       "    </tr>\n",
       "    <tr>\n",
       "      <th>9</th>\n",
       "      <td>24379839</td>\n",
       "      <td>200930</td>\n",
       "      <td>1.982063</td>\n",
       "      <td>1.0</td>\n",
       "      <td>Arts</td>\n",
       "      <td>Arts</td>\n",
       "      <td>NaN</td>\n",
       "      <td>Science</td>\n",
       "      <td>NaN</td>\n",
       "      <td>NaN</td>\n",
       "      <td>NaN</td>\n",
       "      <td>NaN</td>\n",
       "      <td>4.0</td>\n",
       "      <td>0.0</td>\n",
       "      <td>White</td>\n",
       "      <td>5.0</td>\n",
       "      <td>M</td>\n",
       "      <td>3.0</td>\n",
       "      <td>3.0</td>\n",
       "      <td>4.0</td>\n",
       "      <td>3.0</td>\n",
       "      <td>4.0</td>\n",
       "      <td>4.0</td>\n",
       "      <td>4.0</td>\n",
       "      <td>2.0</td>\n",
       "      <td>...</td>\n",
       "      <td>4.0</td>\n",
       "      <td>3.0</td>\n",
       "      <td>3.0</td>\n",
       "      <td>2.0</td>\n",
       "      <td>4.0</td>\n",
       "      <td>4.0</td>\n",
       "      <td>2.0</td>\n",
       "      <td>2.0</td>\n",
       "      <td>2.0</td>\n",
       "      <td>2.0</td>\n",
       "      <td>1.0</td>\n",
       "      <td>2.0</td>\n",
       "      <td>219.0</td>\n",
       "      <td>-0.376611</td>\n",
       "      <td>1.0</td>\n",
       "      <td>0.0</td>\n",
       "      <td>0.0</td>\n",
       "      <td>1.0</td>\n",
=======
>>>>>>> 76ba5ac2a65248de6a9f2d92f0bb2d734973f638
       "      <td>0</td>\n",
       "      <td>1</td>\n",
       "      <td>1</td>\n",
       "      <td>0</td>\n",
       "      <td>0</td>\n",
       "      <td>0</td>\n",
       "      <td>1</td>\n",
       "    </tr>\n",
       "  </tbody>\n",
       "</table>\n",
       "<p>10 rows × 53 columns</p>\n",
       "</div>"
      ],
      "text/plain": [
       "   student_id  m1_fall  mcat_zscore  mcat_total_attempts bachelor_1  \\\n",
       "0    30705306   200930     2.505529                  1.0    Science   \n",
       "1    22721624   200930    -1.407328                  2.0    Science   \n",
       "2    35604291   200930     0.745614                  1.0       Arts   \n",
       "3    23250759   200930     0.149933                  1.0    Science   \n",
       "4    23269092   200930    -0.973841                  1.0    Science   \n",
       "\n",
       "  bachelor_2 bachelor_3 master_1 master_2 master_3 associate_1 associate_2  \\\n",
       "0        NaN        NaN  Science      NaN      NaN         NaN         NaN   \n",
       "1        NaN        NaN  Science      NaN      NaN     Science         NaN   \n",
       "2        NaN        NaN      NaN      NaN      NaN         NaN         NaN   \n",
       "3        NaN        NaN      NaN      NaN      NaN         NaN         NaN   \n",
       "4        NaN        NaN      NaN      NaN      NaN         NaN         NaN   \n",
       "\n",
       "   biochem_likelyhood  gem_indicator                       race  race_indic  \\\n",
       "0                 4.0            0.0                      White         5.0   \n",
       "1                 1.0            1.0  Black or African American         3.0   \n",
       "2                 3.0            0.0                      White         5.0   \n",
       "3                 4.0            0.0                      White         5.0   \n",
       "4                 4.0            1.0                      Asian         2.0   \n",
<<<<<<< HEAD
       "5                 4.0            1.0  Black or African American         3.0   \n",
       "6                 3.0            0.0                      White         5.0   \n",
       "7                 3.0            1.0  Black or African American         3.0   \n",
       "8                 1.0            0.0                      White         5.0   \n",
       "9                 4.0            0.0                      White         5.0   \n",
       "\n",
       "  gender  m1f_limbs  m1f_metabolism_nutrition_and_endo  \\\n",
       "0      M        4.0                                4.0   \n",
       "1      F        2.0                                3.0   \n",
       "2      M        2.0                                2.0   \n",
       "3      M        2.0                                2.0   \n",
       "4      F        2.0                                2.0   \n",
       "5      F        2.0                                2.0   \n",
       "6      F        2.0                                NaN   \n",
       "7      M        2.0                                3.0   \n",
       "8      M        2.0                                2.0   \n",
       "9      M        3.0                                3.0   \n",
       "\n",
=======
       "\n",
       "  gender  m1f_limbs  m1f_metabolism_nutrition_and_endo  \\\n",
       "0      M        4.0                                4.0   \n",
       "1      F        2.0                                3.0   \n",
       "2      M        2.0                                2.0   \n",
       "3      M        2.0                                2.0   \n",
       "4      F        2.0                                2.0   \n",
       "\n",
>>>>>>> 76ba5ac2a65248de6a9f2d92f0bb2d734973f638
       "   m1f_molecular_and_cell_physiology  m1f_molecular_and_human_genetics  \\\n",
       "0                                4.0                               4.0   \n",
       "1                                2.0                               2.0   \n",
       "2                                3.0                               2.0   \n",
       "3                                2.0                               2.0   \n",
       "4                                2.0                               2.0   \n",
<<<<<<< HEAD
       "5                                2.0                               2.0   \n",
       "6                                NaN                               2.0   \n",
       "7                                4.0                               2.0   \n",
       "8                                2.0                               2.0   \n",
       "9                                4.0                               3.0   \n",
       "\n",
       "   m1s_cardio_pulmonary  m1s_ebm_and_population_health  m1s_gastrointestinal  \\\n",
       "0                   4.0                            3.0                   4.0   \n",
       "1                   4.0                            2.0                   4.0   \n",
       "2                   2.0                            4.0                   2.0   \n",
       "3                   3.0                            3.0                   3.0   \n",
       "4                   NaN                            2.0                   NaN   \n",
       "5                   NaN                            2.0                   NaN   \n",
       "6                   NaN                            2.0                   2.0   \n",
       "7                   3.0                            2.0                   NaN   \n",
       "8                   2.0                            4.0                   2.0   \n",
       "9                   4.0                            4.0                   4.0   \n",
       "\n",
       "   m1s_head_neck_and_special_senses       ...        \\\n",
       "0                               3.0       ...         \n",
       "1                               2.0       ...         \n",
       "2                               2.0       ...         \n",
       "3                               4.0       ...         \n",
       "4                               2.0       ...         \n",
       "5                               2.0       ...         \n",
       "6                               2.0       ...         \n",
       "7                               2.0       ...         \n",
       "8                               2.0       ...         \n",
       "9                               2.0       ...         \n",
=======
       "\n",
       "   m1s_cardio_pulmonary  m1s_ebm_and_population_health  m1s_gastrointestinal  \\\n",
       "0                   4.0                            3.0                   4.0   \n",
       "1                   4.0                            2.0                   4.0   \n",
       "2                   2.0                            4.0                   2.0   \n",
       "3                   3.0                            3.0                   3.0   \n",
       "4                   NaN                            2.0                   NaN   \n",
       "\n",
       "   m1s_head_neck_and_special_senses  m1s_medical_neuroscience  \\\n",
       "0                               3.0                       4.0   \n",
       "1                               2.0                       2.0   \n",
       "2                               2.0                       3.0   \n",
       "3                               4.0                       3.0   \n",
       "4                               2.0                       2.0   \n",
       "\n",
       "   m1s_patients_populations_and_policy  m1s_physical_diagnosis_i  \\\n",
       "0                                  NaN                       1.0   \n",
       "1                                  NaN                       1.0   \n",
       "2                                  NaN                       1.0   \n",
       "3                                  NaN                       1.0   \n",
       "4                                  NaN                       1.0   \n",
>>>>>>> 76ba5ac2a65248de6a9f2d92f0bb2d734973f638
       "\n",
       "   m1s_renal_and_electrolytes  m1s_sexual_dev__and_reproduction  \\\n",
       "0                         4.0                               4.0   \n",
       "1                         4.0                               3.0   \n",
       "2                         2.0                               3.0   \n",
       "3                         4.0                               3.0   \n",
       "4                         NaN                               2.0   \n",
       "\n",
       "   m2s_clinical_skills_primer  m2s_evidence_based_medicine_ii  \\\n",
       "0                         3.0                             2.0   \n",
       "1                         2.0                             2.0   \n",
       "2                         3.0                             3.0   \n",
       "3                         3.0                             4.0   \n",
       "4                         2.0                             3.0   \n",
       "\n",
       "   m2s_health_care_ethics  m2s_human_sexuality  \\\n",
       "0                     4.0                  3.0   \n",
       "1                     3.0                  2.0   \n",
       "2                     3.0                  4.0   \n",
       "3                     3.0                  3.0   \n",
       "4                     4.0                  2.0   \n",
       "\n",
       "   m2s_lab_medicine_pblm_solving_case  m2s_microbiology_and_immunology  \\\n",
       "0                                 4.0                              4.0   \n",
       "1                                 2.0                              2.0   \n",
       "2                                 4.0                              2.0   \n",
       "3                                 3.0                              3.0   \n",
       "4                                 2.0                              2.0   \n",
       "\n",
       "   m2s_pathology  m2s_pharmacology  m2s_physical_diagnosis_ii  m2s_psychiatry  \\\n",
       "0            4.0               4.0                        1.0             3.0   \n",
       "1            2.0               2.0                        1.0             2.0   \n",
       "2            2.0               2.0                        1.0             2.0   \n",
       "3            3.0               3.0                        1.0             2.0   \n",
       "4            2.0               2.0                        1.0             2.0   \n",
       "\n",
       "   step1_raw_score  step1_z_score  step1_pass_indicator  repeat_indic  \\\n",
       "0            269.0       2.178880                   1.0           0.0   \n",
       "1            210.0      -0.836599                   1.0           0.0   \n",
       "2            241.0       0.747805                   1.0           0.0   \n",
       "3            224.0      -0.121062                   1.0           0.0   \n",
       "4            197.0      -1.501027                   1.0           0.0   \n",
<<<<<<< HEAD
       "5            198.0      -1.449917                   1.0           0.0   \n",
       "6            229.0       0.134487                   1.0           0.0   \n",
       "7            221.0      -0.274391                   1.0           0.0   \n",
       "8            216.0      -0.529940                   1.0           0.0   \n",
       "9            219.0      -0.376611                   1.0           0.0   \n",
=======
>>>>>>> 76ba5ac2a65248de6a9f2d92f0bb2d734973f638
       "\n",
       "   dropout_indic  step1_total_attempts  target_indicator  double_bachelor  \\\n",
       "0            0.0                   1.0                 0                0   \n",
       "1            0.0                   1.0                 0                0   \n",
       "2            0.0                   1.0                 0                0   \n",
       "3            0.0                   1.0                 0                0   \n",
       "4            0.0                   1.0                 0                0   \n",
<<<<<<< HEAD
       "5            0.0                   1.0                 0                0   \n",
       "6            0.0                   1.0                 0                1   \n",
       "7            0.0                   1.0                 0                0   \n",
       "8            0.0                   1.0                 0                1   \n",
       "9            0.0                   1.0                 0                1   \n",
=======
>>>>>>> 76ba5ac2a65248de6a9f2d92f0bb2d734973f638
       "\n",
       "   master_degree  double_master  associate_degree  science_undergrad  \\\n",
       "0              1              0                 0                  1   \n",
       "1              1              0                 1                  1   \n",
       "2              0              0                 0                  0   \n",
       "3              0              0                 0                  1   \n",
       "4              0              0                 0                  1   \n",
<<<<<<< HEAD
       "5              0              0                 0                  0   \n",
       "6              1              0                 0                  1   \n",
       "7              0              0                 0                  1   \n",
       "8              1              0                 0                  1   \n",
       "9              1              0                 0                  0   \n",
=======
>>>>>>> 76ba5ac2a65248de6a9f2d92f0bb2d734973f638
       "\n",
       "   science_master  \n",
       "0               1  \n",
       "1               1  \n",
       "2               0  \n",
       "3               0  \n",
<<<<<<< HEAD
       "4               0  \n",
       "5               0  \n",
       "6               1  \n",
       "7               0  \n",
       "8               1  \n",
       "9               1  \n",
       "\n",
       "[10 rows x 53 columns]"
      ]
     },
     "execution_count": 10,
=======
       "4               0  "
      ]
     },
     "execution_count": 4,
>>>>>>> 76ba5ac2a65248de6a9f2d92f0bb2d734973f638
     "metadata": {},
     "output_type": "execute_result"
    }
   ],
   "source": [
    "# Change the max number of columns that we can display.  Now we will be able to see all columns of data when \n",
    "# we call the method head().\n",
    "\n",
    "pd.set_option('display.max_columns', 75)\n",
    "df.head()"
   ]
  },
  {
   "cell_type": "code",
<<<<<<< HEAD
   "execution_count": 11,
=======
   "execution_count": 5,
>>>>>>> 76ba5ac2a65248de6a9f2d92f0bb2d734973f638
   "metadata": {},
   "outputs": [
    {
     "data": {
      "text/plain": [
       "student_id                               int64\n",
       "m1_fall                                  int64\n",
       "mcat_zscore                            float64\n",
       "mcat_total_attempts                    float64\n",
       "bachelor_1                              object\n",
       "bachelor_2                              object\n",
       "bachelor_3                              object\n",
       "master_1                                object\n",
       "master_2                                object\n",
       "master_3                                object\n",
       "associate_1                             object\n",
       "associate_2                             object\n",
       "biochem_likelyhood                     float64\n",
       "gem_indicator                          float64\n",
       "race                                    object\n",
       "race_indic                             float64\n",
       "gender                                  object\n",
       "m1f_limbs                              float64\n",
       "m1f_metabolism_nutrition_and_endo      float64\n",
       "m1f_molecular_and_cell_physiology      float64\n",
       "m1f_molecular_and_human_genetics       float64\n",
       "m1s_cardio_pulmonary                   float64\n",
       "m1s_ebm_and_population_health          float64\n",
       "m1s_gastrointestinal                   float64\n",
       "m1s_head_neck_and_special_senses       float64\n",
       "m1s_medical_neuroscience               float64\n",
       "m1s_patients_populations_and_policy    float64\n",
       "m1s_physical_diagnosis_i               float64\n",
       "m1s_renal_and_electrolytes             float64\n",
       "m1s_sexual_dev__and_reproduction       float64\n",
       "m2s_clinical_skills_primer             float64\n",
       "m2s_evidence_based_medicine_ii         float64\n",
       "m2s_health_care_ethics                 float64\n",
       "m2s_human_sexuality                    float64\n",
       "m2s_lab_medicine_pblm_solving_case     float64\n",
       "m2s_microbiology_and_immunology        float64\n",
       "m2s_pathology                          float64\n",
       "m2s_pharmacology                       float64\n",
       "m2s_physical_diagnosis_ii              float64\n",
       "m2s_psychiatry                         float64\n",
       "step1_raw_score                        float64\n",
       "step1_z_score                          float64\n",
       "step1_pass_indicator                   float64\n",
       "repeat_indic                           float64\n",
       "dropout_indic                          float64\n",
       "step1_total_attempts                   float64\n",
       "target_indicator                         int64\n",
       "double_bachelor                          int64\n",
       "master_degree                            int64\n",
       "double_master                            int64\n",
       "associate_degree                         int64\n",
       "science_undergrad                        int64\n",
       "science_master                           int64\n",
       "dtype: object"
      ]
     },
<<<<<<< HEAD
     "execution_count": 11,
=======
     "execution_count": 5,
>>>>>>> 76ba5ac2a65248de6a9f2d92f0bb2d734973f638
     "metadata": {},
     "output_type": "execute_result"
    }
   ],
   "source": [
    "# check data type for each feature\n",
    "\n",
    "df.dtypes"
   ]
  },
  {
   "cell_type": "markdown",
   "metadata": {},
   "source": [
    "## 2.  Demographic Data\n",
    "\n",
    "Some general descriptive statistics for the demographic features of our data."
   ]
  },
  {
   "cell_type": "code",
<<<<<<< HEAD
   "execution_count": 12,
=======
   "execution_count": 6,
>>>>>>> 76ba5ac2a65248de6a9f2d92f0bb2d734973f638
   "metadata": {
    "scrolled": false
   },
   "outputs": [
    {
     "data": {
      "text/plain": [
       "F    894\n",
       "M    883\n",
       "Name: gender, dtype: int64"
      ]
     },
<<<<<<< HEAD
     "execution_count": 12,
=======
     "execution_count": 6,
>>>>>>> 76ba5ac2a65248de6a9f2d92f0bb2d734973f638
     "metadata": {},
     "output_type": "execute_result"
    }
   ],
   "source": [
    "# determine number of each gender\n",
    "\n",
    "df['gender'].value_counts()"
   ]
  },
  {
   "cell_type": "code",
<<<<<<< HEAD
   "execution_count": 13,
=======
   "execution_count": 7,
>>>>>>> 76ba5ac2a65248de6a9f2d92f0bb2d734973f638
   "metadata": {},
   "outputs": [
    {
     "data": {
      "text/plain": [
<<<<<<< HEAD
       "<matplotlib.axes._subplots.AxesSubplot at 0x1a17e78f98>"
      ]
     },
     "execution_count": 13,
=======
       "<matplotlib.axes._subplots.AxesSubplot at 0xac50be0>"
      ]
     },
     "execution_count": 7,
>>>>>>> 76ba5ac2a65248de6a9f2d92f0bb2d734973f638
     "metadata": {},
     "output_type": "execute_result"
    },
    {
     "data": {
      "image/png": "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\n",
      "text/plain": [
       "<Figure size 432x288 with 1 Axes>"
      ]
     },
     "metadata": {},
     "output_type": "display_data"
    }
   ],
   "source": [
    "# histogram of gender\n",
    "\n",
    "df['gender'].value_counts().plot(kind='bar', title='Gender')\n"
   ]
  },
  {
   "cell_type": "code",
<<<<<<< HEAD
   "execution_count": 14,
=======
   "execution_count": 8,
>>>>>>> 76ba5ac2a65248de6a9f2d92f0bb2d734973f638
   "metadata": {},
   "outputs": [
    {
     "name": "stdout",
     "output_type": "stream",
     "text": [
      "White                          1195\n",
      "Asian                           311\n",
      "Black or African American       102\n",
      "Two or More Races                65\n",
      "Hispanic                         54\n",
      "Unknown                          48\n",
      "Amer. Indian or Alaska Nat.       2\n",
      "Name: race, dtype: int64\n"
     ]
    }
   ],
   "source": [
    "# determine number of each race\n",
    "\n",
    "race_counts = df['race'].value_counts()\n",
    "print(race_counts)"
   ]
  },
  {
   "cell_type": "code",
<<<<<<< HEAD
   "execution_count": 15,
=======
   "execution_count": 9,
>>>>>>> 76ba5ac2a65248de6a9f2d92f0bb2d734973f638
   "metadata": {},
   "outputs": [
    {
     "data": {
      "image/png": "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\n",
      "text/plain": [
       "<Figure size 1080x360 with 2 Axes>"
      ]
     },
     "metadata": {},
     "output_type": "display_data"
    }
   ],
   "source": [
    "# race pie chart and histogram pie chart.  Using both visuals to see which is better at displaying the data.\n",
    "\n",
    "plt.figure(figsize=(15,5))\n",
    "plt.subplot(1,2,1)\n",
    "race_counts.plot(kind='pie')\n",
    "plt.title('Race Distribution')\n",
    "\n",
    "plt.subplot(1,2,2)\n",
    "race_counts.plot(kind='bar')\n",
    "plt.xlabel('Race')\n",
    "plt.ylabel('Frequency')\n",
    "plt.title('Race Distribution')\n",
    "\n",
    "# add more space between the two plots\n",
    "plt.subplots_adjust(wspace=0.7)"
   ]
  },
  {
   "cell_type": "code",
<<<<<<< HEAD
   "execution_count": 16,
=======
   "execution_count": 10,
>>>>>>> 76ba5ac2a65248de6a9f2d92f0bb2d734973f638
   "metadata": {},
   "outputs": [
    {
     "name": "stdout",
     "output_type": "stream",
     "text": [
      "We have 142 students in gems.\n",
      "This is 7.99% of the total number of students in the data.\n"
     ]
    }
   ],
   "source": [
    "# calculate the number and percent of students in gems\n",
    "\n",
    "num_gems = df[\"gem_indicator\"].sum()\n",
    "print(\"We have %d students in gems.\" % (num_gems) ) \n",
    "print(\"This is %.2f%% of the total number of students in the data.\" % ((num_gems/num_students)*100) )      "
   ]
  },
  {
   "cell_type": "code",
<<<<<<< HEAD
   "execution_count": 17,
=======
   "execution_count": 11,
>>>>>>> 76ba5ac2a65248de6a9f2d92f0bb2d734973f638
   "metadata": {},
   "outputs": [
    {
     "name": "stdout",
     "output_type": "stream",
     "text": [
      "200930    204\n",
      "201130    199\n",
      "201730    197\n",
      "201430    197\n",
      "201330    197\n",
      "201630    196\n",
      "201230    196\n",
      "201030    196\n",
      "201530    195\n",
      "Name: m1_fall, dtype: int64\n"
     ]
    },
    {
     "data": {
      "text/plain": [
<<<<<<< HEAD
       "<matplotlib.axes._subplots.AxesSubplot at 0x1a17e504e0>"
      ]
     },
     "execution_count": 17,
=======
       "<matplotlib.axes._subplots.AxesSubplot at 0xafdf898>"
      ]
     },
     "execution_count": 11,
>>>>>>> 76ba5ac2a65248de6a9f2d92f0bb2d734973f638
     "metadata": {},
     "output_type": "execute_result"
    },
    {
     "data": {
      "image/png": "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\n",
      "text/plain": [
       "<Figure size 432x288 with 1 Axes>"
      ]
     },
     "metadata": {},
     "output_type": "display_data"
    }
   ],
   "source": [
    "# calculate the number of students in each class and create a histogram.  Note that class years end in '30' for \n",
    "# fall semester.\n",
    "\n",
    "num_students_in_each_class = df['m1_fall'].value_counts()\n",
    "print(num_students_in_each_class)\n",
    "\n",
    "num_students_in_each_class.plot(kind='bar', title='Number of Students in Each Class')"
   ]
  },
  {
   "cell_type": "code",
<<<<<<< HEAD
   "execution_count": 18,
=======
   "execution_count": 12,
>>>>>>> 76ba5ac2a65248de6a9f2d92f0bb2d734973f638
   "metadata": {},
   "outputs": [
    {
     "data": {
      "text/plain": [
       "m1_fall          0\n",
       "gem_indicator    0\n",
       "race             0\n",
       "race_indic       0\n",
       "gender           0\n",
       "dtype: int64"
      ]
     },
<<<<<<< HEAD
     "execution_count": 18,
=======
     "execution_count": 12,
>>>>>>> 76ba5ac2a65248de6a9f2d92f0bb2d734973f638
     "metadata": {},
     "output_type": "execute_result"
    }
   ],
   "source": [
    "# check for any missing demographic data\n",
    "\n",
    "df[['m1_fall','gem_indicator','race', 'race_indic', 'gender']].isnull().sum()"
   ]
  },
  {
   "cell_type": "markdown",
   "metadata": {},
   "source": [
    "No missing data in these features!  "
   ]
  },
  {
   "cell_type": "markdown",
   "metadata": {},
   "source": [
    "## 3. Admissions Criteria Data\n",
    "\n",
    "Some general descriptive statistics for the features that include admissions criteria - for example, bachelors degree, master's degree, MCAT scores, etc."
   ]
  },
  {
   "cell_type": "code",
<<<<<<< HEAD
   "execution_count": 19,
=======
   "execution_count": 13,
>>>>>>> 76ba5ac2a65248de6a9f2d92f0bb2d734973f638
   "metadata": {},
   "outputs": [
    {
     "data": {
      "text/html": [
       "<div>\n",
       "<style scoped>\n",
       "    .dataframe tbody tr th:only-of-type {\n",
       "        vertical-align: middle;\n",
       "    }\n",
       "\n",
       "    .dataframe tbody tr th {\n",
       "        vertical-align: top;\n",
       "    }\n",
       "\n",
       "    .dataframe thead th {\n",
       "        text-align: right;\n",
       "    }\n",
       "</style>\n",
       "<table border=\"1\" class=\"dataframe\">\n",
       "  <thead>\n",
       "    <tr style=\"text-align: right;\">\n",
       "      <th></th>\n",
       "      <th>mcat_zscore</th>\n",
       "      <th>mcat_total_attempts</th>\n",
       "    </tr>\n",
       "  </thead>\n",
       "  <tbody>\n",
       "    <tr>\n",
       "      <th>count</th>\n",
       "      <td>1517.000000</td>\n",
       "      <td>1517.000000</td>\n",
       "    </tr>\n",
       "    <tr>\n",
       "      <th>mean</th>\n",
       "      <td>0.281108</td>\n",
       "      <td>1.392221</td>\n",
       "    </tr>\n",
       "    <tr>\n",
       "      <th>std</th>\n",
       "      <td>0.848005</td>\n",
       "      <td>0.524862</td>\n",
       "    </tr>\n",
       "    <tr>\n",
       "      <th>min</th>\n",
       "      <td>-2.911583</td>\n",
       "      <td>1.000000</td>\n",
       "    </tr>\n",
       "    <tr>\n",
       "      <th>25%</th>\n",
       "      <td>-0.111800</td>\n",
       "      <td>1.000000</td>\n",
       "    </tr>\n",
       "    <tr>\n",
       "      <th>50%</th>\n",
       "      <td>0.342969</td>\n",
       "      <td>1.000000</td>\n",
       "    </tr>\n",
       "    <tr>\n",
       "      <th>75%</th>\n",
       "      <td>0.768670</td>\n",
       "      <td>2.000000</td>\n",
       "    </tr>\n",
       "    <tr>\n",
       "      <th>max</th>\n",
       "      <td>3.012828</td>\n",
       "      <td>4.000000</td>\n",
       "    </tr>\n",
       "  </tbody>\n",
       "</table>\n",
       "</div>"
      ],
      "text/plain": [
       "       mcat_zscore  mcat_total_attempts\n",
       "count  1517.000000          1517.000000\n",
       "mean      0.281108             1.392221\n",
       "std       0.848005             0.524862\n",
       "min      -2.911583             1.000000\n",
       "25%      -0.111800             1.000000\n",
       "50%       0.342969             1.000000\n",
       "75%       0.768670             2.000000\n",
       "max       3.012828             4.000000"
      ]
     },
<<<<<<< HEAD
     "execution_count": 19,
=======
     "execution_count": 13,
>>>>>>> 76ba5ac2a65248de6a9f2d92f0bb2d734973f638
     "metadata": {},
     "output_type": "execute_result"
    }
   ],
   "source": [
    "# distribution of MCAT z-scores and number of MCAT attempts\n",
    "\n",
    "df[['mcat_zscore', 'mcat_total_attempts']].describe()"
   ]
  },
  {
   "cell_type": "code",
<<<<<<< HEAD
   "execution_count": 20,
=======
   "execution_count": 14,
>>>>>>> 76ba5ac2a65248de6a9f2d92f0bb2d734973f638
   "metadata": {},
   "outputs": [
    {
     "data": {
      "image/png": "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\n",
      "text/plain": [
       "<Figure size 1080x504 with 2 Axes>"
      ]
     },
     "metadata": {},
     "output_type": "display_data"
    }
   ],
   "source": [
    "# Different plots showing the distribution of MCAT z-scores\n",
    "\n",
    "plt.figure(figsize=(15,7))\n",
    "plt.subplot(1,2,1)\n",
    "df['mcat_zscore'].plot(kind='hist')\n",
    "plt.xlabel('MCAT z-score')\n",
    "plt.title('MCAT Z-scores Distribution')\n",
    "\n",
    "plt.subplot(1,2,2)\n",
    "df['mcat_zscore'].plot(kind='box')\n",
    "plt.ylabel('MCAT Z-score')\n",
    "plt.title('MCAT Z-scores Distribution')\n",
    "\n",
    "# add more space between the two plots\n",
    "plt.subplots_adjust(wspace=0.3)"
   ]
  },
  {
   "cell_type": "code",
<<<<<<< HEAD
   "execution_count": 21,
=======
   "execution_count": 15,
>>>>>>> 76ba5ac2a65248de6a9f2d92f0bb2d734973f638
   "metadata": {},
   "outputs": [
    {
     "name": "stdout",
     "output_type": "stream",
     "text": [
      "1.0    945\n",
      "2.0    554\n",
      "3.0     13\n",
      "4.0      5\n",
      "Name: mcat_total_attempts, dtype: int64\n"
     ]
    },
    {
     "data": {
      "text/plain": [
       "Text(0.5,1,'Distribution of MCAT Total Attempts')"
      ]
     },
<<<<<<< HEAD
     "execution_count": 21,
=======
     "execution_count": 15,
>>>>>>> 76ba5ac2a65248de6a9f2d92f0bb2d734973f638
     "metadata": {},
     "output_type": "execute_result"
    },
    {
     "data": {
      "image/png": "iVBORw0KGgoAAAANSUhEUgAAAVAAAAFTCAYAAABvfFR3AAAABHNCSVQICAgIfAhkiAAAAAlwSFlzAAALEgAACxIB0t1+/AAAADl0RVh0U29mdHdhcmUAbWF0cGxvdGxpYiB2ZXJzaW9uIDIuMi4yLCBodHRwOi8vbWF0cGxvdGxpYi5vcmcvhp/UCwAAIABJREFUeJzt3XmYXGWZ/vHvTcIWtgBBhIQQloyIIqiRYcQFjfoTQUAucfmhBI0GR2RRcVgFXEZARIRxI4IjIIoQUVDjCgTBJeyaYFQiSwgJENYQ9pBn/njfJieV6u7Tb7q6qtP357rq6jrvWeqp01V3nf0oIjAzs75bo90FmJkNVg5QM7NCDlAzs0IOUDOzQg5QM7NCDlAzs0IO0BaT9G1Jn+2naY2VtETSsNw9Q9JH+mPaeXq/lDSpv6bXh9f9oqQHJd030K89GEh6u6S57a7DVuYAXQWS7pL0lKTHJT0q6Y+SPibphfkaER+LiC/UnNZbehomIuZFxPoR8Xw/1H6ypO83TH/PiDh/Vafdxzq2Aj4N7BgRL27Sfw9JIemyhvadc/uMSpskHS5ptqQnJM2XdKmknRrGPTmPu2ul7bj847RE0tOSnq9039Yw/usr/Z7I01pSeYzt5T2fKuncPs2oXkhaQ9K9km5u0u/Pkj5Q6V4n1zymP2uoqxXvv10coKvunRGxAbA1cCpwNHBef7+IpOH9Pc0OsTXwUEQ80MMwi4DXStq00jYJ+GfDcGcBRwCHA5sA/wb8FNirawBJAj4IPJynAUBEfCn/OK0PfAz4U1d3RLys+iIRcW1l2K5+IyvDz6v97vvPW4H1gZ0afzCshSLCj8IHcBfwloa2XYFlwMtz9/eAL+bno4CfA4+SvsDXkn7ELszjPAUsAf4LGAcEMBmYB/y+0jY8T28GcApwPfAYcDmwSe63BzC/Wb3A24Fngefy6/2lMr2P5OdrACcAdwMPABcAG+V+XXVMyrU9CBzfw3zaKI+/KE/vhDz9t+T3vCzX8b0m4+4BzAe+DRya24blthOBGbltPPA8sGsv/7M35Nf8APAQsFaTYQ4Grqv5GVjhf1JpHwtMz//nfwKTcvt+DfP++tx+CPB34HFgLvDhyrTeDsztpY4fkH64pwNfqbSfkefL0/n1zsiflwCeyG375WHfBfyV9Pm8lrRW0DWd+4BPAbflcb4FbAH8FlgM/ArYMA+7A7CU9EO0EFgAHNbL+/8o6fP5OHAHcEC7v9+1/v/tLmAwP2gSoLl9HvCf+fn3WB6gp+QgWDM/Xg+o2bQqX8wLgPWAdRu/rKTAuxd4eR7mx8D3c7896CZA8/OTu4at9J/B8gD9cP4ib0tasrkMuLChtu/kunYGngFe2s18uoAU7hvkcf8JTO6uzoZx9yCF5WuBmbntHcCvgY+wPEA/Btxd4392HnBJnv8PAfs3GeZgVj1AZwJnAmsDE0hBunvudypwbsPw+wDbAGL5D8vLcr8eAxTYEHgSeDNwICm0hlX6/xn4QKV7nVzzmErbbnm8V5N+oKbk/1PXZ+0+UqiOIv04PEIK4p3yZ+A64Og87A55+ufnfq/M7/91zd4/sDEptLfL3aO7+yx12sOr8K2xgLQK2eg50q/21hHxXKRVwd4uRnByRDwREU910//CiJgdEU8AnwXe07WTaRUdCHw1Iu6IiCXAscD7GjYlfC4inoqIvwB/IQXpCnIt7wWOjYjHI+Iu0lLQB/tSTET8EdhE0kuAg0ihXLUpKQC6JWkEcADwg4h4DphGZTW+v0gaT5oXx0XEMxFxIylMun3PEXFFRNwZye+Aa4DX1XzJ95ACbQZpk8WGwNv6WPYhwNcj4qaIeD4ippLC/9WVYb4WEQ9G2kTxR+APETErfzYvJwVl1Un583EL8H3g/b3U8HJJ60TEvRExp4/1t4UDtDVGk35xG51OWqr7jaQ7JB1TY1r39KH/3aQlq1G1quzZlnl61WkPBzavtFX3mj9JWlJtNApYq8m0RhfUdCHwCeBNwE8a+j1E+nHqybtIq5bTc/dFwJ6SNiuopSdbAosafvR6fM+S9pF0vaSHJT1KWpqs+3+cBFwcEcvyD+nl9P2HYWvguLwz9NFcw2YNNd9fef5Uk+7G/3/jZ3PLZi8cEY+QfrAPB+6TdIWk7ftYf1s4QPuZpNeQPnTXNfbLS2CfjohtgXcCn5I0sat3N5PsbQl1q8rzsaSl3AdJ27dGVOoaRvpC1J3uAtKXqjrtpaz4panjwVxT47Tu7eN0IAXox4HpEfFkQ78rgTGSJvQw/iTSl3xePmTqUtIPTm9LRn21ANhM0rqVtup7XmHeS1ov1/IF4EURMRK4irQ63yNJ25GWVCdLui+/r72BfSVt1Oz1mnRDCrsTI2Jk5TEiIi5rMmxdjZ/NBd29fkT8IiImkkJ2Hmkba8dzgPYTSRtK2hu4mLRtcVaTYfaWtH3eE7yYtHG/65Ck+0nbG/vqA5J2zKunnwemRTrM6Z/AOpL2krQmacfN2pXx7gfGVQ+5avBD4JOStpG0PvAl4EcRsbQvxeVaLgH+W9IGkrYm7Yz4fs9jNp3WncAbgeOb9Lsd+Cbww3zo01r5cJ33STpG0mhgIilcdsmPnYHT6P/V+LmknTFflLS2pFfl17go978f2CZ/DiBtJ1yTtLNumaR9SNt+6ziItPlkB5a/r5eQlsjfU3m9Fz5bEfEMaadj9fM2FThM0oR8ONj6eal4BOVOkrSupJ1Jmy9+VKnnhfcvaXT+nI4gbUtfwvLvRUdzgK66n0l6nPQLfjzwVeBD3Qw7Hvgd6QPyJ+CbETEj9zsFOCGvPh3Vh9e/kLSj6j7SzoHDASLiMdLS2rmkJZ8nSDtjulya/z7U7NhB4Lt52r8H7iTtxT2sD3VVHZZf/w7SkvkP8vT7LCKui4gF3fQ+HPg68A3STol/kVbbf0b6At8aEb+JiPu6HsDZwCskvbyknm5qDFJ47Uj6v/wI+ExEXJsHuZi0dvCwpD9GxIPAUbnOh0h7qqevNOEGOYAOAr5RfU8RsZAUiF0/DGcCB0l6RNKXc9uJwKX587ZPRPyBNP/OIc27fwL/n97XVLrzPGlH2p2kPfSfj4jfN3v/pJ1Wx5Lm1UPAayj/rA2orj3AZmb9QtIOwOyIWF2PXX6Bl0DNzAo5QM3MCnkV3syskJdAzcwKOUDNzAoN6r1ko0aNinHjxrW7DDNbzdx0000PRkSvZ6gN6gAdN24cN954Y7vLMLPVjKS7ex/Kq/BmZsUcoGZmhRygZmaFHKBmZoUcoGZmhRygZmaFHKBmZoUcoGZmhRygZmaFHKBmZoUcoGZmhQb1ufD9Zdwxv2h3CQDcdepe7S7BzPrAS6BmZoUcoGZmhRygZmaFHKBmZoUcoGZmhRygZmaFHKBmZoUcoGZmhRygZmaFHKBmZoUcoGZmhRygZmaFHKBmZoUcoGZmhRygZmaFHKBmZoUcoGZmhRygZmaFHKBmZoUcoGZmhRygZmaFHKBmZoUcoGZmhRygZmaFHKBmZoUcoGZmhRygZmaFHKBmZoUcoGZmhRygZmaFHKBmZoUcoGZmhRygZmaFHKBmZoUcoGZmhVoaoJI+Kek2SbMl/VDSOpK2kTRT0u2SfiRprTzs2rl7bu4/rpW1mZmtqpYFqKTRwOHAhIh4OTAMeB9wGnBmRIwHHgEm51EmA49ExPbAmXk4M7OO1epV+OHAupKGAyOAhcCbgWm5//nAfvn5vrmb3H+iJLW4PjOzYi0L0Ii4F/gKMI8UnI8BNwGPRsTSPNh8YHR+Phq4J4+7NA+/aavqMzNbVa1chd+YtFS5DbAlsB6wZ5NBo2uUHvpVpztF0o2Sbly0aFF/lWtm1metXIV/C3BnRCyKiOeAy4DXAiPzKj3AGGBBfj4f2Aog998IeLhxohExNSImRMSEzTbbrIXlm5n1rJUBOg/YTdKIvC1zIvA34Grg3XmYScDl+fkVuZvc/6qIWGkJ1MysU7RyG+hM0s6gm4FZ+bWmAkcDn5I0l7SN87w8ynnAprn9U8AxrarNzKw/DO99kHIRcRJwUkPzHcCuTYZ9GjiglfWYmfUnn4lkZlbIAWpmVsgBamZWyAFqZlbIAWpmVsgBamZWyAFqZlbIAWpmVsgBamZWyAFqZlbIAWpmVsgBamZWyAFqZlbIAWpmVsgBamZWyAFqZlbIAWpmVsgBamZWyAFqZlbIAWpmVsgBamZWyAFqZlbIAWpmVsgBamZWyAFqZlbIAWpmVsgBamZWyAFqZlbIAWpmVqjXAJV0hKQNlZwn6WZJbxuI4szMOlmdJdAPR8Ri4G3AZsCHgFNbWpWZ2SBQJ0CV/74D+N+I+EulzcxsyKoToDdJ+g0pQH8taQNgWWvLMjPrfMNrDDMZ2AW4IyKelLQpaTXezGxIq7ME+tuIuDkiHgWIiIeAM1tblplZ5+t2CVTSOsAIYJSkjVm+3XNDYMsBqM3MrKP1tAp/CHAkKSxvYnmALga+0eK6zMw6XrcBGhFnAWdJOiwi/mcAazIzGxR63YkUEf8j6bXAuOrwEXFBC+syM+t4vQaopAuB7YBbgedzcwAOUDMb0uocxjQB2DEiotXFmJkNJnUOY5oNvLjVhZiZDTZ1lkBHAX+TdD3wTFdjROzTsqrMzAaBOgF6cquLMDMbjOrshb9G0tbA+Ij4naQRwLDWl2Zm1tnqXA/0o8A04JzcNBr4aSuLMjMbDOrsRDoU2J10BhIRcTvwojoTlzRS0jRJf5c0R9J/SNpE0m8l3Z7/bpyHlaSzJc2V9FdJryp9U2ZmA6FOgD4TEc92dUgaTjoOtI6zgF9FxA7AzsAc4BjgyogYD1yZuwH2BMbnxxTgWzVfw8ysLeoE6DWSjgPWlfRW4FLgZ72NJGlD4A3AeQAR8Wy+otO+wPl5sPOB/fLzfYELIvkzMFLSFn16N2ZmA6hOgB4DLAJmkS4wMh04ocZ42+bx/lfSLZLOlbQesHlELATIf7s2B4wG7qmMPz+3mZl1pDp74ZcB38mPvk77VcBhETFT0lksX11vptltQlbaVCBpCmkVn7Fjx/axJDOz/tPT9UBn0cO2zoh4RS/Tng/Mj4iZuXsaKUDvl7RFRCzMq+gPVIbfqjL+GGBBk9edCkwFmDBhgk8vNbO26WkJdO/899D898L890Dgyd4mHBH3SbpH0ksi4h/AROBv+TGJdGfPScDleZQrgE9Iuhj4d+CxrlV9M7NO1NP1QO8GkLR7ROxe6XWMpD8An68x/cOAiyStBdxBupfSGsAlkiYD84AD8rDTSTeum0sKaN93ycw6Wp1TOdeT9LqIuA4gXxt0vToTj4hbSVdzajSxybDB8qVdM7OOV/eunN+VtFHufhT4cOtKMjMbHOrshb8J2Dkf16mIeKz1ZZmZdb46V6Q/saEbgIiosw3UzGy1VWcV/onK83VIe+fntKYcM7PBo84q/BnVbklfIR1yZGY2pNU5lbPRCNJpmmZmQ1qdbaDVM5KGAZsBX2hlUWZmg0GdbaB7V54vBe6PiKUtqsc6xckb9T7MQDnZB35YZ6qzCv/FiLg7P+6NiKX5XvFmZkNanQB9WbUjX1D51a0px8xs8Og2QCUdK+lx4BWSFkt6PHffz/ILgJiZDVndBmhEnBIRGwCnR8SGEbFBfmwaEccOYI1mZh2pp+uBbg082hWWkt5Euv3GXcA3qvdJMjMbinraBnoJ+apLknYh3QtpHrAL8M3Wl2Zm1tl6Ooxp3YjouiL8B4DvRsQZktYAbm19aWZmna2nJdDqPYreTLoFcdc9kszMhryelkCvknQJsBDYGLgKIN/HyNs/zWzI6ylAjwTeC2wBvC4insvtLwaOb3VhZmadrqd7IgVwcZP2W1pakZnZIFFyNSYzM8MBamZWrKdTOa/Mf08buHLMzAaPnnYibSHpjcA+ki5mxcOaiIibW1qZmVmH6ylATwSOAcYAX23oF6RjQ83Mhqye9sJPA6ZJ+mxE+Ar0ZmYN6txU7guS9gHekJtmRMTPW1uWmVnn63UvvKRTgCOAv+XHEbnNzGxIq3NPpL2AXbrOgZd0PnAL4GuCmtmQVvc40JGV5x10tzEzs/apswR6CnCLpKtJhzK9AS99mpnV2on0Q0kzgNeQAvToiLiv1YWZmXW6OkugRMRC4IoW12JmNqj4XHgzs0IOUDOzQj0GqKQ1JM0eqGLMzAaTHgM0H/v5F0ljB6geM7NBo85OpC2A2yRdDzzR1RgR+7SsKjOzQaBOgH6u5VWYmQ1CdY4DvUbS1sD4iPidpBHAsNaXZmbW2epcTOSjwDTgnNw0GvhpK4syMxsM6hzGdCiwO7AYICJuB17UyqLMzAaDOgH6TEQ829UhaTjpivRmZkNanQC9RtJxwLqS3gpcCvystWWZmXW+OgF6DLAImAUcAkwHTmhlUWZmg0GdvfDL8kWUZ5JW3f8REV6FN7Mhr85e+L2AfwFnA18H5kras+4LSBom6RZJP8/d20iaKel2ST+StFZuXzt3z839x5W8ITOzgVJnFf4M4E0RsUdEvBF4E3BmH17jCGBOpfs04MyIGA88AkzO7ZOBRyJi+zz90/rwGmZmA65OgD4QEXMr3XcAD9SZuKQxpHsqnZu7Rbqf/LQ8yPnAfvn5vrmb3H9iHt7MrCN1uw1U0v756W2SpgOXkLaBHgDcUHP6XwP+C9ggd28KPBoRS3P3fNKB+eS/9wBExFJJj+XhH6z5WmZmA6qnnUjvrDy/H3hjfr4I2Li3CUvam7T0epOkPbqamwwaNfpVpzsFmAIwdqwvEmVm7dNtgEbEh1Zx2rsD+0h6B7AOsCFpiXSkpOF5KXQMsCAPPx/YCpifD9bfCHi4SV1TgakAEyZM8NEAZtY2dfbCbyPpq5Iuk3RF16O38SLi2IgYExHjgPcBV0XEgcDVwLvzYJOAy/PzK3I3uf9VPlzKzDpZncvZ/RQ4j3T20bJ+eM2jgYslfRG4JU+b/PdCSXNJS57v64fXMjNrmToB+nREnL0qLxIRM4AZ+fkdwK5NhnmatIPKzGxQqBOgZ0k6CfgN8ExXY0Tc3LKqzMwGgToBuhPwQdLxm12r8JG7zcyGrDoB+i5g2+ol7czMrN6ZSH8BRra6EDOzwabOEujmwN8l3cCK20B9V04zG9LqBOhJLa/CzGwQqnVXzoEoxMxssOk1QCU9zvJz0tcC1gSeiIgNW1mYmVmnq7MEukG1W9J+NDkQ3sxsqKmzF34FEfFTfAyomVmtVfj9K51rABPwbY3NzGrtha9eF3QpcBfp6vFmZkNanW2gq3pdUDOz1VJPt/Q4sYfxIiK+0IJ6zMwGjZ6WQJ9o0rYe6e6ZmwIOUDMb0nq6pccZXc8lbUC6PfGHgItJtzo2MxvSetwGKmkT4FPAgaRbDr8qIh4ZiMLMzDpdT9tATwf2J93AbaeIWDJgVZmZDQI9HUj/aWBL4ARggaTF+fG4pMUDU56ZWefqaRton89SMjMbShySZmaFHKBmZoUcoGZmhRygZmaFHKBmZoUcoGZmhRygZmaFHKBmZoUcoGZmhRygZmaFHKBmZoUcoGZmhRygZmaFHKBmZoUcoGZmhRygZmaFHKBmZoUcoGZmhRygZmaFHKBmZoUcoGZmhRygZmaFHKBmZoUcoGZmhRygZmaFHKBmZoVaFqCStpJ0taQ5km6TdERu30TSbyXdnv9unNsl6WxJcyX9VdKrWlWbmVl/aOUS6FLg0xHxUmA34FBJOwLHAFdGxHjgytwNsCcwPj+mAN9qYW1mZqusZQEaEQsj4ub8/HFgDjAa2Bc4Pw92PrBffr4vcEEkfwZGStqiVfWZma2qAdkGKmkc8EpgJrB5RCyEFLLAi/Jgo4F7KqPNz21mZh2p5QEqaX3gx8CREbG4p0GbtEWT6U2RdKOkGxctWtRfZZqZ9VlLA1TSmqTwvCgiLsvN93etmue/D+T2+cBWldHHAAsapxkRUyNiQkRM2GyzzVpXvJlZL1q5F17AecCciPhqpdcVwKT8fBJweaX9oLw3fjfgsa5VfTOzTjS8hdPeHfggMEvSrbntOOBU4BJJk4F5wAG533TgHcBc4EngQy2szcxslbUsQCPiOppv1wSY2GT4AA5tVT1mZv3NZyKZmRVygJqZFXKAmpkVcoCamRVygJqZFXKAmpkVcoCamRVygJqZFXKAmpkVcoCamRVygJqZFXKAmpkVcoCamRVygJqZFXKAmpkVcoCamRVygJqZFXKAmpkVcoCamRVygJqZFXKAmpkVcoCamRVygJqZFXKAmpkVcoCamRVygJqZFXKAmpkVcoCamRVygJqZFXKAmpkVcoCamRVygJqZFXKAmpkVcoCamRVygJqZFXKAmpkVcoCamRVygJqZFXKAmpkVcoCamRVygJqZFXKAmpkVcoCamRVygJqZFXKAmpkVcoCamRUa3u4CqiS9HTgLGAacGxGntrkksxXsdP5O7S7hBbMmzWp3CUNexyyBShoGfAPYE9gReL+kHdtblZlZ9zomQIFdgbkRcUdEPAtcDOzb5prMzLrVSavwo4F7Kt3zgX9vUy1m1gdzdnhpu0t4wUv/PmfAXquTAlRN2mKlgaQpwJTcuUTSP1paVX2jgAdXZQI6rZ8q6SyrPF/4XLOPxqC26vME0MGeL02pX+bL1nUG6qQAnQ9sVekeAyxoHCgipgJTB6qouiTdGBET2l1Hp/F8WZnnSXODcb500jbQG4DxkraRtBbwPuCKNtdkZtatjlkCjYilkj4B/Jp0GNN3I+K2NpdlZtatjglQgIiYDkxvdx2FOm6zQofwfFmZ50lzg26+KGKl/TRmZlZDJ20DNTMbVBygZmaFHKBmZoU6aieSDX6SNiedVRbAgoi4v80ldQxJmwAREY+0u5ZOMpjni3cirQKHxXKSdgG+DWwE3JubxwCPAh+PiJvbVVs7SRoLfBmYSJoXAjYErgKOiYi72ldd+6wu88UBWsBhsTJJtwKHRMTMhvbdgHMiYuf2VNZekv4EfA2YFhHP57ZhwAHAkRGxWzvra5fVZb44QAs4LFYm6faIGN9Nv7kRsf1A19QJepkv3fZb3a0u88XbQMus1xieABHxZ0nrtaOgDvBLSb8ALmD5VbW2Ag4CftW2qtrvJknfBM5nxfkyCbilbVW132oxX7wEWkDS2cB2NA+LOyPiE+2qrZ0k7Um6huto0jat+cAV+QyzISlf12EyK86Xe4CfAedFxDNtLK9tVpf54gAt5LAwMweotZykKfkyhFYhae+I+Hm76+g0g2m++ED6fpYv+GwrWu2u/NtPXtPuAjrUoJkvDtD+N2TDQtIOkiZKWr+h191tKahDSNpV0mvy8x0lfUrSOyLipHbX1kkkXQAwmOaL98L3v2fbXUA7SDocOBSYA5wn6YiIuDz3/hJDdE+8pJNId5odLum3pPt8zQCOkfTKiPjvdtbXLpIaL5Yu4E2SRgJExD4DX1XfeRtoP5M0LyLGtruOgSZpFvAfEbFE0jhgGnBhRJwl6ZaIeGVbC2yTPF92AdYG7gPGRMRiSesCMyPiFW0tsE0k3Qz8DTiXdCafgB+S7kRBRFzTvurq8xJoAUl/7a4XsPlA1tJBhkXEEoCIuEvSHsA0SVszhDdrAEvzmTZPSvpXRCwGiIinJC1rc23tNAE4Ajge+ExE3CrpqcESnF0coGU2B/4f0HjxAwF/HPhyOsJ9knaJiFsB8pLo3sB3gZ3aW1pbPStpREQ8Cby6q1HSRsCQDdCIWAacKenS/Pd+BmEeDbqCO8TPgfW7wqJK0oyBL6cjHAQsrTZExFLgIEnntKekjvCGroPCc2h0WZN01s2QFhHzgQMk7QUsbnc9feVtoGZmhXwYk5lZIQeomVkhB+gQICkknVHpPkrSyf007e9Jend/TKuX1zlA0hxJVze0j8vv7wuVtlGSnpP09UrbQZJmS7pN0t8kHVXpN1zSg5JOqbT9RNKtkuZKeiw/v1XSa5vUttL4uf1ISSMq3cet+pzomaSRkj7e6texxAE6NDwD7C9pVLsLqcoX0K1rMuli1W9q0u8OYO9K9wHAbZXX2RM4EnhbRLwMeBXwWGX4twH/AN4jSQAR8a6I2AX4CHBtROySH82Oslhp/OxIYESlu+UBCowEHKADxAE6NCwFpgKfbOzRuAQpaUn+u4ekayRdIumfkk6VdKCk6yXNkrRdZTJvkXRtHm7vPP4wSadLukHSXyUdUpnu1ZJ+AMxqUs/78/RnSzott50IvA74tqTTm7y/p4A5kibk7vcCl1T6HwscFRELACLi6Yj4TqX/+4GzgHlAyZXQVxo/n5m1JXB1fr+nAuvmpdiL8jAfyPPzVknndP2gSFoi6TRJN0n6XT4VdIakOyTtk4c5WNLlkn4l6R/5jCeAU4Ht8jRPl7SFpN/n7tmSXl/w/qw7EeHHav4AlpDuN3MX6TYkRwEn537fA95dHTb/3YN0i5ItSGfR3At8Lvc7AvhaZfxfkX6Mx5Mu67cOMAU4IQ+zNnAjsE2e7hPANk3q3JIUQpuRDrG7Ctgv95sBTGgyzjhgNrAP8BXSrVWuBA4Gvp6HeRjYqJt5sy6wgLSkOAU4u6H/HsDPe5i33Y6f5/eoxnmbn7+UdO3LNXP3N4GD8vMA9szPfwL8hnTY087Arbn9YGAhsGmuYTbp4PRxwOzK63waOD4/HwZs0O7P4+r08BLoEBHpDJgLgMP7MNoNEbEw0nGM/yJ9kSEtOY6rDHdJRCyLiNtJq9M7kFZrD1K6/clM0he96zYN10fEnU1e7zXAjIhYFOkY0ouAN9Ss9VfAW0lLgz+q+wZJq/5XRzrQ/cfAu/q4aaF0/ImkA+tvyPNoIrBt7vcsy68dMAu4JiKeY+X5/tuIeCgingIuIy2lN7oB+FDe5r1TRDzeh/dmvXCADi1fI21LrN52ZCn5c5C3361V6Ve9KviySvcyVjwJo/Fg4q5zmw+L5dsOt4mIrgB+opv6ik/5jIhngZtIS1w/buh9G5WzgBq8n7QJ4q48/qZAs+2s3SkdX8D5lfnzkog4Ofd7LvIiI5X5HulA/N7m+4oNEb8n/QjdC1wo6aBa78pqcYAOIRHxMGnb4ORK810sD5d9SauKfXWApDXydtFtSTtUfg38p6Q1AST9m3ofSXkGAAABT0lEQVS/X9RM4I15L/owUjj15dzoM4CjI+KhhvZTgC9LenGuZW1Jh0vakLTUNjYixkXEONIVpd5f58VqjP84sEFllOe65gdpM8O7Jb0oT2sTpesG9MVb83jrAvsBf2h8zTzNByJt8z2PtAPN+olP5Rx6zgCq92z6DnC5pOtJX+rulg578g9S0G0OfCwinpZ0Lml18+a8ZLuI9CXvVkQslHQscDVpCW16LL8kXq8i4jYqe98r7dMlbQ78LtcSpHP09weuihXvv3M5KWzXjt7vy9Pj+KQdd7+UtDDS0QNTgb9KujkiDpR0AvAbSWsAz5HCty/XTr0OuBDYHvhBRNwIIOkPkmYDvyRtG/2MpOdI28K9BNqPfCqn2SAk6WDSTrUheQPDTuFVeDOzQl4CNTMr5CVQM7NCDlAzs0IOUDOzQg5QM7NCDlAzs0IOUDOzQv8H/QmA9Pq+1NQAAAAASUVORK5CYII=\n",
      "text/plain": [
       "<Figure size 360x360 with 1 Axes>"
      ]
     },
     "metadata": {},
     "output_type": "display_data"
    }
   ],
   "source": [
    "# calculate and plot the number of attempts at the MCAT\n",
    "\n",
    "mcat_attempt_counts = df['mcat_total_attempts'].value_counts()\n",
    "print(mcat_attempt_counts)\n",
    "\n",
    "plt.figure(figsize=(5,5))\n",
    "mcat_attempt_counts.plot(kind='bar')\n",
    "plt.xlabel('Number of MCAT Attempts')\n",
    "plt.ylabel('Number of Students')\n",
    "plt.title('Distribution of MCAT Total Attempts')"
   ]
  },
  {
   "cell_type": "code",
<<<<<<< HEAD
   "execution_count": 22,
=======
   "execution_count": 16,
>>>>>>> 76ba5ac2a65248de6a9f2d92f0bb2d734973f638
   "metadata": {},
   "outputs": [
    {
     "name": "stdout",
     "output_type": "stream",
     "text": [
<<<<<<< HEAD
      "53.63% of students took the MCAT once.\n",
      "31.46% of students took the MCAT twice.\n",
=======
      "53.18% of students took the MCAT once.\n",
      "31.18% of students took the MCAT twice.\n",
>>>>>>> 76ba5ac2a65248de6a9f2d92f0bb2d734973f638
      "0.73% of students took the MCAT three times.\n",
      "0.28% of students took the MCAT four times.\n"
     ]
    }
   ],
   "source": [
    "print(\"%.2f%% of students took the MCAT once.\" % ((mcat_attempt_counts[1]/num_students)*100))\n",
    "print(\"%.2f%% of students took the MCAT twice.\" % ((mcat_attempt_counts[2]/num_students)*100))\n",
    "print(\"%.2f%% of students took the MCAT three times.\" % ((mcat_attempt_counts[3]/num_students)*100))\n",
    "print(\"%.2f%% of students took the MCAT four times.\" % ((mcat_attempt_counts[4]/num_students)*100))"
   ]
  },
  {
   "cell_type": "code",
<<<<<<< HEAD
   "execution_count": 23,
=======
   "execution_count": 17,
>>>>>>> 76ba5ac2a65248de6a9f2d92f0bb2d734973f638
   "metadata": {},
   "outputs": [
    {
     "name": "stdout",
     "output_type": "stream",
     "text": [
      "Associates degree - 1st major\n",
      "Science    14\n",
      "Arts       13\n",
      "Other       8\n",
      "Name: associate_1, dtype: int64\n",
      "\n",
      "Associates degree - 2nd major\n",
      "Science    4\n",
      "Name: associate_2, dtype: int64\n"
     ]
    }
   ],
   "source": [
    "# Determine the majors students have associates degrees in (up to 2 majors).  \n",
    "\n",
    "# Associates degree - 1st major\n",
    "associate_1_counts = df['associate_1'].value_counts()\n",
    "print('Associates degree - 1st major')\n",
    "print(associate_1_counts)\n",
    "\n",
    "# Associates degree - 2nd major\n",
    "associate_2_counts = df['associate_2'].value_counts()\n",
    "print('\\nAssociates degree - 2nd major')\n",
    "print(associate_2_counts)\n"
   ]
  },
  {
   "cell_type": "code",
<<<<<<< HEAD
   "execution_count": 24,
=======
   "execution_count": 18,
>>>>>>> 76ba5ac2a65248de6a9f2d92f0bb2d734973f638
   "metadata": {},
   "outputs": [
    {
     "data": {
      "image/png": "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\n",
      "text/plain": [
       "<Figure size 1080x360 with 2 Axes>"
      ]
     },
     "metadata": {},
     "output_type": "display_data"
    }
   ],
   "source": [
    "# Create a histogram showing the frequency of each associates degree major in the 1st and 2nd majors. \n",
    "\n",
    "plt.figure(figsize=(15,5))\n",
    "ax = plt.subplot(1,2,1)\n",
    "associate_1_counts.plot(kind='bar')\n",
    "plt.ylabel('Frequency')\n",
    "plt.title('1st Major Categories')\n",
    "plt.suptitle('Associates Degree Majors', fontsize=14)\n",
    "\n",
    "plt.subplot(1,2,2)\n",
    "associate_2_counts.plot(kind='bar')\n",
    "plt.title('2nd Major Categories')\n",
    "\n",
    "# add more space between the title and the plots\n",
    "plt.subplots_adjust(top=0.8)"
   ]
  },
  {
   "cell_type": "code",
<<<<<<< HEAD
   "execution_count": 25,
=======
   "execution_count": 19,
>>>>>>> 76ba5ac2a65248de6a9f2d92f0bb2d734973f638
   "metadata": {},
   "outputs": [
    {
     "name": "stdout",
     "output_type": "stream",
     "text": [
      "Bachelors degree - 1st major\n",
      "Science     1136\n",
      "Arts         594\n",
      "Other         23\n",
      "Business       1\n",
      "Medicine       1\n",
      "Name: bachelor_1, dtype: int64\n",
      "\n",
      "Bachelors degree - 2nd major\n",
      "Arts       141\n",
      "Science     71\n",
      "Other        4\n",
      "Name: bachelor_2, dtype: int64\n",
      "\n",
      "Bachelors degree - 3rd major\n",
      "Arts       4\n",
      "Science    1\n",
      "Other      1\n",
      "Name: bachelor_3, dtype: int64\n"
     ]
    }
   ],
   "source": [
    "# Determine the majors students have bachelors degrees in (up to 3 majors).  \n",
    "\n",
    "# Bachelors degree - 1st major\n",
    "bachelor_1_counts = df['bachelor_1'].value_counts()\n",
    "print('Bachelors degree - 1st major')\n",
    "print(bachelor_1_counts)\n",
    "\n",
    "# Bachelors degree - 2nd major\n",
    "bachelor_2_counts = df['bachelor_2'].value_counts()\n",
    "print('\\nBachelors degree - 2nd major')\n",
    "print(bachelor_2_counts)\n",
    "\n",
    "# Bachelors degree - 3rd major\n",
    "bachelor_3_counts = df['bachelor_3'].value_counts()\n",
    "print('\\nBachelors degree - 3rd major')\n",
    "print(bachelor_3_counts)"
   ]
  },
  {
   "cell_type": "code",
<<<<<<< HEAD
   "execution_count": 26,
=======
   "execution_count": 20,
>>>>>>> 76ba5ac2a65248de6a9f2d92f0bb2d734973f638
   "metadata": {},
   "outputs": [
    {
     "data": {
<<<<<<< HEAD
      "image/png": "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\n",
=======
      "image/png": "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\n",
>>>>>>> 76ba5ac2a65248de6a9f2d92f0bb2d734973f638
      "text/plain": [
       "<Figure size 1080x360 with 3 Axes>"
      ]
     },
     "metadata": {},
     "output_type": "display_data"
    }
   ],
   "source": [
    "# Create a histogram showing the frequency of each bachelors degree major in the 1st, 2nd, and 3rd majors. \n",
    "\n",
    "plt.figure(figsize=(15,5))\n",
    "ax = plt.subplot(1,3,1)\n",
    "bachelor_1_counts.plot(kind='bar')\n",
    "plt.ylabel('Frequency')\n",
    "plt.title('1st Major Categories')\n",
    "plt.suptitle('Bachelors Degree Majors', fontsize=14)\n",
    "\n",
    "plt.subplot(1,3,2)\n",
    "bachelor_2_counts.plot(kind='bar')\n",
    "plt.title('2nd Major Categories')\n",
    "\n",
    "plt.subplot(1,3,3)\n",
    "bachelor_3_counts.plot(kind='bar')\n",
    "plt.title('3rd Major Categories')\n",
    "\n",
    "# add more space between the title and the plots\n",
    "plt.subplots_adjust(top=0.8)"
   ]
  },
  {
   "cell_type": "markdown",
   "metadata": {},
   "source": [
    "We were curious if most students have at least one bachelors degree major in science since these students applied to medical school.  The following code checks for this."
   ]
  },
  {
   "cell_type": "code",
<<<<<<< HEAD
   "execution_count": 27,
   "metadata": {},
   "outputs": [
    {
     "data": {
      "text/html": [
       "<div>\n",
       "<style scoped>\n",
       "    .dataframe tbody tr th:only-of-type {\n",
       "        vertical-align: middle;\n",
       "    }\n",
       "\n",
       "    .dataframe tbody tr th {\n",
       "        vertical-align: top;\n",
       "    }\n",
       "\n",
       "    .dataframe thead th {\n",
       "        text-align: right;\n",
       "    }\n",
       "</style>\n",
       "<table border=\"1\" class=\"dataframe\">\n",
       "  <thead>\n",
       "    <tr style=\"text-align: right;\">\n",
       "      <th></th>\n",
       "      <th>bachelor_1</th>\n",
       "      <th>bachelor_2</th>\n",
       "      <th>bachelor_3</th>\n",
       "    </tr>\n",
       "  </thead>\n",
       "  <tbody>\n",
       "    <tr>\n",
       "      <th>0</th>\n",
       "      <td>Science</td>\n",
       "      <td>NaN</td>\n",
       "      <td>NaN</td>\n",
       "    </tr>\n",
       "    <tr>\n",
       "      <th>1</th>\n",
       "      <td>Science</td>\n",
       "      <td>NaN</td>\n",
       "      <td>NaN</td>\n",
       "    </tr>\n",
       "    <tr>\n",
       "      <th>2</th>\n",
       "      <td>Arts</td>\n",
       "      <td>NaN</td>\n",
       "      <td>NaN</td>\n",
       "    </tr>\n",
       "    <tr>\n",
       "      <th>3</th>\n",
       "      <td>Science</td>\n",
       "      <td>NaN</td>\n",
       "      <td>NaN</td>\n",
       "    </tr>\n",
       "    <tr>\n",
       "      <th>4</th>\n",
       "      <td>Science</td>\n",
       "      <td>NaN</td>\n",
       "      <td>NaN</td>\n",
       "    </tr>\n",
       "    <tr>\n",
       "      <th>5</th>\n",
       "      <td>Other</td>\n",
       "      <td>NaN</td>\n",
       "      <td>NaN</td>\n",
       "    </tr>\n",
       "    <tr>\n",
       "      <th>6</th>\n",
       "      <td>Science</td>\n",
       "      <td>Science</td>\n",
       "      <td>NaN</td>\n",
       "    </tr>\n",
       "    <tr>\n",
       "      <th>7</th>\n",
       "      <td>Science</td>\n",
       "      <td>NaN</td>\n",
       "      <td>NaN</td>\n",
       "    </tr>\n",
       "    <tr>\n",
       "      <th>8</th>\n",
       "      <td>Science</td>\n",
       "      <td>Science</td>\n",
       "      <td>NaN</td>\n",
       "    </tr>\n",
       "    <tr>\n",
       "      <th>9</th>\n",
       "      <td>Arts</td>\n",
       "      <td>Arts</td>\n",
       "      <td>NaN</td>\n",
       "    </tr>\n",
       "  </tbody>\n",
       "</table>\n",
       "</div>"
      ],
      "text/plain": [
       "  bachelor_1 bachelor_2 bachelor_3\n",
       "0    Science        NaN        NaN\n",
       "1    Science        NaN        NaN\n",
       "2       Arts        NaN        NaN\n",
       "3    Science        NaN        NaN\n",
       "4    Science        NaN        NaN\n",
       "5      Other        NaN        NaN\n",
       "6    Science    Science        NaN\n",
       "7    Science        NaN        NaN\n",
       "8    Science    Science        NaN\n",
       "9       Arts       Arts        NaN"
      ]
     },
     "execution_count": 27,
     "metadata": {},
     "output_type": "execute_result"
    }
   ],
=======
   "execution_count": 21,
   "metadata": {},
   "outputs": [],
>>>>>>> 76ba5ac2a65248de6a9f2d92f0bb2d734973f638
   "source": [
    "# Start by creating a dataframe of just the bachelors majors data\n",
    "\n",
    "bachelors_df = df[['bachelor_1', 'bachelor_2', 'bachelor_3']].copy()\n",
    "#bachelors_df.head()"
   ]
  },
  {
   "cell_type": "code",
<<<<<<< HEAD
   "execution_count": 28,
=======
   "execution_count": 22,
>>>>>>> 76ba5ac2a65248de6a9f2d92f0bb2d734973f638
   "metadata": {},
   "outputs": [
    {
     "name": "stdout",
     "output_type": "stream",
     "text": [
      "(1777,)\n",
      "There are 1164 students with at least one bachelors degree major in science.\n",
      "This is 65.50% of the total number of students.\n"
     ]
    }
   ],
   "source": [
    "# Calculate how many students have at least one bachelors degree major in science\n",
    "\n",
    "#bachelors_df == 'Science'\n",
    "science_bachelors_count = (bachelors_df == 'Science').sum(axis=1)\n",
    "#print(science_bachelors_count)\n",
    "print(science_bachelors_count.shape)\n",
    "\n",
    "science_num = (science_bachelors_count >= 1).sum()\n",
    "print(\"There are %d students with at least one bachelors degree major in science.\" % (science_num))\n",
    "print(\"This is %.2f%% of the total number of students.\" % ((science_num/num_students)*100))      \n"
   ]
  },
  {
   "cell_type": "markdown",
   "metadata": {},
   "source": [
<<<<<<< HEAD
    "This is not what I expected.  I was expecting that more students would have at least one bachelors degree major in science."
=======
    "This is not what we expected.  We were expecting that more students would have at least one bachelors degree major in science."
>>>>>>> 76ba5ac2a65248de6a9f2d92f0bb2d734973f638
   ]
  },
  {
   "cell_type": "code",
<<<<<<< HEAD
   "execution_count": 29,
=======
   "execution_count": 23,
>>>>>>> 76ba5ac2a65248de6a9f2d92f0bb2d734973f638
   "metadata": {},
   "outputs": [
    {
     "name": "stdout",
     "output_type": "stream",
     "text": [
<<<<<<< HEAD
      "Masters degree - 1st\n",
      "Science      314\n",
      "Other         45\n",
      "Arts          15\n",
      "Business       2\n",
      "Education      1\n",
      "Name: master_1, dtype: int64\n",
      "\n",
      "Masters degree - 2nd\n",
      "Science    9\n",
      "Other      4\n",
      "Arts       3\n",
      "Name: master_2, dtype: int64\n",
      "\n",
      "Masters degree - 3rd\n",
      "Science    2\n",
      "Other      1\n",
      "Name: master_3, dtype: int64\n"
     ]
    }
   ],
   "source": [
    "# Determine the subjects that students have masters degrees in (up to 3 masters).  \n",
    "\n",
    "# Masters degree - 1st \n",
    "master_1_counts = df['master_1'].value_counts()\n",
    "print('Masters degree - 1st')\n",
    "print(master_1_counts)\n",
    "\n",
    "# Masters degree - 2nd \n",
    "master_2_counts = df['master_2'].value_counts()\n",
    "print('\\nMasters degree - 2nd')\n",
    "print(master_2_counts)\n",
    "\n",
    "# Masters degree - 3rd \n",
    "master_3_counts = df['master_3'].value_counts()\n",
    "print('\\nMasters degree - 3rd')\n",
    "print(master_3_counts)\n"
   ]
  },
  {
   "cell_type": "code",
   "execution_count": 30,
   "metadata": {},
   "outputs": [
    {
     "data": {
      "image/png": "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\n",
      "text/plain": [
       "<Figure size 1080x360 with 3 Axes>"
      ]
     },
     "metadata": {},
     "output_type": "display_data"
    }
   ],
   "source": [
    "# Create a histogram showing the frequency of each masters degree subject in the 1st, 2nd, and 3rd masters. \n",
    "\n",
    "plt.figure(figsize=(15,5))\n",
    "ax = plt.subplot(1,3,1)\n",
    "master_1_counts.plot(kind='bar')\n",
    "plt.ylabel('Frequency')\n",
    "plt.title('1st Masters Subjects')\n",
    "plt.suptitle('Masters Degree Subjects', fontsize=14)\n",
    "\n",
    "plt.subplot(1,3,2)\n",
    "master_2_counts.plot(kind='bar')\n",
    "plt.title('2nd Masters Subjects')\n",
    "\n",
    "plt.subplot(1,3,3)\n",
    "master_3_counts.plot(kind='bar')\n",
    "plt.title('3rd Masters Subjects')\n",
    "\n",
    "# add more space between the title and the plots\n",
    "plt.subplots_adjust(top=0.8)"
   ]
  },
  {
   "cell_type": "code",
   "execution_count": 31,
   "metadata": {},
   "outputs": [
    {
     "data": {
      "text/plain": [
       "mcat_zscore             260\n",
       "mcat_total_attempts     260\n",
       "bachelor_1               22\n",
       "bachelor_2             1561\n",
       "bachelor_3             1771\n",
       "master_1               1400\n",
       "master_2               1761\n",
       "master_3               1774\n",
       "associate_1            1742\n",
       "associate_2            1773\n",
       "dtype: int64"
      ]
     },
     "execution_count": 31,
     "metadata": {},
     "output_type": "execute_result"
    }
   ],
   "source": [
    "# check for any missing admissions criteria data\n",
    "\n",
    "df.loc[:,'mcat_zscore':'associate_2'].isnull().sum()"
   ]
  },
  {
   "cell_type": "markdown",
   "metadata": {},
   "source": [
    "There is some missing data in all of these features and some of the features have almost all missing data.  We will need to make wrangling decisions for all of these features."
   ]
  },
  {
   "cell_type": "markdown",
   "metadata": {},
   "source": [
    "## 4.  Data During Medical School\n",
    "\n",
    "Some general descriptive statistics for the features that include data during a student's time in medical school - for example, course grades and STEP1 score."
   ]
  },
  {
   "cell_type": "code",
   "execution_count": 32,
   "metadata": {},
   "outputs": [
    {
     "data": {
      "text/html": [
       "<div>\n",
       "<style scoped>\n",
       "    .dataframe tbody tr th:only-of-type {\n",
       "        vertical-align: middle;\n",
       "    }\n",
       "\n",
       "    .dataframe tbody tr th {\n",
       "        vertical-align: top;\n",
       "    }\n",
       "\n",
       "    .dataframe thead th {\n",
       "        text-align: right;\n",
       "    }\n",
       "</style>\n",
       "<table border=\"1\" class=\"dataframe\">\n",
       "  <thead>\n",
       "    <tr style=\"text-align: right;\">\n",
       "      <th></th>\n",
       "      <th>student_id</th>\n",
       "      <th>m1_fall</th>\n",
       "      <th>mcat_zscore</th>\n",
       "      <th>mcat_total_attempts</th>\n",
       "      <th>bachelor_1</th>\n",
       "      <th>bachelor_2</th>\n",
       "      <th>bachelor_3</th>\n",
       "      <th>master_1</th>\n",
       "      <th>master_2</th>\n",
       "      <th>master_3</th>\n",
       "      <th>associate_1</th>\n",
       "      <th>associate_2</th>\n",
       "      <th>biochem_likelyhood</th>\n",
       "      <th>gem_indicator</th>\n",
       "      <th>race</th>\n",
       "      <th>race_indic</th>\n",
       "      <th>gender</th>\n",
       "      <th>m1f_limbs</th>\n",
       "      <th>m1f_metabolism_nutrition_and_endo</th>\n",
       "      <th>m1f_molecular_and_cell_physiology</th>\n",
       "      <th>m1f_molecular_and_human_genetics</th>\n",
       "      <th>m1s_cardio_pulmonary</th>\n",
       "      <th>m1s_ebm_and_population_health</th>\n",
       "      <th>m1s_gastrointestinal</th>\n",
       "      <th>m1s_head_neck_and_special_senses</th>\n",
       "      <th>...</th>\n",
       "      <th>m1s_renal_and_electrolytes</th>\n",
       "      <th>m1s_sexual_dev__and_reproduction</th>\n",
       "      <th>m2s_clinical_skills_primer</th>\n",
       "      <th>m2s_evidence_based_medicine_ii</th>\n",
       "      <th>m2s_health_care_ethics</th>\n",
       "      <th>m2s_human_sexuality</th>\n",
       "      <th>m2s_lab_medicine_pblm_solving_case</th>\n",
       "      <th>m2s_microbiology_and_immunology</th>\n",
       "      <th>m2s_pathology</th>\n",
       "      <th>m2s_pharmacology</th>\n",
       "      <th>m2s_physical_diagnosis_ii</th>\n",
       "      <th>m2s_psychiatry</th>\n",
       "      <th>step1_raw_score</th>\n",
       "      <th>step1_z_score</th>\n",
       "      <th>step1_pass_indicator</th>\n",
       "      <th>repeat_indic</th>\n",
       "      <th>dropout_indic</th>\n",
       "      <th>step1_total_attempts</th>\n",
       "      <th>target_indicator</th>\n",
       "      <th>double_bachelor</th>\n",
       "      <th>master_degree</th>\n",
       "      <th>double_master</th>\n",
       "      <th>associate_degree</th>\n",
       "      <th>science_undergrad</th>\n",
       "      <th>science_master</th>\n",
       "    </tr>\n",
       "  </thead>\n",
       "  <tbody>\n",
       "    <tr>\n",
       "      <th>0</th>\n",
       "      <td>30705306</td>\n",
       "      <td>200930</td>\n",
       "      <td>2.505529</td>\n",
       "      <td>1.0</td>\n",
       "      <td>Science</td>\n",
       "      <td>NaN</td>\n",
       "      <td>NaN</td>\n",
       "      <td>Science</td>\n",
       "      <td>NaN</td>\n",
       "      <td>NaN</td>\n",
       "      <td>NaN</td>\n",
       "      <td>NaN</td>\n",
       "      <td>4.0</td>\n",
       "      <td>0.0</td>\n",
       "      <td>White</td>\n",
       "      <td>5.0</td>\n",
       "      <td>M</td>\n",
       "      <td>4.0</td>\n",
       "      <td>4.0</td>\n",
       "      <td>4.0</td>\n",
       "      <td>4.0</td>\n",
       "      <td>4.0</td>\n",
       "      <td>3.0</td>\n",
       "      <td>4.0</td>\n",
       "      <td>3.0</td>\n",
       "      <td>...</td>\n",
       "      <td>4.0</td>\n",
       "      <td>4.0</td>\n",
       "      <td>3.0</td>\n",
       "      <td>2.0</td>\n",
       "      <td>4.0</td>\n",
       "      <td>3.0</td>\n",
       "      <td>4.0</td>\n",
       "      <td>4.0</td>\n",
       "      <td>4.0</td>\n",
       "      <td>4.0</td>\n",
       "      <td>1.0</td>\n",
       "      <td>3.0</td>\n",
       "      <td>269.0</td>\n",
       "      <td>2.178880</td>\n",
       "      <td>1.0</td>\n",
       "      <td>0.0</td>\n",
       "      <td>0.0</td>\n",
       "      <td>1.0</td>\n",
       "      <td>0</td>\n",
       "      <td>0</td>\n",
       "      <td>1</td>\n",
       "      <td>0</td>\n",
       "      <td>0</td>\n",
       "      <td>1</td>\n",
       "      <td>1</td>\n",
       "    </tr>\n",
       "    <tr>\n",
       "      <th>1</th>\n",
       "      <td>22721624</td>\n",
       "      <td>200930</td>\n",
       "      <td>-1.407328</td>\n",
       "      <td>2.0</td>\n",
       "      <td>Science</td>\n",
       "      <td>NaN</td>\n",
       "      <td>NaN</td>\n",
       "      <td>Science</td>\n",
       "      <td>NaN</td>\n",
       "      <td>NaN</td>\n",
       "      <td>Science</td>\n",
       "      <td>NaN</td>\n",
       "      <td>1.0</td>\n",
       "      <td>1.0</td>\n",
       "      <td>Black or African American</td>\n",
       "      <td>3.0</td>\n",
       "      <td>F</td>\n",
       "      <td>2.0</td>\n",
       "      <td>3.0</td>\n",
       "      <td>2.0</td>\n",
       "      <td>2.0</td>\n",
       "      <td>4.0</td>\n",
       "      <td>2.0</td>\n",
       "      <td>4.0</td>\n",
       "      <td>2.0</td>\n",
       "      <td>...</td>\n",
       "      <td>4.0</td>\n",
       "      <td>3.0</td>\n",
       "      <td>2.0</td>\n",
       "      <td>2.0</td>\n",
       "      <td>3.0</td>\n",
       "      <td>2.0</td>\n",
       "      <td>2.0</td>\n",
       "      <td>2.0</td>\n",
       "      <td>2.0</td>\n",
       "      <td>2.0</td>\n",
       "      <td>1.0</td>\n",
       "      <td>2.0</td>\n",
       "      <td>210.0</td>\n",
       "      <td>-0.836599</td>\n",
       "      <td>1.0</td>\n",
       "      <td>0.0</td>\n",
       "      <td>0.0</td>\n",
       "      <td>1.0</td>\n",
       "      <td>0</td>\n",
       "      <td>0</td>\n",
       "      <td>1</td>\n",
       "      <td>0</td>\n",
       "      <td>1</td>\n",
       "      <td>1</td>\n",
       "      <td>1</td>\n",
       "    </tr>\n",
       "    <tr>\n",
       "      <th>2</th>\n",
       "      <td>35604291</td>\n",
       "      <td>200930</td>\n",
       "      <td>0.745614</td>\n",
       "      <td>1.0</td>\n",
       "      <td>Arts</td>\n",
       "      <td>NaN</td>\n",
       "      <td>NaN</td>\n",
       "      <td>NaN</td>\n",
       "      <td>NaN</td>\n",
       "      <td>NaN</td>\n",
       "      <td>NaN</td>\n",
       "      <td>NaN</td>\n",
       "      <td>3.0</td>\n",
       "      <td>0.0</td>\n",
       "      <td>White</td>\n",
       "      <td>5.0</td>\n",
       "      <td>M</td>\n",
       "      <td>2.0</td>\n",
       "      <td>2.0</td>\n",
       "      <td>3.0</td>\n",
       "      <td>2.0</td>\n",
       "      <td>2.0</td>\n",
       "      <td>4.0</td>\n",
       "      <td>2.0</td>\n",
       "      <td>2.0</td>\n",
       "      <td>...</td>\n",
       "      <td>2.0</td>\n",
       "      <td>3.0</td>\n",
       "      <td>3.0</td>\n",
       "      <td>3.0</td>\n",
       "      <td>3.0</td>\n",
       "      <td>4.0</td>\n",
       "      <td>4.0</td>\n",
       "      <td>2.0</td>\n",
       "      <td>2.0</td>\n",
       "      <td>2.0</td>\n",
       "      <td>1.0</td>\n",
       "      <td>2.0</td>\n",
       "      <td>241.0</td>\n",
       "      <td>0.747805</td>\n",
       "      <td>1.0</td>\n",
       "      <td>0.0</td>\n",
       "      <td>0.0</td>\n",
       "      <td>1.0</td>\n",
       "      <td>0</td>\n",
       "      <td>0</td>\n",
       "      <td>0</td>\n",
       "      <td>0</td>\n",
       "      <td>0</td>\n",
       "      <td>0</td>\n",
       "      <td>0</td>\n",
       "    </tr>\n",
       "    <tr>\n",
       "      <th>3</th>\n",
       "      <td>23250759</td>\n",
       "      <td>200930</td>\n",
       "      <td>0.149933</td>\n",
       "      <td>1.0</td>\n",
       "      <td>Science</td>\n",
       "      <td>NaN</td>\n",
       "      <td>NaN</td>\n",
       "      <td>NaN</td>\n",
       "      <td>NaN</td>\n",
       "      <td>NaN</td>\n",
       "      <td>NaN</td>\n",
       "      <td>NaN</td>\n",
       "      <td>4.0</td>\n",
       "      <td>0.0</td>\n",
       "      <td>White</td>\n",
       "      <td>5.0</td>\n",
       "      <td>M</td>\n",
       "      <td>2.0</td>\n",
       "      <td>2.0</td>\n",
       "      <td>2.0</td>\n",
       "      <td>2.0</td>\n",
       "      <td>3.0</td>\n",
       "      <td>3.0</td>\n",
       "      <td>3.0</td>\n",
       "      <td>4.0</td>\n",
       "      <td>...</td>\n",
       "      <td>4.0</td>\n",
       "      <td>3.0</td>\n",
       "      <td>3.0</td>\n",
       "      <td>4.0</td>\n",
       "      <td>3.0</td>\n",
       "      <td>3.0</td>\n",
       "      <td>3.0</td>\n",
       "      <td>3.0</td>\n",
       "      <td>3.0</td>\n",
       "      <td>3.0</td>\n",
       "      <td>1.0</td>\n",
       "      <td>2.0</td>\n",
       "      <td>224.0</td>\n",
       "      <td>-0.121062</td>\n",
       "      <td>1.0</td>\n",
       "      <td>0.0</td>\n",
       "      <td>0.0</td>\n",
       "      <td>1.0</td>\n",
       "      <td>0</td>\n",
       "      <td>0</td>\n",
       "      <td>0</td>\n",
       "      <td>0</td>\n",
       "      <td>0</td>\n",
       "      <td>1</td>\n",
       "      <td>0</td>\n",
       "    </tr>\n",
       "    <tr>\n",
       "      <th>4</th>\n",
       "      <td>23269092</td>\n",
       "      <td>200930</td>\n",
       "      <td>-0.973841</td>\n",
       "      <td>1.0</td>\n",
       "      <td>Science</td>\n",
       "      <td>NaN</td>\n",
       "      <td>NaN</td>\n",
       "      <td>NaN</td>\n",
       "      <td>NaN</td>\n",
       "      <td>NaN</td>\n",
       "      <td>NaN</td>\n",
       "      <td>NaN</td>\n",
       "      <td>4.0</td>\n",
       "      <td>1.0</td>\n",
       "      <td>Asian</td>\n",
       "      <td>2.0</td>\n",
       "      <td>F</td>\n",
       "      <td>2.0</td>\n",
       "      <td>2.0</td>\n",
       "      <td>2.0</td>\n",
       "      <td>2.0</td>\n",
       "      <td>NaN</td>\n",
       "      <td>2.0</td>\n",
       "      <td>NaN</td>\n",
       "      <td>2.0</td>\n",
       "      <td>...</td>\n",
       "      <td>NaN</td>\n",
       "      <td>2.0</td>\n",
       "      <td>2.0</td>\n",
       "      <td>3.0</td>\n",
       "      <td>4.0</td>\n",
       "      <td>2.0</td>\n",
       "      <td>2.0</td>\n",
       "      <td>2.0</td>\n",
       "      <td>2.0</td>\n",
       "      <td>2.0</td>\n",
       "      <td>1.0</td>\n",
       "      <td>2.0</td>\n",
       "      <td>197.0</td>\n",
       "      <td>-1.501027</td>\n",
       "      <td>1.0</td>\n",
       "      <td>0.0</td>\n",
       "      <td>0.0</td>\n",
       "      <td>1.0</td>\n",
       "      <td>0</td>\n",
       "      <td>0</td>\n",
       "      <td>0</td>\n",
       "      <td>0</td>\n",
       "      <td>0</td>\n",
       "      <td>1</td>\n",
       "      <td>0</td>\n",
       "    </tr>\n",
       "    <tr>\n",
       "      <th>5</th>\n",
       "      <td>23977774</td>\n",
       "      <td>200930</td>\n",
       "      <td>-2.205663</td>\n",
       "      <td>2.0</td>\n",
       "      <td>Other</td>\n",
       "      <td>NaN</td>\n",
       "      <td>NaN</td>\n",
       "      <td>NaN</td>\n",
       "      <td>NaN</td>\n",
       "      <td>NaN</td>\n",
       "      <td>NaN</td>\n",
       "      <td>NaN</td>\n",
       "      <td>4.0</td>\n",
       "      <td>1.0</td>\n",
       "      <td>Black or African American</td>\n",
       "      <td>3.0</td>\n",
       "      <td>F</td>\n",
       "      <td>2.0</td>\n",
       "      <td>2.0</td>\n",
       "      <td>2.0</td>\n",
       "      <td>2.0</td>\n",
       "      <td>NaN</td>\n",
       "      <td>2.0</td>\n",
       "      <td>NaN</td>\n",
       "      <td>2.0</td>\n",
       "      <td>...</td>\n",
       "      <td>NaN</td>\n",
       "      <td>3.0</td>\n",
       "      <td>2.0</td>\n",
       "      <td>2.0</td>\n",
       "      <td>4.0</td>\n",
       "      <td>2.0</td>\n",
       "      <td>2.0</td>\n",
       "      <td>2.0</td>\n",
       "      <td>2.0</td>\n",
       "      <td>2.0</td>\n",
       "      <td>1.0</td>\n",
       "      <td>2.0</td>\n",
       "      <td>198.0</td>\n",
       "      <td>-1.449917</td>\n",
       "      <td>1.0</td>\n",
       "      <td>0.0</td>\n",
       "      <td>0.0</td>\n",
       "      <td>1.0</td>\n",
       "      <td>0</td>\n",
       "      <td>0</td>\n",
       "      <td>0</td>\n",
       "      <td>0</td>\n",
       "      <td>0</td>\n",
       "      <td>0</td>\n",
       "      <td>0</td>\n",
       "    </tr>\n",
       "    <tr>\n",
       "      <th>6</th>\n",
       "      <td>24052658</td>\n",
       "      <td>200930</td>\n",
       "      <td>0.411666</td>\n",
       "      <td>2.0</td>\n",
       "      <td>Science</td>\n",
       "      <td>Science</td>\n",
       "      <td>NaN</td>\n",
       "      <td>Science</td>\n",
       "      <td>NaN</td>\n",
       "      <td>NaN</td>\n",
       "      <td>NaN</td>\n",
       "      <td>NaN</td>\n",
       "      <td>3.0</td>\n",
       "      <td>0.0</td>\n",
       "      <td>White</td>\n",
       "      <td>5.0</td>\n",
       "      <td>F</td>\n",
       "      <td>2.0</td>\n",
       "      <td>NaN</td>\n",
       "      <td>NaN</td>\n",
       "      <td>2.0</td>\n",
       "      <td>NaN</td>\n",
       "      <td>2.0</td>\n",
       "      <td>2.0</td>\n",
       "      <td>2.0</td>\n",
       "      <td>...</td>\n",
       "      <td>NaN</td>\n",
       "      <td>2.0</td>\n",
       "      <td>2.0</td>\n",
       "      <td>2.0</td>\n",
       "      <td>4.0</td>\n",
       "      <td>3.0</td>\n",
       "      <td>2.0</td>\n",
       "      <td>2.0</td>\n",
       "      <td>3.0</td>\n",
       "      <td>2.0</td>\n",
       "      <td>1.0</td>\n",
       "      <td>4.0</td>\n",
       "      <td>229.0</td>\n",
       "      <td>0.134487</td>\n",
       "      <td>1.0</td>\n",
       "      <td>0.0</td>\n",
       "      <td>0.0</td>\n",
       "      <td>1.0</td>\n",
       "      <td>0</td>\n",
       "      <td>1</td>\n",
       "      <td>1</td>\n",
       "      <td>0</td>\n",
       "      <td>0</td>\n",
       "      <td>1</td>\n",
       "      <td>1</td>\n",
       "    </tr>\n",
       "  </tbody>\n",
       "</table>\n",
       "<p>7 rows × 53 columns</p>\n",
       "</div>"
      ],
      "text/plain": [
       "   student_id  m1_fall  mcat_zscore  mcat_total_attempts bachelor_1  \\\n",
       "0    30705306   200930     2.505529                  1.0    Science   \n",
       "1    22721624   200930    -1.407328                  2.0    Science   \n",
       "2    35604291   200930     0.745614                  1.0       Arts   \n",
       "3    23250759   200930     0.149933                  1.0    Science   \n",
       "4    23269092   200930    -0.973841                  1.0    Science   \n",
       "5    23977774   200930    -2.205663                  2.0      Other   \n",
       "6    24052658   200930     0.411666                  2.0    Science   \n",
       "\n",
       "  bachelor_2 bachelor_3 master_1 master_2 master_3 associate_1 associate_2  \\\n",
       "0        NaN        NaN  Science      NaN      NaN         NaN         NaN   \n",
       "1        NaN        NaN  Science      NaN      NaN     Science         NaN   \n",
       "2        NaN        NaN      NaN      NaN      NaN         NaN         NaN   \n",
       "3        NaN        NaN      NaN      NaN      NaN         NaN         NaN   \n",
       "4        NaN        NaN      NaN      NaN      NaN         NaN         NaN   \n",
       "5        NaN        NaN      NaN      NaN      NaN         NaN         NaN   \n",
       "6    Science        NaN  Science      NaN      NaN         NaN         NaN   \n",
       "\n",
       "   biochem_likelyhood  gem_indicator                       race  race_indic  \\\n",
       "0                 4.0            0.0                      White         5.0   \n",
       "1                 1.0            1.0  Black or African American         3.0   \n",
       "2                 3.0            0.0                      White         5.0   \n",
       "3                 4.0            0.0                      White         5.0   \n",
       "4                 4.0            1.0                      Asian         2.0   \n",
       "5                 4.0            1.0  Black or African American         3.0   \n",
       "6                 3.0            0.0                      White         5.0   \n",
       "\n",
       "  gender  m1f_limbs  m1f_metabolism_nutrition_and_endo  \\\n",
       "0      M        4.0                                4.0   \n",
       "1      F        2.0                                3.0   \n",
       "2      M        2.0                                2.0   \n",
       "3      M        2.0                                2.0   \n",
       "4      F        2.0                                2.0   \n",
       "5      F        2.0                                2.0   \n",
       "6      F        2.0                                NaN   \n",
       "\n",
       "   m1f_molecular_and_cell_physiology  m1f_molecular_and_human_genetics  \\\n",
       "0                                4.0                               4.0   \n",
       "1                                2.0                               2.0   \n",
       "2                                3.0                               2.0   \n",
       "3                                2.0                               2.0   \n",
       "4                                2.0                               2.0   \n",
       "5                                2.0                               2.0   \n",
       "6                                NaN                               2.0   \n",
       "\n",
       "   m1s_cardio_pulmonary  m1s_ebm_and_population_health  m1s_gastrointestinal  \\\n",
       "0                   4.0                            3.0                   4.0   \n",
       "1                   4.0                            2.0                   4.0   \n",
       "2                   2.0                            4.0                   2.0   \n",
       "3                   3.0                            3.0                   3.0   \n",
       "4                   NaN                            2.0                   NaN   \n",
       "5                   NaN                            2.0                   NaN   \n",
       "6                   NaN                            2.0                   2.0   \n",
       "\n",
       "   m1s_head_neck_and_special_senses       ...        \\\n",
       "0                               3.0       ...         \n",
       "1                               2.0       ...         \n",
       "2                               2.0       ...         \n",
       "3                               4.0       ...         \n",
       "4                               2.0       ...         \n",
       "5                               2.0       ...         \n",
       "6                               2.0       ...         \n",
       "\n",
       "   m1s_renal_and_electrolytes  m1s_sexual_dev__and_reproduction  \\\n",
       "0                         4.0                               4.0   \n",
       "1                         4.0                               3.0   \n",
       "2                         2.0                               3.0   \n",
       "3                         4.0                               3.0   \n",
       "4                         NaN                               2.0   \n",
       "5                         NaN                               3.0   \n",
       "6                         NaN                               2.0   \n",
       "\n",
       "   m2s_clinical_skills_primer  m2s_evidence_based_medicine_ii  \\\n",
       "0                         3.0                             2.0   \n",
       "1                         2.0                             2.0   \n",
       "2                         3.0                             3.0   \n",
       "3                         3.0                             4.0   \n",
       "4                         2.0                             3.0   \n",
       "5                         2.0                             2.0   \n",
       "6                         2.0                             2.0   \n",
       "\n",
       "   m2s_health_care_ethics  m2s_human_sexuality  \\\n",
       "0                     4.0                  3.0   \n",
       "1                     3.0                  2.0   \n",
       "2                     3.0                  4.0   \n",
       "3                     3.0                  3.0   \n",
       "4                     4.0                  2.0   \n",
       "5                     4.0                  2.0   \n",
       "6                     4.0                  3.0   \n",
       "\n",
       "   m2s_lab_medicine_pblm_solving_case  m2s_microbiology_and_immunology  \\\n",
       "0                                 4.0                              4.0   \n",
       "1                                 2.0                              2.0   \n",
       "2                                 4.0                              2.0   \n",
       "3                                 3.0                              3.0   \n",
       "4                                 2.0                              2.0   \n",
       "5                                 2.0                              2.0   \n",
       "6                                 2.0                              2.0   \n",
       "\n",
       "   m2s_pathology  m2s_pharmacology  m2s_physical_diagnosis_ii  m2s_psychiatry  \\\n",
       "0            4.0               4.0                        1.0             3.0   \n",
       "1            2.0               2.0                        1.0             2.0   \n",
       "2            2.0               2.0                        1.0             2.0   \n",
       "3            3.0               3.0                        1.0             2.0   \n",
       "4            2.0               2.0                        1.0             2.0   \n",
       "5            2.0               2.0                        1.0             2.0   \n",
       "6            3.0               2.0                        1.0             4.0   \n",
       "\n",
       "   step1_raw_score  step1_z_score  step1_pass_indicator  repeat_indic  \\\n",
       "0            269.0       2.178880                   1.0           0.0   \n",
       "1            210.0      -0.836599                   1.0           0.0   \n",
       "2            241.0       0.747805                   1.0           0.0   \n",
       "3            224.0      -0.121062                   1.0           0.0   \n",
       "4            197.0      -1.501027                   1.0           0.0   \n",
       "5            198.0      -1.449917                   1.0           0.0   \n",
       "6            229.0       0.134487                   1.0           0.0   \n",
       "\n",
       "   dropout_indic  step1_total_attempts  target_indicator  double_bachelor  \\\n",
       "0            0.0                   1.0                 0                0   \n",
       "1            0.0                   1.0                 0                0   \n",
       "2            0.0                   1.0                 0                0   \n",
       "3            0.0                   1.0                 0                0   \n",
       "4            0.0                   1.0                 0                0   \n",
       "5            0.0                   1.0                 0                0   \n",
       "6            0.0                   1.0                 0                1   \n",
       "\n",
       "   master_degree  double_master  associate_degree  science_undergrad  \\\n",
       "0              1              0                 0                  1   \n",
       "1              1              0                 1                  1   \n",
       "2              0              0                 0                  0   \n",
       "3              0              0                 0                  1   \n",
       "4              0              0                 0                  1   \n",
       "5              0              0                 0                  0   \n",
       "6              1              0                 0                  1   \n",
       "\n",
       "   science_master  \n",
       "0               1  \n",
       "1               1  \n",
       "2               0  \n",
       "3               0  \n",
       "4               0  \n",
       "5               0  \n",
       "6               1  \n",
       "\n",
       "[7 rows x 53 columns]"
      ]
     },
     "execution_count": 32,
     "metadata": {},
     "output_type": "execute_result"
    }
   ],
   "source": [
    "# Quick reminder of what our features are.\n",
    "\n",
    "df.head(7)"
   ]
  },
  {
   "cell_type": "code",
   "execution_count": 33,
   "metadata": {},
   "outputs": [
    {
     "data": {
      "text/html": [
       "<div>\n",
       "<style scoped>\n",
       "    .dataframe tbody tr th:only-of-type {\n",
       "        vertical-align: middle;\n",
       "    }\n",
       "\n",
       "    .dataframe tbody tr th {\n",
       "        vertical-align: top;\n",
       "    }\n",
       "\n",
       "    .dataframe thead th {\n",
       "        text-align: right;\n",
       "    }\n",
       "</style>\n",
       "<table border=\"1\" class=\"dataframe\">\n",
       "  <thead>\n",
       "    <tr style=\"text-align: right;\">\n",
       "      <th></th>\n",
       "      <th>m1f_limbs</th>\n",
       "      <th>m1f_metabolism_nutrition_and_endo</th>\n",
       "      <th>m1f_molecular_and_cell_physiology</th>\n",
       "      <th>m1f_molecular_and_human_genetics</th>\n",
       "      <th>m1s_cardio_pulmonary</th>\n",
       "      <th>m1s_ebm_and_population_health</th>\n",
       "      <th>m1s_gastrointestinal</th>\n",
       "      <th>m1s_head_neck_and_special_senses</th>\n",
       "      <th>m1s_medical_neuroscience</th>\n",
       "      <th>m1s_patients_populations_and_policy</th>\n",
       "      <th>m1s_physical_diagnosis_i</th>\n",
       "      <th>m1s_renal_and_electrolytes</th>\n",
       "      <th>m1s_sexual_dev__and_reproduction</th>\n",
       "      <th>m2s_clinical_skills_primer</th>\n",
       "      <th>m2s_evidence_based_medicine_ii</th>\n",
       "      <th>m2s_health_care_ethics</th>\n",
       "      <th>m2s_human_sexuality</th>\n",
       "      <th>m2s_lab_medicine_pblm_solving_case</th>\n",
       "      <th>m2s_microbiology_and_immunology</th>\n",
       "      <th>m2s_pathology</th>\n",
       "      <th>m2s_pharmacology</th>\n",
       "      <th>m2s_physical_diagnosis_ii</th>\n",
       "      <th>m2s_psychiatry</th>\n",
       "    </tr>\n",
       "  </thead>\n",
       "  <tbody>\n",
       "    <tr>\n",
       "      <th>0</th>\n",
       "      <td>4.0</td>\n",
       "      <td>4.0</td>\n",
       "      <td>4.0</td>\n",
       "      <td>4.0</td>\n",
       "      <td>4.0</td>\n",
       "      <td>3.0</td>\n",
       "      <td>4.0</td>\n",
       "      <td>3.0</td>\n",
       "      <td>4.0</td>\n",
       "      <td>NaN</td>\n",
       "      <td>1.0</td>\n",
       "      <td>4.0</td>\n",
       "      <td>4.0</td>\n",
       "      <td>3.0</td>\n",
       "      <td>2.0</td>\n",
       "      <td>4.0</td>\n",
       "      <td>3.0</td>\n",
       "      <td>4.0</td>\n",
       "      <td>4.0</td>\n",
       "      <td>4.0</td>\n",
       "      <td>4.0</td>\n",
       "      <td>1.0</td>\n",
       "      <td>3.0</td>\n",
       "    </tr>\n",
       "    <tr>\n",
       "      <th>1</th>\n",
       "      <td>2.0</td>\n",
       "      <td>3.0</td>\n",
       "      <td>2.0</td>\n",
       "      <td>2.0</td>\n",
       "      <td>4.0</td>\n",
       "      <td>2.0</td>\n",
       "      <td>4.0</td>\n",
       "      <td>2.0</td>\n",
       "      <td>2.0</td>\n",
       "      <td>NaN</td>\n",
       "      <td>1.0</td>\n",
       "      <td>4.0</td>\n",
       "      <td>3.0</td>\n",
       "      <td>2.0</td>\n",
       "      <td>2.0</td>\n",
       "      <td>3.0</td>\n",
       "      <td>2.0</td>\n",
       "      <td>2.0</td>\n",
       "      <td>2.0</td>\n",
       "      <td>2.0</td>\n",
       "      <td>2.0</td>\n",
       "      <td>1.0</td>\n",
       "      <td>2.0</td>\n",
       "    </tr>\n",
       "    <tr>\n",
       "      <th>2</th>\n",
       "      <td>2.0</td>\n",
       "      <td>2.0</td>\n",
       "      <td>3.0</td>\n",
       "      <td>2.0</td>\n",
       "      <td>2.0</td>\n",
       "      <td>4.0</td>\n",
       "      <td>2.0</td>\n",
       "      <td>2.0</td>\n",
       "      <td>3.0</td>\n",
       "      <td>NaN</td>\n",
       "      <td>1.0</td>\n",
       "      <td>2.0</td>\n",
       "      <td>3.0</td>\n",
       "      <td>3.0</td>\n",
       "      <td>3.0</td>\n",
       "      <td>3.0</td>\n",
       "      <td>4.0</td>\n",
       "      <td>4.0</td>\n",
       "      <td>2.0</td>\n",
       "      <td>2.0</td>\n",
       "      <td>2.0</td>\n",
       "      <td>1.0</td>\n",
       "      <td>2.0</td>\n",
       "    </tr>\n",
       "    <tr>\n",
       "      <th>3</th>\n",
       "      <td>2.0</td>\n",
       "      <td>2.0</td>\n",
       "      <td>2.0</td>\n",
       "      <td>2.0</td>\n",
       "      <td>3.0</td>\n",
       "      <td>3.0</td>\n",
       "      <td>3.0</td>\n",
       "      <td>4.0</td>\n",
       "      <td>3.0</td>\n",
       "      <td>NaN</td>\n",
       "      <td>1.0</td>\n",
       "      <td>4.0</td>\n",
       "      <td>3.0</td>\n",
       "      <td>3.0</td>\n",
       "      <td>4.0</td>\n",
       "      <td>3.0</td>\n",
       "      <td>3.0</td>\n",
       "      <td>3.0</td>\n",
       "      <td>3.0</td>\n",
       "      <td>3.0</td>\n",
       "      <td>3.0</td>\n",
       "      <td>1.0</td>\n",
       "      <td>2.0</td>\n",
       "    </tr>\n",
       "    <tr>\n",
       "      <th>4</th>\n",
       "      <td>2.0</td>\n",
       "      <td>2.0</td>\n",
       "      <td>2.0</td>\n",
       "      <td>2.0</td>\n",
       "      <td>NaN</td>\n",
       "      <td>2.0</td>\n",
       "      <td>NaN</td>\n",
       "      <td>2.0</td>\n",
       "      <td>2.0</td>\n",
       "      <td>NaN</td>\n",
       "      <td>1.0</td>\n",
       "      <td>NaN</td>\n",
       "      <td>2.0</td>\n",
       "      <td>2.0</td>\n",
       "      <td>3.0</td>\n",
       "      <td>4.0</td>\n",
       "      <td>2.0</td>\n",
       "      <td>2.0</td>\n",
       "      <td>2.0</td>\n",
       "      <td>2.0</td>\n",
       "      <td>2.0</td>\n",
       "      <td>1.0</td>\n",
       "      <td>2.0</td>\n",
       "    </tr>\n",
       "  </tbody>\n",
       "</table>\n",
       "</div>"
      ],
=======
      "3.0    789\n",
      "4.0    736\n",
      "1.0    180\n",
      "2.0     46\n",
      "Name: biochem_likelyhood, dtype: int64\n"
     ]
    },
    {
     "data": {
>>>>>>> 76ba5ac2a65248de6a9f2d92f0bb2d734973f638
      "text/plain": [
       "Text(0.5,1,'Distribution of Biochemistry Likelyhood')"
      ]
     },
     "execution_count": 23,
     "metadata": {},
     "output_type": "execute_result"
    },
    {
     "data": {
      "image/png": "iVBORw0KGgoAAAANSUhEUgAAAVAAAAFTCAYAAABvfFR3AAAABHNCSVQICAgIfAhkiAAAAAlwSFlzAAALEgAACxIB0t1+/AAAADl0RVh0U29mdHdhcmUAbWF0cGxvdGxpYiB2ZXJzaW9uIDIuMi4yLCBodHRwOi8vbWF0cGxvdGxpYi5vcmcvhp/UCwAAIABJREFUeJzt3Xm8HFWZ//HPl4Q1LGEJMSSBsESBEQkYEcWfIuDIHkZlwGEkYDQ6gwwqLlEZwREFRxQFFY2AJOiAEAXCMsqOK2ACYYchIiQhIVy2JOwGnt8f5zTp3PTtW7dy63Zf7vf9evWrq0+dqnq6bvdzT53qOqWIwMzMem6NVgdgZtZfOYGamZXkBGpmVpITqJlZSU6gZmYlOYGamZXkBFqSpB9L+s9eWteWkp6VNCi/vlHSx3pj3Xl9/ytpYm+trwfbPVnSE5IeK7n8s5K2Wc0YHpa0z+qso+B2Vvobtov6fSjpPEknl1jHnpIWFKzbq5/dJts5StIfqt5Od5xAG8hfuhckLZP0jKQ/SfqkpNf2V0R8MiK+XnBdTb/AETEvItaPiFd6IfaTJP280/r3i4hpq7vuHsYxGjge2DEi3tBg/p6SXs1f8GclPSrpa/V18j55qK9iXh1F/4ZVfPGbJcb+tA/7IyfQrh0UERsAWwGnAl8EzuntjUga3NvrbBNbAU9GxONN6izMX/D1gXcBkyQd0jfhta92a8Va15xAuxERSyJiJnAYMFHSm2Hl//qSNpN0RW6tPiXp95LWkHQ+sCVweW5lfUHSGEkhaZKkecD1dWX1yXRbSbdKWiLpMkmb5G2tcjhVa+VK2hf4MnBY3t4def5rh1U5rhMkPSLpcUnTJW2U59XimChpXj78/kpX+0bSRnn5jry+E/L69wGuAbbIcZxXYD//DfgTsGPd+kPSds22VVf345Luy0cN90ratW714yTdmfflLyWtU7fcgZLm1B1pvKXTfv18XvY5SedIGq7UJbJM0rWSNu607wbn10dJeijX+5ukIyTtAPwYeEfeL8/kuudJOkvSVZKeAz4raXH950HSByXN6W4/dla/DzuVbyDpBklnKFlb0mn5775YqYtq3QbLfV7SrzqVnSnpe3VFW0n6Y37vV0varK7uwZLuyfv7xrxPavN2yGXP5DoH183bVNJMSUsl3Qps29N9UYmI8KPTA3gY2KdB+Tzg3/L0ecDJefoU0hdjzfz4f4AarQsYAwQwHRgCrFtXNjjXuRF4FHhzrvMr4Od53p7Agq7iBU6q1a2bfyPwsTz9UWAusA2wPvBr4PxOsf00x7Uz8BKwQxf7aTpwGbBBXvb/gEldxdlp2ZXmA2Pze96rriyA7Qps69C87NsAAdsBW9Xtm1uBLYBNgPuAT+Z5uwKPA28HBgETc/2165a9GRgOjMx1bwN2AdYGrgdO7LTvBue/2VLgTXneCOAf8vRRwB867YvzgCXAHqRGzTrAvcB+dXUuAY7vYl+eR/4sNphXvw/PA04GNs375OS6et8DZuZ9tAFwOXBK579Vfi/PAUPz68F5v7y17rP2V+CNpM/QjcCped4b87LvI31PvkD6LK6VX88lNQDWAvYCltXtwwuBi/K+fXP+e/+h0Xvuy4dboD2zkPQB6+zvpA/WVhHx94j4feS/ehMnRcRzEfFCF/PPj4i7I+I54D+Bf1bvHNodAXw3Ih6KiGeBLwGHd2r9fi0iXoiIO4A7SIl0JTmWw4AvRcSyiHgY+A7wkR7EskVubSwlJcRbgFX6Bwts62PAf0fEXyKZGxGP1K3ijIhYGBFPkRLDuFz+ceAnEXFLRLwSqZ/4JWD3umXPjIjFEfEo8Hvgloi4PSJeIiW1Xbp4b68Cb5a0bkQsioh7utkXl0XEHyPi1Yh4EZgG/Gt+/5sA7wf+p5t1FLEFcBNwcUSckNcv0r74TEQ8FRHLgG8Ch3deOCIWAb8j/dMC2Bd4IiJm11X7WUT8X/5sX8SK/X0YcGVEXBMRfwdOIyXZd5L2+fqkZPtyRFwPXAF8OP/9Pwh8NX9n7s77p+WcQHtmJPBUg/Jvk/57Xp0P26YUWNf8Hsx/hPQferMu6vbEFnl99eseTGpl1dSfNX+e9MHubDNSS6Hzukb2IJaFETE0IjYEhgIv0PiL0d22RpNaPV3p6v1sBRyfk/gz+ZB6NGkf1Syum36hwetV9k3+p3cY8ElgkaQrJW3fJD5Y9fPwc+AgSesD/wz8Piev1XUAKWn9uK5sGLAeMLtuP/wmlzfyWnLPz+d3mt/V/l7psxcRr5Le98g8b34uq6n9jYeRPqOdvxMt5wRakKS3kf6Yq7SQcqvo+IjYBjiI1Ie1d212F6vsroU6um56S1Ir9wnSIdB6dXENYuUPenfrXUhKHPXrXs7KiaGIJ3JMndf1aA/XA6S+ZlIL66AS25pPuT6x+cA3chKvPdaLiAtKrGslEfHbiHgf6cjkflK3CBT8POQW75+BfyK1tDsnqbJ+SkqOV0kaksueIP0z+Ie6/bBRpJN7jVwKvEXpfMCBwC8Kbnulz15u+Y4m/R0XAqPr+7VZ8TfuIH1GO38nWs4JtBuSNpR0IKkP5ucRcVeDOgdK2i5/IJYCr+QHpMRU5reM/yppR0nrAf8FzIj0E5n/A9aRdICkNYETSP1xNYuBMZ0+iPUuAD4jaevcuvkm8MuIWN6T4HIsFwHfyCcktgI+S2o59ViO5XBglUPdAts6G/icpLfmEyLb5Trd+SnwSUlvz8sNyft1gzLvoe69DM8nS4aQugSeZeXPwyhJaxVY1XRSP+FOpO6CZgZJWqfu0Wz9nwIeAK7IXQyvkvbF6ZI2z+9hpKT3N1o4dzHMIP3DuzUi5hV4L5D+hgdI2jt/do8n7Z8/kbpvngO+IGlNSXuS/plemP/+vwZOkrSepB1J/dUt5wTatcslLSO1Ur4CfBc4uou6Y4FrSV+UPwM/iogb87xTgBPyodHnerD980md/o+RTir8B7zWUvt3UtJ4lPShqz8rf3F+flLSbQ3We25e9++AvwEvAsf2IK56x+btP0Rqmf9PXn9RtbP0z5IOyTYh9dH2aFsRcTHwjVy2jNRCatRXvZKImEXq+/sB8DSpG+aoHsTflTVIyWEhqcvnPaS/GaQTT/cAj0l6opv1XEJqsV2SuwWamUJqRdYe13dVMffPTyZ9ti9T+lXCF0nv/+bcJ30t8KYm25tGSuyFW8YR8QDpkP9MUqv3INLPBV+OiJeBg4H98rwfAUdGxP158U+RugIeI30vflZ0u1WqnSk2szYk6a/AJyLi2lbHUk/SlqSuiTdExNJWx9MqboGatSlJHyT1jXbZmmyF3D30WdLh9YBNnpDObJlZm5F0I+migo90OjPdUrlfdzGpy2XfFofTcj6ENzMryYfwZmYlOYGamZXUr/tAN9tssxgzZkyrwzCz15nZs2c/ERFdXYn1mn6dQMeMGcOsWbNaHYaZvc5IKnSpqA/hzcxKcgI1MyvJCdTMrCQnUDOzkipNoJI+k4fmv1vSBXmUmK0l3SLpQaXbK6yV666dX8/N88dUGZuZ2eqqLIFKGkkaQWh8RLyZdMuEw4FvAadHxFjSCDiT8iKTgKcjYjvg9FzPzKxtVX0IPxhYN98uYj1gEeleJzPy/GlA7S6ME1gxGvkMYO88vqaZWVuqLIHmEbVPI92IbRHpplmzgWfqBu9dwIrbMowkD9mf5y8h3fxqJZImS5olaVZHR0dV4ZuZdavKQ/iNSa3KrUn3OxlCGiy1s9poJo1am6uMdBIRUyNifESMHzas2wsFzMwqU+Uh/D7A3yKiI9+B79eku+8NrbsD5CjSqN2QWqOjAfL8jWh8Azczs7ZQZQKdB+ye72EiYG/Sva5vAD6U60wk3esb0j2pa/c5+RBwfYFbA5uZtUxl18JHxC2SZgC3ke6odzswFbgSuFDSybnsnLzIOcD5kuaSWp6r3JO6KmOmXNlXm2rq4VMPaHUIZtYDlQ4mEhEnAid2Kn4I2K1B3ReBQ6uMx8ysN/lKJDOzkpxAzcxKcgI1MyvJCdTMrCQnUDOzkpxAzcxKcgI1MyvJCdTMrCQnUDOzkpxAzcxKcgI1MyvJCdTMrCQnUDOzkpxAzcxKcgI1Myup0vFArR87aaNWR7DCSUtaHYFZQ26BmpmV5ARqZlaSE6iZWUlOoGZmJTmBmpmV5ARqZlaSE6iZWUmVJVBJb5I0p+6xVNKnJW0i6RpJD+bnjXN9STpD0lxJd0ratarYzMx6Q2UJNCIeiIhxETEOeCvwPHAJMAW4LiLGAtfl1wD7AWPzYzJwVlWxmZn1hr46hN8b+GtEPAJMAKbl8mnAIXl6AjA9kpuBoZJG9FF8ZmY91lcJ9HDggjw9PCIWAeTnzXP5SGB+3TILcpmZWVuqPIFKWgs4GLi4u6oNyqLB+iZLmiVpVkdHR2+EaGZWSl+0QPcDbouIxfn14tqheX5+PJcvAEbXLTcKWNh5ZRExNSLGR8T4YcOGVRi2mVlzfZFAP8yKw3eAmcDEPD0RuKyu/Mh8Nn53YEntUN/MrB1VOpydpPWA9wGfqCs+FbhI0iRgHnBoLr8K2B+YSzpjf3SVsZmZra5KE2hEPA9s2qnsSdJZ+c51AzimynjMzHqTr0QyMyvJCdTMrCQnUDOzkpxAzcxKcgI1MyvJCdTMrCQnUDOzkpxAzcxKcgI1MyvJCdTMrCQnUDOzkpxAzcxKcgI1MyvJCdTMrCQnUDOzkpxAzcxKcgI1MyvJCdTMrCQnUDOzkpxAzcxKcgI1MyvJCdTMrCQnUDOzkpxAzcxKqjSBShoqaYak+yXdJ+kdkjaRdI2kB/PzxrmuJJ0haa6kOyXtWmVsZmarq+oW6PeB30TE9sDOwH3AFOC6iBgLXJdfA+wHjM2PycBZFcdmZrZaKkugkjYE3g2cAxARL0fEM8AEYFquNg04JE9PAKZHcjMwVNKIquIzM1tdVbZAtwE6gJ9Jul3S2ZKGAMMjYhFAft481x8JzK9bfkEuMzNrS1Um0MHArsBZEbEL8BwrDtcbUYOyWKWSNFnSLEmzOjo6eidSM7MSqkygC4AFEXFLfj2DlFAX1w7N8/PjdfVH1y0/CljYeaURMTUixkfE+GHDhlUWvJlZdypLoBHxGDBf0pty0d7AvcBMYGIumwhclqdnAkfms/G7A0tqh/pmZu1ocMXrPxb4haS1gIeAo0lJ+yJJk4B5wKG57lXA/sBc4Plc18ysbVWaQCNiDjC+way9G9QN4Jgq4zEz602+EsnMrCQnUDOzkpxAzcxKcgI1MyvJCdTMrCQnUDOzkpxAzcxK6jaBSjpO0ob5CqFzJN0m6R/7Ijgzs3ZWpAX60YhYCvwjMIx0hdCplUZlZtYPFEmgtVGS9gd+FhF30HjkJDOzAaVIAp0t6WpSAv2tpA2AV6sNy8ys/RW5Fn4SMA54KCKel7QpHujDzKxQC/SaiLgt346DiHgSOL3asMzM2l+XLVBJ6wDrAZvlO2fW+j03BLbog9jMzNpas0P4TwCfJiXL2axIoEuBH1Ycl5lZ2+sygUbE94HvSzo2Is7sw5jMzPqFbk8iRcSZkt4JjKmvHxHTK4zLzKztdZtAJZ0PbAvMAV7JxQE4gZrZgFbkZ0zjgR3zLTfMzCwr8jOmu4E3VB2ImVl/U6QFuhlwr6RbgZdqhRFxcGVRmZn1A0US6ElVB2Fm1h8VOQt/k6StgLERca2k9YBB1YdmZtbeiowH+nFgBvCTXDQSuLTKoMzM+oMiJ5GOAfYgXYFERDwIbF5k5ZIelnSXpDmSZuWyTSRdI+nB/LxxLpekMyTNlXSnpF3LvSUzs75RJIG+FBEv115IGkz6HWhR742IcRExPr+eAlwXEWOB6/JrgP2AsfkxGTirB9swM+tzRRLoTZK+DKwr6X3AxcDlq7HNCcC0PD0NOKSufHokNwNDJY1Yje2YmVWqSAKdAnQAd5EGGLkKOKHg+gO4WtJsSZNz2fCIWASQn2vdASOB+XXLLshlZmZtqchZ+FeBn+ZHT+0REQslbQ5cI+n+JnUb3SZkla6CnIgnA2y55ZYlQjIz6x3NxgO9iyZ9nRHxlu5WHhEL8/Pjki4BdgMWSxoREYvyIfrjufoCYHTd4qOAhQ3WORWYCjB+/HhfXmpmLdPsEP5A4CDgN/lxRH5cRfpZU1OShuT7JyFpCOmunncDM4GJudpE4LI8PRM4Mp+N3x1YUjvUNzNrR83GA30EQNIeEbFH3awpkv4I/Fc36x4OXCKptp3/iYjfSPoLcJGkScA84NBc/yrSjevmAs/j+y6ZWZsrcinnEEnviog/AOSxQYd0t1BEPATs3KD8SWDvBuVB+s2pmVm/UPSunOdK2ii/fgb4aHUhmZn1D0XOws8Gdpa0IaCIWFJ9WGZm7a/IiPRf7fQagIjorg/UzOx1rcgh/HN10+uQzs7fV004Zmb9R5FD+O/Uv5Z0GuknR2ZmA1qRSzk7Ww/YprcDMTPrb4r0gdZfkTQIGAZ8vcqgzMz6gyJ9oAfWTS8HFkfE8oriMTPrN4ocwp8cEY/kx6MRsTzfK97MbEArkkD/of5FHlD5rdWEY2bWf3SZQCV9SdIy4C2Slkpall8vZsUAIGZmA1aXCTQiTomIDYBvR8SGEbFBfmwaEV/qwxjNzNpSs/FAtwKeqSVLSe8l3X7jYeCH9fdJMjMbiJr1gV5EHnVJ0jjSvZDmAeOAH1UfmplZe2v2M6Z1ayPKA/8KnBsR35G0BjCn+tDMzNpbsxZo/T2K9iLdgrh2jyQzswGvWQv0ekkXAYuAjYHrAfJ9jNz/aWYDXrME+mngMGAE8K6I+HsufwPwlaoDMzNrd83uiRTAhQ3Kb680IjOzfqLMaExmZoYTqJlZac0u5bwuP3+r78IxM+s/mp1EGiHpPcDBki5k5Z81ERG3VRqZmVmba5ZAvwpMAUYB3+00L0i/DTUzG7CanYWfAcyQ9J8RUXoEekmDgFnAoxFxoKStSWf3NwFuAz4SES9LWhuYThoq70ngsIh4uOx2zcyq1u1JpIj4uqSDJZ2WHwd2t0wnx7HyXTy/BZweEWOBp4FJuXwS8HREbAecnuuZmbWtbhOopFNISfDe/Dgul3VL0ijgAODs/FqkQ/8Zuco00ghPABPya/L8vVW7Cb2ZWRsqck+kA4BxtWvgJU0DbgeKjAn6PeALwAb59aakIfJq91RaAIzM0yOB+QD5tiFLcv0nCmzHzKzPFf0d6NC66Y2KLJAP9R+PiNn1xQ2qRoF59eudLGmWpFkdHR1FQjEzq0SRFugpwO2SbiAluXdTrPW5B+knUPsD6wAbklqkQyUNzq3QUUBtyLwFwGhgQb7v0kbAU51XGhFTgakA48ePXyXBmpn1lSInkS4Adgd+nR/viIhVrpFvsNyXImJURIwBDgeuj4gjgBuAD+VqE1lxf6WZ+TV5/vX5enwzs7ZUpAVKRCwiJbje8EXgQkknk/pSz8nl5wDnS5pLanke3kvbMzOrRKEEuroi4kbgxjz9ELBbgzovAof2RTxmZr3Bg4mYmZXUNIFKWkPS3X0VjJlZf9I0gebfft4hacs+isfMrN8o0gc6ArhH0q3Ac7XCiDi4sqjMzPqBIgn0a5VHYWbWD3WbQCPiJklbAWMj4lpJ6wGDqg/NzKy9FRlM5OOkwT1+kotGApdWGZSZWX9Q5GdMx5Auy1wKEBEPAptXGZSZWX9QJIG+FBEv117k69R9iaWZDXhFEuhNkr4MrCvpfcDFwOXVhmVm1v6KJNApQAdwF/AJ4CrghCqDMjPrD4qchX81D6J8C+nQ/QGPkmRmViCBSjoA+DHwV9J4oFtL+kRE/G/VwZmZtbMiP6T/DvDeiJgLIGlb4ErACdTMBrQifaCP15Jn9hDweEXxmJn1G122QCV9IE/eI+kq4CJSH+ihwF/6IDYzs7bW7BD+oLrpxcB78nQHsHFlEZmZ9RNdJtCIOLovAzEz62+KnIXfGjgWGFNf38PZmdlAV+Qs/KWkG75dDrxabThmZv1HkQT6YkScUXkkZmb9TJEE+n1JJwJXAy/VCiPitsqiMjPrB4ok0J2AjwB7seIQPvJrM7MBq0gC/Sdgm/oh7czMrNiVSHcAQ3u6YknrSLpV0h2S7pH0tVy+taRbJD0o6ZeS1srla+fXc/P8MT3dpplZXyqSQIcD90v6raSZtUeB5V4C9oqInYFxwL6Sdge+BZweEWOBp4FJuf4k4OmI2A44PdczM2tbRQ7hTyyz4jzk3bP55Zr5Ues7/ZdcPg04CTgLmJCnId2D6QeS5KHzzKxdFborZ9mVSxoEzAa2A35IGhLvmYhYnqssIN2kjvw8P29zuaQlwKbAE2W3b2ZWpSJ35VwmaWl+vCjpFUlLi6w8Il6JiHHAKGA3YIdG1WqbajKvPp7JkmZJmtXR0VEkDDOzSnSbQCNig4jYMD/WAT4I/KAnG4mIZ4Abgd2BofnGdJAS68I8vQAYDa/duG4j4KkG65oaEeMjYvywYcN6EoaZWa8qchJpJRFxKQV+AyppmKSheXpdYB/gPuAG4EO52kTgsjw9M78mz7/e/Z9m1s6KDCbygbqXawDjKXZb4xHAtNwPugZwUURcIele4EJJJwO3k66zJz+fL2kuqeV5ePG3YWbW94qcha8fF3Q58DDpjHlTEXEnsEuD8odI/aGdy18kDdZsZtYvFDkL73FBzcwaaHZLj682WS4i4usVxGNm1m80a4E+16BsCOmKoU0BJ1AzG9Ca3dLjO7VpSRsAxwFHAxeSbnVsZjagNe0DlbQJ8FngCNJll7tGxNN9EZiZWbtr1gf6beADwFRgp4h4tqu6ZmYDUbMf0h8PbAGcACysu5xzWdFLOc3MXs+a9YH2+ColM7OBxEnSzKwkJ1Azs5KcQM3MSnICNTMryQnUzKwkJ1Azs5KcQM3MSnICNTMryQnUzKwkJ1Azs5KcQM3MSnICNTMryQnUzKwkJ1Azs5KcQM3MSqosgUoaLekGSfdJukfScbl8E0nXSHowP2+cyyXpDElzJd0padeqYjMz6w1VtkCXA8dHxA7A7sAxknYEpgDXRcRY4Lr8GmA/YGx+TAbOqjA2M7PVVlkCjYhFEXFbnl4G3AeMBCaQblBHfj4kT08ApkdyMzBU0oiq4jMzW1190gcqaQywC3ALMDwiFkFKssDmudpIYH7dYgtymZlZW6o8gUpaH/gV8OmIaHYzOjUoiwbrmyxplqRZHR0dvRWmmVmPVZpAJa1JSp6/iIhf5+LFtUPz/Px4Ll8AjK5bfBSwsPM6I2JqRIyPiPHDhg2rLngzs25UeRZewDnAfRHx3bpZM4GJeXoicFld+ZH5bPzuwJLaob6ZWTvq8rbGvWAP4CPAXZLm5LIvA6cCF0maBMwDDs3zrgL2B+YCzwNHVxibmdlqqyyBRsQfaNyvCbB3g/oBHFNVPGZmvc1XIpmZleQEamZWUpV9oGavOztN26nVIbzmrol3tTqEAc8tUDOzkpxAzcxKcgI1MyvJCdTMrCQnUDOzkpxAzcxKcgI1MyvJCdTMrCQnUDOzkpxAzcxKcgI1MyvJCdTMrCQnUDOzkpxAzcxKcgI1MyvJCdTMrCQnUDOzkpxAzcxKcgI1MyvJCdTMrCQnUDOzkipLoJLOlfS4pLvryjaRdI2kB/Pzxrlcks6QNFfSnZJ2rSouM7PeUmUL9Dxg305lU4DrImIscF1+DbAfMDY/JgNnVRiXmVmvqCyBRsTvgKc6FU8ApuXpacAhdeXTI7kZGCppRFWxmZn1hr7uAx0eEYsA8vPmuXwkML+u3oJcZmbWttrlJJIalEXDitJkSbMkzero6Kg4LDOzrvV1Al1cOzTPz4/n8gXA6Lp6o4CFjVYQEVMjYnxEjB82bFilwZqZNdPXCXQmMDFPTwQuqys/Mp+N3x1YUjvUNzNrV4OrWrGkC4A9gc0kLQBOBE4FLpI0CZgHHJqrXwXsD8wFngeOriouM7PeUlkCjYgPdzFr7wZ1AzimqljMzKrQLieRzMz6HSdQM7OSnEDNzEpyAjUzK8kJ1MysJCdQM7OSnEDNzEpyAjUzK8kJ1MysJCdQM7OSnEDNzEpyAjUzK8kJ1MyspMpGYzKzgeO+7XdodQiv2eH++/psW26BmpmV5ARqZlaSE6iZWUlOoGZmJTmBmpmV5ARqZlaSE6iZWUlOoGZmJTmBmpmV5ARqZlZSWyVQSftKekDSXElTWh2PmVkzbZNAJQ0CfgjsB+wIfFjSjq2Nysysa22TQIHdgLkR8VBEvAxcCExocUxmZl1qpwQ6Ephf93pBLjMza0vtNJydGpTFKpWkycDk/PJZSQ9UGlVxmwFPrM4K9K1eiqS9rPZ+4WuNPhr92urvE0BHeb80pF7ZL1sVqdROCXQBMLru9ShgYedKETEVmNpXQRUlaVZEjG91HO3G+2VV3ieN9cf90k6H8H8BxkraWtJawOHAzBbHZGbWpbZpgUbEckmfAn4LDALOjYh7WhyWmVmX2iaBAkTEVcBVrY6jpLbrVmgT3i+r8j5prN/tF0Wscp7GzMwKaKc+UDOzfsUJ1MysJCdQM7OS2uokUn8kaRMgIuLpVsfSLrxPrChJw0lXHAawMCIWtzikHvFJpBIkbQn8N7A38AzpKqoNgeuBKRHxcOuiaw3vk+7192TRmySNA34MbAQ8motHkT47/x4Rt7Uqtp5wAi1B0p+B7wEzIuKVXDYIOBT4dETs3sr4WsH7pGuvl2TRmyTNAT4REbd0Kt8d+ElE7NyayHrGCbQESQ9GxNiezns98z7p2uslWfSmbj4vcyNiu76OqQz3gZYzW9KPgGmsGEFqNDARuL1lUbWW90nXhnROngARcbOkIa0IqA38r6Qrgems/Hk5EvhNy6LqIbdAS8jX6k8ijVc6ktTfNx+4HDgnIl5qYXgt4X3SNUlnANvSOFn8LSI+1arYWknSfqz8eVkAzMxXJPYLTqBmfeD1kCxsVU6gvUzSgRFxRavjaCfeJ9YTkibnYSvbnn9I3/ve1uoA2pD3SRfyAOG2sn4zUrQTaEmSdpP0tjy9o6TPSto/Ik5sdWztQtJ0AO+TpvpNsuhtkraXtLek9TvNeqQlAZXgs/AlSDqRdPfQwZKuAd4O3AhMkbTU0aOtAAAFzElEQVRLRHyjlfG1gqTOg18LeK+koQARcXDfR9UvvNzqAFpB0n8AxwD3AedIOi4iLsuzv0k/ORPvPtASJN0FjAPWBh4DRkXEUknrArdExFtaGmALSLoNuBc4m3SljYALSHcWICJual107UvSvIjYstVx9LX8HXpHRDwraQwwAzg/Ir4v6faI2KWlARbkFmg5y/PVNs9L+mtELAWIiBckvdri2FplPHAc8BXg8xExR9ILTpwg6c6uZgHD+zKWNjIoIp4FiIiHJe0JzJC0Ff2oW8MJtJyXJa0XEc8Db60VStoIGJAJNCJeBU6XdHF+Xow/XzXDgfcDnQdXEfCnvg+nLTwmaVxEzAHILdEDgXOBnVobWnH+gJfz7toPw3PiqFmTdOXNgBURC4BDJR0ALG11PG3iCmD9WrKoJ+nGvg+nLRwJLK8viIjlwJGSftKakHrOfaBmZiX5Z0xmZiU5gZqZleQEOkBJekXSHEl3SLpN0jtz+RaSZpRc58OSNuvdSEHSf0nap8n8QyTtuJrbOEnS5xqU/yk/7ymp8OWoRepLOk/Sh3oebbfbrmS9tiqfRBq4XoiIcQCS3g+cArwnIhYCbfXli4ivdlPlENKJmns7z5A0OJ+cKLvtd5Zd1l7/3AI1SLfeeBpA0hhJd+fpdST9TNJdkm6X9N5cPkjSabn8TknH1q3r2NyivUvS9rn+EEnnSvpLXs+EXH6UpEslXS7pb5I+lS+JvV3SzfneSiu1qCSdKunevN3Tcsv5YODbuUW9raQbJX1T0k3AV/K618zLb5hbymsW2TGSnm1Q9rYc4zZdvbe6umtIelDSsLrXc+ta6u+W9CdJD9W9R0n6tqS78348rED5D/J+uRLYvMh7s9XnFujAta7SSOnrACOAvRrUOQYgInbKyfBqSW8Ejga2BnaJiOW1RJc9ERG7Svp34HPAx0g/rr8+Ij6qdGnnrZKuzfXfDOyS45gLfDEidpF0OumnLt+rrThv55+A7SMiJA2NiGeULiO9IiJm5HoAQyPiPfn1GOAA4FLSlVG/ioi/l9lpOWGfCUyIiHmSvtnkvRERr0r6OXBEfi/7AHdExBM5zhHAu4DtgZmkK3I+QLrSbWdgM+Avkn4HvLOL8ncAbyL9fnI4qSV+bpn3Zz3jFujA9UJEjIuI7YF9genK3+g67wLOB4iI+0mDPLyRlAR+XDs0join6pb5dX6eDYzJ0/9IGidgDmnMgHWA2uWLN0TEsojoAJaQBmAGuKtu+ZqlwIvA2ZI+ADzf5P39sm76bFLSJz//rMlyzewATAUOioh5uazZe6s5l/TPAOCjnbZ/aUS8GhH3suKqpHcBF0TEK/nGczeRRrTqqvzddeULSTfysz7gFqgREX/Oh5TDOs3q6pI6ka53b6Q28vwrrPh8CfhgRDyw0kqkt9fVh3QV10t10yt9PnNrdzfSnT8PBz5F45YzwHN1y/0xd028h3QJ4d1dLNOdRaQEuQuwsPY2aPzeXrtEMyLmS1osaS/SwDNH1FWtf//q9NxZs0sc/YPuFnAL1MiH54OAJzvN+h35y54P3bcEHgCuBj4paXCetwnN/ZbUN6pcv9RAEUrDnm2UR3H/NOlwFmAZsEE3i08nDW5StvUJ6S6aBwDfVLp2G4q/t7OBnwMX1e5a2sTvgMNyX/MwUgvz1m7KD8/lI4D3ln6H1iNOoAPXuvmkyxzS4e7EBl/sHwGDlEbO+SVwVL6E9WxgHnCnpDuAf+lmW18nXeZ6p9IJqq+XjHkD4AqlwTluAj6Tyy8EPp9P4mzbxbK/ADYmJdGunCBpQe3RqEI+dD4I+GFuQRd9bzOB9SmWwC8B7gTuIB2OfyEiHuum/EFSt8dZpH1jfcCXctqAkM9wT4iIj7Ro++OB0yPi/7Vi+1YN94Ha656kM0kDYO/fou1PAf6Nlfs+7XXALVAzs5LcB2pmVpITqJlZSU6gZmYlOYGamZXkBGpmVpITqJlZSf8fMPsEBXJBHr0AAAAASUVORK5CYII=\n",
      "text/plain": [
       "<Figure size 360x360 with 1 Axes>"
      ]
     },
     "metadata": {},
     "output_type": "display_data"
    }
   ],
   "source": [
    "# calculate and plot the Biochemistry likelyhood.  (The likelyhood that a student took Biochem as an undergrad.)\n",
    "# 1 = yes, would have had to take biochemistry for major\n",
    "# 2 = likely took biochemistry\n",
    "# 3 = possibly could have taken biochemistry\n",
    "# 4 = very unlikely to have taken biochemistry\n",
    "\n",
    "biochem_counts = df['biochem_likelyhood'].value_counts()\n",
    "print(biochem_counts)\n",
    "\n",
    "plt.figure(figsize=(5,5))\n",
    "biochem_counts.plot(kind='bar')\n",
    "plt.xlabel('Biochemistry Likelyhood')\n",
    "plt.ylabel('Number of Students')\n",
    "plt.title('Distribution of Biochemistry Likelyhood')"
   ]
  },
  {
   "cell_type": "code",
   "execution_count": 24,
   "metadata": {},
   "outputs": [
    {
     "name": "stdout",
     "output_type": "stream",
     "text": [
      "Masters degree - 1st\n",
      "Science      314\n",
      "Other         45\n",
      "Arts          15\n",
      "Business       2\n",
      "Education      1\n",
      "Name: master_1, dtype: int64\n",
      "\n",
      "Masters degree - 2nd\n",
      "Science    9\n",
      "Other      4\n",
      "Arts       3\n",
      "Name: master_2, dtype: int64\n",
      "\n",
      "Masters degree - 3rd\n",
      "Science    2\n",
      "Other      1\n",
      "Name: master_3, dtype: int64\n"
     ]
    }
   ],
   "source": [
    "# Determine the subjects that students have masters degrees in (up to 3 masters).  \n",
    "\n",
    "# Masters degree - 1st \n",
    "master_1_counts = df['master_1'].value_counts()\n",
    "print('Masters degree - 1st')\n",
    "print(master_1_counts)\n",
    "\n",
    "# Masters degree - 2nd \n",
    "master_2_counts = df['master_2'].value_counts()\n",
    "print('\\nMasters degree - 2nd')\n",
    "print(master_2_counts)\n",
    "\n",
    "# Masters degree - 3rd \n",
    "master_3_counts = df['master_3'].value_counts()\n",
    "print('\\nMasters degree - 3rd')\n",
    "print(master_3_counts)\n"
   ]
  },
  {
   "cell_type": "code",
   "execution_count": 25,
   "metadata": {},
   "outputs": [
    {
     "data": {
      "image/png": "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\n",
      "text/plain": [
       "<Figure size 1080x360 with 3 Axes>"
      ]
     },
     "metadata": {},
     "output_type": "display_data"
    }
   ],
   "source": [
    "# Create a histogram showing the frequency of each masters degree subject in the 1st, 2nd, and 3rd masters. \n",
    "\n",
    "plt.figure(figsize=(15,5))\n",
    "ax = plt.subplot(1,3,1)\n",
    "master_1_counts.plot(kind='bar')\n",
    "plt.ylabel('Frequency')\n",
    "plt.title('1st Masters Subjects')\n",
    "plt.suptitle('Masters Degree Subjects', fontsize=14)\n",
    "\n",
    "plt.subplot(1,3,2)\n",
    "master_2_counts.plot(kind='bar')\n",
    "plt.title('2nd Masters Subjects')\n",
    "\n",
    "plt.subplot(1,3,3)\n",
    "master_3_counts.plot(kind='bar')\n",
    "plt.title('3rd Masters Subjects')\n",
    "\n",
    "# add more space between the title and the plots\n",
    "plt.subplots_adjust(top=0.8)"
   ]
  },
  {
   "cell_type": "code",
   "execution_count": 26,
   "metadata": {},
   "outputs": [
    {
     "data": {
      "text/plain": [
       "mcat_zscore             260\n",
       "mcat_total_attempts     260\n",
       "bachelor_1               22\n",
       "bachelor_2             1561\n",
       "bachelor_3             1771\n",
       "master_1               1400\n",
       "master_2               1761\n",
       "master_3               1774\n",
       "associate_1            1742\n",
       "associate_2            1773\n",
       "biochem_likelyhood       26\n",
       "dtype: int64"
      ]
     },
<<<<<<< HEAD
     "execution_count": 33,
=======
     "execution_count": 26,
>>>>>>> 76ba5ac2a65248de6a9f2d92f0bb2d734973f638
     "metadata": {},
     "output_type": "execute_result"
    }
   ],
   "source": [
    "# check for any missing admissions criteria data\n",
    "\n",
    "df.loc[:,'mcat_zscore':'biochem_likelyhood'].isnull().sum()"
   ]
  },
  {
   "cell_type": "markdown",
   "metadata": {},
   "source": [
    "There is some missing data in all of these features and some of the features have almost all missing data.  We will need to make wrangling decisions for all of these features."
   ]
  },
  {
   "cell_type": "markdown",
   "metadata": {},
   "source": [
    "## 4.  Data During Medical School\n",
    "\n",
    "Some general descriptive statistics for the features that include data during a student's time in medical school - for example, course grades and STEP1 score."
   ]
  },
  {
   "cell_type": "code",
   "execution_count": 27,
   "metadata": {},
   "outputs": [],
   "source": [
    "# Quick reminder of what our features are.\n",
    "\n",
    "#df.head()"
   ]
  },
  {
   "cell_type": "code",
   "execution_count": 28,
   "metadata": {},
   "outputs": [],
   "source": [
    "# Create a new dataframe of just the course grades features.\n",
    "\n",
    "course_grades = df.loc[:,'m1f_limbs':'m2s_psychiatry']\n",
    "#course_grades.head()"
   ]
  },
  {
   "cell_type": "code",
   "execution_count": 34,
   "metadata": {},
   "outputs": [
    {
     "data": {
      "text/html": [
       "<div>\n",
       "<style scoped>\n",
       "    .dataframe tbody tr th:only-of-type {\n",
       "        vertical-align: middle;\n",
       "    }\n",
       "\n",
       "    .dataframe tbody tr th {\n",
       "        vertical-align: top;\n",
       "    }\n",
       "\n",
       "    .dataframe thead th {\n",
       "        text-align: right;\n",
       "    }\n",
       "</style>\n",
       "<table border=\"1\" class=\"dataframe\">\n",
       "  <thead>\n",
       "    <tr style=\"text-align: right;\">\n",
       "      <th></th>\n",
       "      <th>m1f_limbs</th>\n",
       "      <th>m1f_metabolism_nutrition_and_endo</th>\n",
       "      <th>m1f_molecular_and_cell_physiology</th>\n",
       "      <th>m1f_molecular_and_human_genetics</th>\n",
       "      <th>m1s_cardio_pulmonary</th>\n",
       "      <th>m1s_ebm_and_population_health</th>\n",
       "      <th>m1s_gastrointestinal</th>\n",
       "      <th>m1s_head_neck_and_special_senses</th>\n",
       "      <th>m1s_medical_neuroscience</th>\n",
       "      <th>m1s_patients_populations_and_policy</th>\n",
       "      <th>m1s_physical_diagnosis_i</th>\n",
       "      <th>m1s_renal_and_electrolytes</th>\n",
       "      <th>m1s_sexual_dev__and_reproduction</th>\n",
       "      <th>m2s_clinical_skills_primer</th>\n",
       "      <th>m2s_evidence_based_medicine_ii</th>\n",
       "      <th>m2s_health_care_ethics</th>\n",
       "      <th>m2s_human_sexuality</th>\n",
       "      <th>m2s_lab_medicine_pblm_solving_case</th>\n",
       "      <th>m2s_microbiology_and_immunology</th>\n",
       "      <th>m2s_pathology</th>\n",
       "      <th>m2s_pharmacology</th>\n",
       "      <th>m2s_physical_diagnosis_ii</th>\n",
       "      <th>m2s_psychiatry</th>\n",
       "    </tr>\n",
       "  </thead>\n",
       "  <tbody>\n",
       "    <tr>\n",
       "      <th>count</th>\n",
       "      <td>1517.000000</td>\n",
       "      <td>1336.000000</td>\n",
<<<<<<< HEAD
       "      <td>1343.000000</td>\n",
       "      <td>1567.000000</td>\n",
       "      <td>1217.000000</td>\n",
       "      <td>1508.000000</td>\n",
       "      <td>1213.000000</td>\n",
       "      <td>1555.000000</td>\n",
       "      <td>1556.000000</td>\n",
       "      <td>1157.000000</td>\n",
       "      <td>1557.0</td>\n",
       "      <td>1203.000000</td>\n",
       "      <td>1325.000000</td>\n",
       "      <td>1343.000000</td>\n",
=======
       "      <td>1343.000000</td>\n",
       "      <td>1567.000000</td>\n",
       "      <td>1217.000000</td>\n",
       "      <td>1508.000000</td>\n",
       "      <td>1213.000000</td>\n",
       "      <td>1555.000000</td>\n",
       "      <td>1556.000000</td>\n",
       "      <td>1157.000000</td>\n",
       "      <td>1557.0</td>\n",
       "      <td>1203.000000</td>\n",
       "      <td>1325.000000</td>\n",
       "      <td>1343.000000</td>\n",
>>>>>>> 76ba5ac2a65248de6a9f2d92f0bb2d734973f638
       "      <td>1346.000000</td>\n",
       "      <td>1342.000000</td>\n",
       "      <td>1344.000000</td>\n",
       "      <td>1343.000000</td>\n",
       "      <td>1344.000000</td>\n",
       "      <td>1343.000000</td>\n",
       "      <td>1344.000000</td>\n",
       "      <td>1342.000000</td>\n",
       "      <td>1343.000000</td>\n",
       "    </tr>\n",
       "    <tr>\n",
       "      <th>mean</th>\n",
       "      <td>2.418260</td>\n",
       "      <td>2.625374</td>\n",
       "      <td>2.592703</td>\n",
       "      <td>2.516273</td>\n",
       "      <td>2.538209</td>\n",
       "      <td>2.570955</td>\n",
       "      <td>2.709810</td>\n",
       "      <td>2.590354</td>\n",
       "      <td>2.452121</td>\n",
       "      <td>2.730337</td>\n",
       "      <td>1.0</td>\n",
       "      <td>2.989194</td>\n",
       "      <td>2.627925</td>\n",
       "      <td>2.644825</td>\n",
       "      <td>2.771174</td>\n",
       "      <td>2.968703</td>\n",
       "      <td>2.852679</td>\n",
       "      <td>2.416977</td>\n",
       "      <td>2.587426</td>\n",
       "      <td>2.421445</td>\n",
       "      <td>2.409598</td>\n",
       "      <td>1.204918</td>\n",
       "      <td>2.514892</td>\n",
       "    </tr>\n",
       "    <tr>\n",
       "      <th>std</th>\n",
       "      <td>0.765932</td>\n",
       "      <td>0.796410</td>\n",
       "      <td>0.770260</td>\n",
       "      <td>0.780851</td>\n",
       "      <td>0.766525</td>\n",
       "      <td>0.780871</td>\n",
       "      <td>0.823466</td>\n",
       "      <td>0.790897</td>\n",
       "      <td>0.784366</td>\n",
       "      <td>0.736978</td>\n",
       "      <td>0.0</td>\n",
       "      <td>0.843325</td>\n",
       "      <td>0.749404</td>\n",
       "      <td>0.676176</td>\n",
       "      <td>0.744507</td>\n",
       "      <td>0.808551</td>\n",
       "      <td>0.815354</td>\n",
       "      <td>0.734245</td>\n",
       "      <td>0.743038</td>\n",
       "      <td>0.710504</td>\n",
       "      <td>0.751155</td>\n",
       "      <td>0.578413</td>\n",
       "      <td>0.740163</td>\n",
       "    </tr>\n",
       "    <tr>\n",
       "      <th>min</th>\n",
       "      <td>0.000000</td>\n",
       "      <td>0.000000</td>\n",
       "      <td>0.000000</td>\n",
       "      <td>0.000000</td>\n",
       "      <td>0.000000</td>\n",
       "      <td>0.000000</td>\n",
       "      <td>0.000000</td>\n",
       "      <td>0.000000</td>\n",
       "      <td>0.000000</td>\n",
       "      <td>2.000000</td>\n",
       "      <td>1.0</td>\n",
       "      <td>0.000000</td>\n",
       "      <td>2.000000</td>\n",
       "      <td>0.000000</td>\n",
       "      <td>0.000000</td>\n",
       "      <td>0.000000</td>\n",
       "      <td>0.000000</td>\n",
       "      <td>0.000000</td>\n",
       "      <td>0.000000</td>\n",
       "      <td>0.000000</td>\n",
       "      <td>0.000000</td>\n",
       "      <td>0.000000</td>\n",
       "      <td>0.000000</td>\n",
       "    </tr>\n",
       "    <tr>\n",
       "      <th>25%</th>\n",
       "      <td>2.000000</td>\n",
       "      <td>2.000000</td>\n",
       "      <td>2.000000</td>\n",
       "      <td>2.000000</td>\n",
       "      <td>2.000000</td>\n",
       "      <td>2.000000</td>\n",
       "      <td>2.000000</td>\n",
       "      <td>2.000000</td>\n",
       "      <td>2.000000</td>\n",
       "      <td>2.000000</td>\n",
       "      <td>1.0</td>\n",
       "      <td>2.000000</td>\n",
       "      <td>2.000000</td>\n",
       "      <td>2.000000</td>\n",
       "      <td>2.000000</td>\n",
       "      <td>2.000000</td>\n",
       "      <td>2.000000</td>\n",
       "      <td>2.000000</td>\n",
       "      <td>2.000000</td>\n",
       "      <td>2.000000</td>\n",
       "      <td>2.000000</td>\n",
       "      <td>1.000000</td>\n",
       "      <td>2.000000</td>\n",
       "    </tr>\n",
       "    <tr>\n",
       "      <th>50%</th>\n",
       "      <td>2.000000</td>\n",
       "      <td>2.000000</td>\n",
       "      <td>2.000000</td>\n",
       "      <td>2.000000</td>\n",
       "      <td>2.000000</td>\n",
       "      <td>2.000000</td>\n",
       "      <td>2.000000</td>\n",
       "      <td>2.000000</td>\n",
       "      <td>2.000000</td>\n",
       "      <td>3.000000</td>\n",
       "      <td>1.0</td>\n",
       "      <td>3.000000</td>\n",
       "      <td>2.000000</td>\n",
       "      <td>3.000000</td>\n",
       "      <td>3.000000</td>\n",
       "      <td>3.000000</td>\n",
       "      <td>3.000000</td>\n",
       "      <td>2.000000</td>\n",
       "      <td>2.000000</td>\n",
       "      <td>2.000000</td>\n",
       "      <td>2.000000</td>\n",
       "      <td>1.000000</td>\n",
       "      <td>2.000000</td>\n",
       "    </tr>\n",
       "    <tr>\n",
       "      <th>75%</th>\n",
       "      <td>3.000000</td>\n",
       "      <td>3.000000</td>\n",
       "      <td>3.000000</td>\n",
       "      <td>3.000000</td>\n",
       "      <td>3.000000</td>\n",
       "      <td>3.000000</td>\n",
       "      <td>3.000000</td>\n",
       "      <td>3.000000</td>\n",
       "      <td>3.000000</td>\n",
       "      <td>3.000000</td>\n",
       "      <td>1.0</td>\n",
       "      <td>4.000000</td>\n",
       "      <td>3.000000</td>\n",
       "      <td>3.000000</td>\n",
       "      <td>3.000000</td>\n",
       "      <td>4.000000</td>\n",
       "      <td>4.000000</td>\n",
       "      <td>3.000000</td>\n",
       "      <td>3.000000</td>\n",
       "      <td>3.000000</td>\n",
       "      <td>3.000000</td>\n",
       "      <td>1.000000</td>\n",
       "      <td>3.000000</td>\n",
       "    </tr>\n",
       "    <tr>\n",
       "      <th>max</th>\n",
       "      <td>4.000000</td>\n",
       "      <td>4.000000</td>\n",
       "      <td>4.000000</td>\n",
       "      <td>4.000000</td>\n",
       "      <td>4.000000</td>\n",
       "      <td>4.000000</td>\n",
       "      <td>4.000000</td>\n",
       "      <td>4.000000</td>\n",
       "      <td>4.000000</td>\n",
       "      <td>4.000000</td>\n",
       "      <td>1.0</td>\n",
       "      <td>4.000000</td>\n",
       "      <td>4.000000</td>\n",
       "      <td>4.000000</td>\n",
       "      <td>4.000000</td>\n",
       "      <td>4.000000</td>\n",
       "      <td>4.000000</td>\n",
       "      <td>4.000000</td>\n",
       "      <td>4.000000</td>\n",
       "      <td>4.000000</td>\n",
       "      <td>4.000000</td>\n",
       "      <td>4.000000</td>\n",
       "      <td>4.000000</td>\n",
       "    </tr>\n",
       "  </tbody>\n",
       "</table>\n",
       "</div>"
      ],
      "text/plain": [
       "         m1f_limbs  m1f_metabolism_nutrition_and_endo  \\\n",
       "count  1517.000000                        1336.000000   \n",
       "mean      2.418260                           2.625374   \n",
       "std       0.765932                           0.796410   \n",
       "min       0.000000                           0.000000   \n",
       "25%       2.000000                           2.000000   \n",
       "50%       2.000000                           2.000000   \n",
       "75%       3.000000                           3.000000   \n",
       "max       4.000000                           4.000000   \n",
       "\n",
       "       m1f_molecular_and_cell_physiology  m1f_molecular_and_human_genetics  \\\n",
       "count                        1343.000000                       1567.000000   \n",
       "mean                            2.592703                          2.516273   \n",
       "std                             0.770260                          0.780851   \n",
       "min                             0.000000                          0.000000   \n",
       "25%                             2.000000                          2.000000   \n",
       "50%                             2.000000                          2.000000   \n",
       "75%                             3.000000                          3.000000   \n",
       "max                             4.000000                          4.000000   \n",
       "\n",
       "       m1s_cardio_pulmonary  m1s_ebm_and_population_health  \\\n",
       "count           1217.000000                    1508.000000   \n",
       "mean               2.538209                       2.570955   \n",
       "std                0.766525                       0.780871   \n",
       "min                0.000000                       0.000000   \n",
       "25%                2.000000                       2.000000   \n",
       "50%                2.000000                       2.000000   \n",
       "75%                3.000000                       3.000000   \n",
       "max                4.000000                       4.000000   \n",
       "\n",
       "       m1s_gastrointestinal  m1s_head_neck_and_special_senses  \\\n",
       "count           1213.000000                       1555.000000   \n",
       "mean               2.709810                          2.590354   \n",
       "std                0.823466                          0.790897   \n",
       "min                0.000000                          0.000000   \n",
       "25%                2.000000                          2.000000   \n",
       "50%                2.000000                          2.000000   \n",
       "75%                3.000000                          3.000000   \n",
       "max                4.000000                          4.000000   \n",
       "\n",
       "       m1s_medical_neuroscience  m1s_patients_populations_and_policy  \\\n",
       "count               1556.000000                          1157.000000   \n",
       "mean                   2.452121                             2.730337   \n",
       "std                    0.784366                             0.736978   \n",
       "min                    0.000000                             2.000000   \n",
       "25%                    2.000000                             2.000000   \n",
       "50%                    2.000000                             3.000000   \n",
       "75%                    3.000000                             3.000000   \n",
       "max                    4.000000                             4.000000   \n",
       "\n",
       "       m1s_physical_diagnosis_i  m1s_renal_and_electrolytes  \\\n",
       "count                    1557.0                 1203.000000   \n",
       "mean                        1.0                    2.989194   \n",
       "std                         0.0                    0.843325   \n",
       "min                         1.0                    0.000000   \n",
       "25%                         1.0                    2.000000   \n",
       "50%                         1.0                    3.000000   \n",
       "75%                         1.0                    4.000000   \n",
       "max                         1.0                    4.000000   \n",
       "\n",
       "       m1s_sexual_dev__and_reproduction  m2s_clinical_skills_primer  \\\n",
       "count                       1325.000000                 1343.000000   \n",
       "mean                           2.627925                    2.644825   \n",
       "std                            0.749404                    0.676176   \n",
       "min                            2.000000                    0.000000   \n",
       "25%                            2.000000                    2.000000   \n",
       "50%                            2.000000                    3.000000   \n",
       "75%                            3.000000                    3.000000   \n",
       "max                            4.000000                    4.000000   \n",
       "\n",
       "       m2s_evidence_based_medicine_ii  m2s_health_care_ethics  \\\n",
       "count                     1346.000000             1342.000000   \n",
       "mean                         2.771174                2.968703   \n",
       "std                          0.744507                0.808551   \n",
       "min                          0.000000                0.000000   \n",
       "25%                          2.000000                2.000000   \n",
       "50%                          3.000000                3.000000   \n",
       "75%                          3.000000                4.000000   \n",
       "max                          4.000000                4.000000   \n",
       "\n",
       "       m2s_human_sexuality  m2s_lab_medicine_pblm_solving_case  \\\n",
       "count          1344.000000                         1343.000000   \n",
       "mean              2.852679                            2.416977   \n",
       "std               0.815354                            0.734245   \n",
       "min               0.000000                            0.000000   \n",
       "25%               2.000000                            2.000000   \n",
       "50%               3.000000                            2.000000   \n",
       "75%               4.000000                            3.000000   \n",
       "max               4.000000                            4.000000   \n",
       "\n",
       "       m2s_microbiology_and_immunology  m2s_pathology  m2s_pharmacology  \\\n",
       "count                      1344.000000    1343.000000       1344.000000   \n",
       "mean                          2.587426       2.421445          2.409598   \n",
       "std                           0.743038       0.710504          0.751155   \n",
       "min                           0.000000       0.000000          0.000000   \n",
       "25%                           2.000000       2.000000          2.000000   \n",
       "50%                           2.000000       2.000000          2.000000   \n",
       "75%                           3.000000       3.000000          3.000000   \n",
       "max                           4.000000       4.000000          4.000000   \n",
       "\n",
       "       m2s_physical_diagnosis_ii  m2s_psychiatry  \n",
       "count                1342.000000     1343.000000  \n",
       "mean                    1.204918        2.514892  \n",
       "std                     0.578413        0.740163  \n",
       "min                     0.000000        0.000000  \n",
       "25%                     1.000000        2.000000  \n",
       "50%                     1.000000        2.000000  \n",
       "75%                     1.000000        3.000000  \n",
       "max                     4.000000        4.000000  "
      ]
     },
     "execution_count": 34,
     "metadata": {},
     "output_type": "execute_result"
    }
   ],
   "source": [
    "# Calculate grade distribution for each course\n",
    "\n",
    "course_grades.describe()"
   ]
  },
  {
   "cell_type": "code",
<<<<<<< HEAD
   "execution_count": 35,
=======
   "execution_count": 30,
>>>>>>> 76ba5ac2a65248de6a9f2d92f0bb2d734973f638
   "metadata": {
    "scrolled": false
   },
   "outputs": [
    {
     "data": {
      "image/png": "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\n",
      "text/plain": [
       "<Figure size 576x360 with 1 Axes>"
      ]
     },
     "metadata": {},
     "output_type": "display_data"
    }
   ],
   "source": [
    "# plot course grade distributions\n",
    "\n",
    "course_grades.plot(kind='box', figsize=(8,5))\n",
    "plt.xticks(rotation=90);\n",
    "plt.title('Course Grade Distributions');\n",
    "plt.ylabel('Grade')\n",
    "plt.xlabel('Course');"
   ]
  },
  {
   "cell_type": "markdown",
   "metadata": {},
   "source": [
    "Note: the mean() and median() methods exclude NaN values in calculations."
   ]
  },
  {
   "cell_type": "code",
<<<<<<< HEAD
   "execution_count": 39,
=======
   "execution_count": 31,
>>>>>>> 76ba5ac2a65248de6a9f2d92f0bb2d734973f638
   "metadata": {},
   "outputs": [
    {
     "name": "stdout",
     "output_type": "stream",
     "text": [
      "m1f_limbs                              2.418260\n",
      "m1f_metabolism_nutrition_and_endo      2.625374\n",
      "m1f_molecular_and_cell_physiology      2.592703\n",
      "m1f_molecular_and_human_genetics       2.516273\n",
      "m1s_cardio_pulmonary                   2.538209\n",
      "m1s_ebm_and_population_health          2.570955\n",
      "m1s_gastrointestinal                   2.709810\n",
      "m1s_head_neck_and_special_senses       2.590354\n",
      "m1s_medical_neuroscience               2.452121\n",
      "m1s_patients_populations_and_policy    2.730337\n",
      "m1s_physical_diagnosis_i               1.000000\n",
      "m1s_renal_and_electrolytes             2.989194\n",
      "m1s_sexual_dev__and_reproduction       2.627925\n",
      "m2s_clinical_skills_primer             2.644825\n",
      "m2s_evidence_based_medicine_ii         2.771174\n",
      "m2s_health_care_ethics                 2.968703\n",
      "m2s_human_sexuality                    2.852679\n",
      "m2s_lab_medicine_pblm_solving_case     2.416977\n",
      "m2s_microbiology_and_immunology        2.587426\n",
      "m2s_pathology                          2.421445\n",
      "m2s_pharmacology                       2.409598\n",
      "m2s_physical_diagnosis_ii              1.204918\n",
      "m2s_psychiatry                         2.514892\n",
      "dtype: float64\n"
     ]
    }
   ],
   "source": [
    "# Taking a closer look at the mean grades for each course.\n",
    "\n",
    "course_grades_means = course_grades.mean()\n",
    "#course_grades_means.shape\n",
    "print(course_grades_means)"
   ]
  },
  {
   "cell_type": "code",
<<<<<<< HEAD
   "execution_count": 40,
=======
   "execution_count": 32,
>>>>>>> 76ba5ac2a65248de6a9f2d92f0bb2d734973f638
   "metadata": {},
   "outputs": [
    {
     "data": {
      "image/png": "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\n",
      "text/plain": [
       "<Figure size 576x360 with 1 Axes>"
      ]
     },
     "metadata": {},
     "output_type": "display_data"
    }
   ],
   "source": [
    "# plot the mean grades\n",
    "\n",
    "course_grades_means.plot(kind='bar', figsize=(8,5))\n",
    "plt.title('Course Mean Grades');\n",
    "plt.ylabel('Mean Grade')\n",
    "plt.xlabel('Course');"
   ]
  },
  {
   "cell_type": "code",
<<<<<<< HEAD
   "execution_count": 41,
=======
   "execution_count": 33,
>>>>>>> 76ba5ac2a65248de6a9f2d92f0bb2d734973f638
   "metadata": {},
   "outputs": [
    {
     "name": "stdout",
     "output_type": "stream",
     "text": [
      "m1f_limbs                              2.0\n",
      "m1f_metabolism_nutrition_and_endo      2.0\n",
      "m1f_molecular_and_cell_physiology      2.0\n",
      "m1f_molecular_and_human_genetics       2.0\n",
      "m1s_cardio_pulmonary                   2.0\n",
      "m1s_ebm_and_population_health          2.0\n",
      "m1s_gastrointestinal                   2.0\n",
      "m1s_head_neck_and_special_senses       2.0\n",
      "m1s_medical_neuroscience               2.0\n",
      "m1s_patients_populations_and_policy    3.0\n",
      "m1s_physical_diagnosis_i               1.0\n",
      "m1s_renal_and_electrolytes             3.0\n",
      "m1s_sexual_dev__and_reproduction       2.0\n",
      "m2s_clinical_skills_primer             3.0\n",
      "m2s_evidence_based_medicine_ii         3.0\n",
      "m2s_health_care_ethics                 3.0\n",
      "m2s_human_sexuality                    3.0\n",
      "m2s_lab_medicine_pblm_solving_case     2.0\n",
      "m2s_microbiology_and_immunology        2.0\n",
      "m2s_pathology                          2.0\n",
      "m2s_pharmacology                       2.0\n",
      "m2s_physical_diagnosis_ii              1.0\n",
      "m2s_psychiatry                         2.0\n",
      "dtype: float64\n"
     ]
    }
   ],
   "source": [
    "# Taking a closer look at the median grades for each course.\n",
    "\n",
    "course_grades_medians = course_grades.median()\n",
    "print(course_grades_medians)"
   ]
  },
  {
   "cell_type": "code",
<<<<<<< HEAD
   "execution_count": 42,
=======
   "execution_count": 34,
>>>>>>> 76ba5ac2a65248de6a9f2d92f0bb2d734973f638
   "metadata": {},
   "outputs": [
    {
     "data": {
      "image/png": "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\n",
      "text/plain": [
       "<Figure size 576x360 with 1 Axes>"
      ]
     },
     "metadata": {},
     "output_type": "display_data"
    }
   ],
   "source": [
    "# plot the median grades\n",
    "\n",
    "course_grades_medians.plot(kind='bar', figsize=(8,5))\n",
    "plt.title('Course Median Grades');\n",
    "plt.ylabel('Median Grade')\n",
    "plt.xlabel('Course');"
   ]
  },
  {
   "cell_type": "code",
<<<<<<< HEAD
   "execution_count": 43,
=======
   "execution_count": 35,
>>>>>>> 76ba5ac2a65248de6a9f2d92f0bb2d734973f638
   "metadata": {},
   "outputs": [
    {
     "data": {
      "image/png": "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\n",
      "text/plain": [
       "<Figure size 720x360 with 1 Axes>"
      ]
     },
     "metadata": {},
     "output_type": "display_data"
    }
   ],
   "source": [
    "# plot the course grade means vs. medians to see how they compare\n",
    "\n",
    "#list(course_grades) gives list of column headers from course_grades dataframe\n",
    "plt.figure(figsize=(10,5))\n",
    "plt.plot(list(course_grades), course_grades_means, label='means')\n",
    "plt.plot(list(course_grades), course_grades_medians, label='medians')\n",
    "plt.legend()\n",
    "plt.xticks(rotation=90);\n",
    "plt.title('Comparison of Mean and Median Course Grades')\n",
    "plt.ylabel('Grade')\n",
    "plt.xlabel('Course');"
   ]
  },
  {
   "cell_type": "code",
<<<<<<< HEAD
   "execution_count": 46,
=======
   "execution_count": 36,
>>>>>>> 76ba5ac2a65248de6a9f2d92f0bb2d734973f638
   "metadata": {},
   "outputs": [
    {
     "data": {
      "text/plain": [
       "m1f_limbs                              260\n",
       "m1f_metabolism_nutrition_and_endo      441\n",
       "m1f_molecular_and_cell_physiology      434\n",
       "m1f_molecular_and_human_genetics       210\n",
       "m1s_cardio_pulmonary                   560\n",
       "m1s_ebm_and_population_health          269\n",
       "m1s_gastrointestinal                   564\n",
       "m1s_head_neck_and_special_senses       222\n",
       "m1s_medical_neuroscience               221\n",
       "m1s_patients_populations_and_policy    620\n",
       "m1s_physical_diagnosis_i               220\n",
       "m1s_renal_and_electrolytes             574\n",
       "m1s_sexual_dev__and_reproduction       452\n",
       "m2s_clinical_skills_primer             434\n",
       "m2s_evidence_based_medicine_ii         431\n",
       "m2s_health_care_ethics                 435\n",
       "m2s_human_sexuality                    433\n",
       "m2s_lab_medicine_pblm_solving_case     434\n",
       "m2s_microbiology_and_immunology        433\n",
       "m2s_pathology                          434\n",
       "m2s_pharmacology                       433\n",
       "m2s_physical_diagnosis_ii              435\n",
       "m2s_psychiatry                         434\n",
       "dtype: int64"
      ]
     },
<<<<<<< HEAD
     "execution_count": 46,
=======
     "execution_count": 36,
>>>>>>> 76ba5ac2a65248de6a9f2d92f0bb2d734973f638
     "metadata": {},
     "output_type": "execute_result"
    }
   ],
   "source": [
    "# calculate number of missing grades for each course\n",
    "\n",
    "course_grades.isnull().sum()"
   ]
  },
  {
   "cell_type": "markdown",
   "metadata": {},
   "source": [
    "All of these features have missing data, with the M2 courses all missing about 435 entries.  The instances we have from 2016 and 2017 will obviously have missing grades as these courses are not yet completed.  We will need to make decisions on what to do with the missing data in these features."
   ]
  },
  {
   "cell_type": "code",
<<<<<<< HEAD
   "execution_count": 47,
=======
   "execution_count": 37,
>>>>>>> 76ba5ac2a65248de6a9f2d92f0bb2d734973f638
   "metadata": {},
   "outputs": [
    {
     "data": {
      "text/plain": [
       "count    1352.000000\n",
       "mean        0.058776\n",
       "std         0.944348\n",
       "min        -7.568463\n",
       "25%        -0.518482\n",
       "50%         0.134487\n",
       "75%         0.715265\n",
       "max         2.359992\n",
       "Name: step1_z_score, dtype: float64"
      ]
     },
<<<<<<< HEAD
     "execution_count": 47,
=======
     "execution_count": 37,
>>>>>>> 76ba5ac2a65248de6a9f2d92f0bb2d734973f638
     "metadata": {},
     "output_type": "execute_result"
    }
   ],
   "source": [
    "# Calculate STEP1 z-score distribution\n",
    "\n",
    "df['step1_z_score'].describe()"
   ]
  },
  {
   "cell_type": "code",
<<<<<<< HEAD
   "execution_count": 48,
=======
   "execution_count": 38,
>>>>>>> 76ba5ac2a65248de6a9f2d92f0bb2d734973f638
   "metadata": {},
   "outputs": [
    {
     "data": {
      "text/plain": [
       "Text(0.5,1,'STEP1 Z-score Distribution')"
      ]
     },
<<<<<<< HEAD
     "execution_count": 48,
=======
     "execution_count": 38,
>>>>>>> 76ba5ac2a65248de6a9f2d92f0bb2d734973f638
     "metadata": {},
     "output_type": "execute_result"
    },
    {
     "data": {
      "image/png": "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\n",
      "text/plain": [
       "<Figure size 216x504 with 1 Axes>"
      ]
     },
     "metadata": {},
     "output_type": "display_data"
    }
   ],
   "source": [
    "# Plot STEP1 z-score distribution\n",
    "\n",
    "df['step1_z_score'].plot(kind='box', figsize=(3,7))\n",
    "plt.title('STEP1 Z-score Distribution')"
   ]
  },
  {
   "cell_type": "markdown",
   "metadata": {},
   "source": [
    "There is an obvious outlier in this data.  We will need to decide what to do with this outlier."
   ]
  },
  {
   "cell_type": "code",
<<<<<<< HEAD
   "execution_count": 49,
=======
   "execution_count": 39,
>>>>>>> 76ba5ac2a65248de6a9f2d92f0bb2d734973f638
   "metadata": {},
   "outputs": [
    {
     "data": {
      "text/plain": [
       "1323.0"
      ]
     },
<<<<<<< HEAD
     "execution_count": 49,
=======
     "execution_count": 39,
>>>>>>> 76ba5ac2a65248de6a9f2d92f0bb2d734973f638
     "metadata": {},
     "output_type": "execute_result"
    }
   ],
   "source": [
    "# Calculate how many students passed STEP1 exam.\n",
    "\n",
    "df['step1_pass_indicator'].sum()"
   ]
  },
  {
   "cell_type": "code",
<<<<<<< HEAD
   "execution_count": 50,
=======
   "execution_count": 40,
>>>>>>> 76ba5ac2a65248de6a9f2d92f0bb2d734973f638
   "metadata": {},
   "outputs": [
    {
     "data": {
      "text/plain": [
       "59     -2.880992\n",
       "92     -2.012125\n",
       "154    -3.171981\n",
       "161    -2.114345\n",
       "201    -2.267674\n",
       "285    -2.898022\n",
       "352    -2.185687\n",
       "360    -2.090709\n",
       "416    -2.693286\n",
       "449    -2.427344\n",
       "478    -3.118792\n",
       "495    -2.427344\n",
       "505    -2.427344\n",
       "560    -7.568463\n",
       "681    -2.325039\n",
       "693    -2.449413\n",
       "702    -3.035862\n",
       "723    -2.508058\n",
       "770    -3.568708\n",
       "881    -2.501289\n",
       "897    -3.149507\n",
       "957    -3.209393\n",
       "961    -2.730306\n",
       "994    -1.708166\n",
       "1050   -1.620041\n",
       "1089   -2.790446\n",
       "1103   -1.708166\n",
       "1179   -1.796291\n",
       "1257   -2.459929\n",
       "Name: step1_z_score, dtype: float64"
      ]
     },
<<<<<<< HEAD
     "execution_count": 50,
=======
     "execution_count": 40,
>>>>>>> 76ba5ac2a65248de6a9f2d92f0bb2d734973f638
     "metadata": {},
     "output_type": "execute_result"
    }
   ],
   "source": [
    "# Determine the STEP1 z-scores associated with the students who did not pass STEP1.\n",
    "\n",
    "mask = (df['step1_pass_indicator'] == 0)\n",
    "df['step1_z_score'][mask]"
   ]
  },
  {
   "cell_type": "code",
<<<<<<< HEAD
   "execution_count": 51,
=======
   "execution_count": 41,
>>>>>>> 76ba5ac2a65248de6a9f2d92f0bb2d734973f638
   "metadata": {},
   "outputs": [
    {
     "name": "stdout",
     "output_type": "stream",
     "text": [
      "1.0    1326\n",
      "2.0      24\n",
      "3.0       2\n",
      "Name: step1_total_attempts, dtype: int64\n"
     ]
    },
    {
     "data": {
      "text/plain": [
       "Text(0.5,1,'Distribution of STEP1 Total Attempts')"
      ]
     },
<<<<<<< HEAD
     "execution_count": 51,
=======
     "execution_count": 41,
>>>>>>> 76ba5ac2a65248de6a9f2d92f0bb2d734973f638
     "metadata": {},
     "output_type": "execute_result"
    },
    {
     "data": {
      "image/png": "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\n",
      "text/plain": [
       "<Figure size 360x360 with 1 Axes>"
      ]
     },
     "metadata": {},
     "output_type": "display_data"
    }
   ],
   "source": [
    "# calculate and plot the number of attempts at STEP1\n",
    "\n",
    "step1_attempt_counts = df['step1_total_attempts'].value_counts()\n",
    "print(step1_attempt_counts)\n",
    "\n",
    "plt.figure(figsize=(5,5))\n",
    "step1_attempt_counts.plot(kind='bar')\n",
    "plt.xlabel('Number of STEP1 Attempts')\n",
    "plt.ylabel('Number of Students')\n",
    "plt.title('Distribution of STEP1 Total Attempts')"
   ]
  },
  {
   "cell_type": "code",
<<<<<<< HEAD
   "execution_count": 52,
=======
   "execution_count": 42,
>>>>>>> 76ba5ac2a65248de6a9f2d92f0bb2d734973f638
   "metadata": {},
   "outputs": [
    {
     "data": {
      "text/plain": [
       "32.0"
      ]
     },
<<<<<<< HEAD
     "execution_count": 52,
=======
     "execution_count": 42,
>>>>>>> 76ba5ac2a65248de6a9f2d92f0bb2d734973f638
     "metadata": {},
     "output_type": "execute_result"
    }
   ],
   "source": [
    "# Calculate how many students dropped out of GU Med School.\n",
    "\n",
    "df['dropout_indic'].sum()"
   ]
  },
  {
   "cell_type": "markdown",
   "metadata": {},
   "source": [
    "32 students dropped out of GU Med School."
   ]
  },
  {
   "cell_type": "code",
<<<<<<< HEAD
   "execution_count": 53,
=======
   "execution_count": 43,
>>>>>>> 76ba5ac2a65248de6a9f2d92f0bb2d734973f638
   "metadata": {},
   "outputs": [
    {
     "data": {
      "text/plain": [
       "56.0"
      ]
     },
<<<<<<< HEAD
     "execution_count": 53,
=======
     "execution_count": 43,
>>>>>>> 76ba5ac2a65248de6a9f2d92f0bb2d734973f638
     "metadata": {},
     "output_type": "execute_result"
    }
   ],
   "source": [
    "# Calculate how many students repeated a year of GU Med School.\n",
    "\n",
    "df['repeat_indic'].sum()"
   ]
  },
  {
<<<<<<< HEAD
   "cell_type": "code",
   "execution_count": 55,
=======
   "cell_type": "markdown",
   "metadata": {},
   "source": [
    "56 students repeated a year of GU Med School."
   ]
  },
  {
   "cell_type": "code",
   "execution_count": 44,
>>>>>>> 76ba5ac2a65248de6a9f2d92f0bb2d734973f638
   "metadata": {},
   "outputs": [
    {
     "data": {
      "text/plain": [
       "step1_raw_score         425\n",
       "step1_z_score           425\n",
       "step1_pass_indicator    425\n",
       "repeat_indic              0\n",
<<<<<<< HEAD
       "dtype: int64"
      ]
     },
     "execution_count": 55,
=======
       "dropout_indic             0\n",
       "step1_total_attempts    425\n",
       "dtype: int64"
      ]
     },
     "execution_count": 44,
>>>>>>> 76ba5ac2a65248de6a9f2d92f0bb2d734973f638
     "metadata": {},
     "output_type": "execute_result"
    }
   ],
   "source": [
    "# Determine if there is missing data in the remaining Data During Med School features.\n",
    "\n",
    "df.loc[:,'step1_raw_score':'step1_total_attempts'].isnull().sum()"
   ]
  },
  {
   "cell_type": "markdown",
   "metadata": {},
   "source": [
    "There is missing data in most of these features that we will need to decide what to do with."
   ]
  },
  {
   "cell_type": "markdown",
   "metadata": {},
   "source": [
    "## 5. Target Data\n",
    "\n",
    "Some general descriptive statistics for the target indicator feature that indicates if a student has repeated a year of medical school, dropped out, or not passed STEP1. "
   ]
  },
  {
   "cell_type": "code",
<<<<<<< HEAD
   "execution_count": 56,
=======
   "execution_count": 45,
>>>>>>> 76ba5ac2a65248de6a9f2d92f0bb2d734973f638
   "metadata": {},
   "outputs": [
    {
     "name": "stdout",
     "output_type": "stream",
     "text": [
      "There are 95 students in our target.\n",
      "This is 5.35% of the total number of students.\n"
     ]
    }
   ],
   "source": [
    "# calculate the number and percentage of students in our target\n",
    "\n",
    "num_target = df['target_indicator'].sum()\n",
    "print(\"There are %d students in our target.\" % (num_target))\n",
    "print(\"This is %.2f%% of the total number of students.\" % ((num_target/num_students)*100))"
   ]
  },
  {
   "cell_type": "code",
<<<<<<< HEAD
   "execution_count": 57,
=======
   "execution_count": 46,
>>>>>>> 76ba5ac2a65248de6a9f2d92f0bb2d734973f638
   "metadata": {},
   "outputs": [
    {
     "name": "stdout",
     "output_type": "stream",
     "text": [
      "m1_fall\n",
      "200930     7\n",
      "201030    12\n",
      "201130    12\n",
      "201230    16\n",
      "201330    14\n",
      "201430    14\n",
      "201530    15\n",
      "201630     5\n",
      "201730     0\n",
      "Name: target_indicator, dtype: int64\n"
     ]
    },
    {
     "data": {
      "image/png": "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\n",
      "text/plain": [
       "<Figure size 432x288 with 1 Axes>"
      ]
     },
     "metadata": {},
     "output_type": "display_data"
    }
   ],
   "source": [
    "# calculate and plot the number of students in our target by year.\n",
    "\n",
    "target_by_year = df.groupby('m1_fall')['target_indicator'].sum()\n",
    "print(target_by_year)\n",
    "\n",
    "target_by_year.plot(kind='bar')\n",
    "plt.title('Number of Target Students by Year')\n",
    "plt.xlabel('Year')\n",
    "plt.ylabel('Number of Target Students');\n",
    "plt.yticks(np.arange(0,21,2));\n"
   ]
  },
  {
   "cell_type": "code",
   "execution_count": 47,
   "metadata": {},
   "outputs": [
    {
     "data": {
      "text/plain": [
       "0"
      ]
     },
     "execution_count": 47,
     "metadata": {},
     "output_type": "execute_result"
    }
   ],
   "source": [
    "# Check if there is any missing data in the target indicator feature\n",
    "\n",
    "df['target_indicator'].isnull().sum()"
   ]
  },
  {
   "cell_type": "markdown",
   "metadata": {},
   "source": [
    "There is no missing data in the target indicator feature."
   ]
  },
  {
   "cell_type": "code",
   "execution_count": null,
   "metadata": {
    "collapsed": true
   },
   "outputs": [],
   "source": []
  }
 ],
 "metadata": {
  "kernelspec": {
   "display_name": "Python 3",
   "language": "python",
   "name": "python3"
  },
  "language_info": {
   "codemirror_mode": {
    "name": "ipython",
    "version": 3
   },
   "file_extension": ".py",
   "mimetype": "text/x-python",
   "name": "python",
   "nbconvert_exporter": "python",
   "pygments_lexer": "ipython3",
   "version": "3.6.5"
  }
 },
 "nbformat": 4,
 "nbformat_minor": 2
}
