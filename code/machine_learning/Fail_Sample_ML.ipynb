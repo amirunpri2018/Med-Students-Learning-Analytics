{
 "cells": [
  {
   "cell_type": "markdown",
   "metadata": {},
   "source": [
    "# Evaluation: Students Who Fail a Course\n",
    "- Author: Zach Fernandes\n",
    "- Date: 6/18/18\n",
    "- Desc: Marcio has given me the following request by the Dean of the Medical School:\n",
    "    1. Filter the data down to students that have received 1 or below in any of the 4 scale graded courses. \n",
    "    2. Split the target back to 'pass step one' vs. 'fail step one or drop out / repeat a year'\n",
    "    3. See which classes best predict failing step one. \n",
    "    \n",
    "      \n",
    "- NOTE: I Personally don't think this is going to be super interesting since the filter is going to really restrict our sample size. I'm just doing what I've been told to do.\n",
    "    "
   ]
  },
  {
   "cell_type": "markdown",
   "metadata": {},
   "source": [
    "## Part 1: Imports\n",
    "### Import Required Packages"
   ]
  },
  {
   "cell_type": "code",
   "execution_count": 63,
   "metadata": {
    "collapsed": true
   },
   "outputs": [],
   "source": [
    "import numpy    as np\n",
    "import pandas   as pd\n",
    "import re\n",
    "import os\n",
    "import sys\n",
    "import seaborn as sns \n",
    "import yellowbrick as yb\n",
    "import matplotlib.pyplot as plt \n",
    "%matplotlib inline\n",
    "import warnings\n",
    "\n",
    "## Sklearn\n",
    "from sklearn.base import BaseEstimator, TransformerMixin\n",
    "from sklearn.preprocessing import LabelEncoder, OneHotEncoder\n",
    "from sklearn.preprocessing import Imputer, FunctionTransformer\n",
    "from sklearn.svm import LinearSVC, NuSVC, SVC\n",
    "from sklearn.neighbors import KNeighborsClassifier\n",
    "from sklearn.linear_model import LogisticRegressionCV\n",
    "from sklearn.linear_model import LogisticRegression, SGDClassifier\n",
    "from sklearn.ensemble import BaggingClassifier, ExtraTreesClassifier\n",
    "from sklearn.ensemble import RandomForestClassifier\n",
    "from sklearn.linear_model import LinearRegression\n",
    "from sklearn.model_selection import train_test_split\n",
    "from sklearn.metrics import classification_report, recall_score\n",
    "from sklearn.metrics import precision_score\n",
    "from sklearn.ensemble import GradientBoostingClassifier\n",
    "\n",
    "\n",
    "\n",
    "\n",
    "\n",
    "\n",
    "## YellowBrick\n",
    "from yellowbrick.features import ParallelCoordinates\n",
    "from yellowbrick.features import Rank2D\n",
    "from yellowbrick.regressor import ResidualsPlot\n",
    "from yellowbrick.features import Rank1D, Rank2D, FeatureImportances"
   ]
  },
  {
   "cell_type": "markdown",
   "metadata": {},
   "source": [
    "### Change Defaults"
   ]
  },
  {
   "cell_type": "code",
   "execution_count": 40,
   "metadata": {
    "collapsed": true
   },
   "outputs": [],
   "source": [
    "pd.set_option('display.max_rows', 500)\n",
    "pd.set_option('display.max_columns', 500)\n",
    "warnings.filterwarnings('ignore')"
   ]
  },
  {
   "cell_type": "markdown",
   "metadata": {},
   "source": [
    "### Import Custom Functions & Data"
   ]
  },
  {
   "cell_type": "code",
   "execution_count": 41,
   "metadata": {
    "collapsed": true
   },
   "outputs": [],
   "source": [
    "wd = os.getcwd()\n",
    "mod_dir     = wd + '/../custom_modules/'\n",
    "sys.path.insert(0, mod_dir)\n",
    "import cleaning_helpers as helpers"
   ]
  },
  {
   "cell_type": "code",
   "execution_count": 42,
   "metadata": {},
   "outputs": [
    {
     "data": {
      "text/html": [
       "<div>\n",
       "<style scoped>\n",
       "    .dataframe tbody tr th:only-of-type {\n",
       "        vertical-align: middle;\n",
       "    }\n",
       "\n",
       "    .dataframe tbody tr th {\n",
       "        vertical-align: top;\n",
       "    }\n",
       "\n",
       "    .dataframe thead th {\n",
       "        text-align: right;\n",
       "    }\n",
       "</style>\n",
       "<table border=\"1\" class=\"dataframe\">\n",
       "  <thead>\n",
       "    <tr style=\"text-align: right;\">\n",
       "      <th></th>\n",
       "      <th>m1_fall</th>\n",
       "      <th>mcat_zscore</th>\n",
       "      <th>mcat_total_attempts</th>\n",
       "      <th>bachelor_1</th>\n",
       "      <th>bachelor_2</th>\n",
       "      <th>bachelor_3</th>\n",
       "      <th>master_1</th>\n",
       "      <th>master_2</th>\n",
       "      <th>master_3</th>\n",
       "      <th>associate_1</th>\n",
       "      <th>associate_2</th>\n",
       "      <th>biochem_likelyhood</th>\n",
       "      <th>gem_indicator</th>\n",
       "      <th>race</th>\n",
       "      <th>gender</th>\n",
       "      <th>m1f_limbs</th>\n",
       "      <th>m1f_metabolism_nutrition_and_endo</th>\n",
       "      <th>m1f_molecular_and_cell_physiology</th>\n",
       "      <th>m1f_molecular_and_human_genetics</th>\n",
       "      <th>m1s_cardio_pulmonary</th>\n",
       "      <th>m1s_ebm_and_population_health</th>\n",
       "      <th>m1s_gastrointestinal</th>\n",
       "      <th>m1s_head_neck_and_special_senses</th>\n",
       "      <th>m1s_patients_populations_and_policy</th>\n",
       "      <th>m1s_physical_diagnosis_i</th>\n",
       "      <th>m1s_renal_and_electrolytes</th>\n",
       "      <th>m1s_sexual_dev__and_reproduction</th>\n",
       "      <th>m2s_clinical_skills_primer</th>\n",
       "      <th>m2s_evidence_based_medicine_ii</th>\n",
       "      <th>m2s_health_care_ethics</th>\n",
       "      <th>m2s_human_sexuality</th>\n",
       "      <th>m2s_lab_medicine_pblm_solving_case</th>\n",
       "      <th>m2s_microbiology_and_immunology</th>\n",
       "      <th>m2s_pathology</th>\n",
       "      <th>m2s_pharmacology</th>\n",
       "      <th>m2s_physical_diagnosis_ii</th>\n",
       "      <th>m2s_psychiatry</th>\n",
       "      <th>step1_z_score</th>\n",
       "      <th>step1_pass_indicator</th>\n",
       "      <th>repeat_indic</th>\n",
       "      <th>step1_total_attempts</th>\n",
       "      <th>target_indicator</th>\n",
       "      <th>double_bachelor</th>\n",
       "      <th>master_degree</th>\n",
       "      <th>double_master</th>\n",
       "      <th>associate_degree</th>\n",
       "      <th>science_undergrad</th>\n",
       "      <th>science_master</th>\n",
       "      <th>bachelors_num</th>\n",
       "      <th>science_bachelors_num</th>\n",
       "      <th>masters_num</th>\n",
       "      <th>science_masters_num</th>\n",
       "      <th>yr2_score_tot</th>\n",
       "      <th>GPA</th>\n",
       "      <th>step1_rank</th>\n",
       "      <th>step1_total_students</th>\n",
       "      <th>step1_percentile</th>\n",
       "      <th>step1_low_score</th>\n",
       "      <th>danger_student</th>\n",
       "    </tr>\n",
       "  </thead>\n",
       "  <tbody>\n",
       "    <tr>\n",
       "      <th>0</th>\n",
       "      <td>2009</td>\n",
       "      <td>2.505529</td>\n",
       "      <td>1.0</td>\n",
       "      <td>Science</td>\n",
       "      <td>missing</td>\n",
       "      <td>missing</td>\n",
       "      <td>Science</td>\n",
       "      <td>missing</td>\n",
       "      <td>missing</td>\n",
       "      <td>missing</td>\n",
       "      <td>missing</td>\n",
       "      <td>4.0</td>\n",
       "      <td>0.0</td>\n",
       "      <td>White</td>\n",
       "      <td>M</td>\n",
       "      <td>4.0</td>\n",
       "      <td>4.0</td>\n",
       "      <td>4.0</td>\n",
       "      <td>4.0</td>\n",
       "      <td>4.0</td>\n",
       "      <td>3.0</td>\n",
       "      <td>4.0</td>\n",
       "      <td>3.0</td>\n",
       "      <td>4.0</td>\n",
       "      <td>1.0</td>\n",
       "      <td>4.0</td>\n",
       "      <td>4.0</td>\n",
       "      <td>3.0</td>\n",
       "      <td>2.0</td>\n",
       "      <td>4.0</td>\n",
       "      <td>3.0</td>\n",
       "      <td>4.0</td>\n",
       "      <td>4.0</td>\n",
       "      <td>4.0</td>\n",
       "      <td>4.0</td>\n",
       "      <td>1.0</td>\n",
       "      <td>3.0</td>\n",
       "      <td>2.178880</td>\n",
       "      <td>1.0</td>\n",
       "      <td>0.0</td>\n",
       "      <td>1.0</td>\n",
       "      <td>0</td>\n",
       "      <td>0</td>\n",
       "      <td>1</td>\n",
       "      <td>0</td>\n",
       "      <td>0</td>\n",
       "      <td>1</td>\n",
       "      <td>1</td>\n",
       "      <td>1.0</td>\n",
       "      <td>1.0</td>\n",
       "      <td>1</td>\n",
       "      <td>1</td>\n",
       "      <td>32.0</td>\n",
       "      <td>3.380952</td>\n",
       "      <td>200.0</td>\n",
       "      <td>200.0</td>\n",
       "      <td>1.0000</td>\n",
       "      <td>0</td>\n",
       "      <td>0</td>\n",
       "    </tr>\n",
       "    <tr>\n",
       "      <th>1</th>\n",
       "      <td>2009</td>\n",
       "      <td>-1.407328</td>\n",
       "      <td>2.0</td>\n",
       "      <td>Science</td>\n",
       "      <td>missing</td>\n",
       "      <td>missing</td>\n",
       "      <td>Science</td>\n",
       "      <td>missing</td>\n",
       "      <td>missing</td>\n",
       "      <td>Science</td>\n",
       "      <td>missing</td>\n",
       "      <td>1.0</td>\n",
       "      <td>1.0</td>\n",
       "      <td>Black or African American</td>\n",
       "      <td>F</td>\n",
       "      <td>2.0</td>\n",
       "      <td>3.0</td>\n",
       "      <td>2.0</td>\n",
       "      <td>2.0</td>\n",
       "      <td>4.0</td>\n",
       "      <td>2.0</td>\n",
       "      <td>4.0</td>\n",
       "      <td>2.0</td>\n",
       "      <td>3.0</td>\n",
       "      <td>1.0</td>\n",
       "      <td>4.0</td>\n",
       "      <td>3.0</td>\n",
       "      <td>2.0</td>\n",
       "      <td>2.0</td>\n",
       "      <td>3.0</td>\n",
       "      <td>2.0</td>\n",
       "      <td>2.0</td>\n",
       "      <td>2.0</td>\n",
       "      <td>2.0</td>\n",
       "      <td>2.0</td>\n",
       "      <td>1.0</td>\n",
       "      <td>2.0</td>\n",
       "      <td>-0.836599</td>\n",
       "      <td>1.0</td>\n",
       "      <td>0.0</td>\n",
       "      <td>1.0</td>\n",
       "      <td>0</td>\n",
       "      <td>0</td>\n",
       "      <td>1</td>\n",
       "      <td>0</td>\n",
       "      <td>1</td>\n",
       "      <td>1</td>\n",
       "      <td>1</td>\n",
       "      <td>1.0</td>\n",
       "      <td>1.0</td>\n",
       "      <td>1</td>\n",
       "      <td>1</td>\n",
       "      <td>20.0</td>\n",
       "      <td>2.333333</td>\n",
       "      <td>27.0</td>\n",
       "      <td>200.0</td>\n",
       "      <td>0.1350</td>\n",
       "      <td>1</td>\n",
       "      <td>1</td>\n",
       "    </tr>\n",
       "    <tr>\n",
       "      <th>2</th>\n",
       "      <td>2009</td>\n",
       "      <td>0.745614</td>\n",
       "      <td>1.0</td>\n",
       "      <td>Arts</td>\n",
       "      <td>missing</td>\n",
       "      <td>missing</td>\n",
       "      <td>missing</td>\n",
       "      <td>missing</td>\n",
       "      <td>missing</td>\n",
       "      <td>missing</td>\n",
       "      <td>missing</td>\n",
       "      <td>3.0</td>\n",
       "      <td>0.0</td>\n",
       "      <td>White</td>\n",
       "      <td>M</td>\n",
       "      <td>2.0</td>\n",
       "      <td>2.0</td>\n",
       "      <td>3.0</td>\n",
       "      <td>2.0</td>\n",
       "      <td>2.0</td>\n",
       "      <td>4.0</td>\n",
       "      <td>2.0</td>\n",
       "      <td>2.0</td>\n",
       "      <td>3.0</td>\n",
       "      <td>1.0</td>\n",
       "      <td>2.0</td>\n",
       "      <td>3.0</td>\n",
       "      <td>3.0</td>\n",
       "      <td>3.0</td>\n",
       "      <td>3.0</td>\n",
       "      <td>4.0</td>\n",
       "      <td>4.0</td>\n",
       "      <td>2.0</td>\n",
       "      <td>2.0</td>\n",
       "      <td>2.0</td>\n",
       "      <td>1.0</td>\n",
       "      <td>2.0</td>\n",
       "      <td>0.747805</td>\n",
       "      <td>1.0</td>\n",
       "      <td>0.0</td>\n",
       "      <td>1.0</td>\n",
       "      <td>0</td>\n",
       "      <td>0</td>\n",
       "      <td>0</td>\n",
       "      <td>0</td>\n",
       "      <td>0</td>\n",
       "      <td>0</td>\n",
       "      <td>0</td>\n",
       "      <td>1.0</td>\n",
       "      <td>1.0</td>\n",
       "      <td>0</td>\n",
       "      <td>0</td>\n",
       "      <td>26.0</td>\n",
       "      <td>2.428571</td>\n",
       "      <td>153.5</td>\n",
       "      <td>200.0</td>\n",
       "      <td>0.7675</td>\n",
       "      <td>0</td>\n",
       "      <td>0</td>\n",
       "    </tr>\n",
       "    <tr>\n",
       "      <th>3</th>\n",
       "      <td>2009</td>\n",
       "      <td>0.149933</td>\n",
       "      <td>1.0</td>\n",
       "      <td>Science</td>\n",
       "      <td>missing</td>\n",
       "      <td>missing</td>\n",
       "      <td>missing</td>\n",
       "      <td>missing</td>\n",
       "      <td>missing</td>\n",
       "      <td>missing</td>\n",
       "      <td>missing</td>\n",
       "      <td>4.0</td>\n",
       "      <td>0.0</td>\n",
       "      <td>White</td>\n",
       "      <td>M</td>\n",
       "      <td>2.0</td>\n",
       "      <td>2.0</td>\n",
       "      <td>2.0</td>\n",
       "      <td>2.0</td>\n",
       "      <td>3.0</td>\n",
       "      <td>3.0</td>\n",
       "      <td>3.0</td>\n",
       "      <td>4.0</td>\n",
       "      <td>3.0</td>\n",
       "      <td>1.0</td>\n",
       "      <td>4.0</td>\n",
       "      <td>3.0</td>\n",
       "      <td>3.0</td>\n",
       "      <td>4.0</td>\n",
       "      <td>3.0</td>\n",
       "      <td>3.0</td>\n",
       "      <td>3.0</td>\n",
       "      <td>3.0</td>\n",
       "      <td>3.0</td>\n",
       "      <td>3.0</td>\n",
       "      <td>1.0</td>\n",
       "      <td>2.0</td>\n",
       "      <td>-0.121062</td>\n",
       "      <td>1.0</td>\n",
       "      <td>0.0</td>\n",
       "      <td>1.0</td>\n",
       "      <td>0</td>\n",
       "      <td>0</td>\n",
       "      <td>0</td>\n",
       "      <td>0</td>\n",
       "      <td>0</td>\n",
       "      <td>1</td>\n",
       "      <td>0</td>\n",
       "      <td>1.0</td>\n",
       "      <td>1.0</td>\n",
       "      <td>0</td>\n",
       "      <td>0</td>\n",
       "      <td>28.0</td>\n",
       "      <td>2.714286</td>\n",
       "      <td>73.0</td>\n",
       "      <td>200.0</td>\n",
       "      <td>0.3650</td>\n",
       "      <td>0</td>\n",
       "      <td>0</td>\n",
       "    </tr>\n",
       "    <tr>\n",
       "      <th>4</th>\n",
       "      <td>2009</td>\n",
       "      <td>-0.973841</td>\n",
       "      <td>1.0</td>\n",
       "      <td>Science</td>\n",
       "      <td>missing</td>\n",
       "      <td>missing</td>\n",
       "      <td>missing</td>\n",
       "      <td>missing</td>\n",
       "      <td>missing</td>\n",
       "      <td>missing</td>\n",
       "      <td>missing</td>\n",
       "      <td>4.0</td>\n",
       "      <td>1.0</td>\n",
       "      <td>Asian</td>\n",
       "      <td>F</td>\n",
       "      <td>2.0</td>\n",
       "      <td>2.0</td>\n",
       "      <td>2.0</td>\n",
       "      <td>2.0</td>\n",
       "      <td>2.0</td>\n",
       "      <td>2.0</td>\n",
       "      <td>2.0</td>\n",
       "      <td>2.0</td>\n",
       "      <td>2.0</td>\n",
       "      <td>1.0</td>\n",
       "      <td>2.0</td>\n",
       "      <td>2.0</td>\n",
       "      <td>2.0</td>\n",
       "      <td>3.0</td>\n",
       "      <td>4.0</td>\n",
       "      <td>2.0</td>\n",
       "      <td>2.0</td>\n",
       "      <td>2.0</td>\n",
       "      <td>2.0</td>\n",
       "      <td>2.0</td>\n",
       "      <td>1.0</td>\n",
       "      <td>2.0</td>\n",
       "      <td>-1.501027</td>\n",
       "      <td>1.0</td>\n",
       "      <td>0.0</td>\n",
       "      <td>1.0</td>\n",
       "      <td>0</td>\n",
       "      <td>0</td>\n",
       "      <td>0</td>\n",
       "      <td>0</td>\n",
       "      <td>0</td>\n",
       "      <td>1</td>\n",
       "      <td>0</td>\n",
       "      <td>1.0</td>\n",
       "      <td>1.0</td>\n",
       "      <td>0</td>\n",
       "      <td>0</td>\n",
       "      <td>22.0</td>\n",
       "      <td>2.055556</td>\n",
       "      <td>7.0</td>\n",
       "      <td>200.0</td>\n",
       "      <td>0.0350</td>\n",
       "      <td>1</td>\n",
       "      <td>1</td>\n",
       "    </tr>\n",
       "  </tbody>\n",
       "</table>\n",
       "</div>"
      ],
      "text/plain": [
       "   m1_fall  mcat_zscore  mcat_total_attempts bachelor_1 bachelor_2 bachelor_3  \\\n",
       "0     2009     2.505529                  1.0    Science    missing    missing   \n",
       "1     2009    -1.407328                  2.0    Science    missing    missing   \n",
       "2     2009     0.745614                  1.0       Arts    missing    missing   \n",
       "3     2009     0.149933                  1.0    Science    missing    missing   \n",
       "4     2009    -0.973841                  1.0    Science    missing    missing   \n",
       "\n",
       "  master_1 master_2 master_3 associate_1 associate_2  biochem_likelyhood  \\\n",
       "0  Science  missing  missing     missing     missing                 4.0   \n",
       "1  Science  missing  missing     Science     missing                 1.0   \n",
       "2  missing  missing  missing     missing     missing                 3.0   \n",
       "3  missing  missing  missing     missing     missing                 4.0   \n",
       "4  missing  missing  missing     missing     missing                 4.0   \n",
       "\n",
       "   gem_indicator                       race gender  m1f_limbs  \\\n",
       "0            0.0                      White      M        4.0   \n",
       "1            1.0  Black or African American      F        2.0   \n",
       "2            0.0                      White      M        2.0   \n",
       "3            0.0                      White      M        2.0   \n",
       "4            1.0                      Asian      F        2.0   \n",
       "\n",
       "   m1f_metabolism_nutrition_and_endo  m1f_molecular_and_cell_physiology  \\\n",
       "0                                4.0                                4.0   \n",
       "1                                3.0                                2.0   \n",
       "2                                2.0                                3.0   \n",
       "3                                2.0                                2.0   \n",
       "4                                2.0                                2.0   \n",
       "\n",
       "   m1f_molecular_and_human_genetics  m1s_cardio_pulmonary  \\\n",
       "0                               4.0                   4.0   \n",
       "1                               2.0                   4.0   \n",
       "2                               2.0                   2.0   \n",
       "3                               2.0                   3.0   \n",
       "4                               2.0                   2.0   \n",
       "\n",
       "   m1s_ebm_and_population_health  m1s_gastrointestinal  \\\n",
       "0                            3.0                   4.0   \n",
       "1                            2.0                   4.0   \n",
       "2                            4.0                   2.0   \n",
       "3                            3.0                   3.0   \n",
       "4                            2.0                   2.0   \n",
       "\n",
       "   m1s_head_neck_and_special_senses  m1s_patients_populations_and_policy  \\\n",
       "0                               3.0                                  4.0   \n",
       "1                               2.0                                  3.0   \n",
       "2                               2.0                                  3.0   \n",
       "3                               4.0                                  3.0   \n",
       "4                               2.0                                  2.0   \n",
       "\n",
       "   m1s_physical_diagnosis_i  m1s_renal_and_electrolytes  \\\n",
       "0                       1.0                         4.0   \n",
       "1                       1.0                         4.0   \n",
       "2                       1.0                         2.0   \n",
       "3                       1.0                         4.0   \n",
       "4                       1.0                         2.0   \n",
       "\n",
       "   m1s_sexual_dev__and_reproduction  m2s_clinical_skills_primer  \\\n",
       "0                               4.0                         3.0   \n",
       "1                               3.0                         2.0   \n",
       "2                               3.0                         3.0   \n",
       "3                               3.0                         3.0   \n",
       "4                               2.0                         2.0   \n",
       "\n",
       "   m2s_evidence_based_medicine_ii  m2s_health_care_ethics  \\\n",
       "0                             2.0                     4.0   \n",
       "1                             2.0                     3.0   \n",
       "2                             3.0                     3.0   \n",
       "3                             4.0                     3.0   \n",
       "4                             3.0                     4.0   \n",
       "\n",
       "   m2s_human_sexuality  m2s_lab_medicine_pblm_solving_case  \\\n",
       "0                  3.0                                 4.0   \n",
       "1                  2.0                                 2.0   \n",
       "2                  4.0                                 4.0   \n",
       "3                  3.0                                 3.0   \n",
       "4                  2.0                                 2.0   \n",
       "\n",
       "   m2s_microbiology_and_immunology  m2s_pathology  m2s_pharmacology  \\\n",
       "0                              4.0            4.0               4.0   \n",
       "1                              2.0            2.0               2.0   \n",
       "2                              2.0            2.0               2.0   \n",
       "3                              3.0            3.0               3.0   \n",
       "4                              2.0            2.0               2.0   \n",
       "\n",
       "   m2s_physical_diagnosis_ii  m2s_psychiatry  step1_z_score  \\\n",
       "0                        1.0             3.0       2.178880   \n",
       "1                        1.0             2.0      -0.836599   \n",
       "2                        1.0             2.0       0.747805   \n",
       "3                        1.0             2.0      -0.121062   \n",
       "4                        1.0             2.0      -1.501027   \n",
       "\n",
       "   step1_pass_indicator  repeat_indic  step1_total_attempts  target_indicator  \\\n",
       "0                   1.0           0.0                   1.0                 0   \n",
       "1                   1.0           0.0                   1.0                 0   \n",
       "2                   1.0           0.0                   1.0                 0   \n",
       "3                   1.0           0.0                   1.0                 0   \n",
       "4                   1.0           0.0                   1.0                 0   \n",
       "\n",
       "   double_bachelor  master_degree  double_master  associate_degree  \\\n",
       "0                0              1              0                 0   \n",
       "1                0              1              0                 1   \n",
       "2                0              0              0                 0   \n",
       "3                0              0              0                 0   \n",
       "4                0              0              0                 0   \n",
       "\n",
       "   science_undergrad  science_master  bachelors_num  science_bachelors_num  \\\n",
       "0                  1               1            1.0                    1.0   \n",
       "1                  1               1            1.0                    1.0   \n",
       "2                  0               0            1.0                    1.0   \n",
       "3                  1               0            1.0                    1.0   \n",
       "4                  1               0            1.0                    1.0   \n",
       "\n",
       "   masters_num  science_masters_num  yr2_score_tot       GPA  step1_rank  \\\n",
       "0            1                    1           32.0  3.380952       200.0   \n",
       "1            1                    1           20.0  2.333333        27.0   \n",
       "2            0                    0           26.0  2.428571       153.5   \n",
       "3            0                    0           28.0  2.714286        73.0   \n",
       "4            0                    0           22.0  2.055556         7.0   \n",
       "\n",
       "   step1_total_students  step1_percentile  step1_low_score  danger_student  \n",
       "0                 200.0            1.0000                0               0  \n",
       "1                 200.0            0.1350                1               1  \n",
       "2                 200.0            0.7675                0               0  \n",
       "3                 200.0            0.3650                0               0  \n",
       "4                 200.0            0.0350                1               1  "
      ]
     },
     "execution_count": 42,
     "metadata": {},
     "output_type": "execute_result"
    }
   ],
   "source": [
    "path = wd + '/../../../med_school_data/output/'\n",
    "file_name = 'final_data.csv'\n",
    "\n",
    "def load_data(csv, path):\n",
    "\tdf = pd.read_csv(path + csv)\n",
    "\treturn df\n",
    "\n",
    "data = load_data(file_name, path)\n",
    "data.head()"
   ]
  },
  {
   "cell_type": "markdown",
   "metadata": {},
   "source": [
    "### Make Feature Lists\n",
    "Sometimes it's nice to iterate through different types of variables, so these predefined lists will just make things a little bit easier for us"
   ]
  },
  {
   "cell_type": "code",
   "execution_count": 43,
   "metadata": {
    "collapsed": true
   },
   "outputs": [],
   "source": [
    "courses = ['m1f_limbs', 'm1f_metabolism_nutrition_and_endo', \n",
    "        'm1f_molecular_and_cell_physiology',\n",
    "        'm1f_molecular_and_human_genetics','m1s_cardio_pulmonary', \n",
    "        'm1s_ebm_and_population_health','m1s_gastrointestinal', \n",
    "        'm1s_head_neck_and_special_senses', 'm1s_patients_populations_and_policy',\n",
    "        'm1s_physical_diagnosis_i', 'm1s_renal_and_electrolytes', \n",
    "        'm1s_sexual_dev__and_reproduction']\n",
    "\n",
    "categorical = ['bachelor_1', 'bachelor_2', 'bachelor_3',\n",
    "               'master_1', 'master_2', 'master_3', 'associate_1',\n",
    "               'associate_2', 'race', 'gender']\n",
    "\n",
    "indicators = ['gem_indicator', 'double_bachelor', 'double_master']\n",
    "\n",
    "continuous = ['mcat_zscore']\n",
    "\n",
    "discontinuous = ['mcat_total_attempts', 'biochem_likelyhood']\n",
    "\n",
    "\n",
    "target_elements = ['danger_student']"
   ]
  },
  {
   "cell_type": "markdown",
   "metadata": {},
   "source": [
    "## Part Two: Filter the data down\n",
    "Since there can be some abiguity when it comes to grades, and we aren't sure if some classes are graded differently than others, the Dean of the Medical School has suggested that we break the course grades simply into fail pass (1/0).  "
   ]
  },
  {
   "cell_type": "code",
   "execution_count": 44,
   "metadata": {
    "collapsed": true
   },
   "outputs": [],
   "source": [
    "def passFail(df, courses):\n",
    "    graded_courses = []\n",
    "    for col in courses:\n",
    "        if df[col].nunique() > 2:\n",
    "            indicator = col + '_low_ind'\n",
    "            df[indicator] = np.where(df[col] <=1, 1, 0)\n",
    "            graded_courses.append(indicator)\n",
    "    return df, graded_courses"
   ]
  },
  {
   "cell_type": "code",
   "execution_count": 45,
   "metadata": {
    "collapsed": true
   },
   "outputs": [],
   "source": [
    "def totalFails(df, pfs):\n",
    "    df['total_fails'] = df[pfs[1]]*0\n",
    "    for col in pfs:\n",
    "        df['total_fails'] = df['total_fails'] + df[col]\n",
    "    return df[df['total_fails']> 0]"
   ]
  },
  {
   "cell_type": "code",
   "execution_count": 46,
   "metadata": {
    "collapsed": true
   },
   "outputs": [],
   "source": [
    "class MakeDummies(BaseEstimator, TransformerMixin):\n",
    "    \n",
    "    def __init__(self, columns=None):\n",
    "        self.columns  = [col for col in columns] \n",
    "        self.encoders = None\n",
    "            \n",
    "    def fit(self, data, target=None):\n",
    "        if self.columns is None:\n",
    "            self.columns = data.columns \n",
    "        return self\n",
    "    \n",
    "    def transform(self, data):\n",
    "        output = data.copy()\n",
    "        for col in self.columns:\n",
    "            output = pd.get_dummies(data = output, columns = [col])\n",
    "        return output"
   ]
  },
  {
   "cell_type": "code",
   "execution_count": 47,
   "metadata": {
    "collapsed": true
   },
   "outputs": [],
   "source": [
    "pf_data, pf_courses = passFail(data, courses)\n",
    "train = totalFails(pf_data, pf_courses)"
   ]
  },
  {
   "cell_type": "code",
   "execution_count": 48,
   "metadata": {},
   "outputs": [
    {
     "data": {
      "text/plain": [
       "(44, 71)"
      ]
     },
     "execution_count": 48,
     "metadata": {},
     "output_type": "execute_result"
    }
   ],
   "source": [
    "train.shape\n"
   ]
  },
  {
   "cell_type": "markdown",
   "metadata": {},
   "source": [
    "## Part Three: Do some analysis\n"
   ]
  },
  {
   "cell_type": "code",
   "execution_count": 49,
   "metadata": {},
   "outputs": [
    {
     "data": {
      "text/plain": [
       "0    24\n",
       "1    20\n",
       "Name: target_indicator, dtype: int64"
      ]
     },
     "execution_count": 49,
     "metadata": {},
     "output_type": "execute_result"
    }
   ],
   "source": [
    "train['target_indicator'].value_counts()"
   ]
  },
  {
   "cell_type": "code",
   "execution_count": 65,
   "metadata": {
    "collapsed": true
   },
   "outputs": [],
   "source": [
    "y = train['target_indicator']\n",
    "\n",
    "course_dummies = []\n",
    "for col in pf_courses:\n",
    "    if train[col].nunique() >1:\n",
    "        course_dummies.append(col)\n",
    "\n",
    "        \n",
    "X_short = train[course_dummies]\n",
    "\n",
    "md = MakeDummies(columns = categorical)\n",
    "X_wide = md.fit_transform(train[course_dummies + categorical +\n",
    "                               indicators + continuous + discontinuous])\n",
    "        \n",
    "X_medium = X_wide[course_dummies + \n",
    "    ['gender_M','master_1_Science', \n",
    "     'master_1_missing', 'bachelor_1_Science',\n",
    "     'bachelor_2_Science', 'mcat_total_attempts', 'mcat_zscore' ,\n",
    "     'double_bachelor', 'biochem_likelyhood', \n",
    "     'gem_indicator', 'bachelor_2_missing']]"
   ]
  },
  {
   "cell_type": "markdown",
   "metadata": {},
   "source": [
    "### Function to Plot Course Feature Rankings"
   ]
  },
  {
   "cell_type": "code",
   "execution_count": 66,
   "metadata": {
    "collapsed": true
   },
   "outputs": [],
   "source": [
    "def FeatImp(X, y, model, rel= True):\n",
    "    fig = plt.figure(figsize = (8,6))\n",
    "    ax = fig.add_subplot()\n",
    "    viz = FeatureImportances(model, ax=ax, relative = rel)\n",
    "    viz.fit(X, y)\n",
    "    viz.poof()"
   ]
  },
  {
   "cell_type": "code",
   "execution_count": 67,
   "metadata": {},
   "outputs": [
    {
     "data": {
      "image/png": "[encoded data removed]",
      "text/plain": [
       "<Figure size 576x432 with 1 Axes>"
      ]
     },
     "metadata": {},
     "output_type": "display_data"
    }
   ],
   "source": [
    "FeatImp(X_short,y, ExtraTreesClassifier())"
   ]
  },
  {
   "cell_type": "code",
   "execution_count": 68,
   "metadata": {
    "scrolled": false
   },
   "outputs": [
    {
     "data": {
      "image/png": "[encoded data removed]",
      "text/plain": [
       "<Figure size 576x432 with 1 Axes>"
      ]
     },
     "metadata": {},
     "output_type": "display_data"
    }
   ],
   "source": [
    "FeatImp(X_short,y,GradientBoostingClassifier())"
   ]
  },
  {
   "cell_type": "markdown",
   "metadata": {},
   "source": [
    "### These Importances Change pretty drastically"
   ]
  },
  {
   "cell_type": "code",
   "execution_count": 69,
   "metadata": {
    "collapsed": true
   },
   "outputs": [],
   "source": [
    "def ModelCrossVal(X, y, model):\n",
    "\n",
    "    X_train, X_test, y_train, y_test = train_test_split(X,y,test_size = 0.2)\n",
    "    fitted_model = model.fit(X_train, y_train)\n",
    "\n",
    "    fitted_model.score(X_test, y_test)\n",
    "    expected   = y_test\n",
    "    predicted  = fitted_model.predict(X_test)\n",
    "\n",
    "    classificationReport = classification_report(expected, predicted, target_names=[\"Not At Risk\",\"At Risk\"])\n",
    "    scores = [recall_score(expected, predicted), precision_score(expected, predicted)]\n",
    "    return scores"
   ]
  },
  {
   "cell_type": "code",
   "execution_count": 70,
   "metadata": {
    "collapsed": true
   },
   "outputs": [],
   "source": [
    "def AvgRecall(X, y, n, model):\n",
    "    x = 1\n",
    "    recall_list = []\n",
    "    presci_list = []\n",
    "    while x <= n:\n",
    "        scores = ModelCrossVal(X,y, model)\n",
    "        recall_list.append(scores[0])\n",
    "        presci_list.append(scores[1])\n",
    "        x += 1\n",
    "    recall    = round(np.mean(recall_list), 2)\n",
    "    precision = round(np.mean(presci_list), 2) \n",
    "    return({'Recall' : recall, 'Precision' : precision})"
   ]
  },
  {
   "cell_type": "code",
   "execution_count": 71,
   "metadata": {
    "collapsed": true
   },
   "outputs": [],
   "source": [
    "def LoopModels(X, y, models, n):\n",
    "    stats = {}\n",
    "    for key in models.keys():\n",
    "        stats[key] = AvgRecall(X, y, n, models[key])\n",
    "    stats_df = pd.DataFrame.from_dict(stats)\n",
    "    return stats_df"
   ]
  },
  {
   "cell_type": "code",
   "execution_count": 72,
   "metadata": {
    "collapsed": true
   },
   "outputs": [],
   "source": [
    "ml_models = {\n",
    "          'SVC'        : SVC(class_weight = {0:1, 1:2.8}),\n",
    "          'Log. Reg.'  : LogisticRegression(class_weight = {0:1, 1:2.8}),\n",
    "          'LinearSVC'  : LinearSVC(class_weight ={0:1, 1:2.8})\n",
    "         }"
   ]
  },
  {
   "cell_type": "code",
   "execution_count": 73,
   "metadata": {},
   "outputs": [
    {
     "name": "stdout",
     "output_type": "stream",
     "text": [
      "Running each model 100 times and printing an average recall score\n"
     ]
    },
    {
     "data": {
      "text/html": [
       "<div>\n",
       "<style scoped>\n",
       "    .dataframe tbody tr th:only-of-type {\n",
       "        vertical-align: middle;\n",
       "    }\n",
       "\n",
       "    .dataframe tbody tr th {\n",
       "        vertical-align: top;\n",
       "    }\n",
       "\n",
       "    .dataframe thead th {\n",
       "        text-align: right;\n",
       "    }\n",
       "</style>\n",
       "<table border=\"1\" class=\"dataframe\">\n",
       "  <thead>\n",
       "    <tr style=\"text-align: right;\">\n",
       "      <th></th>\n",
       "      <th>LinearSVC</th>\n",
       "      <th>Log. Reg.</th>\n",
       "      <th>SVC</th>\n",
       "    </tr>\n",
       "  </thead>\n",
       "  <tbody>\n",
       "    <tr>\n",
       "      <th>Precision</th>\n",
       "      <td>0.48</td>\n",
       "      <td>0.45</td>\n",
       "      <td>0.45</td>\n",
       "    </tr>\n",
       "    <tr>\n",
       "      <th>Recall</th>\n",
       "      <td>0.79</td>\n",
       "      <td>0.88</td>\n",
       "      <td>0.99</td>\n",
       "    </tr>\n",
       "  </tbody>\n",
       "</table>\n",
       "</div>"
      ],
      "text/plain": [
       "           LinearSVC  Log. Reg.   SVC\n",
       "Precision       0.48       0.45  0.45\n",
       "Recall          0.79       0.88  0.99"
      ]
     },
     "execution_count": 73,
     "metadata": {},
     "output_type": "execute_result"
    }
   ],
   "source": [
    "print('Running each model 100 times and printing an average recall score')\n",
    "LoopModels(X_short, y, ml_models, 100)"
   ]
  },
  {
   "cell_type": "code",
   "execution_count": 74,
   "metadata": {
    "scrolled": true
   },
   "outputs": [
    {
     "name": "stdout",
     "output_type": "stream",
     "text": [
      "Running each model 100 times and printing an average recall score\n"
     ]
    },
    {
     "data": {
      "text/html": [
       "<div>\n",
       "<style scoped>\n",
       "    .dataframe tbody tr th:only-of-type {\n",
       "        vertical-align: middle;\n",
       "    }\n",
       "\n",
       "    .dataframe tbody tr th {\n",
       "        vertical-align: top;\n",
       "    }\n",
       "\n",
       "    .dataframe thead th {\n",
       "        text-align: right;\n",
       "    }\n",
       "</style>\n",
       "<table border=\"1\" class=\"dataframe\">\n",
       "  <thead>\n",
       "    <tr style=\"text-align: right;\">\n",
       "      <th></th>\n",
       "      <th>LinearSVC</th>\n",
       "      <th>Log. Reg.</th>\n",
       "      <th>SVC</th>\n",
       "    </tr>\n",
       "  </thead>\n",
       "  <tbody>\n",
       "    <tr>\n",
       "      <th>Precision</th>\n",
       "      <td>0.56</td>\n",
       "      <td>0.55</td>\n",
       "      <td>0.47</td>\n",
       "    </tr>\n",
       "    <tr>\n",
       "      <th>Recall</th>\n",
       "      <td>0.63</td>\n",
       "      <td>0.77</td>\n",
       "      <td>0.96</td>\n",
       "    </tr>\n",
       "  </tbody>\n",
       "</table>\n",
       "</div>"
      ],
      "text/plain": [
       "           LinearSVC  Log. Reg.   SVC\n",
       "Precision       0.56       0.55  0.47\n",
       "Recall          0.63       0.77  0.96"
      ]
     },
     "execution_count": 74,
     "metadata": {},
     "output_type": "execute_result"
    }
   ],
   "source": [
    "print('Running each model 100 times and printing an average recall score')\n",
    "LoopModels(X_medium, y, ml_models, 100)"
   ]
  },
  {
   "cell_type": "code",
   "execution_count": 75,
   "metadata": {},
   "outputs": [
    {
     "name": "stdout",
     "output_type": "stream",
     "text": [
      "Running each model 100 times and printing an average recall score\n"
     ]
    },
    {
     "data": {
      "text/html": [
       "<div>\n",
       "<style scoped>\n",
       "    .dataframe tbody tr th:only-of-type {\n",
       "        vertical-align: middle;\n",
       "    }\n",
       "\n",
       "    .dataframe tbody tr th {\n",
       "        vertical-align: top;\n",
       "    }\n",
       "\n",
       "    .dataframe thead th {\n",
       "        text-align: right;\n",
       "    }\n",
       "</style>\n",
       "<table border=\"1\" class=\"dataframe\">\n",
       "  <thead>\n",
       "    <tr style=\"text-align: right;\">\n",
       "      <th></th>\n",
       "      <th>LinearSVC</th>\n",
       "      <th>Log. Reg.</th>\n",
       "      <th>SVC</th>\n",
       "    </tr>\n",
       "  </thead>\n",
       "  <tbody>\n",
       "    <tr>\n",
       "      <th>Precision</th>\n",
       "      <td>0.63</td>\n",
       "      <td>0.53</td>\n",
       "      <td>0.46</td>\n",
       "    </tr>\n",
       "    <tr>\n",
       "      <th>Recall</th>\n",
       "      <td>0.53</td>\n",
       "      <td>0.70</td>\n",
       "      <td>0.99</td>\n",
       "    </tr>\n",
       "  </tbody>\n",
       "</table>\n",
       "</div>"
      ],
      "text/plain": [
       "           LinearSVC  Log. Reg.   SVC\n",
       "Precision       0.63       0.53  0.46\n",
       "Recall          0.53       0.70  0.99"
      ]
     },
     "execution_count": 75,
     "metadata": {},
     "output_type": "execute_result"
    }
   ],
   "source": [
    "print('Running each model 100 times and printing an average recall score')\n",
    "LoopModels(X_wide, y, ml_models, 100)"
   ]
  },
  {
   "cell_type": "markdown",
   "metadata": {},
   "source": [
    "### This isn't too useful\n",
    "Recall is high, but precision is around 50 percent meaning that the machine is just guessing \"Fail\" almost every time. This is not very useful. We don't have enough data to do machine learning here. I could continue to try and beat things out of these models, but I don't see it going anywhere"
   ]
  },
  {
   "cell_type": "code",
   "execution_count": null,
   "metadata": {
    "collapsed": true
   },
   "outputs": [],
   "source": []
  },
  {
   "cell_type": "code",
   "execution_count": null,
   "metadata": {
    "collapsed": true
   },
   "outputs": [],
   "source": []
  }
 ],
 "metadata": {
  "kernelspec": {
   "display_name": "Python 3",
   "language": "python",
   "name": "python3"
  },
  "language_info": {
   "codemirror_mode": {
    "name": "ipython",
    "version": 3
   },
   "file_extension": ".py",
   "mimetype": "text/x-python",
   "name": "python",
   "nbconvert_exporter": "python",
   "pygments_lexer": "ipython3",
   "version": "3.6.4"
  }
 },
 "nbformat": 4,
 "nbformat_minor": 2
}
