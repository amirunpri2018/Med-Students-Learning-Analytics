{
 "cells": [
  {
   "cell_type": "markdown",
   "metadata": {},
   "source": [
    "# Initial Machine Learning"
   ]
  },
  {
   "cell_type": "markdown",
   "metadata": {},
   "source": [
    "## Part 1: File Setup"
   ]
  },
  {
   "cell_type": "markdown",
   "metadata": {},
   "source": [
    "### Import Data and Plotting Packages"
   ]
  },
  {
   "cell_type": "code",
   "execution_count": 338,
   "metadata": {
    "collapsed": true
   },
   "outputs": [],
   "source": [
    "import numpy    as np\n",
    "import pandas   as pd\n",
    "import re\n",
    "import os\n",
    "import sys\n",
    "import seaborn as sns \n",
    "import yellowbrick as yb\n",
    "import matplotlib.pyplot as plt \n",
    "%matplotlib inline\n",
    "import warnings\n",
    "\n"
   ]
  },
  {
   "cell_type": "markdown",
   "metadata": {
    "collapsed": true
   },
   "source": [
    "### Import Custom Modules"
   ]
  },
  {
   "cell_type": "code",
   "execution_count": 339,
   "metadata": {
    "collapsed": true
   },
   "outputs": [],
   "source": [
    "wd = os.getcwd()\n",
    "mod_dir     = wd + '/../custom_modules/'\n",
    "sys.path.insert(0, mod_dir)\n",
    "import cleaning_helpers as helpers"
   ]
  },
  {
   "cell_type": "markdown",
   "metadata": {},
   "source": [
    "### Change those annoying Pandas Defaults"
   ]
  },
  {
   "cell_type": "code",
   "execution_count": 340,
   "metadata": {
    "collapsed": true
   },
   "outputs": [],
   "source": [
    "pd.set_option('display.max_rows', 500)\n",
    "pd.set_option('display.max_columns', 500)\n",
    "warnings.filterwarnings('ignore')"
   ]
  },
  {
   "cell_type": "markdown",
   "metadata": {},
   "source": [
    "## Part 2: Import & Transform Data"
   ]
  },
  {
   "cell_type": "markdown",
   "metadata": {},
   "source": [
    "### Load Data"
   ]
  },
  {
   "cell_type": "code",
   "execution_count": 341,
   "metadata": {},
   "outputs": [
    {
     "data": {
      "text/html": [
       "<div>\n",
       "<style scoped>\n",
       "    .dataframe tbody tr th:only-of-type {\n",
       "        vertical-align: middle;\n",
       "    }\n",
       "\n",
       "    .dataframe tbody tr th {\n",
       "        vertical-align: top;\n",
       "    }\n",
       "\n",
       "    .dataframe thead th {\n",
       "        text-align: right;\n",
       "    }\n",
       "</style>\n",
       "<table border=\"1\" class=\"dataframe\">\n",
       "  <thead>\n",
       "    <tr style=\"text-align: right;\">\n",
       "      <th></th>\n",
       "      <th>student_id</th>\n",
       "      <th>m1_fall</th>\n",
       "      <th>mcat_zscore</th>\n",
       "      <th>mcat_total_attempts</th>\n",
       "      <th>bachelor_1</th>\n",
       "      <th>bachelor_2</th>\n",
       "      <th>bachelor_3</th>\n",
       "      <th>master_1</th>\n",
       "      <th>master_2</th>\n",
       "      <th>master_3</th>\n",
       "      <th>associate_1</th>\n",
       "      <th>associate_2</th>\n",
       "      <th>biochem_likelyhood</th>\n",
       "      <th>gem_indicator</th>\n",
       "      <th>race</th>\n",
       "      <th>race_indic</th>\n",
       "      <th>gender</th>\n",
       "      <th>m1f_limbs</th>\n",
       "      <th>m1f_metabolism_nutrition_and_endo</th>\n",
       "      <th>m1f_molecular_and_cell_physiology</th>\n",
       "      <th>m1f_molecular_and_human_genetics</th>\n",
       "      <th>m1s_cardio_pulmonary</th>\n",
       "      <th>m1s_ebm_and_population_health</th>\n",
       "      <th>m1s_gastrointestinal</th>\n",
       "      <th>m1s_head_neck_and_special_senses</th>\n",
       "      <th>m1s_medical_neuroscience</th>\n",
       "      <th>m1s_patients_populations_and_policy</th>\n",
       "      <th>m1s_physical_diagnosis_i</th>\n",
       "      <th>m1s_renal_and_electrolytes</th>\n",
       "      <th>m1s_sexual_dev__and_reproduction</th>\n",
       "      <th>m2s_clinical_skills_primer</th>\n",
       "      <th>m2s_evidence_based_medicine_ii</th>\n",
       "      <th>m2s_health_care_ethics</th>\n",
       "      <th>m2s_human_sexuality</th>\n",
       "      <th>m2s_lab_medicine_pblm_solving_case</th>\n",
       "      <th>m2s_microbiology_and_immunology</th>\n",
       "      <th>m2s_pathology</th>\n",
       "      <th>m2s_pharmacology</th>\n",
       "      <th>m2s_physical_diagnosis_ii</th>\n",
       "      <th>m2s_psychiatry</th>\n",
       "      <th>step1_raw_score</th>\n",
       "      <th>step1_z_score</th>\n",
       "      <th>step1_pass_indicator</th>\n",
       "      <th>repeat_indic</th>\n",
       "      <th>dropout_indic</th>\n",
       "      <th>step1_total_attempts</th>\n",
       "      <th>target_indicator</th>\n",
       "      <th>double_bachelor</th>\n",
       "      <th>master_degree</th>\n",
       "      <th>double_master</th>\n",
       "      <th>associate_degree</th>\n",
       "      <th>science_undergrad</th>\n",
       "      <th>science_master</th>\n",
       "    </tr>\n",
       "  </thead>\n",
       "  <tbody>\n",
       "    <tr>\n",
       "      <th>0</th>\n",
       "      <td>30705306</td>\n",
       "      <td>200930</td>\n",
       "      <td>2.505529</td>\n",
       "      <td>1.0</td>\n",
       "      <td>Science</td>\n",
       "      <td>NaN</td>\n",
       "      <td>NaN</td>\n",
       "      <td>Science</td>\n",
       "      <td>NaN</td>\n",
       "      <td>NaN</td>\n",
       "      <td>NaN</td>\n",
       "      <td>NaN</td>\n",
       "      <td>4.0</td>\n",
       "      <td>0.0</td>\n",
       "      <td>White</td>\n",
       "      <td>5.0</td>\n",
       "      <td>M</td>\n",
       "      <td>4.0</td>\n",
       "      <td>4.0</td>\n",
       "      <td>4.0</td>\n",
       "      <td>4.0</td>\n",
       "      <td>4.0</td>\n",
       "      <td>3.0</td>\n",
       "      <td>4.0</td>\n",
       "      <td>3.0</td>\n",
       "      <td>4.0</td>\n",
       "      <td>NaN</td>\n",
       "      <td>1.0</td>\n",
       "      <td>4.0</td>\n",
       "      <td>4.0</td>\n",
       "      <td>3.0</td>\n",
       "      <td>2.0</td>\n",
       "      <td>4.0</td>\n",
       "      <td>3.0</td>\n",
       "      <td>4.0</td>\n",
       "      <td>4.0</td>\n",
       "      <td>4.0</td>\n",
       "      <td>4.0</td>\n",
       "      <td>1.0</td>\n",
       "      <td>3.0</td>\n",
       "      <td>269.0</td>\n",
       "      <td>2.178880</td>\n",
       "      <td>1.0</td>\n",
       "      <td>0.0</td>\n",
       "      <td>0.0</td>\n",
       "      <td>1.0</td>\n",
       "      <td>0</td>\n",
       "      <td>0</td>\n",
       "      <td>1</td>\n",
       "      <td>0</td>\n",
       "      <td>0</td>\n",
       "      <td>1</td>\n",
       "      <td>1</td>\n",
       "    </tr>\n",
       "    <tr>\n",
       "      <th>1</th>\n",
       "      <td>22721624</td>\n",
       "      <td>200930</td>\n",
       "      <td>-1.407328</td>\n",
       "      <td>2.0</td>\n",
       "      <td>Science</td>\n",
       "      <td>NaN</td>\n",
       "      <td>NaN</td>\n",
       "      <td>Science</td>\n",
       "      <td>NaN</td>\n",
       "      <td>NaN</td>\n",
       "      <td>Science</td>\n",
       "      <td>NaN</td>\n",
       "      <td>1.0</td>\n",
       "      <td>1.0</td>\n",
       "      <td>Black or African American</td>\n",
       "      <td>3.0</td>\n",
       "      <td>F</td>\n",
       "      <td>2.0</td>\n",
       "      <td>3.0</td>\n",
       "      <td>2.0</td>\n",
       "      <td>2.0</td>\n",
       "      <td>4.0</td>\n",
       "      <td>2.0</td>\n",
       "      <td>4.0</td>\n",
       "      <td>2.0</td>\n",
       "      <td>2.0</td>\n",
       "      <td>NaN</td>\n",
       "      <td>1.0</td>\n",
       "      <td>4.0</td>\n",
       "      <td>3.0</td>\n",
       "      <td>2.0</td>\n",
       "      <td>2.0</td>\n",
       "      <td>3.0</td>\n",
       "      <td>2.0</td>\n",
       "      <td>2.0</td>\n",
       "      <td>2.0</td>\n",
       "      <td>2.0</td>\n",
       "      <td>2.0</td>\n",
       "      <td>1.0</td>\n",
       "      <td>2.0</td>\n",
       "      <td>210.0</td>\n",
       "      <td>-0.836599</td>\n",
       "      <td>1.0</td>\n",
       "      <td>0.0</td>\n",
       "      <td>0.0</td>\n",
       "      <td>1.0</td>\n",
       "      <td>0</td>\n",
       "      <td>0</td>\n",
       "      <td>1</td>\n",
       "      <td>0</td>\n",
       "      <td>1</td>\n",
       "      <td>1</td>\n",
       "      <td>1</td>\n",
       "    </tr>\n",
       "    <tr>\n",
       "      <th>2</th>\n",
       "      <td>35604291</td>\n",
       "      <td>200930</td>\n",
       "      <td>0.745614</td>\n",
       "      <td>1.0</td>\n",
       "      <td>Arts</td>\n",
       "      <td>NaN</td>\n",
       "      <td>NaN</td>\n",
       "      <td>NaN</td>\n",
       "      <td>NaN</td>\n",
       "      <td>NaN</td>\n",
       "      <td>NaN</td>\n",
       "      <td>NaN</td>\n",
       "      <td>3.0</td>\n",
       "      <td>0.0</td>\n",
       "      <td>White</td>\n",
       "      <td>5.0</td>\n",
       "      <td>M</td>\n",
       "      <td>2.0</td>\n",
       "      <td>2.0</td>\n",
       "      <td>3.0</td>\n",
       "      <td>2.0</td>\n",
       "      <td>2.0</td>\n",
       "      <td>4.0</td>\n",
       "      <td>2.0</td>\n",
       "      <td>2.0</td>\n",
       "      <td>3.0</td>\n",
       "      <td>NaN</td>\n",
       "      <td>1.0</td>\n",
       "      <td>2.0</td>\n",
       "      <td>3.0</td>\n",
       "      <td>3.0</td>\n",
       "      <td>3.0</td>\n",
       "      <td>3.0</td>\n",
       "      <td>4.0</td>\n",
       "      <td>4.0</td>\n",
       "      <td>2.0</td>\n",
       "      <td>2.0</td>\n",
       "      <td>2.0</td>\n",
       "      <td>1.0</td>\n",
       "      <td>2.0</td>\n",
       "      <td>241.0</td>\n",
       "      <td>0.747805</td>\n",
       "      <td>1.0</td>\n",
       "      <td>0.0</td>\n",
       "      <td>0.0</td>\n",
       "      <td>1.0</td>\n",
       "      <td>0</td>\n",
       "      <td>0</td>\n",
       "      <td>0</td>\n",
       "      <td>0</td>\n",
       "      <td>0</td>\n",
       "      <td>0</td>\n",
       "      <td>0</td>\n",
       "    </tr>\n",
       "    <tr>\n",
       "      <th>3</th>\n",
       "      <td>23250759</td>\n",
       "      <td>200930</td>\n",
       "      <td>0.149933</td>\n",
       "      <td>1.0</td>\n",
       "      <td>Science</td>\n",
       "      <td>NaN</td>\n",
       "      <td>NaN</td>\n",
       "      <td>NaN</td>\n",
       "      <td>NaN</td>\n",
       "      <td>NaN</td>\n",
       "      <td>NaN</td>\n",
       "      <td>NaN</td>\n",
       "      <td>4.0</td>\n",
       "      <td>0.0</td>\n",
       "      <td>White</td>\n",
       "      <td>5.0</td>\n",
       "      <td>M</td>\n",
       "      <td>2.0</td>\n",
       "      <td>2.0</td>\n",
       "      <td>2.0</td>\n",
       "      <td>2.0</td>\n",
       "      <td>3.0</td>\n",
       "      <td>3.0</td>\n",
       "      <td>3.0</td>\n",
       "      <td>4.0</td>\n",
       "      <td>3.0</td>\n",
       "      <td>NaN</td>\n",
       "      <td>1.0</td>\n",
       "      <td>4.0</td>\n",
       "      <td>3.0</td>\n",
       "      <td>3.0</td>\n",
       "      <td>4.0</td>\n",
       "      <td>3.0</td>\n",
       "      <td>3.0</td>\n",
       "      <td>3.0</td>\n",
       "      <td>3.0</td>\n",
       "      <td>3.0</td>\n",
       "      <td>3.0</td>\n",
       "      <td>1.0</td>\n",
       "      <td>2.0</td>\n",
       "      <td>224.0</td>\n",
       "      <td>-0.121062</td>\n",
       "      <td>1.0</td>\n",
       "      <td>0.0</td>\n",
       "      <td>0.0</td>\n",
       "      <td>1.0</td>\n",
       "      <td>0</td>\n",
       "      <td>0</td>\n",
       "      <td>0</td>\n",
       "      <td>0</td>\n",
       "      <td>0</td>\n",
       "      <td>1</td>\n",
       "      <td>0</td>\n",
       "    </tr>\n",
       "    <tr>\n",
       "      <th>4</th>\n",
       "      <td>23269092</td>\n",
       "      <td>200930</td>\n",
       "      <td>-0.973841</td>\n",
       "      <td>1.0</td>\n",
       "      <td>Science</td>\n",
       "      <td>NaN</td>\n",
       "      <td>NaN</td>\n",
       "      <td>NaN</td>\n",
       "      <td>NaN</td>\n",
       "      <td>NaN</td>\n",
       "      <td>NaN</td>\n",
       "      <td>NaN</td>\n",
       "      <td>4.0</td>\n",
       "      <td>1.0</td>\n",
       "      <td>Asian</td>\n",
       "      <td>2.0</td>\n",
       "      <td>F</td>\n",
       "      <td>2.0</td>\n",
       "      <td>2.0</td>\n",
       "      <td>2.0</td>\n",
       "      <td>2.0</td>\n",
       "      <td>NaN</td>\n",
       "      <td>2.0</td>\n",
       "      <td>NaN</td>\n",
       "      <td>2.0</td>\n",
       "      <td>2.0</td>\n",
       "      <td>NaN</td>\n",
       "      <td>1.0</td>\n",
       "      <td>NaN</td>\n",
       "      <td>2.0</td>\n",
       "      <td>2.0</td>\n",
       "      <td>3.0</td>\n",
       "      <td>4.0</td>\n",
       "      <td>2.0</td>\n",
       "      <td>2.0</td>\n",
       "      <td>2.0</td>\n",
       "      <td>2.0</td>\n",
       "      <td>2.0</td>\n",
       "      <td>1.0</td>\n",
       "      <td>2.0</td>\n",
       "      <td>197.0</td>\n",
       "      <td>-1.501027</td>\n",
       "      <td>1.0</td>\n",
       "      <td>0.0</td>\n",
       "      <td>0.0</td>\n",
       "      <td>1.0</td>\n",
       "      <td>0</td>\n",
       "      <td>0</td>\n",
       "      <td>0</td>\n",
       "      <td>0</td>\n",
       "      <td>0</td>\n",
       "      <td>1</td>\n",
       "      <td>0</td>\n",
       "    </tr>\n",
       "  </tbody>\n",
       "</table>\n",
       "</div>"
      ],
      "text/plain": [
       "   student_id  m1_fall  mcat_zscore  mcat_total_attempts bachelor_1  \\\n",
       "0    30705306   200930     2.505529                  1.0    Science   \n",
       "1    22721624   200930    -1.407328                  2.0    Science   \n",
       "2    35604291   200930     0.745614                  1.0       Arts   \n",
       "3    23250759   200930     0.149933                  1.0    Science   \n",
       "4    23269092   200930    -0.973841                  1.0    Science   \n",
       "\n",
       "  bachelor_2 bachelor_3 master_1 master_2 master_3 associate_1 associate_2  \\\n",
       "0        NaN        NaN  Science      NaN      NaN         NaN         NaN   \n",
       "1        NaN        NaN  Science      NaN      NaN     Science         NaN   \n",
       "2        NaN        NaN      NaN      NaN      NaN         NaN         NaN   \n",
       "3        NaN        NaN      NaN      NaN      NaN         NaN         NaN   \n",
       "4        NaN        NaN      NaN      NaN      NaN         NaN         NaN   \n",
       "\n",
       "   biochem_likelyhood  gem_indicator                       race  race_indic  \\\n",
       "0                 4.0            0.0                      White         5.0   \n",
       "1                 1.0            1.0  Black or African American         3.0   \n",
       "2                 3.0            0.0                      White         5.0   \n",
       "3                 4.0            0.0                      White         5.0   \n",
       "4                 4.0            1.0                      Asian         2.0   \n",
       "\n",
       "  gender  m1f_limbs  m1f_metabolism_nutrition_and_endo  \\\n",
       "0      M        4.0                                4.0   \n",
       "1      F        2.0                                3.0   \n",
       "2      M        2.0                                2.0   \n",
       "3      M        2.0                                2.0   \n",
       "4      F        2.0                                2.0   \n",
       "\n",
       "   m1f_molecular_and_cell_physiology  m1f_molecular_and_human_genetics  \\\n",
       "0                                4.0                               4.0   \n",
       "1                                2.0                               2.0   \n",
       "2                                3.0                               2.0   \n",
       "3                                2.0                               2.0   \n",
       "4                                2.0                               2.0   \n",
       "\n",
       "   m1s_cardio_pulmonary  m1s_ebm_and_population_health  m1s_gastrointestinal  \\\n",
       "0                   4.0                            3.0                   4.0   \n",
       "1                   4.0                            2.0                   4.0   \n",
       "2                   2.0                            4.0                   2.0   \n",
       "3                   3.0                            3.0                   3.0   \n",
       "4                   NaN                            2.0                   NaN   \n",
       "\n",
       "   m1s_head_neck_and_special_senses  m1s_medical_neuroscience  \\\n",
       "0                               3.0                       4.0   \n",
       "1                               2.0                       2.0   \n",
       "2                               2.0                       3.0   \n",
       "3                               4.0                       3.0   \n",
       "4                               2.0                       2.0   \n",
       "\n",
       "   m1s_patients_populations_and_policy  m1s_physical_diagnosis_i  \\\n",
       "0                                  NaN                       1.0   \n",
       "1                                  NaN                       1.0   \n",
       "2                                  NaN                       1.0   \n",
       "3                                  NaN                       1.0   \n",
       "4                                  NaN                       1.0   \n",
       "\n",
       "   m1s_renal_and_electrolytes  m1s_sexual_dev__and_reproduction  \\\n",
       "0                         4.0                               4.0   \n",
       "1                         4.0                               3.0   \n",
       "2                         2.0                               3.0   \n",
       "3                         4.0                               3.0   \n",
       "4                         NaN                               2.0   \n",
       "\n",
       "   m2s_clinical_skills_primer  m2s_evidence_based_medicine_ii  \\\n",
       "0                         3.0                             2.0   \n",
       "1                         2.0                             2.0   \n",
       "2                         3.0                             3.0   \n",
       "3                         3.0                             4.0   \n",
       "4                         2.0                             3.0   \n",
       "\n",
       "   m2s_health_care_ethics  m2s_human_sexuality  \\\n",
       "0                     4.0                  3.0   \n",
       "1                     3.0                  2.0   \n",
       "2                     3.0                  4.0   \n",
       "3                     3.0                  3.0   \n",
       "4                     4.0                  2.0   \n",
       "\n",
       "   m2s_lab_medicine_pblm_solving_case  m2s_microbiology_and_immunology  \\\n",
       "0                                 4.0                              4.0   \n",
       "1                                 2.0                              2.0   \n",
       "2                                 4.0                              2.0   \n",
       "3                                 3.0                              3.0   \n",
       "4                                 2.0                              2.0   \n",
       "\n",
       "   m2s_pathology  m2s_pharmacology  m2s_physical_diagnosis_ii  m2s_psychiatry  \\\n",
       "0            4.0               4.0                        1.0             3.0   \n",
       "1            2.0               2.0                        1.0             2.0   \n",
       "2            2.0               2.0                        1.0             2.0   \n",
       "3            3.0               3.0                        1.0             2.0   \n",
       "4            2.0               2.0                        1.0             2.0   \n",
       "\n",
       "   step1_raw_score  step1_z_score  step1_pass_indicator  repeat_indic  \\\n",
       "0            269.0       2.178880                   1.0           0.0   \n",
       "1            210.0      -0.836599                   1.0           0.0   \n",
       "2            241.0       0.747805                   1.0           0.0   \n",
       "3            224.0      -0.121062                   1.0           0.0   \n",
       "4            197.0      -1.501027                   1.0           0.0   \n",
       "\n",
       "   dropout_indic  step1_total_attempts  target_indicator  double_bachelor  \\\n",
       "0            0.0                   1.0                 0                0   \n",
       "1            0.0                   1.0                 0                0   \n",
       "2            0.0                   1.0                 0                0   \n",
       "3            0.0                   1.0                 0                0   \n",
       "4            0.0                   1.0                 0                0   \n",
       "\n",
       "   master_degree  double_master  associate_degree  science_undergrad  \\\n",
       "0              1              0                 0                  1   \n",
       "1              1              0                 1                  1   \n",
       "2              0              0                 0                  0   \n",
       "3              0              0                 0                  1   \n",
       "4              0              0                 0                  1   \n",
       "\n",
       "   science_master  \n",
       "0               1  \n",
       "1               1  \n",
       "2               0  \n",
       "3               0  \n",
       "4               0  "
      ]
     },
     "execution_count": 341,
     "metadata": {},
     "output_type": "execute_result"
    }
   ],
   "source": [
    "path = wd + '/../../../med_school_data/output/'\n",
    "file_name = 'master.csv'\n",
    "\n",
    "def load_data(csv, path):\n",
    "\tdf = pd.read_csv(path + csv)\n",
    "\treturn df\n",
    "\n",
    "data = load_data(file_name, path)\n",
    "data.head()"
   ]
  },
  {
   "cell_type": "markdown",
   "metadata": {},
   "source": [
    "### Transformation: One Hot Encode Demographic Data\n",
    "Here I'll just make race dummies and convert gem indicator to an int since it's being read in as a float"
   ]
  },
  {
   "cell_type": "code",
   "execution_count": 342,
   "metadata": {
    "collapsed": true
   },
   "outputs": [],
   "source": [
    "def race_dummies(df):\n",
    "    cols = df.race.unique().tolist()\n",
    "    for c in cols:\n",
    "        df['race_' + c] = np.where(df['race'] == c, 1, 0)\n",
    "    return(helpers.rename_columns(df))\n",
    "\n",
    "data = race_dummies(data)\n",
    "data['gender_indic'] = np.where(data.gender == 'M', 1, 0)\n",
    "data['gem_indicator'] = data.gem_indicator.apply(int)"
   ]
  },
  {
   "cell_type": "markdown",
   "metadata": {},
   "source": [
    "### Transformation: Fill NA values in all course grades\n",
    "Since the course grades are almost categorical in nature I'm going to fill NA with the mean of the data, but then round up or down to the nearest whole number. Also you'll see that I've elected to only do this for the courses in m1 (first year). Since we are predicting students that will drop out after the first year, we're only going to consider first year courses."
   ]
  },
  {
   "cell_type": "code",
   "execution_count": 343,
   "metadata": {
    "collapsed": true
   },
   "outputs": [],
   "source": [
    "courses = ['m1f_limbs', 'm1f_metabolism_nutrition_and_endo', 'm1f_molecular_and_cell_physiology',\n",
    "        'm1f_molecular_and_human_genetics','m1s_cardio_pulmonary', 'm1s_ebm_and_population_health',\n",
    "        'm1s_gastrointestinal', 'm1s_head_neck_and_special_senses', 'm1s_medical_neuroscience',\n",
    "        'm1s_patients_populations_and_policy', 'm1s_physical_diagnosis_i',\n",
    "        'm1s_renal_and_electrolytes', 'm1s_sexual_dev__and_reproduction', 'biochem_likelyhood']"
   ]
  },
  {
   "cell_type": "code",
   "execution_count": 344,
   "metadata": {},
   "outputs": [
    {
     "name": "stdout",
     "output_type": "stream",
     "text": [
      "Filling NAs with rounded mean & displaying all unique course grades\n",
      "\n",
      "m1f_limbs: \n",
      "[1.   0.5  0.75 0.25 0.  ]\n",
      "m1f_metabolism_nutrition_and_endo: \n",
      "[1.   0.75 0.5  0.  ]\n",
      "m1f_molecular_and_cell_physiology: \n",
      "[1.   0.5  0.75 0.  ]\n",
      "m1f_molecular_and_human_genetics: \n",
      "[1.   0.5  0.75 0.  ]\n",
      "m1s_cardio_pulmonary: \n",
      "[1.   0.5  0.75 0.  ]\n",
      "m1s_ebm_and_population_health: \n",
      "[0.75 0.5  1.   0.  ]\n",
      "m1s_gastrointestinal: \n",
      "[1.   0.5  0.75 0.  ]\n",
      "m1s_head_neck_and_special_senses: \n",
      "[0.75 0.5  1.   0.25 0.  ]\n",
      "m1s_medical_neuroscience: \n",
      "[1.   0.5  0.75 0.  ]\n",
      "m1s_patients_populations_and_policy: \n",
      "[0.75 1.   0.5 ]\n",
      "m1s_physical_diagnosis_i: \n",
      "[0.25]\n",
      "m1s_renal_and_electrolytes: \n",
      "[1.   0.5  0.75 0.  ]\n",
      "m1s_sexual_dev__and_reproduction: \n",
      "[1.   0.75 0.5 ]\n",
      "biochem_likelyhood: \n",
      "[1.   0.25 0.75 0.5 ]\n"
     ]
    }
   ],
   "source": [
    "print('Filling NAs with rounded mean & displaying all unique course grades\\n')\n",
    "for c in courses:\n",
    "    data[c] = data[c].fillna(data[c].mean())\n",
    "    data[c] = data[c].round(0)\n",
    "    data[c] = data[c]/4\n",
    "    print(c + ': ')\n",
    "    print(data[c].unique())\n",
    "    "
   ]
  },
  {
   "cell_type": "markdown",
   "metadata": {},
   "source": [
    "Looks like ms1_physical diagnosis_i only has one unique value! This won't be helpful to us! let's remove it from our course list for the training data"
   ]
  },
  {
   "cell_type": "code",
   "execution_count": 345,
   "metadata": {},
   "outputs": [],
   "source": [
    "courses.remove('m1s_physical_diagnosis_i')"
   ]
  },
  {
   "cell_type": "markdown",
   "metadata": {},
   "source": [
    "### Transformation: Fill NAs for all other (continuous) variables"
   ]
  },
  {
   "cell_type": "code",
   "execution_count": 346,
   "metadata": {
    "collapsed": true
   },
   "outputs": [],
   "source": [
    "data['mcat_zscore']         = data.mcat_zscore.fillna(data.mcat_zscore.mean())\n",
    "data['mcat_total_attempts'] = data.mcat_total_attempts.fillna(0).apply(int)"
   ]
  },
  {
   "cell_type": "markdown",
   "metadata": {},
   "source": [
    "### Create the final training dataset\n",
    "First keep only data before 2015, as we don't have reliable grade and step1 data past that point"
   ]
  },
  {
   "cell_type": "code",
   "execution_count": 347,
   "metadata": {
    "collapsed": true
   },
   "outputs": [],
   "source": [
    "data = data[data.m1_fall <= 201530]"
   ]
  },
  {
   "cell_type": "code",
   "execution_count": 348,
   "metadata": {
    "collapsed": true
   },
   "outputs": [],
   "source": [
    "initial_features = ['mcat_zscore', 'mcat_total_attempts', 'double_bachelor',\n",
    "        'master_degree', 'double_master', 'associate_degree', 'science_undergrad',\n",
    "        'science_master', 'race_white', 'race_black_or_african_american',\n",
    "        'race_asian', 'race_unknown', 'race_hispanic', 'race_two_or_more_races',\n",
    "        'race_amer__indian_or_alaska_nat_',\n",
    "        'gem_indicator', 'gender_indic'] + courses\n",
    "\n",
    "initial_target = 'target_indicator'\n",
    "\n",
    "all_columns = initial_features + [initial_target]\n"
   ]
  },
  {
   "cell_type": "code",
   "execution_count": 349,
   "metadata": {
    "collapsed": true
   },
   "outputs": [],
   "source": [
    "train = data[all_columns]\n"
   ]
  },
  {
   "cell_type": "code",
   "execution_count": 350,
   "metadata": {
    "scrolled": true
   },
   "outputs": [
    {
     "name": "stdout",
     "output_type": "stream",
     "text": [
      "<class 'pandas.core.frame.DataFrame'>\n",
      "Int64Index: 1384 entries, 0 to 1383\n",
      "Data columns (total 31 columns):\n",
      "mcat_zscore                            1384 non-null float64\n",
      "mcat_total_attempts                    1384 non-null int64\n",
      "double_bachelor                        1384 non-null int64\n",
      "master_degree                          1384 non-null int64\n",
      "double_master                          1384 non-null int64\n",
      "associate_degree                       1384 non-null int64\n",
      "science_undergrad                      1384 non-null int64\n",
      "science_master                         1384 non-null int64\n",
      "race_white                             1384 non-null int64\n",
      "race_black_or_african_american         1384 non-null int64\n",
      "race_asian                             1384 non-null int64\n",
      "race_unknown                           1384 non-null int64\n",
      "race_hispanic                          1384 non-null int64\n",
      "race_two_or_more_races                 1384 non-null int64\n",
      "race_amer__indian_or_alaska_nat_       1384 non-null int64\n",
      "gem_indicator                          1384 non-null int64\n",
      "gender_indic                           1384 non-null int64\n",
      "m1f_limbs                              1384 non-null float64\n",
      "m1f_metabolism_nutrition_and_endo      1384 non-null float64\n",
      "m1f_molecular_and_cell_physiology      1384 non-null float64\n",
      "m1f_molecular_and_human_genetics       1384 non-null float64\n",
      "m1s_cardio_pulmonary                   1384 non-null float64\n",
      "m1s_ebm_and_population_health          1384 non-null float64\n",
      "m1s_gastrointestinal                   1384 non-null float64\n",
      "m1s_head_neck_and_special_senses       1384 non-null float64\n",
      "m1s_medical_neuroscience               1384 non-null float64\n",
      "m1s_patients_populations_and_policy    1384 non-null float64\n",
      "m1s_renal_and_electrolytes             1384 non-null float64\n",
      "m1s_sexual_dev__and_reproduction       1384 non-null float64\n",
      "biochem_likelyhood                     1384 non-null float64\n",
      "target_indicator                       1384 non-null int64\n",
      "dtypes: float64(14), int64(17)\n",
      "memory usage: 346.0 KB\n"
     ]
    }
   ],
   "source": [
    "train.info()"
   ]
  },
  {
   "cell_type": "markdown",
   "metadata": {},
   "source": [
    "Everything looks good! All features and target are fully populated and numeric. Scikit learn is going to love this"
   ]
  },
  {
   "cell_type": "markdown",
   "metadata": {},
   "source": [
    "## Part 3: Initial Feature Analysis"
   ]
  },
  {
   "cell_type": "markdown",
   "metadata": {
    "collapsed": true
   },
   "source": [
    "### Categorical Features"
   ]
  },
  {
   "cell_type": "code",
   "execution_count": 351,
   "metadata": {},
   "outputs": [],
   "source": [
    "categorical_cols = ['double_bachelor',\n",
    "        'master_degree', 'double_master', 'associate_degree', 'science_undergrad',\n",
    "        'science_master', 'race_white', 'race_black_or_african_american',\n",
    "        'race_asian', 'race_unknown', 'race_hispanic', 'race_two_or_more_races',\n",
    "        'race_amer__indian_or_alaska_nat_',\n",
    "        'gem_indicator', 'gender_indic']\n",
    "\n",
    "\n",
    "def pct_fail(df, target, feature):\n",
    "    df_1 = df[df[feature] == 1]\n",
    "    num_feature_1 = len(df_1[feature])\n",
    "    df_1 = df_1[df_1[target] == 1]\n",
    "    fail_rate_1 = round(len(df_1[target])/num_feature_1*100, 1)\n",
    "    \n",
    "    df_0 = df[df[feature] == 0]\n",
    "    num_feature_0 = len(df_0[feature])\n",
    "    df_0 = df_0[df_0[target] == 1]\n",
    "    fail_rate_0 = round(len(df_0[target])/num_feature_0*100, 1)\n",
    "    \n",
    "    return([fail_rate_1, fail_rate_0, num_feature_1, num_feature_0])\n",
    "\n",
    "\n",
    "\n",
    "fail_rates_1 = {}\n",
    "fail_rates_0 = {}\n",
    "total_obs_1 ={}\n",
    "total_obs_0 ={}\n",
    "\n",
    "\n",
    "for c in categorical_cols:\n",
    "    fail_rates_1[c] = pct_fail(train, 'target_indicator', c)[0]\n",
    "    total_obs_1[c]  = pct_fail(train, 'target_indicator', c)[2]\n",
    "    fail_rates_0[c] = pct_fail(train, 'target_indicator', c)[1]\n",
    "    total_obs_0[c]  = pct_fail(train, 'target_indicator', c)[3]\n",
    "\n",
    "\n",
    "fail_1   = pd.DataFrame(list(fail_rates_1.items()))\n",
    "fail_1.columns = ['categorical', 'fail_rate_1']\n",
    "\n",
    "total_1  = pd.DataFrame(list(total_obs_1.items()))\n",
    "total_1.columns = ['categorical', 'total_1']\n",
    "\n",
    "fail_0   = pd.DataFrame(list(fail_rates_0.items()))\n",
    "fail_0.columns = ['categorical', 'fail_rate_0']\n",
    "\n",
    "total_0  = pd.DataFrame(list(total_obs_0.items()))\n",
    "total_0.columns = ['categorical', 'total_0']\n",
    "\n",
    "\n",
    "fail_rates = pd.merge(fail_1, fail_0, on = 'categorical')\n",
    "fail_rates['dif%'] = fail_rates['fail_rate_1'] - fail_rates['fail_rate_0']\n",
    "fail_rates = pd.merge(fail_rates, total_1, on = 'categorical')\n",
    "fail_rates = pd.merge(fail_rates, total_0, on = 'categorical')\n",
    "\n"
   ]
  },
  {
   "cell_type": "code",
   "execution_count": 352,
   "metadata": {},
   "outputs": [
    {
     "name": "stdout",
     "output_type": "stream",
     "text": [
      "The total failure rate is: 6.5%\n"
     ]
    }
   ],
   "source": [
    "tot = len(train.target_indicator) \n",
    "fail = len(train[train.target_indicator == 1].target_indicator)\n",
    "print('The total failure rate is: ' + str(round(fail/tot*100,1)) + '%')"
   ]
  },
  {
   "cell_type": "code",
   "execution_count": 353,
   "metadata": {},
   "outputs": [
    {
     "data": {
      "text/html": [
       "<div>\n",
       "<style scoped>\n",
       "    .dataframe tbody tr th:only-of-type {\n",
       "        vertical-align: middle;\n",
       "    }\n",
       "\n",
       "    .dataframe tbody tr th {\n",
       "        vertical-align: top;\n",
       "    }\n",
       "\n",
       "    .dataframe thead th {\n",
       "        text-align: right;\n",
       "    }\n",
       "</style>\n",
       "<table border=\"1\" class=\"dataframe\">\n",
       "  <thead>\n",
       "    <tr style=\"text-align: right;\">\n",
       "      <th></th>\n",
       "      <th>categorical</th>\n",
       "      <th>fail_rate_1</th>\n",
       "      <th>fail_rate_0</th>\n",
       "      <th>dif%</th>\n",
       "      <th>total_1</th>\n",
       "      <th>total_0</th>\n",
       "    </tr>\n",
       "  </thead>\n",
       "  <tbody>\n",
       "    <tr>\n",
       "      <th>0</th>\n",
       "      <td>double_bachelor</td>\n",
       "      <td>6.2</td>\n",
       "      <td>6.5</td>\n",
       "      <td>-0.3</td>\n",
       "      <td>162</td>\n",
       "      <td>1222</td>\n",
       "    </tr>\n",
       "    <tr>\n",
       "      <th>1</th>\n",
       "      <td>master_degree</td>\n",
       "      <td>5.5</td>\n",
       "      <td>6.8</td>\n",
       "      <td>-1.3</td>\n",
       "      <td>273</td>\n",
       "      <td>1111</td>\n",
       "    </tr>\n",
       "    <tr>\n",
       "      <th>2</th>\n",
       "      <td>double_master</td>\n",
       "      <td>0.0</td>\n",
       "      <td>6.6</td>\n",
       "      <td>-6.6</td>\n",
       "      <td>10</td>\n",
       "      <td>1374</td>\n",
       "    </tr>\n",
       "    <tr>\n",
       "      <th>3</th>\n",
       "      <td>associate_degree</td>\n",
       "      <td>6.9</td>\n",
       "      <td>6.5</td>\n",
       "      <td>0.4</td>\n",
       "      <td>29</td>\n",
       "      <td>1355</td>\n",
       "    </tr>\n",
       "    <tr>\n",
       "      <th>4</th>\n",
       "      <td>science_undergrad</td>\n",
       "      <td>6.4</td>\n",
       "      <td>6.7</td>\n",
       "      <td>-0.3</td>\n",
       "      <td>904</td>\n",
       "      <td>480</td>\n",
       "    </tr>\n",
       "    <tr>\n",
       "      <th>5</th>\n",
       "      <td>science_master</td>\n",
       "      <td>4.4</td>\n",
       "      <td>6.9</td>\n",
       "      <td>-2.5</td>\n",
       "      <td>227</td>\n",
       "      <td>1157</td>\n",
       "    </tr>\n",
       "    <tr>\n",
       "      <th>6</th>\n",
       "      <td>race_white</td>\n",
       "      <td>5.6</td>\n",
       "      <td>8.5</td>\n",
       "      <td>-2.9</td>\n",
       "      <td>948</td>\n",
       "      <td>436</td>\n",
       "    </tr>\n",
       "    <tr>\n",
       "      <th>7</th>\n",
       "      <td>race_black_or_african_american</td>\n",
       "      <td>16.2</td>\n",
       "      <td>6.0</td>\n",
       "      <td>10.2</td>\n",
       "      <td>74</td>\n",
       "      <td>1310</td>\n",
       "    </tr>\n",
       "    <tr>\n",
       "      <th>8</th>\n",
       "      <td>race_asian</td>\n",
       "      <td>5.4</td>\n",
       "      <td>6.7</td>\n",
       "      <td>-1.3</td>\n",
       "      <td>240</td>\n",
       "      <td>1144</td>\n",
       "    </tr>\n",
       "    <tr>\n",
       "      <th>9</th>\n",
       "      <td>race_unknown</td>\n",
       "      <td>5.0</td>\n",
       "      <td>6.5</td>\n",
       "      <td>-1.5</td>\n",
       "      <td>40</td>\n",
       "      <td>1344</td>\n",
       "    </tr>\n",
       "    <tr>\n",
       "      <th>10</th>\n",
       "      <td>race_hispanic</td>\n",
       "      <td>14.3</td>\n",
       "      <td>6.3</td>\n",
       "      <td>8.0</td>\n",
       "      <td>35</td>\n",
       "      <td>1349</td>\n",
       "    </tr>\n",
       "    <tr>\n",
       "      <th>11</th>\n",
       "      <td>race_two_or_more_races</td>\n",
       "      <td>11.1</td>\n",
       "      <td>6.3</td>\n",
       "      <td>4.8</td>\n",
       "      <td>45</td>\n",
       "      <td>1339</td>\n",
       "    </tr>\n",
       "    <tr>\n",
       "      <th>12</th>\n",
       "      <td>race_amer__indian_or_alaska_nat_</td>\n",
       "      <td>0.0</td>\n",
       "      <td>6.5</td>\n",
       "      <td>-6.5</td>\n",
       "      <td>2</td>\n",
       "      <td>1382</td>\n",
       "    </tr>\n",
       "    <tr>\n",
       "      <th>13</th>\n",
       "      <td>gem_indicator</td>\n",
       "      <td>14.9</td>\n",
       "      <td>5.7</td>\n",
       "      <td>9.2</td>\n",
       "      <td>114</td>\n",
       "      <td>1270</td>\n",
       "    </tr>\n",
       "    <tr>\n",
       "      <th>14</th>\n",
       "      <td>gender_indic</td>\n",
       "      <td>5.7</td>\n",
       "      <td>7.3</td>\n",
       "      <td>-1.6</td>\n",
       "      <td>688</td>\n",
       "      <td>696</td>\n",
       "    </tr>\n",
       "  </tbody>\n",
       "</table>\n",
       "</div>"
      ],
      "text/plain": [
       "                         categorical  fail_rate_1  fail_rate_0  dif%  total_1  \\\n",
       "0                    double_bachelor          6.2          6.5  -0.3      162   \n",
       "1                      master_degree          5.5          6.8  -1.3      273   \n",
       "2                      double_master          0.0          6.6  -6.6       10   \n",
       "3                   associate_degree          6.9          6.5   0.4       29   \n",
       "4                  science_undergrad          6.4          6.7  -0.3      904   \n",
       "5                     science_master          4.4          6.9  -2.5      227   \n",
       "6                         race_white          5.6          8.5  -2.9      948   \n",
       "7     race_black_or_african_american         16.2          6.0  10.2       74   \n",
       "8                         race_asian          5.4          6.7  -1.3      240   \n",
       "9                       race_unknown          5.0          6.5  -1.5       40   \n",
       "10                     race_hispanic         14.3          6.3   8.0       35   \n",
       "11            race_two_or_more_races         11.1          6.3   4.8       45   \n",
       "12  race_amer__indian_or_alaska_nat_          0.0          6.5  -6.5        2   \n",
       "13                     gem_indicator         14.9          5.7   9.2      114   \n",
       "14                      gender_indic          5.7          7.3  -1.6      688   \n",
       "\n",
       "    total_0  \n",
       "0      1222  \n",
       "1      1111  \n",
       "2      1374  \n",
       "3      1355  \n",
       "4       480  \n",
       "5      1157  \n",
       "6       436  \n",
       "7      1310  \n",
       "8      1144  \n",
       "9      1344  \n",
       "10     1349  \n",
       "11     1339  \n",
       "12     1382  \n",
       "13     1270  \n",
       "14      696  "
      ]
     },
     "execution_count": 353,
     "metadata": {},
     "output_type": "execute_result"
    }
   ],
   "source": [
    "fail_rates"
   ]
  },
  {
   "cell_type": "markdown",
   "metadata": {},
   "source": [
    "Some things I see right off the bat:\n",
    "\n",
    "1. Failure rate is highest for gem students, people of two or more races, african american students, and hispanic students\n",
    "2. Science Masters and Majors have a higher pass percentage then nonscience\n",
    "3. Double Majors have slightly higher pass percentage than single majors\n",
    "4. The columns: race_amer_indian+or_alaska_nat_ and double_master offer no importance because they are too small to include any passes or fails. They should be dropped. "
   ]
  },
  {
   "cell_type": "code",
   "execution_count": 354,
   "metadata": {},
   "outputs": [],
   "source": [
    "initial_features.remove('race_amer__indian_or_alaska_nat_')\n",
    "initial_features.remove('double_master')"
   ]
  },
  {
   "cell_type": "markdown",
   "metadata": {
    "collapsed": true
   },
   "source": [
    "### Continuous Features"
   ]
  },
  {
   "cell_type": "markdown",
   "metadata": {
    "collapsed": true
   },
   "source": [
    "Let's take a look at a violin plot showing mcat zcore and pass/fail rates"
   ]
  },
  {
   "cell_type": "code",
   "execution_count": 355,
   "metadata": {},
   "outputs": [
    {
     "data": {
      "image/png": "[encoded data removed]",
      "text/plain": [
       "<Figure size 432x288 with 1 Axes>"
      ]
     },
     "metadata": {},
     "output_type": "display_data"
    }
   ],
   "source": [
    "sns.set_style(\"whitegrid\")\n",
    "ax = sns.violinplot(x = train['target_indicator'], y = train['mcat_zscore'] ,split = True)"
   ]
  },
  {
   "cell_type": "markdown",
   "metadata": {},
   "source": [
    "We can see that our target students tend to have lower mcat scores. This will definitely be an important feature"
   ]
  },
  {
   "cell_type": "markdown",
   "metadata": {},
   "source": [
    "## Part 4: Machine Learning"
   ]
  },
  {
   "cell_type": "markdown",
   "metadata": {},
   "source": [
    "### A. Logistic Regression\n",
    "I'm going to start off with a very simple model where we use MCAT score to predict the target. Then I'll start adding more features to see if I can beat the score"
   ]
  },
  {
   "cell_type": "markdown",
   "metadata": {},
   "source": [
    "#### Simple MCAT model"
   ]
  },
  {
   "cell_type": "code",
   "execution_count": 356,
   "metadata": {},
   "outputs": [],
   "source": [
    "from sklearn.linear_model import LogisticRegression\n",
    "from sklearn.cross_validation import train_test_split \n",
    "from sklearn.metrics import classification_report"
   ]
  },
  {
   "cell_type": "code",
   "execution_count": 357,
   "metadata": {},
   "outputs": [],
   "source": [
    "X = data[['mcat_zscore']]\n",
    "y = data[initial_target]"
   ]
  },
  {
   "cell_type": "code",
   "execution_count": 358,
   "metadata": {},
   "outputs": [],
   "source": [
    "def LogRegCrossVal(X, y):\n",
    "    lr = LogisticRegression(random_state=1)\n",
    "\n",
    "    X_train, X_test, y_train, y_test = cross_validation.train_test_split(X,y,test_size = 0.2)\n",
    "    log_reg = lr.fit(X_train, y_train)\n",
    "\n",
    "    log_reg.score(X_test, y_test)\n",
    "    expected   = y_test\n",
    "    predicted  = log_reg.predict(X_test)\n",
    "\n",
    "    classificationReport = classification_report(expected, predicted, target_names=[\"Not At Risk\",\"At Risk\"])\n",
    "    print(classificationReport)"
   ]
  },
  {
   "cell_type": "code",
   "execution_count": 359,
   "metadata": {},
   "outputs": [
    {
     "name": "stdout",
     "output_type": "stream",
     "text": [
      "             precision    recall  f1-score   support\n",
      "\n",
      "Not At Risk       0.96      1.00      0.98       265\n",
      "    At Risk       0.00      0.00      0.00        12\n",
      "\n",
      "avg / total       0.92      0.96      0.94       277\n",
      "\n"
     ]
    }
   ],
   "source": [
    "LogRegCrossVal(X,y)"
   ]
  },
  {
   "cell_type": "markdown",
   "metadata": {},
   "source": [
    "As you can see, the recall for 'At Risk' is zero meaning that the machine guesses 'Not at Risk' every time. We knew this was going to be an issue since we have such a class imbalance"
   ]
  },
  {
   "cell_type": "markdown",
   "metadata": {},
   "source": [
    "#### Add in Demographics"
   ]
  },
  {
   "cell_type": "code",
   "execution_count": 360,
   "metadata": {
    "collapsed": true
   },
   "outputs": [],
   "source": [
    "demographic_features = ['race_white', 'race_black_or_african_american',\n",
    "    'race_asian', 'race_unknown', 'race_hispanic', 'race_two_or_more_races',\n",
    "    'gem_indicator', 'gender_indic']"
   ]
  },
  {
   "cell_type": "code",
   "execution_count": 361,
   "metadata": {
    "collapsed": true
   },
   "outputs": [],
   "source": [
    "X = data[demographic_features]"
   ]
  },
  {
   "cell_type": "code",
   "execution_count": 362,
   "metadata": {},
   "outputs": [
    {
     "name": "stdout",
     "output_type": "stream",
     "text": [
      "             precision    recall  f1-score   support\n",
      "\n",
      "Not At Risk       0.95      1.00      0.97       263\n",
      "    At Risk       0.00      0.00      0.00        14\n",
      "\n",
      "avg / total       0.90      0.95      0.92       277\n",
      "\n"
     ]
    }
   ],
   "source": [
    "LogRegCrossVal(X,y)"
   ]
  },
  {
   "cell_type": "markdown",
   "metadata": {},
   "source": [
    "Still zero Recall on at risk students. Let's add in the entire feature set and run it"
   ]
  },
  {
   "cell_type": "markdown",
   "metadata": {},
   "source": [
    "#### All Features"
   ]
  },
  {
   "cell_type": "code",
   "execution_count": 363,
   "metadata": {},
   "outputs": [],
   "source": [
    "X = data[initial_features]"
   ]
  },
  {
   "cell_type": "code",
   "execution_count": 364,
   "metadata": {},
   "outputs": [
    {
     "name": "stdout",
     "output_type": "stream",
     "text": [
      "             precision    recall  f1-score   support\n",
      "\n",
      "Not At Risk       0.94      1.00      0.97       260\n",
      "    At Risk       1.00      0.06      0.11        17\n",
      "\n",
      "avg / total       0.95      0.94      0.92       277\n",
      "\n"
     ]
    }
   ],
   "source": [
    "LogRegCrossVal(X,y)"
   ]
  },
  {
   "cell_type": "markdown",
   "metadata": {},
   "source": [
    "Alright, looks like the machine is at least guessing At Risk for some instances now. Let's try and remove at least a little bit of the complexity by narrowing the data down to what I think might be the best predictors."
   ]
  },
  {
   "cell_type": "markdown",
   "metadata": {},
   "source": [
    "#### Guessing the best predictors"
   ]
  },
  {
   "cell_type": "code",
   "execution_count": 365,
   "metadata": {
    "collapsed": true
   },
   "outputs": [],
   "source": [
    "guessed_features =  courses + ['race_black_or_african_american', 'race_hispanic', 'mcat_zscore', 'master_degree',\n",
    "                              'science_master']"
   ]
  },
  {
   "cell_type": "code",
   "execution_count": 366,
   "metadata": {},
   "outputs": [],
   "source": [
    "X = data[guessed_features]"
   ]
  },
  {
   "cell_type": "code",
   "execution_count": 367,
   "metadata": {},
   "outputs": [
    {
     "name": "stdout",
     "output_type": "stream",
     "text": [
      "             precision    recall  f1-score   support\n",
      "\n",
      "Not At Risk       0.93      1.00      0.97       257\n",
      "    At Risk       1.00      0.10      0.18        20\n",
      "\n",
      "avg / total       0.94      0.94      0.91       277\n",
      "\n"
     ]
    }
   ],
   "source": [
    "LogRegCrossVal(X,y)"
   ]
  },
  {
   "cell_type": "markdown",
   "metadata": {},
   "source": [
    "We're still not getting much out of this model. The recall is low meaning that we were only able to identify the 'at-risk' student a small percentage of the time. The Precision isn't bad, meaning we don't have alot of false positives."
   ]
  },
  {
   "cell_type": "markdown",
   "metadata": {},
   "source": [
    "#### Let's use RFE to extract the ten best features"
   ]
  },
  {
   "cell_type": "code",
   "execution_count": 377,
   "metadata": {
    "collapsed": true
   },
   "outputs": [],
   "source": [
    "from sklearn.feature_selection import RFE"
   ]
  },
  {
   "cell_type": "code",
   "execution_count": 398,
   "metadata": {},
   "outputs": [
    {
     "name": "stdout",
     "output_type": "stream",
     "text": [
      "(1, 'm1f_limbs')\n",
      "(1, 'm1f_metabolism_nutrition_and_endo')\n",
      "(1, 'm1s_medical_neuroscience')\n",
      "(2, 'm1s_renal_and_electrolytes')\n",
      "(3, 'gem_indicator')\n",
      "(4, 'm1s_sexual_dev__and_reproduction')\n",
      "(5, 'm1s_head_neck_and_special_senses')\n",
      "(6, 'race_hispanic')\n",
      "(7, 'race_black_or_african_american')\n",
      "(8, 'associate_degree')\n",
      "(9, 'm1s_ebm_and_population_health')\n",
      "(10, 'science_master')\n",
      "(11, 'master_degree')\n",
      "(12, 'biochem_likelyhood')\n",
      "(13, 'race_two_or_more_races')\n",
      "(14, 'm1s_patients_populations_and_policy')\n",
      "(15, 'm1f_molecular_and_human_genetics')\n",
      "(16, 'race_white')\n",
      "(17, 'double_bachelor')\n",
      "(18, 'race_asian')\n",
      "(19, 'mcat_zscore')\n",
      "(20, 'science_undergrad')\n",
      "(21, 'mcat_total_attempts')\n",
      "(22, 'm1s_cardio_pulmonary')\n",
      "(23, 'race_unknown')\n",
      "(24, 'm1s_gastrointestinal')\n",
      "(25, 'm1f_molecular_and_cell_physiology')\n",
      "(26, 'gender_indic')\n"
     ]
    }
   ],
   "source": [
    "X = train[initial_features]\n",
    "model = LogisticRegression()\n",
    "rfe = RFE(model, 3)\n",
    "fit = rfe.fit(X, y)\n",
    "features = sorted(zip(map(lambda x: round(x, 4), rfe.ranking_), initial_features))\n",
    "top_ten_features = []\n",
    "for f in features:\n",
    "    print(f)\n",
    "    if (f[0] <=10):\n",
    "        top_ten_features.append(f[1])"
   ]
  },
  {
   "cell_type": "markdown",
   "metadata": {},
   "source": [
    "#### Now let's retry this LR"
   ]
  },
  {
   "cell_type": "code",
   "execution_count": 399,
   "metadata": {
    "collapsed": true
   },
   "outputs": [],
   "source": [
    "X = data[top_ten_features]"
   ]
  },
  {
   "cell_type": "code",
   "execution_count": 403,
   "metadata": {},
   "outputs": [
    {
     "name": "stdout",
     "output_type": "stream",
     "text": [
      "             precision    recall  f1-score   support\n",
      "\n",
      "Not At Risk       0.94      1.00      0.97       259\n",
      "    At Risk       1.00      0.11      0.20        18\n",
      "\n",
      "avg / total       0.95      0.94      0.92       277\n",
      "\n"
     ]
    }
   ],
   "source": [
    "LogRegCrossVal(X,y)"
   ]
  },
  {
   "cell_type": "markdown",
   "metadata": {},
   "source": [
    "Still garbage. I'm fairly sure this class imbalance is going to give us a lot of issues. I'm going to create another notebook that looks tries to predict the top and bottom of the class for STEP1. That way we can get around this class imbalance"
   ]
  },
  {
   "cell_type": "code",
   "execution_count": null,
   "metadata": {
    "collapsed": true
   },
   "outputs": [],
   "source": []
  }
 ],
 "metadata": {
  "kernelspec": {
   "display_name": "Python 3",
   "language": "python",
   "name": "python3"
  },
  "language_info": {
   "codemirror_mode": {
    "name": "ipython",
    "version": 3
   },
   "file_extension": ".py",
   "mimetype": "text/x-python",
   "name": "python",
   "nbconvert_exporter": "python",
   "pygments_lexer": "ipython3",
   "version": "3.6.4"
  }
 },
 "nbformat": 4,
 "nbformat_minor": 2
}
