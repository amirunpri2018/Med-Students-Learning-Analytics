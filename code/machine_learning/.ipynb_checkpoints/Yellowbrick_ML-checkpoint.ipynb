{
 "cells": [
  {
   "cell_type": "markdown",
   "metadata": {},
   "source": [
    "# Machine Learning with Yellowbrick Visualizations\n",
    "Author: Zach Fernandes\n",
    "Date 6/11/18\n",
    "Desc: This does some more machine learning with the med student data by reclassifying the data. (The target will now include low pass grades in addition to fails)"
   ]
  },
  {
   "cell_type": "markdown",
   "metadata": {},
   "source": [
    "## Part One: File Setup"
   ]
  },
  {
   "cell_type": "markdown",
   "metadata": {},
   "source": [
    "### Import Data and Plotting Packages"
   ]
  },
  {
   "cell_type": "code",
   "execution_count": 126,
   "metadata": {
    "collapsed": true
   },
   "outputs": [],
   "source": [
    "# Everyday Packages #\n",
    "import numpy    as np\n",
    "import pandas   as pd\n",
    "import re\n",
    "import os\n",
    "import sys\n",
    "import seaborn as sns \n",
    "import yellowbrick as yb\n",
    "import matplotlib \n",
    "import matplotlib.pyplot as plt\n",
    "%matplotlib inline\n",
    "import warnings\n",
    "\n",
    "# Sklearn Packages\n",
    "from sklearn.base import BaseEstimator, TransformerMixin\n",
    "from sklearn.preprocessing import LabelEncoder, OneHotEncoder\n",
    "from sklearn.preprocessing import Imputer, FunctionTransformer\n",
    "from sklearn.svm import LinearSVC, NuSVC, SVC\n",
    "from sklearn.neighbors import KNeighborsClassifier\n",
    "from sklearn.linear_model import LogisticRegressionCV\n",
    "from sklearn.linear_model import LogisticRegression, SGDClassifier\n",
    "from sklearn.ensemble import BaggingClassifier, ExtraTreesClassifier\n",
    "from sklearn.ensemble import RandomForestClassifier\n",
    "from sklearn.linear_model import LinearRegression\n",
    "from sklearn.model_selection import train_test_split\n",
    "from sklearn.pipeline import Pipeline\n",
    "from sklearn.preprocessing import StandardScaler\n",
    "\n",
    "\n",
    "\n",
    "## YellowBrick Packages ##\n",
    "from yellowbrick.classifier import ClassificationReport"
   ]
  },
  {
   "cell_type": "markdown",
   "metadata": {},
   "source": [
    "### Import Custom Modules"
   ]
  },
  {
   "cell_type": "code",
   "execution_count": 2,
   "metadata": {
    "collapsed": true
   },
   "outputs": [],
   "source": [
    "wd = os.getcwd()\n",
    "mod_dir     = wd + '/../custom_modules/'\n",
    "sys.path.insert(0, mod_dir)\n",
    "import cleaning_helpers as helpers"
   ]
  },
  {
   "cell_type": "markdown",
   "metadata": {},
   "source": [
    "### Change those annoying Pandas Defaults"
   ]
  },
  {
   "cell_type": "code",
   "execution_count": 3,
   "metadata": {
    "collapsed": true
   },
   "outputs": [],
   "source": [
    "pd.set_option('display.max_rows', 500)\n",
    "pd.set_option('display.max_columns', 500)\n",
    "warnings.filterwarnings('ignore')"
   ]
  },
  {
   "cell_type": "markdown",
   "metadata": {},
   "source": [
    "## Part Two: Import and Transform Data"
   ]
  },
  {
   "cell_type": "markdown",
   "metadata": {},
   "source": [
    "### Read in the Data"
   ]
  },
  {
   "cell_type": "code",
   "execution_count": 4,
   "metadata": {},
   "outputs": [
    {
     "data": {
      "text/html": [
       "<div>\n",
       "<style scoped>\n",
       "    .dataframe tbody tr th:only-of-type {\n",
       "        vertical-align: middle;\n",
       "    }\n",
       "\n",
       "    .dataframe tbody tr th {\n",
       "        vertical-align: top;\n",
       "    }\n",
       "\n",
       "    .dataframe thead th {\n",
       "        text-align: right;\n",
       "    }\n",
       "</style>\n",
       "<table border=\"1\" class=\"dataframe\">\n",
       "  <thead>\n",
       "    <tr style=\"text-align: right;\">\n",
       "      <th></th>\n",
       "      <th>m1_fall</th>\n",
       "      <th>mcat_zscore</th>\n",
       "      <th>mcat_total_attempts</th>\n",
       "      <th>bachelor_1</th>\n",
       "      <th>bachelor_2</th>\n",
       "      <th>bachelor_3</th>\n",
       "      <th>master_1</th>\n",
       "      <th>master_2</th>\n",
       "      <th>master_3</th>\n",
       "      <th>associate_1</th>\n",
       "      <th>associate_2</th>\n",
       "      <th>biochem_likelyhood</th>\n",
       "      <th>gem_indicator</th>\n",
       "      <th>race</th>\n",
       "      <th>gender</th>\n",
       "      <th>m1f_limbs</th>\n",
       "      <th>m1f_metabolism_nutrition_and_endo</th>\n",
       "      <th>m1f_molecular_and_cell_physiology</th>\n",
       "      <th>m1f_molecular_and_human_genetics</th>\n",
       "      <th>m1s_cardio_pulmonary</th>\n",
       "      <th>m1s_ebm_and_population_health</th>\n",
       "      <th>m1s_gastrointestinal</th>\n",
       "      <th>m1s_head_neck_and_special_senses</th>\n",
       "      <th>m1s_patients_populations_and_policy</th>\n",
       "      <th>m1s_physical_diagnosis_i</th>\n",
       "      <th>m1s_renal_and_electrolytes</th>\n",
       "      <th>m1s_sexual_dev__and_reproduction</th>\n",
       "      <th>m2s_clinical_skills_primer</th>\n",
       "      <th>m2s_evidence_based_medicine_ii</th>\n",
       "      <th>m2s_health_care_ethics</th>\n",
       "      <th>m2s_human_sexuality</th>\n",
       "      <th>m2s_lab_medicine_pblm_solving_case</th>\n",
       "      <th>m2s_microbiology_and_immunology</th>\n",
       "      <th>m2s_pathology</th>\n",
       "      <th>m2s_pharmacology</th>\n",
       "      <th>m2s_physical_diagnosis_ii</th>\n",
       "      <th>m2s_psychiatry</th>\n",
       "      <th>step1_z_score</th>\n",
       "      <th>step1_pass_indicator</th>\n",
       "      <th>step1_total_attempts</th>\n",
       "      <th>target_indicator</th>\n",
       "      <th>double_bachelor</th>\n",
       "      <th>master_degree</th>\n",
       "      <th>double_master</th>\n",
       "      <th>associate_degree</th>\n",
       "      <th>science_undergrad</th>\n",
       "      <th>science_master</th>\n",
       "      <th>bachelors_num</th>\n",
       "      <th>science_bachelors_num</th>\n",
       "      <th>masters_num</th>\n",
       "      <th>science_masters_num</th>\n",
       "      <th>GPA</th>\n",
       "      <th>step1_rank</th>\n",
       "      <th>step1_total_students</th>\n",
       "      <th>step1_percentile</th>\n",
       "      <th>step1_low_score</th>\n",
       "      <th>danger_student</th>\n",
       "    </tr>\n",
       "  </thead>\n",
       "  <tbody>\n",
       "    <tr>\n",
       "      <th>0</th>\n",
       "      <td>2009</td>\n",
       "      <td>2.505529</td>\n",
       "      <td>1.0</td>\n",
       "      <td>Science</td>\n",
       "      <td>missing</td>\n",
       "      <td>missing</td>\n",
       "      <td>Science</td>\n",
       "      <td>missing</td>\n",
       "      <td>missing</td>\n",
       "      <td>missing</td>\n",
       "      <td>missing</td>\n",
       "      <td>4.0</td>\n",
       "      <td>0.0</td>\n",
       "      <td>White</td>\n",
       "      <td>M</td>\n",
       "      <td>4.0</td>\n",
       "      <td>4.0</td>\n",
       "      <td>4.0</td>\n",
       "      <td>4.0</td>\n",
       "      <td>4.0</td>\n",
       "      <td>3.0</td>\n",
       "      <td>4.0</td>\n",
       "      <td>3.0</td>\n",
       "      <td>4.0</td>\n",
       "      <td>1.0</td>\n",
       "      <td>4.0</td>\n",
       "      <td>4.0</td>\n",
       "      <td>3.0</td>\n",
       "      <td>2.0</td>\n",
       "      <td>4.0</td>\n",
       "      <td>3.0</td>\n",
       "      <td>4.0</td>\n",
       "      <td>4.0</td>\n",
       "      <td>4.0</td>\n",
       "      <td>4.0</td>\n",
       "      <td>1.0</td>\n",
       "      <td>3.0</td>\n",
       "      <td>2.178880</td>\n",
       "      <td>1.0</td>\n",
       "      <td>1.0</td>\n",
       "      <td>0</td>\n",
       "      <td>0</td>\n",
       "      <td>1</td>\n",
       "      <td>0</td>\n",
       "      <td>0</td>\n",
       "      <td>1</td>\n",
       "      <td>1</td>\n",
       "      <td>1.0</td>\n",
       "      <td>1.0</td>\n",
       "      <td>1</td>\n",
       "      <td>1</td>\n",
       "      <td>3.380952</td>\n",
       "      <td>203.0</td>\n",
       "      <td>203.0</td>\n",
       "      <td>1.000000</td>\n",
       "      <td>0</td>\n",
       "      <td>0</td>\n",
       "    </tr>\n",
       "    <tr>\n",
       "      <th>1</th>\n",
       "      <td>2009</td>\n",
       "      <td>-1.407328</td>\n",
       "      <td>2.0</td>\n",
       "      <td>Science</td>\n",
       "      <td>missing</td>\n",
       "      <td>missing</td>\n",
       "      <td>Science</td>\n",
       "      <td>missing</td>\n",
       "      <td>missing</td>\n",
       "      <td>Science</td>\n",
       "      <td>missing</td>\n",
       "      <td>1.0</td>\n",
       "      <td>1.0</td>\n",
       "      <td>Black or African American</td>\n",
       "      <td>F</td>\n",
       "      <td>2.0</td>\n",
       "      <td>3.0</td>\n",
       "      <td>2.0</td>\n",
       "      <td>2.0</td>\n",
       "      <td>4.0</td>\n",
       "      <td>2.0</td>\n",
       "      <td>4.0</td>\n",
       "      <td>2.0</td>\n",
       "      <td>3.0</td>\n",
       "      <td>1.0</td>\n",
       "      <td>4.0</td>\n",
       "      <td>3.0</td>\n",
       "      <td>2.0</td>\n",
       "      <td>2.0</td>\n",
       "      <td>3.0</td>\n",
       "      <td>2.0</td>\n",
       "      <td>2.0</td>\n",
       "      <td>2.0</td>\n",
       "      <td>2.0</td>\n",
       "      <td>2.0</td>\n",
       "      <td>1.0</td>\n",
       "      <td>2.0</td>\n",
       "      <td>-0.836599</td>\n",
       "      <td>1.0</td>\n",
       "      <td>1.0</td>\n",
       "      <td>0</td>\n",
       "      <td>0</td>\n",
       "      <td>1</td>\n",
       "      <td>0</td>\n",
       "      <td>1</td>\n",
       "      <td>1</td>\n",
       "      <td>1</td>\n",
       "      <td>1.0</td>\n",
       "      <td>1.0</td>\n",
       "      <td>1</td>\n",
       "      <td>1</td>\n",
       "      <td>2.333333</td>\n",
       "      <td>28.0</td>\n",
       "      <td>203.0</td>\n",
       "      <td>0.137931</td>\n",
       "      <td>1</td>\n",
       "      <td>1</td>\n",
       "    </tr>\n",
       "    <tr>\n",
       "      <th>2</th>\n",
       "      <td>2009</td>\n",
       "      <td>0.745614</td>\n",
       "      <td>1.0</td>\n",
       "      <td>Arts</td>\n",
       "      <td>missing</td>\n",
       "      <td>missing</td>\n",
       "      <td>missing</td>\n",
       "      <td>missing</td>\n",
       "      <td>missing</td>\n",
       "      <td>missing</td>\n",
       "      <td>missing</td>\n",
       "      <td>3.0</td>\n",
       "      <td>0.0</td>\n",
       "      <td>White</td>\n",
       "      <td>M</td>\n",
       "      <td>2.0</td>\n",
       "      <td>2.0</td>\n",
       "      <td>3.0</td>\n",
       "      <td>2.0</td>\n",
       "      <td>2.0</td>\n",
       "      <td>4.0</td>\n",
       "      <td>2.0</td>\n",
       "      <td>2.0</td>\n",
       "      <td>3.0</td>\n",
       "      <td>1.0</td>\n",
       "      <td>2.0</td>\n",
       "      <td>3.0</td>\n",
       "      <td>3.0</td>\n",
       "      <td>3.0</td>\n",
       "      <td>3.0</td>\n",
       "      <td>4.0</td>\n",
       "      <td>4.0</td>\n",
       "      <td>2.0</td>\n",
       "      <td>2.0</td>\n",
       "      <td>2.0</td>\n",
       "      <td>1.0</td>\n",
       "      <td>2.0</td>\n",
       "      <td>0.747805</td>\n",
       "      <td>1.0</td>\n",
       "      <td>1.0</td>\n",
       "      <td>0</td>\n",
       "      <td>0</td>\n",
       "      <td>0</td>\n",
       "      <td>0</td>\n",
       "      <td>0</td>\n",
       "      <td>0</td>\n",
       "      <td>0</td>\n",
       "      <td>1.0</td>\n",
       "      <td>1.0</td>\n",
       "      <td>0</td>\n",
       "      <td>0</td>\n",
       "      <td>2.428571</td>\n",
       "      <td>156.5</td>\n",
       "      <td>203.0</td>\n",
       "      <td>0.770936</td>\n",
       "      <td>0</td>\n",
       "      <td>0</td>\n",
       "    </tr>\n",
       "    <tr>\n",
       "      <th>3</th>\n",
       "      <td>2009</td>\n",
       "      <td>0.149933</td>\n",
       "      <td>1.0</td>\n",
       "      <td>Science</td>\n",
       "      <td>missing</td>\n",
       "      <td>missing</td>\n",
       "      <td>missing</td>\n",
       "      <td>missing</td>\n",
       "      <td>missing</td>\n",
       "      <td>missing</td>\n",
       "      <td>missing</td>\n",
       "      <td>4.0</td>\n",
       "      <td>0.0</td>\n",
       "      <td>White</td>\n",
       "      <td>M</td>\n",
       "      <td>2.0</td>\n",
       "      <td>2.0</td>\n",
       "      <td>2.0</td>\n",
       "      <td>2.0</td>\n",
       "      <td>3.0</td>\n",
       "      <td>3.0</td>\n",
       "      <td>3.0</td>\n",
       "      <td>4.0</td>\n",
       "      <td>3.0</td>\n",
       "      <td>1.0</td>\n",
       "      <td>4.0</td>\n",
       "      <td>3.0</td>\n",
       "      <td>3.0</td>\n",
       "      <td>4.0</td>\n",
       "      <td>3.0</td>\n",
       "      <td>3.0</td>\n",
       "      <td>3.0</td>\n",
       "      <td>3.0</td>\n",
       "      <td>3.0</td>\n",
       "      <td>3.0</td>\n",
       "      <td>1.0</td>\n",
       "      <td>2.0</td>\n",
       "      <td>-0.121062</td>\n",
       "      <td>1.0</td>\n",
       "      <td>1.0</td>\n",
       "      <td>0</td>\n",
       "      <td>0</td>\n",
       "      <td>0</td>\n",
       "      <td>0</td>\n",
       "      <td>0</td>\n",
       "      <td>1</td>\n",
       "      <td>0</td>\n",
       "      <td>1.0</td>\n",
       "      <td>1.0</td>\n",
       "      <td>0</td>\n",
       "      <td>0</td>\n",
       "      <td>2.714286</td>\n",
       "      <td>75.0</td>\n",
       "      <td>203.0</td>\n",
       "      <td>0.369458</td>\n",
       "      <td>0</td>\n",
       "      <td>0</td>\n",
       "    </tr>\n",
       "    <tr>\n",
       "      <th>4</th>\n",
       "      <td>2009</td>\n",
       "      <td>-0.973841</td>\n",
       "      <td>1.0</td>\n",
       "      <td>Science</td>\n",
       "      <td>missing</td>\n",
       "      <td>missing</td>\n",
       "      <td>missing</td>\n",
       "      <td>missing</td>\n",
       "      <td>missing</td>\n",
       "      <td>missing</td>\n",
       "      <td>missing</td>\n",
       "      <td>4.0</td>\n",
       "      <td>1.0</td>\n",
       "      <td>Asian</td>\n",
       "      <td>F</td>\n",
       "      <td>2.0</td>\n",
       "      <td>2.0</td>\n",
       "      <td>2.0</td>\n",
       "      <td>2.0</td>\n",
       "      <td>2.0</td>\n",
       "      <td>2.0</td>\n",
       "      <td>2.0</td>\n",
       "      <td>2.0</td>\n",
       "      <td>2.0</td>\n",
       "      <td>1.0</td>\n",
       "      <td>2.0</td>\n",
       "      <td>2.0</td>\n",
       "      <td>2.0</td>\n",
       "      <td>3.0</td>\n",
       "      <td>4.0</td>\n",
       "      <td>2.0</td>\n",
       "      <td>2.0</td>\n",
       "      <td>2.0</td>\n",
       "      <td>2.0</td>\n",
       "      <td>2.0</td>\n",
       "      <td>1.0</td>\n",
       "      <td>2.0</td>\n",
       "      <td>-1.501027</td>\n",
       "      <td>1.0</td>\n",
       "      <td>1.0</td>\n",
       "      <td>0</td>\n",
       "      <td>0</td>\n",
       "      <td>0</td>\n",
       "      <td>0</td>\n",
       "      <td>0</td>\n",
       "      <td>1</td>\n",
       "      <td>0</td>\n",
       "      <td>1.0</td>\n",
       "      <td>1.0</td>\n",
       "      <td>0</td>\n",
       "      <td>0</td>\n",
       "      <td>2.055556</td>\n",
       "      <td>8.0</td>\n",
       "      <td>203.0</td>\n",
       "      <td>0.039409</td>\n",
       "      <td>1</td>\n",
       "      <td>1</td>\n",
       "    </tr>\n",
       "  </tbody>\n",
       "</table>\n",
       "</div>"
      ],
      "text/plain": [
       "   m1_fall  mcat_zscore  mcat_total_attempts bachelor_1 bachelor_2 bachelor_3  \\\n",
       "0     2009     2.505529                  1.0    Science    missing    missing   \n",
       "1     2009    -1.407328                  2.0    Science    missing    missing   \n",
       "2     2009     0.745614                  1.0       Arts    missing    missing   \n",
       "3     2009     0.149933                  1.0    Science    missing    missing   \n",
       "4     2009    -0.973841                  1.0    Science    missing    missing   \n",
       "\n",
       "  master_1 master_2 master_3 associate_1 associate_2  biochem_likelyhood  \\\n",
       "0  Science  missing  missing     missing     missing                 4.0   \n",
       "1  Science  missing  missing     Science     missing                 1.0   \n",
       "2  missing  missing  missing     missing     missing                 3.0   \n",
       "3  missing  missing  missing     missing     missing                 4.0   \n",
       "4  missing  missing  missing     missing     missing                 4.0   \n",
       "\n",
       "   gem_indicator                       race gender  m1f_limbs  \\\n",
       "0            0.0                      White      M        4.0   \n",
       "1            1.0  Black or African American      F        2.0   \n",
       "2            0.0                      White      M        2.0   \n",
       "3            0.0                      White      M        2.0   \n",
       "4            1.0                      Asian      F        2.0   \n",
       "\n",
       "   m1f_metabolism_nutrition_and_endo  m1f_molecular_and_cell_physiology  \\\n",
       "0                                4.0                                4.0   \n",
       "1                                3.0                                2.0   \n",
       "2                                2.0                                3.0   \n",
       "3                                2.0                                2.0   \n",
       "4                                2.0                                2.0   \n",
       "\n",
       "   m1f_molecular_and_human_genetics  m1s_cardio_pulmonary  \\\n",
       "0                               4.0                   4.0   \n",
       "1                               2.0                   4.0   \n",
       "2                               2.0                   2.0   \n",
       "3                               2.0                   3.0   \n",
       "4                               2.0                   2.0   \n",
       "\n",
       "   m1s_ebm_and_population_health  m1s_gastrointestinal  \\\n",
       "0                            3.0                   4.0   \n",
       "1                            2.0                   4.0   \n",
       "2                            4.0                   2.0   \n",
       "3                            3.0                   3.0   \n",
       "4                            2.0                   2.0   \n",
       "\n",
       "   m1s_head_neck_and_special_senses  m1s_patients_populations_and_policy  \\\n",
       "0                               3.0                                  4.0   \n",
       "1                               2.0                                  3.0   \n",
       "2                               2.0                                  3.0   \n",
       "3                               4.0                                  3.0   \n",
       "4                               2.0                                  2.0   \n",
       "\n",
       "   m1s_physical_diagnosis_i  m1s_renal_and_electrolytes  \\\n",
       "0                       1.0                         4.0   \n",
       "1                       1.0                         4.0   \n",
       "2                       1.0                         2.0   \n",
       "3                       1.0                         4.0   \n",
       "4                       1.0                         2.0   \n",
       "\n",
       "   m1s_sexual_dev__and_reproduction  m2s_clinical_skills_primer  \\\n",
       "0                               4.0                         3.0   \n",
       "1                               3.0                         2.0   \n",
       "2                               3.0                         3.0   \n",
       "3                               3.0                         3.0   \n",
       "4                               2.0                         2.0   \n",
       "\n",
       "   m2s_evidence_based_medicine_ii  m2s_health_care_ethics  \\\n",
       "0                             2.0                     4.0   \n",
       "1                             2.0                     3.0   \n",
       "2                             3.0                     3.0   \n",
       "3                             4.0                     3.0   \n",
       "4                             3.0                     4.0   \n",
       "\n",
       "   m2s_human_sexuality  m2s_lab_medicine_pblm_solving_case  \\\n",
       "0                  3.0                                 4.0   \n",
       "1                  2.0                                 2.0   \n",
       "2                  4.0                                 4.0   \n",
       "3                  3.0                                 3.0   \n",
       "4                  2.0                                 2.0   \n",
       "\n",
       "   m2s_microbiology_and_immunology  m2s_pathology  m2s_pharmacology  \\\n",
       "0                              4.0            4.0               4.0   \n",
       "1                              2.0            2.0               2.0   \n",
       "2                              2.0            2.0               2.0   \n",
       "3                              3.0            3.0               3.0   \n",
       "4                              2.0            2.0               2.0   \n",
       "\n",
       "   m2s_physical_diagnosis_ii  m2s_psychiatry  step1_z_score  \\\n",
       "0                        1.0             3.0       2.178880   \n",
       "1                        1.0             2.0      -0.836599   \n",
       "2                        1.0             2.0       0.747805   \n",
       "3                        1.0             2.0      -0.121062   \n",
       "4                        1.0             2.0      -1.501027   \n",
       "\n",
       "   step1_pass_indicator  step1_total_attempts  target_indicator  \\\n",
       "0                   1.0                   1.0                 0   \n",
       "1                   1.0                   1.0                 0   \n",
       "2                   1.0                   1.0                 0   \n",
       "3                   1.0                   1.0                 0   \n",
       "4                   1.0                   1.0                 0   \n",
       "\n",
       "   double_bachelor  master_degree  double_master  associate_degree  \\\n",
       "0                0              1              0                 0   \n",
       "1                0              1              0                 1   \n",
       "2                0              0              0                 0   \n",
       "3                0              0              0                 0   \n",
       "4                0              0              0                 0   \n",
       "\n",
       "   science_undergrad  science_master  bachelors_num  science_bachelors_num  \\\n",
       "0                  1               1            1.0                    1.0   \n",
       "1                  1               1            1.0                    1.0   \n",
       "2                  0               0            1.0                    1.0   \n",
       "3                  1               0            1.0                    1.0   \n",
       "4                  1               0            1.0                    1.0   \n",
       "\n",
       "   masters_num  science_masters_num       GPA  step1_rank  \\\n",
       "0            1                    1  3.380952       203.0   \n",
       "1            1                    1  2.333333        28.0   \n",
       "2            0                    0  2.428571       156.5   \n",
       "3            0                    0  2.714286        75.0   \n",
       "4            0                    0  2.055556         8.0   \n",
       "\n",
       "   step1_total_students  step1_percentile  step1_low_score  danger_student  \n",
       "0                 203.0          1.000000                0               0  \n",
       "1                 203.0          0.137931                1               1  \n",
       "2                 203.0          0.770936                0               0  \n",
       "3                 203.0          0.369458                0               0  \n",
       "4                 203.0          0.039409                1               1  "
      ]
     },
     "execution_count": 4,
     "metadata": {},
     "output_type": "execute_result"
    }
   ],
   "source": [
    "path = wd + '/../../../med_school_data/output/'\n",
    "file_name = 'final_data.csv'\n",
    "\n",
    "def load_data(csv, path):\n",
    "\tdf = pd.read_csv(path + csv)\n",
    "\treturn df\n",
    "\n",
    "data = load_data(file_name, path)\n",
    "data.head()\n"
   ]
  },
  {
   "cell_type": "markdown",
   "metadata": {},
   "source": [
    "### Make Column Lists\n",
    "For now I think we'll disregard any courses taken in the second semester, as the main motivation behind this project is to identify first year students that might be at risk of failure"
   ]
  },
  {
   "cell_type": "code",
   "execution_count": 5,
   "metadata": {
    "collapsed": true
   },
   "outputs": [],
   "source": [
    "\n",
    "courses = ['m1f_limbs', 'm1f_metabolism_nutrition_and_endo', \n",
    "        'm1f_molecular_and_cell_physiology',\n",
    "        'm1f_molecular_and_human_genetics','m1s_cardio_pulmonary', \n",
    "        'm1s_ebm_and_population_health','m1s_gastrointestinal', \n",
    "        'm1s_head_neck_and_special_senses', 'm1s_patients_populations_and_policy',\n",
    "        'm1s_physical_diagnosis_i', 'm1s_renal_and_electrolytes', \n",
    "        'm1s_sexual_dev__and_reproduction']\n",
    "\n",
    "categorical = ['bachelor_1', 'bachelor_2', 'bachelor_3',\n",
    "               'master_1', 'master_2', 'master_3', 'associate_1',\n",
    "               'associate_2', 'race', 'gender']\n",
    "\n",
    "indicators = ['gem_indicator', 'double_bachelor', 'double_master']\n",
    "\n",
    "continuous = ['mcat_zscore']\n",
    "\n",
    "discontinuous = ['mcat_total_attempts', 'biochem_likelyhood']\n",
    "\n",
    "\n",
    "target_elements = ['danger_student']"
   ]
  },
  {
   "cell_type": "markdown",
   "metadata": {},
   "source": [
    "### Subset the Data\n",
    "Select only the columns that we know we are going to use"
   ]
  },
  {
   "cell_type": "code",
   "execution_count": 6,
   "metadata": {
    "collapsed": true
   },
   "outputs": [],
   "source": [
    "train = data[courses + categorical + indicators + continuous + discontinuous]\n",
    "\n",
    "X = train\n",
    "y = data[target_elements]"
   ]
  },
  {
   "cell_type": "markdown",
   "metadata": {},
   "source": [
    "### Transformer 1: Create Dummies\n",
    "I know, I know, there's one hot encoder. But I'm not a big fan of it. I'd rather create a custom transformer that uses pandas get dummies. "
   ]
  },
  {
   "cell_type": "code",
   "execution_count": 7,
   "metadata": {
    "collapsed": true
   },
   "outputs": [],
   "source": [
    "class MakeDummies(BaseEstimator, TransformerMixin):\n",
    "    \n",
    "    def __init__(self, columns=None):\n",
    "        self.columns  = [col for col in columns] \n",
    "        self.encoders = None\n",
    "            \n",
    "    def fit(self, data, target=None):\n",
    "        if self.columns is None:\n",
    "            self.columns = data.columns \n",
    "        return self\n",
    "    \n",
    "    def transform(self, data):\n",
    "        output = data.copy()\n",
    "        for col in self.columns:\n",
    "            output = pd.get_dummies(data = output, columns = [col])\n",
    "        return output"
   ]
  },
  {
   "cell_type": "markdown",
   "metadata": {},
   "source": [
    "### Start the Pipeline\n"
   ]
  },
  {
   "cell_type": "code",
   "execution_count": 8,
   "metadata": {
    "collapsed": true
   },
   "outputs": [],
   "source": [
    "def visual_model_selection(X, y, model):\n",
    "    \n",
    "    stringNum  = MakeDummies(columns = categorical)\n",
    "    X = stringNum.fit_transform(train)\n",
    "    \n",
    "    #model = Pipeline([\n",
    "    #     ('one_hot_encoding', MakeDummies(categorical)),\n",
    "    #     ('estimator', estimator)\n",
    "    #])\n",
    "    \n",
    "    \n",
    "    X_train, X_test, y_train, y_test = train_test_split(X, y, test_size=0.2)\n",
    "    \n",
    "    visualizer = ClassificationReport(model, classes=['Not At Risk', 'At risk'])\n",
    "    visualizer.fit(X_train, y_train)  \n",
    "    visualizer.score(X_test, y_test)\n",
    "    visualizer.poof()"
   ]
  },
  {
   "cell_type": "markdown",
   "metadata": {},
   "source": [
    "### Call the models"
   ]
  },
  {
   "cell_type": "code",
   "execution_count": 9,
   "metadata": {},
   "outputs": [
    {
     "data": {
      "image/png": "[encoded data removed]",
      "text/plain": [
       "<Figure size 432x288 with 2 Axes>"
      ]
     },
     "metadata": {},
     "output_type": "display_data"
    }
   ],
   "source": [
    "visual_model_selection(X, y, LogisticRegression())"
   ]
  },
  {
   "cell_type": "code",
   "execution_count": 12,
   "metadata": {},
   "outputs": [
    {
     "data": {
      "image/png": "[encoded data removed]",
      "text/plain": [
       "<Figure size 432x288 with 2 Axes>"
      ]
     },
     "metadata": {},
     "output_type": "display_data"
    }
   ],
   "source": [
    "visual_model_selection(X, y, LinearSVC())"
   ]
  },
  {
   "cell_type": "code",
   "execution_count": 13,
   "metadata": {},
   "outputs": [
    {
     "data": {
      "image/png": "[encoded data removed]",
      "text/plain": [
       "<Figure size 432x288 with 2 Axes>"
      ]
     },
     "metadata": {},
     "output_type": "display_data"
    }
   ],
   "source": [
    "visual_model_selection(X, y, SGDClassifier())"
   ]
  },
  {
   "cell_type": "code",
   "execution_count": 14,
   "metadata": {},
   "outputs": [
    {
     "data": {
      "image/png": "[encoded data removed]",
      "text/plain": [
       "<Figure size 432x288 with 2 Axes>"
      ]
     },
     "metadata": {},
     "output_type": "display_data"
    }
   ],
   "source": [
    "visual_model_selection(X, y, KNeighborsClassifier())"
   ]
  },
  {
   "cell_type": "code",
   "execution_count": 15,
   "metadata": {},
   "outputs": [
    {
     "data": {
      "image/png": "[encoded data removed]",
      "text/plain": [
       "<Figure size 432x288 with 2 Axes>"
      ]
     },
     "metadata": {},
     "output_type": "display_data"
    }
   ],
   "source": [
    "visual_model_selection(X, y, LogisticRegressionCV())\n"
   ]
  },
  {
   "cell_type": "code",
   "execution_count": 16,
   "metadata": {},
   "outputs": [
    {
     "data": {
      "image/png": "[encoded data removed]",
      "text/plain": [
       "<Figure size 432x288 with 2 Axes>"
      ]
     },
     "metadata": {},
     "output_type": "display_data"
    }
   ],
   "source": [
    "visual_model_selection(X, y, LogisticRegression())\n"
   ]
  },
  {
   "cell_type": "code",
   "execution_count": 17,
   "metadata": {},
   "outputs": [
    {
     "data": {
      "image/png": "[encoded data removed]",
      "text/plain": [
       "<Figure size 432x288 with 2 Axes>"
      ]
     },
     "metadata": {},
     "output_type": "display_data"
    }
   ],
   "source": [
    "visual_model_selection(X, y, BaggingClassifier())\n"
   ]
  },
  {
   "cell_type": "code",
   "execution_count": 18,
   "metadata": {},
   "outputs": [
    {
     "data": {
      "image/png": "[encoded data removed]",
      "text/plain": [
       "<Figure size 432x288 with 2 Axes>"
      ]
     },
     "metadata": {},
     "output_type": "display_data"
    }
   ],
   "source": [
    "visual_model_selection(X, y, ExtraTreesClassifier())\n"
   ]
  },
  {
   "cell_type": "code",
   "execution_count": 19,
   "metadata": {},
   "outputs": [
    {
     "data": {
      "image/png": "[encoded data removed]",
      "text/plain": [
       "<Figure size 432x288 with 2 Axes>"
      ]
     },
     "metadata": {},
     "output_type": "display_data"
    }
   ],
   "source": [
    "visual_model_selection(X, y, RandomForestClassifier())\n"
   ]
  },
  {
   "cell_type": "markdown",
   "metadata": {},
   "source": [
    "### Well this is quite interesting:\n",
    "Some models seem to be performing OK at best. Though, the one issue I have with this is that there is definitely a class imbalance, and not that many observations. So one test / train can be pretty wildly different from another."
   ]
  },
  {
   "cell_type": "markdown",
   "metadata": {},
   "source": [
    "### Let's dial up the power and run a bunch of iterations of train test split"
   ]
  },
  {
   "cell_type": "code",
   "execution_count": 130,
   "metadata": {},
   "outputs": [],
   "source": [
    "#Label Encode the Categorical NAs\n",
    "stringNum  = MakeDummies(columns = categorical)\n",
    "X = stringNum.fit_transform(train)\n",
    "\n",
    "sc = StandardScaler()\n"
   ]
  },
  {
   "cell_type": "markdown",
   "metadata": {},
   "source": [
    "#### Function 1: Cross Validate"
   ]
  },
  {
   "cell_type": "code",
   "execution_count": 76,
   "metadata": {
    "collapsed": true
   },
   "outputs": [],
   "source": [
    "def ModelCrossVal(X, y, model):\n",
    "\n",
    "    X_train, X_test, y_train, y_test = train_test_split(X,y,test_size = 0.2)\n",
    "    fitted_model = model.fit(X_train, y_train)\n",
    "\n",
    "    fitted_model.score(X_test, y_test)\n",
    "    expected   = y_test\n",
    "    predicted  = fitted_model.predict(X_test)\n",
    "\n",
    "    classificationReport = classification_report(expected, predicted, target_names=[\"Not At Risk\",\"At Risk\"])\n",
    "    scores = [recall_score(expected, predicted), precision_score(expected, predicted)]\n",
    "    return scores"
   ]
  },
  {
   "cell_type": "markdown",
   "metadata": {},
   "source": [
    "#### Function 2: Find Average Recall and Precision"
   ]
  },
  {
   "cell_type": "code",
   "execution_count": 77,
   "metadata": {
    "collapsed": true
   },
   "outputs": [],
   "source": [
    "def AvgRecall(X, y, n, model):\n",
    "    x = 1\n",
    "    recall_list = []\n",
    "    presci_list = []\n",
    "    while x <= n:\n",
    "        scores = ModelCrossVal(X,y, model)\n",
    "        recall_list.append(scores[0])\n",
    "        presci_list.append(scores[1])\n",
    "        x += 1\n",
    "    recall    = round(np.mean(recall_list), 2)\n",
    "    precision = round(np.mean(presci_list), 2) \n",
    "    return({'Recall' : recall, 'Precision' : precision})"
   ]
  },
  {
   "cell_type": "markdown",
   "metadata": {},
   "source": [
    "#### Function 3: Loop through the models and produce a combined report"
   ]
  },
  {
   "cell_type": "code",
   "execution_count": 78,
   "metadata": {
    "collapsed": true
   },
   "outputs": [],
   "source": [
    "def LoopModels(X, y, models, n):\n",
    "    stats = {}\n",
    "    for key in models.keys():\n",
    "        stats[key] = AvgRecall(X, y, n, models[key])\n",
    "    stats_df = pd.DataFrame.from_dict(stats)\n",
    "    return stats_df"
   ]
  },
  {
   "cell_type": "markdown",
   "metadata": {},
   "source": [
    "#### Define the Models"
   ]
  },
  {
   "cell_type": "code",
   "execution_count": 85,
   "metadata": {
    "collapsed": true
   },
   "outputs": [],
   "source": [
    "ml_models = {'Linear SVC' : LinearSVC(), \n",
    "          'SVC'        : SVC(),\n",
    "          'SGD'        : SGDClassifier(),\n",
    "          'KNeighbors' : KNeighborsClassifier(),\n",
    "          'Log. Reg.'  : LogisticRegression(),\n",
    "          'Bagging'    : BaggingClassifier(),\n",
    "          'Ex. Trees'  : ExtraTreesClassifier(),\n",
    "          'RF'         : RandomForestClassifier()\n",
    "         }"
   ]
  },
  {
   "cell_type": "code",
   "execution_count": 88,
   "metadata": {},
   "outputs": [
    {
     "name": "stdout",
     "output_type": "stream",
     "text": [
      "Running each model 100 times and printing an average recall score\n"
     ]
    },
    {
     "data": {
      "text/html": [
       "<div>\n",
       "<style scoped>\n",
       "    .dataframe tbody tr th:only-of-type {\n",
       "        vertical-align: middle;\n",
       "    }\n",
       "\n",
       "    .dataframe tbody tr th {\n",
       "        vertical-align: top;\n",
       "    }\n",
       "\n",
       "    .dataframe thead th {\n",
       "        text-align: right;\n",
       "    }\n",
       "</style>\n",
       "<table border=\"1\" class=\"dataframe\">\n",
       "  <thead>\n",
       "    <tr style=\"text-align: right;\">\n",
       "      <th></th>\n",
       "      <th>Bagging</th>\n",
       "      <th>Ex. Trees</th>\n",
       "      <th>KNeighbors</th>\n",
       "      <th>Linear SVC</th>\n",
       "      <th>Log. Reg.</th>\n",
       "      <th>RF</th>\n",
       "      <th>SGD</th>\n",
       "      <th>SVC</th>\n",
       "    </tr>\n",
       "  </thead>\n",
       "  <tbody>\n",
       "    <tr>\n",
       "      <th>Precision</th>\n",
       "      <td>0.54</td>\n",
       "      <td>0.53</td>\n",
       "      <td>0.50</td>\n",
       "      <td>0.57</td>\n",
       "      <td>0.57</td>\n",
       "      <td>0.56</td>\n",
       "      <td>0.57</td>\n",
       "      <td>0.73</td>\n",
       "    </tr>\n",
       "    <tr>\n",
       "      <th>Recall</th>\n",
       "      <td>0.34</td>\n",
       "      <td>0.30</td>\n",
       "      <td>0.39</td>\n",
       "      <td>0.31</td>\n",
       "      <td>0.37</td>\n",
       "      <td>0.32</td>\n",
       "      <td>0.49</td>\n",
       "      <td>0.18</td>\n",
       "    </tr>\n",
       "  </tbody>\n",
       "</table>\n",
       "</div>"
      ],
      "text/plain": [
       "           Bagging  Ex. Trees  KNeighbors  Linear SVC  Log. Reg.    RF   SGD  \\\n",
       "Precision     0.54       0.53        0.50        0.57       0.57  0.56  0.57   \n",
       "Recall        0.34       0.30        0.39        0.31       0.37  0.32  0.49   \n",
       "\n",
       "            SVC  \n",
       "Precision  0.73  \n",
       "Recall     0.18  "
      ]
     },
     "execution_count": 88,
     "metadata": {},
     "output_type": "execute_result"
    }
   ],
   "source": [
    "print('Running each model 100 times and printing an average recall score')\n",
    "LoopModels(X, y, models, 100)"
   ]
  },
  {
   "cell_type": "markdown",
   "metadata": {},
   "source": [
    "### Interesting:\n",
    "It looks like RF and Bagging weren't that good after all. Logistic Regression and SGD seem to be performing better now. "
   ]
  },
  {
   "cell_type": "markdown",
   "metadata": {},
   "source": [
    "### Using Different Features\n",
    " It would be great if we could find a way to tune this model to get better results. Oh wait, we can using feature selection. Please check out the YB Feature Selection notebook that I put together. I'll now use that insight to try and get a combination of features to boost this model. Below are the variables we found to be most important when doing feature analysis"
   ]
  },
  {
   "cell_type": "code",
   "execution_count": 134,
   "metadata": {
    "collapsed": true
   },
   "outputs": [],
   "source": [
    "vars_to_keep = courses + ['gender_M', 'race_Asian', 'master_1_Science', \n",
    "                               'master_1_missing', 'bachelor_1_Science',\n",
    "                               'bachelor_2_Science', 'mcat_total_attempts', 'mcat_zscore' ,\n",
    "                               'double_bachelor', 'biochem_likelyhood', 'race_White',\n",
    "                            'gem_indicator', 'bachelor_2_missing', 'race_Black or African American']"
   ]
  },
  {
   "cell_type": "markdown",
   "metadata": {},
   "source": [
    "#### Best Vars as indicated by the 1D Ranker from YB"
   ]
  },
  {
   "cell_type": "code",
   "execution_count": 135,
   "metadata": {},
   "outputs": [],
   "source": [
    "X_new = sc.fit_transform(X[vars_to_keep])\n",
    "y_new = y"
   ]
  },
  {
   "cell_type": "code",
   "execution_count": 136,
   "metadata": {},
   "outputs": [],
   "source": [
    "def LoopModels(X, y, models, n):\n",
    "    stats = {}\n",
    "    for key in models.keys():\n",
    "        stats[key] = AvgRecall(X, y, n, models[key])\n",
    "    stats_df = pd.DataFrame.from_dict(stats)\n",
    "    return stats_df\n",
    "    "
   ]
  },
  {
   "cell_type": "markdown",
   "metadata": {},
   "source": [
    "#### With Standard Scaler"
   ]
  },
  {
   "cell_type": "code",
   "execution_count": 139,
   "metadata": {},
   "outputs": [
    {
     "data": {
      "text/html": [
       "<div>\n",
       "<style scoped>\n",
       "    .dataframe tbody tr th:only-of-type {\n",
       "        vertical-align: middle;\n",
       "    }\n",
       "\n",
       "    .dataframe tbody tr th {\n",
       "        vertical-align: top;\n",
       "    }\n",
       "\n",
       "    .dataframe thead th {\n",
       "        text-align: right;\n",
       "    }\n",
       "</style>\n",
       "<table border=\"1\" class=\"dataframe\">\n",
       "  <thead>\n",
       "    <tr style=\"text-align: right;\">\n",
       "      <th></th>\n",
       "      <th>Bagging</th>\n",
       "      <th>Ex. Trees</th>\n",
       "      <th>KNeighbors</th>\n",
       "      <th>Linear SVC</th>\n",
       "      <th>Log. Reg.</th>\n",
       "      <th>RF</th>\n",
       "      <th>SGD</th>\n",
       "      <th>SVC</th>\n",
       "    </tr>\n",
       "  </thead>\n",
       "  <tbody>\n",
       "    <tr>\n",
       "      <th>Precision</th>\n",
       "      <td>0.53</td>\n",
       "      <td>0.54</td>\n",
       "      <td>0.49</td>\n",
       "      <td>0.59</td>\n",
       "      <td>0.57</td>\n",
       "      <td>0.55</td>\n",
       "      <td>0.44</td>\n",
       "      <td>0.63</td>\n",
       "    </tr>\n",
       "    <tr>\n",
       "      <th>Recall</th>\n",
       "      <td>0.35</td>\n",
       "      <td>0.33</td>\n",
       "      <td>0.38</td>\n",
       "      <td>0.31</td>\n",
       "      <td>0.37</td>\n",
       "      <td>0.32</td>\n",
       "      <td>0.43</td>\n",
       "      <td>0.29</td>\n",
       "    </tr>\n",
       "  </tbody>\n",
       "</table>\n",
       "</div>"
      ],
      "text/plain": [
       "           Bagging  Ex. Trees  KNeighbors  Linear SVC  Log. Reg.    RF   SGD  \\\n",
       "Precision     0.53       0.54        0.49        0.59       0.57  0.55  0.44   \n",
       "Recall        0.35       0.33        0.38        0.31       0.37  0.32  0.43   \n",
       "\n",
       "            SVC  \n",
       "Precision  0.63  \n",
       "Recall     0.29  "
      ]
     },
     "execution_count": 139,
     "metadata": {},
     "output_type": "execute_result"
    }
   ],
   "source": [
    "LoopModels(X_new, y_new, ml_models, n = 1000)"
   ]
  },
  {
   "cell_type": "markdown",
   "metadata": {},
   "source": [
    "#### Without Standard Scaler"
   ]
  },
  {
   "cell_type": "code",
   "execution_count": 140,
   "metadata": {},
   "outputs": [
    {
     "data": {
      "text/html": [
       "<div>\n",
       "<style scoped>\n",
       "    .dataframe tbody tr th:only-of-type {\n",
       "        vertical-align: middle;\n",
       "    }\n",
       "\n",
       "    .dataframe tbody tr th {\n",
       "        vertical-align: top;\n",
       "    }\n",
       "\n",
       "    .dataframe thead th {\n",
       "        text-align: right;\n",
       "    }\n",
       "</style>\n",
       "<table border=\"1\" class=\"dataframe\">\n",
       "  <thead>\n",
       "    <tr style=\"text-align: right;\">\n",
       "      <th></th>\n",
       "      <th>Bagging</th>\n",
       "      <th>Ex. Trees</th>\n",
       "      <th>KNeighbors</th>\n",
       "      <th>Linear SVC</th>\n",
       "      <th>Log. Reg.</th>\n",
       "      <th>RF</th>\n",
       "      <th>SGD</th>\n",
       "      <th>SVC</th>\n",
       "    </tr>\n",
       "  </thead>\n",
       "  <tbody>\n",
       "    <tr>\n",
       "      <th>Precision</th>\n",
       "      <td>0.53</td>\n",
       "      <td>0.54</td>\n",
       "      <td>0.51</td>\n",
       "      <td>0.60</td>\n",
       "      <td>0.59</td>\n",
       "      <td>0.55</td>\n",
       "      <td>0.61</td>\n",
       "      <td>0.68</td>\n",
       "    </tr>\n",
       "    <tr>\n",
       "      <th>Recall</th>\n",
       "      <td>0.35</td>\n",
       "      <td>0.33</td>\n",
       "      <td>0.41</td>\n",
       "      <td>0.31</td>\n",
       "      <td>0.34</td>\n",
       "      <td>0.32</td>\n",
       "      <td>0.41</td>\n",
       "      <td>0.24</td>\n",
       "    </tr>\n",
       "  </tbody>\n",
       "</table>\n",
       "</div>"
      ],
      "text/plain": [
       "           Bagging  Ex. Trees  KNeighbors  Linear SVC  Log. Reg.    RF   SGD  \\\n",
       "Precision     0.53       0.54        0.51        0.60       0.59  0.55  0.61   \n",
       "Recall        0.35       0.33        0.41        0.31       0.34  0.32  0.41   \n",
       "\n",
       "            SVC  \n",
       "Precision  0.68  \n",
       "Recall     0.24  "
      ]
     },
     "execution_count": 140,
     "metadata": {},
     "output_type": "execute_result"
    }
   ],
   "source": [
    "LoopModels(X[vars_to_keep], y_new, ml_models, n = 1000)"
   ]
  },
  {
   "cell_type": "markdown",
   "metadata": {},
   "source": [
    "#### Didn't help as much as we'd like. Let's just picking the most important courses"
   ]
  },
  {
   "cell_type": "code",
   "execution_count": 115,
   "metadata": {},
   "outputs": [],
   "source": [
    "courses_refined = ['m1s_renal_and_electrolytes',\n",
    "                   'm1f_metabolism_nutrition_and_endo',\n",
    "                   'm1s_patients_populations_and_policy']\n",
    "\n",
    "vars_to_keep = courses_refined + ['gender_M', 'race_Asian', 'master_1_Science', \n",
    "                               'master_1_missing', 'bachelor_1_Science', 'mcat_zscore',\n",
    "                               'bachelor_2_Science', 'mcat_total_attempts', \n",
    "                               'double_bachelor', 'biochem_likelyhood', 'race_White',\n",
    "                               'gem_indicator', 'bachelor_2_missing']\n",
    "\n",
    "X_new = X[vars_to_keep]\n",
    "y_new = y\n"
   ]
  },
  {
   "cell_type": "code",
   "execution_count": 116,
   "metadata": {},
   "outputs": [
    {
     "data": {
      "text/html": [
       "<div>\n",
       "<style scoped>\n",
       "    .dataframe tbody tr th:only-of-type {\n",
       "        vertical-align: middle;\n",
       "    }\n",
       "\n",
       "    .dataframe tbody tr th {\n",
       "        vertical-align: top;\n",
       "    }\n",
       "\n",
       "    .dataframe thead th {\n",
       "        text-align: right;\n",
       "    }\n",
       "</style>\n",
       "<table border=\"1\" class=\"dataframe\">\n",
       "  <thead>\n",
       "    <tr style=\"text-align: right;\">\n",
       "      <th></th>\n",
       "      <th>Bagging</th>\n",
       "      <th>Ex. Trees</th>\n",
       "      <th>KNeighbors</th>\n",
       "      <th>Linear SVC</th>\n",
       "      <th>Log. Reg.</th>\n",
       "      <th>RF</th>\n",
       "      <th>SGD</th>\n",
       "      <th>SVC</th>\n",
       "    </tr>\n",
       "  </thead>\n",
       "  <tbody>\n",
       "    <tr>\n",
       "      <th>Precision</th>\n",
       "      <td>0.49</td>\n",
       "      <td>0.45</td>\n",
       "      <td>0.51</td>\n",
       "      <td>0.62</td>\n",
       "      <td>0.61</td>\n",
       "      <td>0.49</td>\n",
       "      <td>0.57</td>\n",
       "      <td>0.73</td>\n",
       "    </tr>\n",
       "    <tr>\n",
       "      <th>Recall</th>\n",
       "      <td>0.33</td>\n",
       "      <td>0.33</td>\n",
       "      <td>0.35</td>\n",
       "      <td>0.24</td>\n",
       "      <td>0.29</td>\n",
       "      <td>0.30</td>\n",
       "      <td>0.41</td>\n",
       "      <td>0.16</td>\n",
       "    </tr>\n",
       "  </tbody>\n",
       "</table>\n",
       "</div>"
      ],
      "text/plain": [
       "           Bagging  Ex. Trees  KNeighbors  Linear SVC  Log. Reg.    RF   SGD  \\\n",
       "Precision     0.49       0.45        0.51        0.62       0.61  0.49  0.57   \n",
       "Recall        0.33       0.33        0.35        0.24       0.29  0.30  0.41   \n",
       "\n",
       "            SVC  \n",
       "Precision  0.73  \n",
       "Recall     0.16  "
      ]
     },
     "execution_count": 116,
     "metadata": {},
     "output_type": "execute_result"
    }
   ],
   "source": [
    "LoopModels(X_new, y_new, ml_models, n = 100)"
   ]
  },
  {
   "cell_type": "markdown",
   "metadata": {},
   "source": [
    "#### Still not working well at all. Does a straight sum accross courses work better"
   ]
  },
  {
   "cell_type": "code",
   "execution_count": 117,
   "metadata": {},
   "outputs": [],
   "source": [
    "X['course_total'] = X[['m1f_limbs']]*0\n",
    "for c in courses:\n",
    "    X['course_total'] = X['course_total'] + X[c]"
   ]
  },
  {
   "cell_type": "code",
   "execution_count": 120,
   "metadata": {},
   "outputs": [],
   "source": [
    "vars_to_keep = ['course_total'] + ['gender_M', 'race_Asian', 'master_1_Science', \n",
    "                               'master_1_missing', 'bachelor_1_Science',\n",
    "                               'bachelor_2_Science', 'mcat_total_attempts', \n",
    "                               'double_bachelor', 'biochem_likelyhood', 'race_White', 'mcat_zscore',\n",
    "                               'gem_indicator', 'bachelor_2_missing']\n",
    "X_new = X[vars_to_keep]\n",
    "y_new = y"
   ]
  },
  {
   "cell_type": "code",
   "execution_count": 121,
   "metadata": {},
   "outputs": [
    {
     "data": {
      "text/html": [
       "<div>\n",
       "<style scoped>\n",
       "    .dataframe tbody tr th:only-of-type {\n",
       "        vertical-align: middle;\n",
       "    }\n",
       "\n",
       "    .dataframe tbody tr th {\n",
       "        vertical-align: top;\n",
       "    }\n",
       "\n",
       "    .dataframe thead th {\n",
       "        text-align: right;\n",
       "    }\n",
       "</style>\n",
       "<table border=\"1\" class=\"dataframe\">\n",
       "  <thead>\n",
       "    <tr style=\"text-align: right;\">\n",
       "      <th></th>\n",
       "      <th>Bagging</th>\n",
       "      <th>Ex. Trees</th>\n",
       "      <th>KNeighbors</th>\n",
       "      <th>Linear SVC</th>\n",
       "      <th>Log. Reg.</th>\n",
       "      <th>RF</th>\n",
       "      <th>SGD</th>\n",
       "      <th>SVC</th>\n",
       "    </tr>\n",
       "  </thead>\n",
       "  <tbody>\n",
       "    <tr>\n",
       "      <th>Precision</th>\n",
       "      <td>0.47</td>\n",
       "      <td>0.45</td>\n",
       "      <td>0.49</td>\n",
       "      <td>0.63</td>\n",
       "      <td>0.62</td>\n",
       "      <td>0.49</td>\n",
       "      <td>0.65</td>\n",
       "      <td>0.65</td>\n",
       "    </tr>\n",
       "    <tr>\n",
       "      <th>Recall</th>\n",
       "      <td>0.34</td>\n",
       "      <td>0.31</td>\n",
       "      <td>0.37</td>\n",
       "      <td>0.37</td>\n",
       "      <td>0.31</td>\n",
       "      <td>0.32</td>\n",
       "      <td>0.36</td>\n",
       "      <td>0.26</td>\n",
       "    </tr>\n",
       "  </tbody>\n",
       "</table>\n",
       "</div>"
      ],
      "text/plain": [
       "           Bagging  Ex. Trees  KNeighbors  Linear SVC  Log. Reg.    RF   SGD  \\\n",
       "Precision     0.47       0.45        0.49        0.63       0.62  0.49  0.65   \n",
       "Recall        0.34       0.31        0.37        0.37       0.31  0.32  0.36   \n",
       "\n",
       "            SVC  \n",
       "Precision  0.65  \n",
       "Recall     0.26  "
      ]
     },
     "execution_count": 121,
     "metadata": {},
     "output_type": "execute_result"
    }
   ],
   "source": [
    "LoopModels(X_new, y_new, ml_models, n = 100)"
   ]
  },
  {
   "cell_type": "markdown",
   "metadata": {},
   "source": [
    "### This Sort of Stinks, but let's see if Hyperparameter tuning will help"
   ]
  },
  {
   "cell_type": "code",
   "execution_count": null,
   "metadata": {
    "collapsed": true
   },
   "outputs": [],
   "source": []
  }
 ],
 "metadata": {
  "kernelspec": {
   "display_name": "Python 3",
   "language": "python",
   "name": "python3"
  },
  "language_info": {
   "codemirror_mode": {
    "name": "ipython",
    "version": 3
   },
   "file_extension": ".py",
   "mimetype": "text/x-python",
   "name": "python",
   "nbconvert_exporter": "python",
   "pygments_lexer": "ipython3",
   "version": "3.6.4"
  }
 },
 "nbformat": 4,
 "nbformat_minor": 2
}
